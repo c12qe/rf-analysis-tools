{
 "cells": [
  {
   "cell_type": "markdown",
   "metadata": {},
   "source": [
    "# This notebook shows how to fit a resonator with Kerr nonlinearity in the shunt configuration."
   ]
  },
  {
   "cell_type": "code",
   "metadata": {
    "ExecuteTime": {
     "end_time": "2025-07-30T09:14:08.257427Z",
     "start_time": "2025-07-30T09:14:06.833869Z"
    }
   },
   "source": [
    "%cd D:\\Github\\rf-analysis-tools\\src\n",
    "from __future__ import division, absolute_import, print_function\n",
    "%matplotlib inline\n",
    "\n",
    "import matplotlib.pyplot as plt\n",
    "import numpy as np\n",
    "\n",
    "from resonator import background, see, shunt"
   ],
   "outputs": [
    {
     "name": "stdout",
     "output_type": "stream",
     "text": [
      "D:\\Github\\rf-analysis-tools\\src\n"
     ]
    }
   ],
   "execution_count": 1
  },
  {
   "cell_type": "markdown",
   "metadata": {},
   "source": [
    "Create data using the model plus gaussian noise. The model is the product of the nonlinear shunt resonator model and a background model, which in this case assumes that the magnitude and phase are independent of frequency.\n",
    "\n",
    "When the input photon rate exceeds a critical value, the photon number in the resonator has two stable states (and one unstable state that cannot be observed) that correpond to the roots of a cubic polynomial. A typical VNA sweep with increasing frequency is expected to cause the resonator to track the branch corresponding to lower photon number. When fitting, the model for the scattering data must select one of these branches. The `choose` function below is used to choose one of the roots. "
   ]
  },
  {
   "cell_type": "code",
   "metadata": {
    "ExecuteTime": {
     "end_time": "2025-07-30T09:14:10.026955Z",
     "start_time": "2025-07-30T09:14:10.011192Z"
    }
   },
   "source": [
    "# Background parameters\n",
    "background_model = background.MagnitudePhase()\n",
    "magnitude = 0.01\n",
    "phase = -np.pi / 2\n",
    "\n",
    "# Select the root corresponding to max detuning, not minimum photon number -- these may differ.\n",
    "choose = np.max\n",
    "\n",
    "# Foreground parameters\n",
    "foreground_model = shunt.KerrShunt(choose=choose)\n",
    "f_r = 1e9  # resonance frequency\n",
    "df = 2e6  # frequency width\n",
    "f = np.linspace(f_r - df / 2, f_r + df / 2, 2001)\n",
    "internal_loss = 1e-5  # Q_i = 100 000\n",
    "coupling_loss = 5e-5  # Q_c = 20 000\n",
    "asymmetry = 0\n",
    "# This value of the parameter kerr_input implies a negative Kerr coefficient and a value of the input photon rate that is well above the point\n",
    "# where the resonator has two stable states with different photon number.\n",
    "critical_kerr_input = foreground_model.absolute_kerr_input_at_bifurcation(coupling_loss=coupling_loss, internal_loss=internal_loss)\n",
    "kerr_input = -1.5 * critical_kerr_input\n",
    "\n",
    "# Create the data by evaluating the model functions with the given parameters\n",
    "bg = background_model.func(frequency=f, magnitude=magnitude, phase=phase)\n",
    "fg = foreground_model.func(frequency=f, resonance_frequency=f_r, coupling_loss=coupling_loss, internal_loss=internal_loss, asymmetry=0, \n",
    "                           kerr_input=kerr_input)\n",
    "\n",
    "# The ideal data is the product of the background and foreground.\n",
    "s21 = bg * fg\n",
    "\n",
    "# The measured data will include noise\n",
    "noise = 0.01 * magnitude\n",
    "s21n = s21 + noise * (np.random.randn(s21.size) + 1j * np.random.randn(s21.size))"
   ],
   "outputs": [],
   "execution_count": 2
  },
  {
   "cell_type": "code",
   "metadata": {},
   "source": [
    "fig, ax = plt.subplots()\n",
    "ax.set_aspect('equal')\n",
    "ax.set_xlabel('Re $S_{21}$')\n",
    "ax.set_ylabel('Im $S_{21}$')\n",
    "ax.plot(fg.real, fg.imag, '.')\n",
    "ax.plot([0, 1], [0, 0],  marker='x', linestyle='none', color='gray')\n",
    "ax.set_title('foreground without noise');"
   ],
   "outputs": [],
   "execution_count": null
  },
  {
   "cell_type": "code",
   "metadata": {},
   "source": [
    "fig, ax = plt.subplots()\n",
    "ax.set_aspect('equal')\n",
    "ax.set_xlabel('Re $S_{21}$')\n",
    "ax.set_ylabel('Im $S_{21}$')\n",
    "ax.plot(s21n.real, s21n.imag, '.', color='gray', label='with noise')\n",
    "ax.plot(s21.real, s21.imag, '.', label='ideal')\n",
    "ax.legend(fontsize='xx-small')\n",
    "ax.set_title('foreground times background');"
   ],
   "outputs": [],
   "execution_count": null
  },
  {
   "cell_type": "code",
   "metadata": {},
   "source": [
    "fig, ax = plt.subplots()\n",
    "ax.set_xlabel('frequency / GHz')\n",
    "ax.set_ylabel('magnitude / dB')\n",
    "ax.plot(1e-9 * f, 20 * np.log10(np.abs(s21n)), '.', color='gray', label='with noise')\n",
    "ax.plot(1e-9 * f, 20 * np.log10(np.abs(s21)), '.', label='ideal')\n",
    "ax.legend(fontsize='xx-small')\n",
    "ax.set_title('foreground times background');"
   ],
   "outputs": [],
   "execution_count": null
  },
  {
   "cell_type": "code",
   "metadata": {},
   "source": [
    "fig, ax = plt.subplots()\n",
    "ax.set_xlabel('frequency / GHz')\n",
    "ax.set_ylabel('phase / radians')\n",
    "ax.plot(1e-9 * f, np.angle(s21n), '.', color='gray', label='with noise')\n",
    "ax.plot(1e-9 * f, np.angle(s21), '.', label='ideal')\n",
    "ax.legend(fontsize='xx-small')\n",
    "ax.set_title('foreground times background');"
   ],
   "outputs": [],
   "execution_count": null
  },
  {
   "cell_type": "markdown",
   "metadata": {},
   "source": [
    "## Fit the model to the data using a KerrShuntFitter.\n",
    "\n",
    "The `choose` function provided by the user must select the correct root for the fit to succeed."
   ]
  },
  {
   "cell_type": "code",
   "metadata": {},
   "source": [
    "resonator = shunt.KerrShuntFitter(frequency=f, data=s21n, choose=choose)\n",
    "print(resonator.result.fit_report())  # result is a lmfit.model.ModelResult object"
   ],
   "outputs": [],
   "execution_count": null
  },
  {
   "cell_type": "markdown",
   "metadata": {},
   "source": [
    "## Plot the data\n",
    "\n",
    "Use the `see.py` fitting module to plot the data, model, and resonance."
   ]
  },
  {
   "cell_type": "code",
   "metadata": {},
   "source": [
    "fig, (ax_raw, ax_norm) = plt.subplots(1, 2, figsize=(6, 3), dpi=300)  # Adjust these values for your plot settings\n",
    "ax_raw.set_title('measurement plane')\n",
    "ax_norm.set_title('resonator plane')\n",
    "see.real_and_imaginary(resonator=resonator, axes=ax_raw, normalize=False)\n",
    "see.real_and_imaginary(resonator=resonator, axes=ax_norm, normalize=True)\n",
    "ax_raw.legend(handles=ax_raw.lines, labels=('data', 'fit', 'resonance'), fontsize='xx-small');"
   ],
   "outputs": [],
   "execution_count": null
  },
  {
   "cell_type": "code",
   "metadata": {},
   "source": [
    "fig, axes = plt.subplots(2, 2, sharex='all', figsize=(6, 6), dpi=300)  # Adjust these values for your plot settings\n",
    "ax_raw_mag, ax_norm_mag, ax_raw_phase, ax_norm_phase = axes.flatten()\n",
    "ax_raw_mag.set_title('measurement plane')\n",
    "ax_norm_mag.set_title('resonator plane')\n",
    "ax_raw_phase.set_title('measurement plane')\n",
    "ax_norm_phase.set_title('resonator plane')\n",
    "see.magnitude_vs_frequency(resonator=resonator, axes=ax_raw_mag, normalize=False, frequency_scale=1e-9)\n",
    "see.magnitude_vs_frequency(resonator=resonator, axes=ax_norm_mag, normalize=True, frequency_scale=1e-9)\n",
    "see.phase_vs_frequency(resonator=resonator, axes=ax_raw_phase, normalize=False, frequency_scale=1e-9)\n",
    "see.phase_vs_frequency(resonator=resonator, axes=ax_norm_phase, normalize=True, frequency_scale=1e-9);"
   ],
   "outputs": [],
   "execution_count": null
  },
  {
   "cell_type": "markdown",
   "metadata": {},
   "source": [
    "The plot below shows the effect of selecting different roots in the bifurcation region. In this case, because the Kerr coefficient is negative, the Kerr detuning is also negative and the `np.max` function selects the maximum root, which corresponds to minimal photon number in the resonator."
   ]
  },
  {
   "cell_type": "code",
   "metadata": {},
   "source": [
    "fig, ax = plt.subplots()\n",
    "ax.set_xlabel('frequency / Hz')\n",
    "ax.set_ylabel(r'photon number $\\bar{n}$')\n",
    "ax.plot(f, resonator.photon_number(input_frequency=f, input_rate=resonator.f_r), label='max')\n",
    "# Calculate the photon number using another root-finding function that selects the minimum Kerr detuning.\n",
    "# Since the Kerr coefficient is negative here the Kerr detuning is also negative, so choosing the minimum\n",
    "# (most negative) detuning corresponds to choosing the maximum photon number.\n",
    "ax.plot(f, resonator.photon_number(input_frequency=f, input_rate=resonator.f_r, choose=np.min), label='min')\n",
    "ax.legend()\n",
    "ax.set_xlim(1e9-1e5, 1e9+1e5)"
   ],
   "outputs": [],
   "execution_count": null
  }
 ],
 "metadata": {
  "kernelspec": {
   "display_name": "Python 3",
   "language": "python",
   "name": "python3"
  },
  "language_info": {
   "codemirror_mode": {
    "name": "ipython",
    "version": 3
   },
   "file_extension": ".py",
   "mimetype": "text/x-python",
   "name": "python",
   "nbconvert_exporter": "python",
   "pygments_lexer": "ipython3",
   "version": "3.7.3"
  }
 },
 "nbformat": 4,
 "nbformat_minor": 2
}
