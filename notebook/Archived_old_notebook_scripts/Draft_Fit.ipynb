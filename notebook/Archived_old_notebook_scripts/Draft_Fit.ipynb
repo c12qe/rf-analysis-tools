{
 "cells": [
  {
   "cell_type": "code",
   "id": "cb9da098",
   "metadata": {
    "ExecuteTime": {
     "end_time": "2025-09-24T15:46:32.974042Z",
     "start_time": "2025-09-24T15:46:25.007653Z"
    }
   },
   "source": [
    "import numpy as np\n",
    "import xarray as xr\n",
    "import holoviews as hv\n",
    "from scipy.optimize import curve_fit\n",
    "from scipy.constants import hbar, Boltzmann, k\n",
    "hv.extension('bokeh')\n",
    "#import setup\n",
    "import os\n",
    "#from transmission import Transmission_qcodes as tr\n",
    "from qcodes import initialise_or_create_database_at, load_by_run_spec\n",
    "#from fitting_tools import complex_fit\n",
    "hv.extension(\"bokeh\")\n",
    "import skg #pip install scikit-guess to install this package\n",
    "#import skgstat as skg\n",
    "\n",
    "\n",
    "import pandas as pd\n"
   ],
   "outputs": [
    {
     "data": {
      "text/html": [
       "<script type=\"esms-options\">{\"shimMode\": true}</script><style>*[data-root-id],\n",
       "*[data-root-id] > * {\n",
       "  box-sizing: border-box;\n",
       "  font-family: var(--jp-ui-font-family);\n",
       "  font-size: var(--jp-ui-font-size1);\n",
       "  color: var(--vscode-editor-foreground, var(--jp-ui-font-color1));\n",
       "}\n",
       "\n",
       "/* Override VSCode background color */\n",
       ".cell-output-ipywidget-background:has(\n",
       "    > .cell-output-ipywidget-background > .lm-Widget > *[data-root-id]\n",
       "  ),\n",
       ".cell-output-ipywidget-background:has(> .lm-Widget > *[data-root-id]) {\n",
       "  background-color: transparent !important;\n",
       "}\n",
       "</style>"
      ]
     },
     "metadata": {},
     "output_type": "display_data",
     "jetTransient": {
      "display_id": null
     }
    },
    {
     "data": {
      "application/javascript": "(function(root) {\n  function now() {\n    return new Date();\n  }\n\n  const force = true;\n  const py_version = '3.6.2'.replace('rc', '-rc.').replace('.dev', '-dev.');\n  const reloading = false;\n  const Bokeh = root.Bokeh;\n\n  // Set a timeout for this load but only if we are not already initializing\n  if (typeof (root._bokeh_timeout) === \"undefined\" || (force || !root._bokeh_is_initializing)) {\n    root._bokeh_timeout = Date.now() + 5000;\n    root._bokeh_failed_load = false;\n  }\n\n  function run_callbacks() {\n    try {\n      root._bokeh_onload_callbacks.forEach(function(callback) {\n        if (callback != null)\n          callback();\n      });\n    } finally {\n      delete root._bokeh_onload_callbacks;\n    }\n    console.debug(\"Bokeh: all callbacks have finished\");\n  }\n\n  function load_libs(css_urls, js_urls, js_modules, js_exports, callback) {\n    if (css_urls == null) css_urls = [];\n    if (js_urls == null) js_urls = [];\n    if (js_modules == null) js_modules = [];\n    if (js_exports == null) js_exports = {};\n\n    root._bokeh_onload_callbacks.push(callback);\n\n    if (root._bokeh_is_loading > 0) {\n      // Don't load bokeh if it is still initializing\n      console.debug(\"Bokeh: BokehJS is being loaded, scheduling callback at\", now());\n      return null;\n    } else if (js_urls.length === 0 && js_modules.length === 0 && Object.keys(js_exports).length === 0) {\n      // There is nothing to load\n      run_callbacks();\n      return null;\n    }\n\n    function on_load() {\n      root._bokeh_is_loading--;\n      if (root._bokeh_is_loading === 0) {\n        console.debug(\"Bokeh: all BokehJS libraries/stylesheets loaded\");\n        run_callbacks()\n      }\n    }\n    window._bokeh_on_load = on_load\n\n    function on_error(e) {\n      const src_el = e.srcElement\n      console.error(\"failed to load \" + (src_el.href || src_el.src));\n    }\n\n    const skip = [];\n    if (window.requirejs) {\n      window.requirejs.config({'packages': {}, 'paths': {}, 'shim': {}});\n      root._bokeh_is_loading = css_urls.length + 0;\n    } else {\n      root._bokeh_is_loading = css_urls.length + js_urls.length + js_modules.length + Object.keys(js_exports).length;\n    }\n\n    const existing_stylesheets = []\n    const links = document.getElementsByTagName('link')\n    for (let i = 0; i < links.length; i++) {\n      const link = links[i]\n      if (link.href != null) {\n        existing_stylesheets.push(link.href)\n      }\n    }\n    for (let i = 0; i < css_urls.length; i++) {\n      const url = css_urls[i];\n      const escaped = encodeURI(url)\n      if (existing_stylesheets.indexOf(escaped) !== -1) {\n        on_load()\n        continue;\n      }\n      const element = document.createElement(\"link\");\n      element.onload = on_load;\n      element.onerror = on_error;\n      element.rel = \"stylesheet\";\n      element.type = \"text/css\";\n      element.href = url;\n      console.debug(\"Bokeh: injecting link tag for BokehJS stylesheet: \", url);\n      document.body.appendChild(element);\n    }    var existing_scripts = []\n    const scripts = document.getElementsByTagName('script')\n    for (let i = 0; i < scripts.length; i++) {\n      var script = scripts[i]\n      if (script.src != null) {\n        existing_scripts.push(script.src)\n      }\n    }\n    for (let i = 0; i < js_urls.length; i++) {\n      const url = js_urls[i];\n      const escaped = encodeURI(url)\n      if (skip.indexOf(escaped) !== -1 || existing_scripts.indexOf(escaped) !== -1) {\n        if (!window.requirejs) {\n          on_load();\n        }\n        continue;\n      }\n      const element = document.createElement('script');\n      element.onload = on_load;\n      element.onerror = on_error;\n      element.async = false;\n      element.src = url;\n      console.debug(\"Bokeh: injecting script tag for BokehJS library: \", url);\n      document.head.appendChild(element);\n    }\n    for (let i = 0; i < js_modules.length; i++) {\n      const url = js_modules[i];\n      const escaped = encodeURI(url)\n      if (skip.indexOf(escaped) !== -1 || existing_scripts.indexOf(escaped) !== -1) {\n        if (!window.requirejs) {\n          on_load();\n        }\n        continue;\n      }\n      var element = document.createElement('script');\n      element.onload = on_load;\n      element.onerror = on_error;\n      element.async = false;\n      element.src = url;\n      element.type = \"module\";\n      console.debug(\"Bokeh: injecting script tag for BokehJS library: \", url);\n      document.head.appendChild(element);\n    }\n    for (const name in js_exports) {\n      const url = js_exports[name];\n      const escaped = encodeURI(url)\n      if (skip.indexOf(escaped) >= 0 || root[name] != null) {\n        if (!window.requirejs) {\n          on_load();\n        }\n        continue;\n      }\n      var element = document.createElement('script');\n      element.onerror = on_error;\n      element.async = false;\n      element.type = \"module\";\n      console.debug(\"Bokeh: injecting script tag for BokehJS library: \", url);\n      element.textContent = `\n      import ${name} from \"${url}\"\n      window.${name} = ${name}\n      window._bokeh_on_load()\n      `\n      document.head.appendChild(element);\n    }\n    if (!js_urls.length && !js_modules.length) {\n      on_load()\n    }\n  };\n\n  function inject_raw_css(css) {\n    const element = document.createElement(\"style\");\n    element.appendChild(document.createTextNode(css));\n    document.body.appendChild(element);\n  }\n\n  const js_urls = [\"https://cdn.holoviz.org/panel/1.7.0/dist/bundled/reactiveesm/es-module-shims@^1.10.0/dist/es-module-shims.min.js\", \"https://cdn.bokeh.org/bokeh/release/bokeh-3.6.2.min.js\", \"https://cdn.bokeh.org/bokeh/release/bokeh-gl-3.6.2.min.js\", \"https://cdn.bokeh.org/bokeh/release/bokeh-widgets-3.6.2.min.js\", \"https://cdn.bokeh.org/bokeh/release/bokeh-tables-3.6.2.min.js\", \"https://cdn.holoviz.org/panel/1.7.0/dist/panel.min.js\"];\n  const js_modules = [];\n  const js_exports = {};\n  const css_urls = [];\n  const inline_js = [    function(Bokeh) {\n      Bokeh.set_log_level(\"info\");\n    },\nfunction(Bokeh) {} // ensure no trailing comma for IE\n  ];\n\n  function run_inline_js() {\n    if ((root.Bokeh !== undefined) || (force === true)) {\n      for (let i = 0; i < inline_js.length; i++) {\n        try {\n          inline_js[i].call(root, root.Bokeh);\n        } catch(e) {\n          if (!reloading) {\n            throw e;\n          }\n        }\n      }\n      // Cache old bokeh versions\n      if (Bokeh != undefined && !reloading) {\n        var NewBokeh = root.Bokeh;\n        if (Bokeh.versions === undefined) {\n          Bokeh.versions = new Map();\n        }\n        if (NewBokeh.version !== Bokeh.version) {\n          Bokeh.versions.set(NewBokeh.version, NewBokeh)\n        }\n        root.Bokeh = Bokeh;\n      }\n    } else if (Date.now() < root._bokeh_timeout) {\n      setTimeout(run_inline_js, 100);\n    } else if (!root._bokeh_failed_load) {\n      console.log(\"Bokeh: BokehJS failed to load within specified timeout.\");\n      root._bokeh_failed_load = true;\n    }\n    root._bokeh_is_initializing = false\n  }\n\n  function load_or_wait() {\n    // Implement a backoff loop that tries to ensure we do not load multiple\n    // versions of Bokeh and its dependencies at the same time.\n    // In recent versions we use the root._bokeh_is_initializing flag\n    // to determine whether there is an ongoing attempt to initialize\n    // bokeh, however for backward compatibility we also try to ensure\n    // that we do not start loading a newer (Panel>=1.0 and Bokeh>3) version\n    // before older versions are fully initialized.\n    if (root._bokeh_is_initializing && Date.now() > root._bokeh_timeout) {\n      // If the timeout and bokeh was not successfully loaded we reset\n      // everything and try loading again\n      root._bokeh_timeout = Date.now() + 5000;\n      root._bokeh_is_initializing = false;\n      root._bokeh_onload_callbacks = undefined;\n      root._bokeh_is_loading = 0\n      console.log(\"Bokeh: BokehJS was loaded multiple times but one version failed to initialize.\");\n      load_or_wait();\n    } else if (root._bokeh_is_initializing || (typeof root._bokeh_is_initializing === \"undefined\" && root._bokeh_onload_callbacks !== undefined)) {\n      setTimeout(load_or_wait, 100);\n    } else {\n      root._bokeh_is_initializing = true\n      root._bokeh_onload_callbacks = []\n      const bokeh_loaded = root.Bokeh != null && (root.Bokeh.version === py_version || (root.Bokeh.versions !== undefined && root.Bokeh.versions.has(py_version)));\n      if (!reloading && !bokeh_loaded) {\n        if (root.Bokeh) {\n          root.Bokeh = undefined;\n        }\n        console.debug(\"Bokeh: BokehJS not loaded, scheduling load and callback at\", now());\n      }\n      load_libs(css_urls, js_urls, js_modules, js_exports, function() {\n        console.debug(\"Bokeh: BokehJS plotting callback run at\", now());\n        run_inline_js();\n      });\n    }\n  }\n  // Give older versions of the autoload script a head-start to ensure\n  // they initialize before we start loading newer version.\n  setTimeout(load_or_wait, 100)\n}(window));",
      "application/vnd.holoviews_load.v0+json": "(function(root) {\n  function now() {\n    return new Date();\n  }\n\n  const force = true;\n  const py_version = '3.6.2'.replace('rc', '-rc.').replace('.dev', '-dev.');\n  const reloading = false;\n  const Bokeh = root.Bokeh;\n\n  // Set a timeout for this load but only if we are not already initializing\n  if (typeof (root._bokeh_timeout) === \"undefined\" || (force || !root._bokeh_is_initializing)) {\n    root._bokeh_timeout = Date.now() + 5000;\n    root._bokeh_failed_load = false;\n  }\n\n  function run_callbacks() {\n    try {\n      root._bokeh_onload_callbacks.forEach(function(callback) {\n        if (callback != null)\n          callback();\n      });\n    } finally {\n      delete root._bokeh_onload_callbacks;\n    }\n    console.debug(\"Bokeh: all callbacks have finished\");\n  }\n\n  function load_libs(css_urls, js_urls, js_modules, js_exports, callback) {\n    if (css_urls == null) css_urls = [];\n    if (js_urls == null) js_urls = [];\n    if (js_modules == null) js_modules = [];\n    if (js_exports == null) js_exports = {};\n\n    root._bokeh_onload_callbacks.push(callback);\n\n    if (root._bokeh_is_loading > 0) {\n      // Don't load bokeh if it is still initializing\n      console.debug(\"Bokeh: BokehJS is being loaded, scheduling callback at\", now());\n      return null;\n    } else if (js_urls.length === 0 && js_modules.length === 0 && Object.keys(js_exports).length === 0) {\n      // There is nothing to load\n      run_callbacks();\n      return null;\n    }\n\n    function on_load() {\n      root._bokeh_is_loading--;\n      if (root._bokeh_is_loading === 0) {\n        console.debug(\"Bokeh: all BokehJS libraries/stylesheets loaded\");\n        run_callbacks()\n      }\n    }\n    window._bokeh_on_load = on_load\n\n    function on_error(e) {\n      const src_el = e.srcElement\n      console.error(\"failed to load \" + (src_el.href || src_el.src));\n    }\n\n    const skip = [];\n    if (window.requirejs) {\n      window.requirejs.config({'packages': {}, 'paths': {}, 'shim': {}});\n      root._bokeh_is_loading = css_urls.length + 0;\n    } else {\n      root._bokeh_is_loading = css_urls.length + js_urls.length + js_modules.length + Object.keys(js_exports).length;\n    }\n\n    const existing_stylesheets = []\n    const links = document.getElementsByTagName('link')\n    for (let i = 0; i < links.length; i++) {\n      const link = links[i]\n      if (link.href != null) {\n        existing_stylesheets.push(link.href)\n      }\n    }\n    for (let i = 0; i < css_urls.length; i++) {\n      const url = css_urls[i];\n      const escaped = encodeURI(url)\n      if (existing_stylesheets.indexOf(escaped) !== -1) {\n        on_load()\n        continue;\n      }\n      const element = document.createElement(\"link\");\n      element.onload = on_load;\n      element.onerror = on_error;\n      element.rel = \"stylesheet\";\n      element.type = \"text/css\";\n      element.href = url;\n      console.debug(\"Bokeh: injecting link tag for BokehJS stylesheet: \", url);\n      document.body.appendChild(element);\n    }    var existing_scripts = []\n    const scripts = document.getElementsByTagName('script')\n    for (let i = 0; i < scripts.length; i++) {\n      var script = scripts[i]\n      if (script.src != null) {\n        existing_scripts.push(script.src)\n      }\n    }\n    for (let i = 0; i < js_urls.length; i++) {\n      const url = js_urls[i];\n      const escaped = encodeURI(url)\n      if (skip.indexOf(escaped) !== -1 || existing_scripts.indexOf(escaped) !== -1) {\n        if (!window.requirejs) {\n          on_load();\n        }\n        continue;\n      }\n      const element = document.createElement('script');\n      element.onload = on_load;\n      element.onerror = on_error;\n      element.async = false;\n      element.src = url;\n      console.debug(\"Bokeh: injecting script tag for BokehJS library: \", url);\n      document.head.appendChild(element);\n    }\n    for (let i = 0; i < js_modules.length; i++) {\n      const url = js_modules[i];\n      const escaped = encodeURI(url)\n      if (skip.indexOf(escaped) !== -1 || existing_scripts.indexOf(escaped) !== -1) {\n        if (!window.requirejs) {\n          on_load();\n        }\n        continue;\n      }\n      var element = document.createElement('script');\n      element.onload = on_load;\n      element.onerror = on_error;\n      element.async = false;\n      element.src = url;\n      element.type = \"module\";\n      console.debug(\"Bokeh: injecting script tag for BokehJS library: \", url);\n      document.head.appendChild(element);\n    }\n    for (const name in js_exports) {\n      const url = js_exports[name];\n      const escaped = encodeURI(url)\n      if (skip.indexOf(escaped) >= 0 || root[name] != null) {\n        if (!window.requirejs) {\n          on_load();\n        }\n        continue;\n      }\n      var element = document.createElement('script');\n      element.onerror = on_error;\n      element.async = false;\n      element.type = \"module\";\n      console.debug(\"Bokeh: injecting script tag for BokehJS library: \", url);\n      element.textContent = `\n      import ${name} from \"${url}\"\n      window.${name} = ${name}\n      window._bokeh_on_load()\n      `\n      document.head.appendChild(element);\n    }\n    if (!js_urls.length && !js_modules.length) {\n      on_load()\n    }\n  };\n\n  function inject_raw_css(css) {\n    const element = document.createElement(\"style\");\n    element.appendChild(document.createTextNode(css));\n    document.body.appendChild(element);\n  }\n\n  const js_urls = [\"https://cdn.holoviz.org/panel/1.7.0/dist/bundled/reactiveesm/es-module-shims@^1.10.0/dist/es-module-shims.min.js\", \"https://cdn.bokeh.org/bokeh/release/bokeh-3.6.2.min.js\", \"https://cdn.bokeh.org/bokeh/release/bokeh-gl-3.6.2.min.js\", \"https://cdn.bokeh.org/bokeh/release/bokeh-widgets-3.6.2.min.js\", \"https://cdn.bokeh.org/bokeh/release/bokeh-tables-3.6.2.min.js\", \"https://cdn.holoviz.org/panel/1.7.0/dist/panel.min.js\"];\n  const js_modules = [];\n  const js_exports = {};\n  const css_urls = [];\n  const inline_js = [    function(Bokeh) {\n      Bokeh.set_log_level(\"info\");\n    },\nfunction(Bokeh) {} // ensure no trailing comma for IE\n  ];\n\n  function run_inline_js() {\n    if ((root.Bokeh !== undefined) || (force === true)) {\n      for (let i = 0; i < inline_js.length; i++) {\n        try {\n          inline_js[i].call(root, root.Bokeh);\n        } catch(e) {\n          if (!reloading) {\n            throw e;\n          }\n        }\n      }\n      // Cache old bokeh versions\n      if (Bokeh != undefined && !reloading) {\n        var NewBokeh = root.Bokeh;\n        if (Bokeh.versions === undefined) {\n          Bokeh.versions = new Map();\n        }\n        if (NewBokeh.version !== Bokeh.version) {\n          Bokeh.versions.set(NewBokeh.version, NewBokeh)\n        }\n        root.Bokeh = Bokeh;\n      }\n    } else if (Date.now() < root._bokeh_timeout) {\n      setTimeout(run_inline_js, 100);\n    } else if (!root._bokeh_failed_load) {\n      console.log(\"Bokeh: BokehJS failed to load within specified timeout.\");\n      root._bokeh_failed_load = true;\n    }\n    root._bokeh_is_initializing = false\n  }\n\n  function load_or_wait() {\n    // Implement a backoff loop that tries to ensure we do not load multiple\n    // versions of Bokeh and its dependencies at the same time.\n    // In recent versions we use the root._bokeh_is_initializing flag\n    // to determine whether there is an ongoing attempt to initialize\n    // bokeh, however for backward compatibility we also try to ensure\n    // that we do not start loading a newer (Panel>=1.0 and Bokeh>3) version\n    // before older versions are fully initialized.\n    if (root._bokeh_is_initializing && Date.now() > root._bokeh_timeout) {\n      // If the timeout and bokeh was not successfully loaded we reset\n      // everything and try loading again\n      root._bokeh_timeout = Date.now() + 5000;\n      root._bokeh_is_initializing = false;\n      root._bokeh_onload_callbacks = undefined;\n      root._bokeh_is_loading = 0\n      console.log(\"Bokeh: BokehJS was loaded multiple times but one version failed to initialize.\");\n      load_or_wait();\n    } else if (root._bokeh_is_initializing || (typeof root._bokeh_is_initializing === \"undefined\" && root._bokeh_onload_callbacks !== undefined)) {\n      setTimeout(load_or_wait, 100);\n    } else {\n      root._bokeh_is_initializing = true\n      root._bokeh_onload_callbacks = []\n      const bokeh_loaded = root.Bokeh != null && (root.Bokeh.version === py_version || (root.Bokeh.versions !== undefined && root.Bokeh.versions.has(py_version)));\n      if (!reloading && !bokeh_loaded) {\n        if (root.Bokeh) {\n          root.Bokeh = undefined;\n        }\n        console.debug(\"Bokeh: BokehJS not loaded, scheduling load and callback at\", now());\n      }\n      load_libs(css_urls, js_urls, js_modules, js_exports, function() {\n        console.debug(\"Bokeh: BokehJS plotting callback run at\", now());\n        run_inline_js();\n      });\n    }\n  }\n  // Give older versions of the autoload script a head-start to ensure\n  // they initialize before we start loading newer version.\n  setTimeout(load_or_wait, 100)\n}(window));"
     },
     "metadata": {},
     "output_type": "display_data",
     "jetTransient": {
      "display_id": null
     }
    },
    {
     "data": {
      "application/vnd.holoviews_load.v0+json": "\nif ((window.PyViz === undefined) || (window.PyViz instanceof HTMLElement)) {\n  window.PyViz = {comms: {}, comm_status:{}, kernels:{}, receivers: {}, plot_index: []}\n}\n\n\n    function JupyterCommManager() {\n    }\n\n    JupyterCommManager.prototype.register_target = function(plot_id, comm_id, msg_handler) {\n      if (window.comm_manager || ((window.Jupyter !== undefined) && (Jupyter.notebook.kernel != null))) {\n        var comm_manager = window.comm_manager || Jupyter.notebook.kernel.comm_manager;\n        comm_manager.register_target(comm_id, function(comm) {\n          comm.on_msg(msg_handler);\n        });\n      } else if ((plot_id in window.PyViz.kernels) && (window.PyViz.kernels[plot_id])) {\n        window.PyViz.kernels[plot_id].registerCommTarget(comm_id, function(comm) {\n          comm.onMsg = msg_handler;\n        });\n      } else if (typeof google != 'undefined' && google.colab.kernel != null) {\n        google.colab.kernel.comms.registerTarget(comm_id, (comm) => {\n          var messages = comm.messages[Symbol.asyncIterator]();\n          function processIteratorResult(result) {\n            var message = result.value;\n            console.log(message)\n            var content = {data: message.data, comm_id};\n            var buffers = []\n            for (var buffer of message.buffers || []) {\n              buffers.push(new DataView(buffer))\n            }\n            var metadata = message.metadata || {};\n            var msg = {content, buffers, metadata}\n            msg_handler(msg);\n            return messages.next().then(processIteratorResult);\n          }\n          return messages.next().then(processIteratorResult);\n        })\n      }\n    }\n\n    JupyterCommManager.prototype.get_client_comm = function(plot_id, comm_id, msg_handler) {\n      if (comm_id in window.PyViz.comms) {\n        return window.PyViz.comms[comm_id];\n      } else if (window.comm_manager || ((window.Jupyter !== undefined) && (Jupyter.notebook.kernel != null))) {\n        var comm_manager = window.comm_manager || Jupyter.notebook.kernel.comm_manager;\n        var comm = comm_manager.new_comm(comm_id, {}, {}, {}, comm_id);\n        if (msg_handler) {\n          comm.on_msg(msg_handler);\n        }\n      } else if ((plot_id in window.PyViz.kernels) && (window.PyViz.kernels[plot_id])) {\n        var comm = window.PyViz.kernels[plot_id].connectToComm(comm_id);\n        comm.open();\n        if (msg_handler) {\n          comm.onMsg = msg_handler;\n        }\n      } else if (typeof google != 'undefined' && google.colab.kernel != null) {\n        var comm_promise = google.colab.kernel.comms.open(comm_id)\n        comm_promise.then((comm) => {\n          window.PyViz.comms[comm_id] = comm;\n          if (msg_handler) {\n            var messages = comm.messages[Symbol.asyncIterator]();\n            function processIteratorResult(result) {\n              var message = result.value;\n              var content = {data: message.data};\n              var metadata = message.metadata || {comm_id};\n              var msg = {content, metadata}\n              msg_handler(msg);\n              return messages.next().then(processIteratorResult);\n            }\n            return messages.next().then(processIteratorResult);\n          }\n        }) \n        var sendClosure = (data, metadata, buffers, disposeOnDone) => {\n          return comm_promise.then((comm) => {\n            comm.send(data, metadata, buffers, disposeOnDone);\n          });\n        };\n        var comm = {\n          send: sendClosure\n        };\n      }\n      window.PyViz.comms[comm_id] = comm;\n      return comm;\n    }\n    window.PyViz.comm_manager = new JupyterCommManager();\n    \n\n\nvar JS_MIME_TYPE = 'application/javascript';\nvar HTML_MIME_TYPE = 'text/html';\nvar EXEC_MIME_TYPE = 'application/vnd.holoviews_exec.v0+json';\nvar CLASS_NAME = 'output';\n\n/**\n * Render data to the DOM node\n */\nfunction render(props, node) {\n  var div = document.createElement(\"div\");\n  var script = document.createElement(\"script\");\n  node.appendChild(div);\n  node.appendChild(script);\n}\n\n/**\n * Handle when a new output is added\n */\nfunction handle_add_output(event, handle) {\n  var output_area = handle.output_area;\n  var output = handle.output;\n  if ((output.data == undefined) || (!output.data.hasOwnProperty(EXEC_MIME_TYPE))) {\n    return\n  }\n  var id = output.metadata[EXEC_MIME_TYPE][\"id\"];\n  var toinsert = output_area.element.find(\".\" + CLASS_NAME.split(' ')[0]);\n  if (id !== undefined) {\n    var nchildren = toinsert.length;\n    var html_node = toinsert[nchildren-1].children[0];\n    html_node.innerHTML = output.data[HTML_MIME_TYPE];\n    var scripts = [];\n    var nodelist = html_node.querySelectorAll(\"script\");\n    for (var i in nodelist) {\n      if (nodelist.hasOwnProperty(i)) {\n        scripts.push(nodelist[i])\n      }\n    }\n\n    scripts.forEach( function (oldScript) {\n      var newScript = document.createElement(\"script\");\n      var attrs = [];\n      var nodemap = oldScript.attributes;\n      for (var j in nodemap) {\n        if (nodemap.hasOwnProperty(j)) {\n          attrs.push(nodemap[j])\n        }\n      }\n      attrs.forEach(function(attr) { newScript.setAttribute(attr.name, attr.value) });\n      newScript.appendChild(document.createTextNode(oldScript.innerHTML));\n      oldScript.parentNode.replaceChild(newScript, oldScript);\n    });\n    if (JS_MIME_TYPE in output.data) {\n      toinsert[nchildren-1].children[1].textContent = output.data[JS_MIME_TYPE];\n    }\n    output_area._hv_plot_id = id;\n    if ((window.Bokeh !== undefined) && (id in Bokeh.index)) {\n      window.PyViz.plot_index[id] = Bokeh.index[id];\n    } else {\n      window.PyViz.plot_index[id] = null;\n    }\n  } else if (output.metadata[EXEC_MIME_TYPE][\"server_id\"] !== undefined) {\n    var bk_div = document.createElement(\"div\");\n    bk_div.innerHTML = output.data[HTML_MIME_TYPE];\n    var script_attrs = bk_div.children[0].attributes;\n    for (var i = 0; i < script_attrs.length; i++) {\n      toinsert[toinsert.length - 1].childNodes[1].setAttribute(script_attrs[i].name, script_attrs[i].value);\n    }\n    // store reference to server id on output_area\n    output_area._bokeh_server_id = output.metadata[EXEC_MIME_TYPE][\"server_id\"];\n  }\n}\n\n/**\n * Handle when an output is cleared or removed\n */\nfunction handle_clear_output(event, handle) {\n  var id = handle.cell.output_area._hv_plot_id;\n  var server_id = handle.cell.output_area._bokeh_server_id;\n  if (((id === undefined) || !(id in PyViz.plot_index)) && (server_id !== undefined)) { return; }\n  var comm = window.PyViz.comm_manager.get_client_comm(\"hv-extension-comm\", \"hv-extension-comm\", function () {});\n  if (server_id !== null) {\n    comm.send({event_type: 'server_delete', 'id': server_id});\n    return;\n  } else if (comm !== null) {\n    comm.send({event_type: 'delete', 'id': id});\n  }\n  delete PyViz.plot_index[id];\n  if ((window.Bokeh !== undefined) & (id in window.Bokeh.index)) {\n    var doc = window.Bokeh.index[id].model.document\n    doc.clear();\n    const i = window.Bokeh.documents.indexOf(doc);\n    if (i > -1) {\n      window.Bokeh.documents.splice(i, 1);\n    }\n  }\n}\n\n/**\n * Handle kernel restart event\n */\nfunction handle_kernel_cleanup(event, handle) {\n  delete PyViz.comms[\"hv-extension-comm\"];\n  window.PyViz.plot_index = {}\n}\n\n/**\n * Handle update_display_data messages\n */\nfunction handle_update_output(event, handle) {\n  handle_clear_output(event, {cell: {output_area: handle.output_area}})\n  handle_add_output(event, handle)\n}\n\nfunction register_renderer(events, OutputArea) {\n  function append_mime(data, metadata, element) {\n    // create a DOM node to render to\n    var toinsert = this.create_output_subarea(\n    metadata,\n    CLASS_NAME,\n    EXEC_MIME_TYPE\n    );\n    this.keyboard_manager.register_events(toinsert);\n    // Render to node\n    var props = {data: data, metadata: metadata[EXEC_MIME_TYPE]};\n    render(props, toinsert[0]);\n    element.append(toinsert);\n    return toinsert\n  }\n\n  events.on('output_added.OutputArea', handle_add_output);\n  events.on('output_updated.OutputArea', handle_update_output);\n  events.on('clear_output.CodeCell', handle_clear_output);\n  events.on('delete.Cell', handle_clear_output);\n  events.on('kernel_ready.Kernel', handle_kernel_cleanup);\n\n  OutputArea.prototype.register_mime_type(EXEC_MIME_TYPE, append_mime, {\n    safe: true,\n    index: 0\n  });\n}\n\nif (window.Jupyter !== undefined) {\n  try {\n    var events = require('base/js/events');\n    var OutputArea = require('notebook/js/outputarea').OutputArea;\n    if (OutputArea.prototype.mime_types().indexOf(EXEC_MIME_TYPE) == -1) {\n      register_renderer(events, OutputArea);\n    }\n  } catch(err) {\n  }\n}\n",
      "application/javascript": "\nif ((window.PyViz === undefined) || (window.PyViz instanceof HTMLElement)) {\n  window.PyViz = {comms: {}, comm_status:{}, kernels:{}, receivers: {}, plot_index: []}\n}\n\n\n    function JupyterCommManager() {\n    }\n\n    JupyterCommManager.prototype.register_target = function(plot_id, comm_id, msg_handler) {\n      if (window.comm_manager || ((window.Jupyter !== undefined) && (Jupyter.notebook.kernel != null))) {\n        var comm_manager = window.comm_manager || Jupyter.notebook.kernel.comm_manager;\n        comm_manager.register_target(comm_id, function(comm) {\n          comm.on_msg(msg_handler);\n        });\n      } else if ((plot_id in window.PyViz.kernels) && (window.PyViz.kernels[plot_id])) {\n        window.PyViz.kernels[plot_id].registerCommTarget(comm_id, function(comm) {\n          comm.onMsg = msg_handler;\n        });\n      } else if (typeof google != 'undefined' && google.colab.kernel != null) {\n        google.colab.kernel.comms.registerTarget(comm_id, (comm) => {\n          var messages = comm.messages[Symbol.asyncIterator]();\n          function processIteratorResult(result) {\n            var message = result.value;\n            console.log(message)\n            var content = {data: message.data, comm_id};\n            var buffers = []\n            for (var buffer of message.buffers || []) {\n              buffers.push(new DataView(buffer))\n            }\n            var metadata = message.metadata || {};\n            var msg = {content, buffers, metadata}\n            msg_handler(msg);\n            return messages.next().then(processIteratorResult);\n          }\n          return messages.next().then(processIteratorResult);\n        })\n      }\n    }\n\n    JupyterCommManager.prototype.get_client_comm = function(plot_id, comm_id, msg_handler) {\n      if (comm_id in window.PyViz.comms) {\n        return window.PyViz.comms[comm_id];\n      } else if (window.comm_manager || ((window.Jupyter !== undefined) && (Jupyter.notebook.kernel != null))) {\n        var comm_manager = window.comm_manager || Jupyter.notebook.kernel.comm_manager;\n        var comm = comm_manager.new_comm(comm_id, {}, {}, {}, comm_id);\n        if (msg_handler) {\n          comm.on_msg(msg_handler);\n        }\n      } else if ((plot_id in window.PyViz.kernels) && (window.PyViz.kernels[plot_id])) {\n        var comm = window.PyViz.kernels[plot_id].connectToComm(comm_id);\n        comm.open();\n        if (msg_handler) {\n          comm.onMsg = msg_handler;\n        }\n      } else if (typeof google != 'undefined' && google.colab.kernel != null) {\n        var comm_promise = google.colab.kernel.comms.open(comm_id)\n        comm_promise.then((comm) => {\n          window.PyViz.comms[comm_id] = comm;\n          if (msg_handler) {\n            var messages = comm.messages[Symbol.asyncIterator]();\n            function processIteratorResult(result) {\n              var message = result.value;\n              var content = {data: message.data};\n              var metadata = message.metadata || {comm_id};\n              var msg = {content, metadata}\n              msg_handler(msg);\n              return messages.next().then(processIteratorResult);\n            }\n            return messages.next().then(processIteratorResult);\n          }\n        }) \n        var sendClosure = (data, metadata, buffers, disposeOnDone) => {\n          return comm_promise.then((comm) => {\n            comm.send(data, metadata, buffers, disposeOnDone);\n          });\n        };\n        var comm = {\n          send: sendClosure\n        };\n      }\n      window.PyViz.comms[comm_id] = comm;\n      return comm;\n    }\n    window.PyViz.comm_manager = new JupyterCommManager();\n    \n\n\nvar JS_MIME_TYPE = 'application/javascript';\nvar HTML_MIME_TYPE = 'text/html';\nvar EXEC_MIME_TYPE = 'application/vnd.holoviews_exec.v0+json';\nvar CLASS_NAME = 'output';\n\n/**\n * Render data to the DOM node\n */\nfunction render(props, node) {\n  var div = document.createElement(\"div\");\n  var script = document.createElement(\"script\");\n  node.appendChild(div);\n  node.appendChild(script);\n}\n\n/**\n * Handle when a new output is added\n */\nfunction handle_add_output(event, handle) {\n  var output_area = handle.output_area;\n  var output = handle.output;\n  if ((output.data == undefined) || (!output.data.hasOwnProperty(EXEC_MIME_TYPE))) {\n    return\n  }\n  var id = output.metadata[EXEC_MIME_TYPE][\"id\"];\n  var toinsert = output_area.element.find(\".\" + CLASS_NAME.split(' ')[0]);\n  if (id !== undefined) {\n    var nchildren = toinsert.length;\n    var html_node = toinsert[nchildren-1].children[0];\n    html_node.innerHTML = output.data[HTML_MIME_TYPE];\n    var scripts = [];\n    var nodelist = html_node.querySelectorAll(\"script\");\n    for (var i in nodelist) {\n      if (nodelist.hasOwnProperty(i)) {\n        scripts.push(nodelist[i])\n      }\n    }\n\n    scripts.forEach( function (oldScript) {\n      var newScript = document.createElement(\"script\");\n      var attrs = [];\n      var nodemap = oldScript.attributes;\n      for (var j in nodemap) {\n        if (nodemap.hasOwnProperty(j)) {\n          attrs.push(nodemap[j])\n        }\n      }\n      attrs.forEach(function(attr) { newScript.setAttribute(attr.name, attr.value) });\n      newScript.appendChild(document.createTextNode(oldScript.innerHTML));\n      oldScript.parentNode.replaceChild(newScript, oldScript);\n    });\n    if (JS_MIME_TYPE in output.data) {\n      toinsert[nchildren-1].children[1].textContent = output.data[JS_MIME_TYPE];\n    }\n    output_area._hv_plot_id = id;\n    if ((window.Bokeh !== undefined) && (id in Bokeh.index)) {\n      window.PyViz.plot_index[id] = Bokeh.index[id];\n    } else {\n      window.PyViz.plot_index[id] = null;\n    }\n  } else if (output.metadata[EXEC_MIME_TYPE][\"server_id\"] !== undefined) {\n    var bk_div = document.createElement(\"div\");\n    bk_div.innerHTML = output.data[HTML_MIME_TYPE];\n    var script_attrs = bk_div.children[0].attributes;\n    for (var i = 0; i < script_attrs.length; i++) {\n      toinsert[toinsert.length - 1].childNodes[1].setAttribute(script_attrs[i].name, script_attrs[i].value);\n    }\n    // store reference to server id on output_area\n    output_area._bokeh_server_id = output.metadata[EXEC_MIME_TYPE][\"server_id\"];\n  }\n}\n\n/**\n * Handle when an output is cleared or removed\n */\nfunction handle_clear_output(event, handle) {\n  var id = handle.cell.output_area._hv_plot_id;\n  var server_id = handle.cell.output_area._bokeh_server_id;\n  if (((id === undefined) || !(id in PyViz.plot_index)) && (server_id !== undefined)) { return; }\n  var comm = window.PyViz.comm_manager.get_client_comm(\"hv-extension-comm\", \"hv-extension-comm\", function () {});\n  if (server_id !== null) {\n    comm.send({event_type: 'server_delete', 'id': server_id});\n    return;\n  } else if (comm !== null) {\n    comm.send({event_type: 'delete', 'id': id});\n  }\n  delete PyViz.plot_index[id];\n  if ((window.Bokeh !== undefined) & (id in window.Bokeh.index)) {\n    var doc = window.Bokeh.index[id].model.document\n    doc.clear();\n    const i = window.Bokeh.documents.indexOf(doc);\n    if (i > -1) {\n      window.Bokeh.documents.splice(i, 1);\n    }\n  }\n}\n\n/**\n * Handle kernel restart event\n */\nfunction handle_kernel_cleanup(event, handle) {\n  delete PyViz.comms[\"hv-extension-comm\"];\n  window.PyViz.plot_index = {}\n}\n\n/**\n * Handle update_display_data messages\n */\nfunction handle_update_output(event, handle) {\n  handle_clear_output(event, {cell: {output_area: handle.output_area}})\n  handle_add_output(event, handle)\n}\n\nfunction register_renderer(events, OutputArea) {\n  function append_mime(data, metadata, element) {\n    // create a DOM node to render to\n    var toinsert = this.create_output_subarea(\n    metadata,\n    CLASS_NAME,\n    EXEC_MIME_TYPE\n    );\n    this.keyboard_manager.register_events(toinsert);\n    // Render to node\n    var props = {data: data, metadata: metadata[EXEC_MIME_TYPE]};\n    render(props, toinsert[0]);\n    element.append(toinsert);\n    return toinsert\n  }\n\n  events.on('output_added.OutputArea', handle_add_output);\n  events.on('output_updated.OutputArea', handle_update_output);\n  events.on('clear_output.CodeCell', handle_clear_output);\n  events.on('delete.Cell', handle_clear_output);\n  events.on('kernel_ready.Kernel', handle_kernel_cleanup);\n\n  OutputArea.prototype.register_mime_type(EXEC_MIME_TYPE, append_mime, {\n    safe: true,\n    index: 0\n  });\n}\n\nif (window.Jupyter !== undefined) {\n  try {\n    var events = require('base/js/events');\n    var OutputArea = require('notebook/js/outputarea').OutputArea;\n    if (OutputArea.prototype.mime_types().indexOf(EXEC_MIME_TYPE) == -1) {\n      register_renderer(events, OutputArea);\n    }\n  } catch(err) {\n  }\n}\n"
     },
     "metadata": {},
     "output_type": "display_data",
     "jetTransient": {
      "display_id": null
     }
    },
    {
     "data": {
      "text/html": [
       "<div id='1097f24a-b880-45d8-b957-6b1e5f442f3e'>\n",
       "  <div id=\"be41580a-7610-40b5-a08a-77dcb17ac2b5\" data-root-id=\"1097f24a-b880-45d8-b957-6b1e5f442f3e\" style=\"display: contents;\"></div>\n",
       "</div>\n",
       "<script type=\"application/javascript\">(function(root) {\n",
       "  var docs_json = {\"22a15d32-2add-409a-a967-baaed5562da3\":{\"version\":\"3.6.2\",\"title\":\"Bokeh Application\",\"roots\":[{\"type\":\"object\",\"name\":\"panel.models.browser.BrowserInfo\",\"id\":\"1097f24a-b880-45d8-b957-6b1e5f442f3e\"},{\"type\":\"object\",\"name\":\"panel.models.comm_manager.CommManager\",\"id\":\"71ad3db3-47c2-40ed-a8ac-229638c2325f\",\"attributes\":{\"plot_id\":\"1097f24a-b880-45d8-b957-6b1e5f442f3e\",\"comm_id\":\"8bdad475372f46f68f536a442906a1ea\",\"client_comm_id\":\"1dcbc0a05c464bc29d90918d1f4cb690\"}}],\"defs\":[{\"type\":\"model\",\"name\":\"ReactiveHTML1\"},{\"type\":\"model\",\"name\":\"FlexBox1\",\"properties\":[{\"name\":\"align_content\",\"kind\":\"Any\",\"default\":\"flex-start\"},{\"name\":\"align_items\",\"kind\":\"Any\",\"default\":\"flex-start\"},{\"name\":\"flex_direction\",\"kind\":\"Any\",\"default\":\"row\"},{\"name\":\"flex_wrap\",\"kind\":\"Any\",\"default\":\"wrap\"},{\"name\":\"gap\",\"kind\":\"Any\",\"default\":\"\"},{\"name\":\"justify_content\",\"kind\":\"Any\",\"default\":\"flex-start\"}]},{\"type\":\"model\",\"name\":\"FloatPanel1\",\"properties\":[{\"name\":\"config\",\"kind\":\"Any\",\"default\":{\"type\":\"map\"}},{\"name\":\"contained\",\"kind\":\"Any\",\"default\":true},{\"name\":\"position\",\"kind\":\"Any\",\"default\":\"right-top\"},{\"name\":\"offsetx\",\"kind\":\"Any\",\"default\":null},{\"name\":\"offsety\",\"kind\":\"Any\",\"default\":null},{\"name\":\"theme\",\"kind\":\"Any\",\"default\":\"primary\"},{\"name\":\"status\",\"kind\":\"Any\",\"default\":\"normalized\"}]},{\"type\":\"model\",\"name\":\"GridStack1\",\"properties\":[{\"name\":\"ncols\",\"kind\":\"Any\",\"default\":null},{\"name\":\"nrows\",\"kind\":\"Any\",\"default\":null},{\"name\":\"allow_resize\",\"kind\":\"Any\",\"default\":true},{\"name\":\"allow_drag\",\"kind\":\"Any\",\"default\":true},{\"name\":\"state\",\"kind\":\"Any\",\"default\":[]}]},{\"type\":\"model\",\"name\":\"drag1\",\"properties\":[{\"name\":\"slider_width\",\"kind\":\"Any\",\"default\":5},{\"name\":\"slider_color\",\"kind\":\"Any\",\"default\":\"black\"},{\"name\":\"value\",\"kind\":\"Any\",\"default\":50}]},{\"type\":\"model\",\"name\":\"click1\",\"properties\":[{\"name\":\"terminal_output\",\"kind\":\"Any\",\"default\":\"\"},{\"name\":\"debug_name\",\"kind\":\"Any\",\"default\":\"\"},{\"name\":\"clears\",\"kind\":\"Any\",\"default\":0}]},{\"type\":\"model\",\"name\":\"FastWrapper1\",\"properties\":[{\"name\":\"object\",\"kind\":\"Any\",\"default\":null},{\"name\":\"style\",\"kind\":\"Any\",\"default\":null}]},{\"type\":\"model\",\"name\":\"NotificationArea1\",\"properties\":[{\"name\":\"js_events\",\"kind\":\"Any\",\"default\":{\"type\":\"map\"}},{\"name\":\"max_notifications\",\"kind\":\"Any\",\"default\":5},{\"name\":\"notifications\",\"kind\":\"Any\",\"default\":[]},{\"name\":\"position\",\"kind\":\"Any\",\"default\":\"bottom-right\"},{\"name\":\"_clear\",\"kind\":\"Any\",\"default\":0},{\"name\":\"types\",\"kind\":\"Any\",\"default\":[{\"type\":\"map\",\"entries\":[[\"type\",\"warning\"],[\"background\",\"#ffc107\"],[\"icon\",{\"type\":\"map\",\"entries\":[[\"className\",\"fas fa-exclamation-triangle\"],[\"tagName\",\"i\"],[\"color\",\"white\"]]}]]},{\"type\":\"map\",\"entries\":[[\"type\",\"info\"],[\"background\",\"#007bff\"],[\"icon\",{\"type\":\"map\",\"entries\":[[\"className\",\"fas fa-info-circle\"],[\"tagName\",\"i\"],[\"color\",\"white\"]]}]]}]}]},{\"type\":\"model\",\"name\":\"Notification\",\"properties\":[{\"name\":\"background\",\"kind\":\"Any\",\"default\":null},{\"name\":\"duration\",\"kind\":\"Any\",\"default\":3000},{\"name\":\"icon\",\"kind\":\"Any\",\"default\":null},{\"name\":\"message\",\"kind\":\"Any\",\"default\":\"\"},{\"name\":\"notification_type\",\"kind\":\"Any\",\"default\":null},{\"name\":\"_rendered\",\"kind\":\"Any\",\"default\":false},{\"name\":\"_destroyed\",\"kind\":\"Any\",\"default\":false}]},{\"type\":\"model\",\"name\":\"TemplateActions1\",\"properties\":[{\"name\":\"open_modal\",\"kind\":\"Any\",\"default\":0},{\"name\":\"close_modal\",\"kind\":\"Any\",\"default\":0}]},{\"type\":\"model\",\"name\":\"BootstrapTemplateActions1\",\"properties\":[{\"name\":\"open_modal\",\"kind\":\"Any\",\"default\":0},{\"name\":\"close_modal\",\"kind\":\"Any\",\"default\":0}]},{\"type\":\"model\",\"name\":\"TemplateEditor1\",\"properties\":[{\"name\":\"layout\",\"kind\":\"Any\",\"default\":[]}]},{\"type\":\"model\",\"name\":\"MaterialTemplateActions1\",\"properties\":[{\"name\":\"open_modal\",\"kind\":\"Any\",\"default\":0},{\"name\":\"close_modal\",\"kind\":\"Any\",\"default\":0}]},{\"type\":\"model\",\"name\":\"ReactiveESM1\",\"properties\":[{\"name\":\"esm_constants\",\"kind\":\"Any\",\"default\":{\"type\":\"map\"}}]},{\"type\":\"model\",\"name\":\"JSComponent1\",\"properties\":[{\"name\":\"esm_constants\",\"kind\":\"Any\",\"default\":{\"type\":\"map\"}}]},{\"type\":\"model\",\"name\":\"ReactComponent1\",\"properties\":[{\"name\":\"esm_constants\",\"kind\":\"Any\",\"default\":{\"type\":\"map\"}}]},{\"type\":\"model\",\"name\":\"AnyWidgetComponent1\",\"properties\":[{\"name\":\"esm_constants\",\"kind\":\"Any\",\"default\":{\"type\":\"map\"}}]},{\"type\":\"model\",\"name\":\"request_value1\",\"properties\":[{\"name\":\"fill\",\"kind\":\"Any\",\"default\":\"none\"},{\"name\":\"_synced\",\"kind\":\"Any\",\"default\":null},{\"name\":\"_request_sync\",\"kind\":\"Any\",\"default\":0}]},{\"type\":\"model\",\"name\":\"holoviews.plotting.bokeh.raster.HoverModel\",\"properties\":[{\"name\":\"xy\",\"kind\":\"Any\",\"default\":null},{\"name\":\"data\",\"kind\":\"Any\",\"default\":null}]}]}};\n",
       "  var render_items = [{\"docid\":\"22a15d32-2add-409a-a967-baaed5562da3\",\"roots\":{\"1097f24a-b880-45d8-b957-6b1e5f442f3e\":\"be41580a-7610-40b5-a08a-77dcb17ac2b5\"},\"root_ids\":[\"1097f24a-b880-45d8-b957-6b1e5f442f3e\"]}];\n",
       "  var docs = Object.values(docs_json)\n",
       "  if (!docs) {\n",
       "    return\n",
       "  }\n",
       "  const py_version = docs[0].version.replace('rc', '-rc.').replace('.dev', '-dev.')\n",
       "  async function embed_document(root) {\n",
       "    var Bokeh = get_bokeh(root)\n",
       "    await Bokeh.embed.embed_items_notebook(docs_json, render_items);\n",
       "    for (const render_item of render_items) {\n",
       "      for (const root_id of render_item.root_ids) {\n",
       "\tconst id_el = document.getElementById(root_id)\n",
       "\tif (id_el.children.length && id_el.children[0].hasAttribute('data-root-id')) {\n",
       "\t  const root_el = id_el.children[0]\n",
       "\t  root_el.id = root_el.id + '-rendered'\n",
       "\t  for (const child of root_el.children) {\n",
       "            // Ensure JupyterLab does not capture keyboard shortcuts\n",
       "            // see: https://jupyterlab.readthedocs.io/en/4.1.x/extension/notebook.html#keyboard-interaction-model\n",
       "\t    child.setAttribute('data-lm-suppress-shortcuts', 'true')\n",
       "\t  }\n",
       "\t}\n",
       "      }\n",
       "    }\n",
       "  }\n",
       "  function get_bokeh(root) {\n",
       "    if (root.Bokeh === undefined) {\n",
       "      return null\n",
       "    } else if (root.Bokeh.version !== py_version) {\n",
       "      if (root.Bokeh.versions === undefined || !root.Bokeh.versions.has(py_version)) {\n",
       "\treturn null\n",
       "      }\n",
       "      return root.Bokeh.versions.get(py_version);\n",
       "    } else if (root.Bokeh.version === py_version) {\n",
       "      return root.Bokeh\n",
       "    }\n",
       "    return null\n",
       "  }\n",
       "  function is_loaded(root) {\n",
       "    var Bokeh = get_bokeh(root)\n",
       "    return (Bokeh != null && Bokeh.Panel !== undefined)\n",
       "  }\n",
       "  if (is_loaded(root)) {\n",
       "    embed_document(root);\n",
       "  } else {\n",
       "    var attempts = 0;\n",
       "    var timer = setInterval(function(root) {\n",
       "      if (is_loaded(root)) {\n",
       "        clearInterval(timer);\n",
       "        embed_document(root);\n",
       "      } else if (document.readyState == \"complete\") {\n",
       "        attempts++;\n",
       "        if (attempts > 200) {\n",
       "          clearInterval(timer);\n",
       "\t  var Bokeh = get_bokeh(root)\n",
       "\t  if (Bokeh == null || Bokeh.Panel == null) {\n",
       "            console.warn(\"Panel: ERROR: Unable to run Panel code because Bokeh or Panel library is missing\");\n",
       "\t  } else {\n",
       "\t    console.warn(\"Panel: WARNING: Attempting to render but not all required libraries could be resolved.\")\n",
       "\t    embed_document(root)\n",
       "\t  }\n",
       "        }\n",
       "      }\n",
       "    }, 25, root)\n",
       "  }\n",
       "})(window);</script>"
      ],
      "application/vnd.holoviews_exec.v0+json": ""
     },
     "metadata": {
      "application/vnd.holoviews_exec.v0+json": {
       "id": "1097f24a-b880-45d8-b957-6b1e5f442f3e"
      }
     },
     "output_type": "display_data",
     "jetTransient": {
      "display_id": null
     }
    },
    {
     "data": {
      "text/html": [
       "\n",
       "\n",
       "\n",
       "\n",
       "<div class=\"logo-block\">\n",
       "<a href=\"https://holoviews.org\" target=\"_blank\" title=\"HoloViews 1.21.0\">\n",
       "  <img src='data:image/png;base64,iVBORw0KGgoAAAANSUhEUgAAAEAAAABACAYAAACqaXHeAAAABHNCSVQICAgIfAhkiAAAAAlwSFlz\n",
       "AAAB+wAAAfsBxc2miwAAABl0RVh0U29mdHdhcmUAd3d3Lmlua3NjYXBlLm9yZ5vuPBoAAA6zSURB\n",
       "VHic7ZtpeFRVmsf/5966taWqUlUJ2UioBBJiIBAwCZtog9IOgjqACsogKtqirT2ttt069nQ/zDzt\n",
       "tI4+CrJIREFaFgWhBXpUNhHZQoKBkIUASchWla1S+3ar7r1nPkDaCAnZKoQP/D7mnPOe9/xy76n3\n",
       "nFSAW9ziFoPFNED2LLK5wcyBDObkb8ZkxuaoSYlI6ZcOKq1eWFdedqNzGHQBk9RMEwFAASkk0Xw3\n",
       "ETacDNi2vtvc7L0ROdw0AjoSotQVkKSvHQz/wRO1lScGModBFbDMaNRN1A4tUBCS3lk7BWhQkgpD\n",
       "lG4852/+7DWr1R3uHAZVQDsbh6ZPN7CyxUrCzJMRouusj0ipRwD2uKm0Zn5d2dFwzX1TCGhnmdGo\n",
       "G62Nna+isiUqhkzuKrkQaJlPEv5mFl2fvGg2t/VnzkEV8F5ioioOEWkLG86fvbpthynjdhXYZziQ\n",
       "x1hC9J2NFyi8vCTt91Fh04KGip0AaG9zuCk2wQCVyoNU3Hjezee9bq92duzzTmxsRJoy+jEZZZYo\n",
       "GTKJ6SJngdJqAfRzpze0+jHreUtPc7gpBLQnIYK6BYp/uGhw9YK688eu7v95ysgshcg9qSLMo3JC\n",
       "4jqLKQFBgdKDPoQ+Pltb8dUyQLpeDjeVgI6EgLIQFT5tEl3rn2losHVsexbZ3EyT9wE1uGdkIPcy\n",
       "BGxn8QUq1QrA5nqW5i2tLqvrrM9NK6AdkVIvL9E9bZL/oyfMVd/jqvc8LylzRBKDJSzIExwhQzuL\n",
       "QYGQj4rHfFTc8mUdu3E7yoLtbTe9gI4EqVgVkug2i5+uXGo919ixbRog+3fTbQ8qJe4ZOYNfMoTI\n",
       "OoshUNosgO60AisX15aeI2PSIp5KiFLI9ubb1vV3Qb2ltwLakUCDAkWX7/nHKRmmGIl9VgYsUhJm\n",
       "2NXjKYADtM1ygne9QQDIXlk49FBstMKx66D1v4+XuQr7vqTe0VcBHQlRWiOCbmmSYe2SqtL6q5rJ\n",
       "zsTb7lKx3FKOYC4DoqyS/B5bvLPxvD9Qtf6saxYLQGJErmDOdOMr/zo96km1nElr8bmPOBwI9COv\n",
       "HnFPRIwmkSOv9kcAS4heRsidOkpeWBgZM+UBrTFAXNYL5Vf2ii9c1trNzpYdaoVil3WIc+wdk+gQ\n",
       "noie3ecCcxt9ITcLAPWt/laGEO/9U6PmzZkenTtsSMQ8uYywJVW+grCstAvCIaAdArAsIWkRDDs/\n",
       "KzLm2YcjY1Lv0UdW73HabE9n6V66cxSzfEmuJssTpKGVp+0vHq73FwL46eOjpMpbRAnNmJFrGJNu\n",
       "Ukf9Yrz+3rghiumCKNXXWPhLYcjxGsIpoCMsIRoFITkW8AuyM8jC1+/QLx4bozCEJIq38+1rtpR6\n",
       "V/yzb8eBlRb3fo5l783N0CWolAzJHaVNzkrTzlEp2bQ2q3TC5gn6wpnoQAmwSiGh2GitnTmVMc5O\n",
       "UyfKWUKCIsU7+fZDKwqdT6DDpvkzAX4/+AMFjk0tDp5GRXLpQ2MUmhgDp5gxQT8+Y7hyPsMi8uxF\n",
       "71H0oebujHALECjFKaW9Lm68n18wXp2kVzIcABytD5iXFzg+WVXkegpAsOOYziqo0OkK76GyquC3\n",
       "ltZAzMhhqlSNmmWTE5T6e3IN05ITFLM4GdN0vtZ3ob8Jh1NAKXFbm5PtLU/eqTSlGjkNAJjdgn/N\n",
       "aedXa0tdi7+t9G0FIF49rtMSEgAs1kDLkTPO7ebm4IUWeyh1bKomXqlgMG6kJmHcSM0clYLJ8XtR\n",
       "1GTnbV3F6I5wCGikAb402npp1h1s7LQUZZSMIfALFOuL3UUrfnS8+rez7v9qcold5tilgHbO1fjK\n",
       "9ubb17u9oshxzMiUBKXWqJNxd+fqb0tLVs4lILFnK71H0Ind7uiPgACVcFJlrb0tV6DzxqqTIhUM\n",
       "CwDf1/rrVhTa33/3pGPxJYdQ2l2cbgVcQSosdx8uqnDtbGjh9SlDVSMNWhlnilfqZk42Th2ZpLpf\n",
       "xrHec5e815zrr0dfBZSwzkZfqsv+1FS1KUknUwPARVvItfKUY+cn57yP7qv07UE3p8B2uhUwLk09\n",
       "e0SCOrK+hbdYHYLjRIl71wWzv9jpEoeOHhGRrJAzyEyNiJuUqX0g2sBN5kGK6y2Blp5M3lsB9Qh4\n",
       "y2Ja6x6+i0ucmKgwMATwhSjdUu49tKrQ/pvN5d53ml2CGwCmJipmKjgmyuaXzNeL2a0AkQ01Th5j\n",
       "2DktO3Jyk8f9vcOBQHV94OK+fPumJmvQHxJoWkaKWq9Vs+yUsbq0zGT1I4RgeH2b5wef7+c7bl8F\n",
       "eKgoHVVZa8ZPEORzR6sT1BzDUAD/d9F78e2Tzv99v8D+fLVTqAKAsbGamKey1Mt9Ann4eH3gTXTz\n",
       "idWtAJ8PQWOk7NzSeQn/OTHDuEikVF1R4z8BQCy+6D1aWRfY0tTGG2OM8rRoPaeIj5ZHzJxszElN\n",
       "VM8K8JS5WOfv8mzRnQAKoEhmt8gyPM4lU9SmBK1MCQBnW4KONT86v1hZ1PbwSXPw4JWussVjtH9Y\n",
       "NCoiL9UoH/6PSu8jFrfY2t36erQHXLIEakMi1SydmzB31h3GGXFDFNPaK8Rme9B79Ixrd0WN+1ij\n",
       "NRQ/doRmuFLBkHSTOm5GruG+pFjFdAmorG4IXH1Qua6ASniclfFtDYt+oUjKipPrCQB7QBQ2lrgP\n",
       "fFzm+9XWUtcqJ3/5vDLDpJ79XHZk3u8nGZ42qlj1+ydtbxysCezrydp6ugmipNJ7WBPB5tydY0jP\n",
       "HaVNzs3QzeE4ZpTbI+ZbnSFPbVOw9vsfnVvqWnirPyCNGD08IlqtYkh2hjZ5dErEQzoNm+6ykyOt\n",
       "Lt5/PQEuSRRKo22VkydK+vvS1XEKlhCJAnsqvcVvH7f/ZU2R67eXbMEGAMiIV5oWZWiWvz5Fv2xG\n",
       "sjqNJQRvn3Rs2lji/lNP19VjAQDgD7FHhujZB9OGqYxRkZxixgRDVlqS6uEOFaJUVu0rPFzctrnF\n",
       "JqijImVp8dEKVWyUXDk92zAuMZ6bFwpBU1HrOw6AdhQgUooChb0+ItMbWJitSo5Ws3IAOGEOtL53\n",
       "0vHZih9sC4vtofZ7Qu6523V/fmGcds1TY3V36pUsBwAbSlxnVh2xLfAD/IAIMDf7XYIkNmXfpp2l\n",
       "18rkAJAy9HKFaIr/qULkeQQKy9zf1JgDB2uaeFNGijo5QsUyacNUUTOnGO42xSnv4oOwpDi1zYkc\n",
       "efUc3I5Gk6PhyTuVKaOGyLUAYPGIoY9Pu/atL/L92+4q9wbflRJ2Trpm/jPjdBtfnqB/dIThcl8A\n",
       "KG7hbRuKnb8qsQsVvVlTrwQAQMUlf3kwJI24Z4JhPMtcfng5GcH49GsrxJpGvvHIaeem2ma+KSjQ\n",
       "lIwUdYyCY8j4dE1KzijNnIP2llF2wcXNnsoapw9XxsgYAl6k+KzUXbi2yP3KR2ecf6z3BFsBICdW\n",
       "nvnIaG3eHybqX7vbpEqUMT+9OL4Qpe8VON7dXuFd39v19FoAABRVePbGGuXTszO0P7tu6lghUonE\n",
       "llRdrhArLvmKdh9u29jcFiRRkfLUxBiFNiqSU9icoZQHo5mYBI1MBgBH6wMNb+U7Pnw337H4gi1Y\n",
       "ciWs+uks3Z9fztUvfzxTm9Ne8XXkvQLHNytOOZeiD4e0PgkAIAYCYknKUNUDSXEKzdWNpnil7r4p\n",
       "xqkjTarZMtk/K8TQ6Qve78qqvXurGwIJqcOUKfUWHsm8KGvxSP68YudXq4pcj39X49uOK2X142O0\n",
       "Tz5/u/7TVybqH0rSya6ZBwD21/gubbrgWdDgEOx9WUhfBaC2ibcEBYm7a7x+ukrBMNcEZggyR0TE\n",
       "T8zUPjikQ4VosQZbTpS4vqizBKvqmvjsqnpfzaZyx9JPiz1/bfGKdgD45XB1zoIMzYbfTdS/NClB\n",
       "Gct0USiY3YL/g0LHy/uq/Ef6uo5+n0R/vyhp17Klpge763f8rMu6YU/zrn2nml+2WtH+Z+5IAAFc\n",
       "2bUTdTDOSNa9+cQY7YLsOIXhevEkCvzph7a8laecz/Un/z4/Ae04XeL3UQb57IwU9ZDr9UuKVajv\n",
       "nxp1+1UVIo/LjztZkKH59fO3G/JemqCfmaCRqbqbd90ZZ8FfjtkfAyD0J/9+C2h1hDwsSxvGjNDc\n",
       "b4zk5NfrSwiQblLHzZhg+Jf4aPlUwpDqkQqa9nimbt1/TDH8OitGMaQnj+RJS6B1fbF7SY1TqO5v\n",
       "/v0WAADl1f7zokgS7s7VT2DZ7pegUjBM7mjtiDZbcN4j0YrHH0rXpCtY0qPX0cVL0rv5jv/ZXend\n",
       "0u/EESYBAFBU4T4Qa5TflZOhTe7pmKpaP8kCVUVw1+yhXfJWvn1P3hnXi33JsTN6PnP3hHZ8Z3/h\n",
       "aLHzmkNPuPj7Bc/F/Q38CwjTpSwQXgE4Vmwry9tpfq/ZFgqFMy4AVDtCvi8rvMvOmv0N4YwbVgEA\n",
       "sPM72/KVnzfspmH7HQGCRLG2yL1+z8XwvPcdCbsAANh+xPzstgMtxeGKt+6MK3/tacfvwhWvIwMi\n",
       "oKEBtm0H7W+UVfkc/Y1V0BhoPlDr/w1w/eu1vjIgAgDg22OtX6/eYfnEz/focrZTHAFR+PSs56/7\n",
       "q32nwpjazxgwAQCwcU/T62t3WL7r6/jVRa6/byp1rei+Z98ZUAEAhEPHPc8fKnTU9nbgtnOe8h0l\n",
       "9hcGIqmODLQAHCy2Xti6v/XNRivf43f4fFvIteu854+VHnR7q9tfBlwAAGz+pnndB9vM26UebAe8\n",
       "SLHujPOTPVW+rwY+sxskAAC2HrA8t2Vvc7ffP1r9o+vwR2dcr92InIAbKKC1FZ5tB1tf+/G8p8sv\n",
       "N/9Q5zd/XR34LYCwV5JdccMEAMDBk45DH243r/X4xGvqxFa/GNpS7n6rwOwNWwHVE26oAADYurf1\n",
       "zx/utOzt+DMKYM0p17YtZZ5VNzqfsB2HewG1WXE8PoZ7gOclbTIvynZf9JV+fqZtfgs/8F/Nu5rB\n",
       "EIBmJ+8QRMmpU7EzGRsf2FzuePqYRbzh/zE26EwdrT10f6r6o8HOYzCJB9Dpff8tbnGLG8L/A/WE\n",
       "roTBs2RqAAAAAElFTkSuQmCC' style='height:25px; border-radius:12px; display: inline-block; float: left; vertical-align: middle'></img>\n",
       "</a>\n",
       "\n",
       "\n",
       "<a href=\"https://bokeh.org\" target=\"_blank\" title=\"Bokeh 3.6.2\">\n",
       "  <img src='data:image/png;base64,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'\n",
       "       style='height:15px; border-radius:12px; display: inline-block; float: left'>\n",
       "  </img>\n",
       "</a>\n",
       "\n",
       "\n",
       "\n",
       "\n",
       "\n",
       "\n",
       "\n",
       "<span style=\"float: left; margin-left: 5px; line-height: 15px; cursor: pointer; opacity: 0.7;\"\n",
       "      onmouseover=\"this.style.opacity='1'\"\n",
       "      onmouseout=\"this.style.opacity='0.7'\"\n",
       "      title=\"Extension loaded. This cell output contains code that enables plot interactivity, it should not be removed.\">ⓘ</span>\n",
       "</div>\n",
       "\n"
      ]
     },
     "metadata": {},
     "output_type": "display_data",
     "jetTransient": {
      "display_id": null
     }
    },
    {
     "data": {
      "text/html": [
       "<script type=\"esms-options\">{\"shimMode\": true}</script><style>*[data-root-id],\n",
       "*[data-root-id] > * {\n",
       "  box-sizing: border-box;\n",
       "  font-family: var(--jp-ui-font-family);\n",
       "  font-size: var(--jp-ui-font-size1);\n",
       "  color: var(--vscode-editor-foreground, var(--jp-ui-font-color1));\n",
       "}\n",
       "\n",
       "/* Override VSCode background color */\n",
       ".cell-output-ipywidget-background:has(\n",
       "    > .cell-output-ipywidget-background > .lm-Widget > *[data-root-id]\n",
       "  ),\n",
       ".cell-output-ipywidget-background:has(> .lm-Widget > *[data-root-id]) {\n",
       "  background-color: transparent !important;\n",
       "}\n",
       "</style>"
      ]
     },
     "metadata": {},
     "output_type": "display_data",
     "jetTransient": {
      "display_id": null
     }
    },
    {
     "data": {
      "application/javascript": "(function(root) {\n  function now() {\n    return new Date();\n  }\n\n  const force = false;\n  const py_version = '3.6.2'.replace('rc', '-rc.').replace('.dev', '-dev.');\n  const reloading = true;\n  const Bokeh = root.Bokeh;\n\n  // Set a timeout for this load but only if we are not already initializing\n  if (typeof (root._bokeh_timeout) === \"undefined\" || (force || !root._bokeh_is_initializing)) {\n    root._bokeh_timeout = Date.now() + 5000;\n    root._bokeh_failed_load = false;\n  }\n\n  function run_callbacks() {\n    try {\n      root._bokeh_onload_callbacks.forEach(function(callback) {\n        if (callback != null)\n          callback();\n      });\n    } finally {\n      delete root._bokeh_onload_callbacks;\n    }\n    console.debug(\"Bokeh: all callbacks have finished\");\n  }\n\n  function load_libs(css_urls, js_urls, js_modules, js_exports, callback) {\n    if (css_urls == null) css_urls = [];\n    if (js_urls == null) js_urls = [];\n    if (js_modules == null) js_modules = [];\n    if (js_exports == null) js_exports = {};\n\n    root._bokeh_onload_callbacks.push(callback);\n\n    if (root._bokeh_is_loading > 0) {\n      // Don't load bokeh if it is still initializing\n      console.debug(\"Bokeh: BokehJS is being loaded, scheduling callback at\", now());\n      return null;\n    } else if (js_urls.length === 0 && js_modules.length === 0 && Object.keys(js_exports).length === 0) {\n      // There is nothing to load\n      run_callbacks();\n      return null;\n    }\n\n    function on_load() {\n      root._bokeh_is_loading--;\n      if (root._bokeh_is_loading === 0) {\n        console.debug(\"Bokeh: all BokehJS libraries/stylesheets loaded\");\n        run_callbacks()\n      }\n    }\n    window._bokeh_on_load = on_load\n\n    function on_error(e) {\n      const src_el = e.srcElement\n      console.error(\"failed to load \" + (src_el.href || src_el.src));\n    }\n\n    const skip = [];\n    if (window.requirejs) {\n      window.requirejs.config({'packages': {}, 'paths': {}, 'shim': {}});\n      root._bokeh_is_loading = css_urls.length + 0;\n    } else {\n      root._bokeh_is_loading = css_urls.length + js_urls.length + js_modules.length + Object.keys(js_exports).length;\n    }\n\n    const existing_stylesheets = []\n    const links = document.getElementsByTagName('link')\n    for (let i = 0; i < links.length; i++) {\n      const link = links[i]\n      if (link.href != null) {\n        existing_stylesheets.push(link.href)\n      }\n    }\n    for (let i = 0; i < css_urls.length; i++) {\n      const url = css_urls[i];\n      const escaped = encodeURI(url)\n      if (existing_stylesheets.indexOf(escaped) !== -1) {\n        on_load()\n        continue;\n      }\n      const element = document.createElement(\"link\");\n      element.onload = on_load;\n      element.onerror = on_error;\n      element.rel = \"stylesheet\";\n      element.type = \"text/css\";\n      element.href = url;\n      console.debug(\"Bokeh: injecting link tag for BokehJS stylesheet: \", url);\n      document.body.appendChild(element);\n    }    var existing_scripts = []\n    const scripts = document.getElementsByTagName('script')\n    for (let i = 0; i < scripts.length; i++) {\n      var script = scripts[i]\n      if (script.src != null) {\n        existing_scripts.push(script.src)\n      }\n    }\n    for (let i = 0; i < js_urls.length; i++) {\n      const url = js_urls[i];\n      const escaped = encodeURI(url)\n      if (skip.indexOf(escaped) !== -1 || existing_scripts.indexOf(escaped) !== -1) {\n        if (!window.requirejs) {\n          on_load();\n        }\n        continue;\n      }\n      const element = document.createElement('script');\n      element.onload = on_load;\n      element.onerror = on_error;\n      element.async = false;\n      element.src = url;\n      console.debug(\"Bokeh: injecting script tag for BokehJS library: \", url);\n      document.head.appendChild(element);\n    }\n    for (let i = 0; i < js_modules.length; i++) {\n      const url = js_modules[i];\n      const escaped = encodeURI(url)\n      if (skip.indexOf(escaped) !== -1 || existing_scripts.indexOf(escaped) !== -1) {\n        if (!window.requirejs) {\n          on_load();\n        }\n        continue;\n      }\n      var element = document.createElement('script');\n      element.onload = on_load;\n      element.onerror = on_error;\n      element.async = false;\n      element.src = url;\n      element.type = \"module\";\n      console.debug(\"Bokeh: injecting script tag for BokehJS library: \", url);\n      document.head.appendChild(element);\n    }\n    for (const name in js_exports) {\n      const url = js_exports[name];\n      const escaped = encodeURI(url)\n      if (skip.indexOf(escaped) >= 0 || root[name] != null) {\n        if (!window.requirejs) {\n          on_load();\n        }\n        continue;\n      }\n      var element = document.createElement('script');\n      element.onerror = on_error;\n      element.async = false;\n      element.type = \"module\";\n      console.debug(\"Bokeh: injecting script tag for BokehJS library: \", url);\n      element.textContent = `\n      import ${name} from \"${url}\"\n      window.${name} = ${name}\n      window._bokeh_on_load()\n      `\n      document.head.appendChild(element);\n    }\n    if (!js_urls.length && !js_modules.length) {\n      on_load()\n    }\n  };\n\n  function inject_raw_css(css) {\n    const element = document.createElement(\"style\");\n    element.appendChild(document.createTextNode(css));\n    document.body.appendChild(element);\n  }\n\n  const js_urls = [\"https://cdn.holoviz.org/panel/1.7.0/dist/bundled/reactiveesm/es-module-shims@^1.10.0/dist/es-module-shims.min.js\"];\n  const js_modules = [];\n  const js_exports = {};\n  const css_urls = [];\n  const inline_js = [    function(Bokeh) {\n      Bokeh.set_log_level(\"info\");\n    },\nfunction(Bokeh) {} // ensure no trailing comma for IE\n  ];\n\n  function run_inline_js() {\n    if ((root.Bokeh !== undefined) || (force === true)) {\n      for (let i = 0; i < inline_js.length; i++) {\n        try {\n          inline_js[i].call(root, root.Bokeh);\n        } catch(e) {\n          if (!reloading) {\n            throw e;\n          }\n        }\n      }\n      // Cache old bokeh versions\n      if (Bokeh != undefined && !reloading) {\n        var NewBokeh = root.Bokeh;\n        if (Bokeh.versions === undefined) {\n          Bokeh.versions = new Map();\n        }\n        if (NewBokeh.version !== Bokeh.version) {\n          Bokeh.versions.set(NewBokeh.version, NewBokeh)\n        }\n        root.Bokeh = Bokeh;\n      }\n    } else if (Date.now() < root._bokeh_timeout) {\n      setTimeout(run_inline_js, 100);\n    } else if (!root._bokeh_failed_load) {\n      console.log(\"Bokeh: BokehJS failed to load within specified timeout.\");\n      root._bokeh_failed_load = true;\n    }\n    root._bokeh_is_initializing = false\n  }\n\n  function load_or_wait() {\n    // Implement a backoff loop that tries to ensure we do not load multiple\n    // versions of Bokeh and its dependencies at the same time.\n    // In recent versions we use the root._bokeh_is_initializing flag\n    // to determine whether there is an ongoing attempt to initialize\n    // bokeh, however for backward compatibility we also try to ensure\n    // that we do not start loading a newer (Panel>=1.0 and Bokeh>3) version\n    // before older versions are fully initialized.\n    if (root._bokeh_is_initializing && Date.now() > root._bokeh_timeout) {\n      // If the timeout and bokeh was not successfully loaded we reset\n      // everything and try loading again\n      root._bokeh_timeout = Date.now() + 5000;\n      root._bokeh_is_initializing = false;\n      root._bokeh_onload_callbacks = undefined;\n      root._bokeh_is_loading = 0\n      console.log(\"Bokeh: BokehJS was loaded multiple times but one version failed to initialize.\");\n      load_or_wait();\n    } else if (root._bokeh_is_initializing || (typeof root._bokeh_is_initializing === \"undefined\" && root._bokeh_onload_callbacks !== undefined)) {\n      setTimeout(load_or_wait, 100);\n    } else {\n      root._bokeh_is_initializing = true\n      root._bokeh_onload_callbacks = []\n      const bokeh_loaded = root.Bokeh != null && (root.Bokeh.version === py_version || (root.Bokeh.versions !== undefined && root.Bokeh.versions.has(py_version)));\n      if (!reloading && !bokeh_loaded) {\n        if (root.Bokeh) {\n          root.Bokeh = undefined;\n        }\n        console.debug(\"Bokeh: BokehJS not loaded, scheduling load and callback at\", now());\n      }\n      load_libs(css_urls, js_urls, js_modules, js_exports, function() {\n        console.debug(\"Bokeh: BokehJS plotting callback run at\", now());\n        run_inline_js();\n      });\n    }\n  }\n  // Give older versions of the autoload script a head-start to ensure\n  // they initialize before we start loading newer version.\n  setTimeout(load_or_wait, 100)\n}(window));",
      "application/vnd.holoviews_load.v0+json": "(function(root) {\n  function now() {\n    return new Date();\n  }\n\n  const force = false;\n  const py_version = '3.6.2'.replace('rc', '-rc.').replace('.dev', '-dev.');\n  const reloading = true;\n  const Bokeh = root.Bokeh;\n\n  // Set a timeout for this load but only if we are not already initializing\n  if (typeof (root._bokeh_timeout) === \"undefined\" || (force || !root._bokeh_is_initializing)) {\n    root._bokeh_timeout = Date.now() + 5000;\n    root._bokeh_failed_load = false;\n  }\n\n  function run_callbacks() {\n    try {\n      root._bokeh_onload_callbacks.forEach(function(callback) {\n        if (callback != null)\n          callback();\n      });\n    } finally {\n      delete root._bokeh_onload_callbacks;\n    }\n    console.debug(\"Bokeh: all callbacks have finished\");\n  }\n\n  function load_libs(css_urls, js_urls, js_modules, js_exports, callback) {\n    if (css_urls == null) css_urls = [];\n    if (js_urls == null) js_urls = [];\n    if (js_modules == null) js_modules = [];\n    if (js_exports == null) js_exports = {};\n\n    root._bokeh_onload_callbacks.push(callback);\n\n    if (root._bokeh_is_loading > 0) {\n      // Don't load bokeh if it is still initializing\n      console.debug(\"Bokeh: BokehJS is being loaded, scheduling callback at\", now());\n      return null;\n    } else if (js_urls.length === 0 && js_modules.length === 0 && Object.keys(js_exports).length === 0) {\n      // There is nothing to load\n      run_callbacks();\n      return null;\n    }\n\n    function on_load() {\n      root._bokeh_is_loading--;\n      if (root._bokeh_is_loading === 0) {\n        console.debug(\"Bokeh: all BokehJS libraries/stylesheets loaded\");\n        run_callbacks()\n      }\n    }\n    window._bokeh_on_load = on_load\n\n    function on_error(e) {\n      const src_el = e.srcElement\n      console.error(\"failed to load \" + (src_el.href || src_el.src));\n    }\n\n    const skip = [];\n    if (window.requirejs) {\n      window.requirejs.config({'packages': {}, 'paths': {}, 'shim': {}});\n      root._bokeh_is_loading = css_urls.length + 0;\n    } else {\n      root._bokeh_is_loading = css_urls.length + js_urls.length + js_modules.length + Object.keys(js_exports).length;\n    }\n\n    const existing_stylesheets = []\n    const links = document.getElementsByTagName('link')\n    for (let i = 0; i < links.length; i++) {\n      const link = links[i]\n      if (link.href != null) {\n        existing_stylesheets.push(link.href)\n      }\n    }\n    for (let i = 0; i < css_urls.length; i++) {\n      const url = css_urls[i];\n      const escaped = encodeURI(url)\n      if (existing_stylesheets.indexOf(escaped) !== -1) {\n        on_load()\n        continue;\n      }\n      const element = document.createElement(\"link\");\n      element.onload = on_load;\n      element.onerror = on_error;\n      element.rel = \"stylesheet\";\n      element.type = \"text/css\";\n      element.href = url;\n      console.debug(\"Bokeh: injecting link tag for BokehJS stylesheet: \", url);\n      document.body.appendChild(element);\n    }    var existing_scripts = []\n    const scripts = document.getElementsByTagName('script')\n    for (let i = 0; i < scripts.length; i++) {\n      var script = scripts[i]\n      if (script.src != null) {\n        existing_scripts.push(script.src)\n      }\n    }\n    for (let i = 0; i < js_urls.length; i++) {\n      const url = js_urls[i];\n      const escaped = encodeURI(url)\n      if (skip.indexOf(escaped) !== -1 || existing_scripts.indexOf(escaped) !== -1) {\n        if (!window.requirejs) {\n          on_load();\n        }\n        continue;\n      }\n      const element = document.createElement('script');\n      element.onload = on_load;\n      element.onerror = on_error;\n      element.async = false;\n      element.src = url;\n      console.debug(\"Bokeh: injecting script tag for BokehJS library: \", url);\n      document.head.appendChild(element);\n    }\n    for (let i = 0; i < js_modules.length; i++) {\n      const url = js_modules[i];\n      const escaped = encodeURI(url)\n      if (skip.indexOf(escaped) !== -1 || existing_scripts.indexOf(escaped) !== -1) {\n        if (!window.requirejs) {\n          on_load();\n        }\n        continue;\n      }\n      var element = document.createElement('script');\n      element.onload = on_load;\n      element.onerror = on_error;\n      element.async = false;\n      element.src = url;\n      element.type = \"module\";\n      console.debug(\"Bokeh: injecting script tag for BokehJS library: \", url);\n      document.head.appendChild(element);\n    }\n    for (const name in js_exports) {\n      const url = js_exports[name];\n      const escaped = encodeURI(url)\n      if (skip.indexOf(escaped) >= 0 || root[name] != null) {\n        if (!window.requirejs) {\n          on_load();\n        }\n        continue;\n      }\n      var element = document.createElement('script');\n      element.onerror = on_error;\n      element.async = false;\n      element.type = \"module\";\n      console.debug(\"Bokeh: injecting script tag for BokehJS library: \", url);\n      element.textContent = `\n      import ${name} from \"${url}\"\n      window.${name} = ${name}\n      window._bokeh_on_load()\n      `\n      document.head.appendChild(element);\n    }\n    if (!js_urls.length && !js_modules.length) {\n      on_load()\n    }\n  };\n\n  function inject_raw_css(css) {\n    const element = document.createElement(\"style\");\n    element.appendChild(document.createTextNode(css));\n    document.body.appendChild(element);\n  }\n\n  const js_urls = [\"https://cdn.holoviz.org/panel/1.7.0/dist/bundled/reactiveesm/es-module-shims@^1.10.0/dist/es-module-shims.min.js\"];\n  const js_modules = [];\n  const js_exports = {};\n  const css_urls = [];\n  const inline_js = [    function(Bokeh) {\n      Bokeh.set_log_level(\"info\");\n    },\nfunction(Bokeh) {} // ensure no trailing comma for IE\n  ];\n\n  function run_inline_js() {\n    if ((root.Bokeh !== undefined) || (force === true)) {\n      for (let i = 0; i < inline_js.length; i++) {\n        try {\n          inline_js[i].call(root, root.Bokeh);\n        } catch(e) {\n          if (!reloading) {\n            throw e;\n          }\n        }\n      }\n      // Cache old bokeh versions\n      if (Bokeh != undefined && !reloading) {\n        var NewBokeh = root.Bokeh;\n        if (Bokeh.versions === undefined) {\n          Bokeh.versions = new Map();\n        }\n        if (NewBokeh.version !== Bokeh.version) {\n          Bokeh.versions.set(NewBokeh.version, NewBokeh)\n        }\n        root.Bokeh = Bokeh;\n      }\n    } else if (Date.now() < root._bokeh_timeout) {\n      setTimeout(run_inline_js, 100);\n    } else if (!root._bokeh_failed_load) {\n      console.log(\"Bokeh: BokehJS failed to load within specified timeout.\");\n      root._bokeh_failed_load = true;\n    }\n    root._bokeh_is_initializing = false\n  }\n\n  function load_or_wait() {\n    // Implement a backoff loop that tries to ensure we do not load multiple\n    // versions of Bokeh and its dependencies at the same time.\n    // In recent versions we use the root._bokeh_is_initializing flag\n    // to determine whether there is an ongoing attempt to initialize\n    // bokeh, however for backward compatibility we also try to ensure\n    // that we do not start loading a newer (Panel>=1.0 and Bokeh>3) version\n    // before older versions are fully initialized.\n    if (root._bokeh_is_initializing && Date.now() > root._bokeh_timeout) {\n      // If the timeout and bokeh was not successfully loaded we reset\n      // everything and try loading again\n      root._bokeh_timeout = Date.now() + 5000;\n      root._bokeh_is_initializing = false;\n      root._bokeh_onload_callbacks = undefined;\n      root._bokeh_is_loading = 0\n      console.log(\"Bokeh: BokehJS was loaded multiple times but one version failed to initialize.\");\n      load_or_wait();\n    } else if (root._bokeh_is_initializing || (typeof root._bokeh_is_initializing === \"undefined\" && root._bokeh_onload_callbacks !== undefined)) {\n      setTimeout(load_or_wait, 100);\n    } else {\n      root._bokeh_is_initializing = true\n      root._bokeh_onload_callbacks = []\n      const bokeh_loaded = root.Bokeh != null && (root.Bokeh.version === py_version || (root.Bokeh.versions !== undefined && root.Bokeh.versions.has(py_version)));\n      if (!reloading && !bokeh_loaded) {\n        if (root.Bokeh) {\n          root.Bokeh = undefined;\n        }\n        console.debug(\"Bokeh: BokehJS not loaded, scheduling load and callback at\", now());\n      }\n      load_libs(css_urls, js_urls, js_modules, js_exports, function() {\n        console.debug(\"Bokeh: BokehJS plotting callback run at\", now());\n        run_inline_js();\n      });\n    }\n  }\n  // Give older versions of the autoload script a head-start to ensure\n  // they initialize before we start loading newer version.\n  setTimeout(load_or_wait, 100)\n}(window));"
     },
     "metadata": {},
     "output_type": "display_data",
     "jetTransient": {
      "display_id": null
     }
    },
    {
     "data": {
      "application/vnd.holoviews_load.v0+json": "\nif ((window.PyViz === undefined) || (window.PyViz instanceof HTMLElement)) {\n  window.PyViz = {comms: {}, comm_status:{}, kernels:{}, receivers: {}, plot_index: []}\n}\n\n\n    function JupyterCommManager() {\n    }\n\n    JupyterCommManager.prototype.register_target = function(plot_id, comm_id, msg_handler) {\n      if (window.comm_manager || ((window.Jupyter !== undefined) && (Jupyter.notebook.kernel != null))) {\n        var comm_manager = window.comm_manager || Jupyter.notebook.kernel.comm_manager;\n        comm_manager.register_target(comm_id, function(comm) {\n          comm.on_msg(msg_handler);\n        });\n      } else if ((plot_id in window.PyViz.kernels) && (window.PyViz.kernels[plot_id])) {\n        window.PyViz.kernels[plot_id].registerCommTarget(comm_id, function(comm) {\n          comm.onMsg = msg_handler;\n        });\n      } else if (typeof google != 'undefined' && google.colab.kernel != null) {\n        google.colab.kernel.comms.registerTarget(comm_id, (comm) => {\n          var messages = comm.messages[Symbol.asyncIterator]();\n          function processIteratorResult(result) {\n            var message = result.value;\n            console.log(message)\n            var content = {data: message.data, comm_id};\n            var buffers = []\n            for (var buffer of message.buffers || []) {\n              buffers.push(new DataView(buffer))\n            }\n            var metadata = message.metadata || {};\n            var msg = {content, buffers, metadata}\n            msg_handler(msg);\n            return messages.next().then(processIteratorResult);\n          }\n          return messages.next().then(processIteratorResult);\n        })\n      }\n    }\n\n    JupyterCommManager.prototype.get_client_comm = function(plot_id, comm_id, msg_handler) {\n      if (comm_id in window.PyViz.comms) {\n        return window.PyViz.comms[comm_id];\n      } else if (window.comm_manager || ((window.Jupyter !== undefined) && (Jupyter.notebook.kernel != null))) {\n        var comm_manager = window.comm_manager || Jupyter.notebook.kernel.comm_manager;\n        var comm = comm_manager.new_comm(comm_id, {}, {}, {}, comm_id);\n        if (msg_handler) {\n          comm.on_msg(msg_handler);\n        }\n      } else if ((plot_id in window.PyViz.kernels) && (window.PyViz.kernels[plot_id])) {\n        var comm = window.PyViz.kernels[plot_id].connectToComm(comm_id);\n        comm.open();\n        if (msg_handler) {\n          comm.onMsg = msg_handler;\n        }\n      } else if (typeof google != 'undefined' && google.colab.kernel != null) {\n        var comm_promise = google.colab.kernel.comms.open(comm_id)\n        comm_promise.then((comm) => {\n          window.PyViz.comms[comm_id] = comm;\n          if (msg_handler) {\n            var messages = comm.messages[Symbol.asyncIterator]();\n            function processIteratorResult(result) {\n              var message = result.value;\n              var content = {data: message.data};\n              var metadata = message.metadata || {comm_id};\n              var msg = {content, metadata}\n              msg_handler(msg);\n              return messages.next().then(processIteratorResult);\n            }\n            return messages.next().then(processIteratorResult);\n          }\n        }) \n        var sendClosure = (data, metadata, buffers, disposeOnDone) => {\n          return comm_promise.then((comm) => {\n            comm.send(data, metadata, buffers, disposeOnDone);\n          });\n        };\n        var comm = {\n          send: sendClosure\n        };\n      }\n      window.PyViz.comms[comm_id] = comm;\n      return comm;\n    }\n    window.PyViz.comm_manager = new JupyterCommManager();\n    \n\n\nvar JS_MIME_TYPE = 'application/javascript';\nvar HTML_MIME_TYPE = 'text/html';\nvar EXEC_MIME_TYPE = 'application/vnd.holoviews_exec.v0+json';\nvar CLASS_NAME = 'output';\n\n/**\n * Render data to the DOM node\n */\nfunction render(props, node) {\n  var div = document.createElement(\"div\");\n  var script = document.createElement(\"script\");\n  node.appendChild(div);\n  node.appendChild(script);\n}\n\n/**\n * Handle when a new output is added\n */\nfunction handle_add_output(event, handle) {\n  var output_area = handle.output_area;\n  var output = handle.output;\n  if ((output.data == undefined) || (!output.data.hasOwnProperty(EXEC_MIME_TYPE))) {\n    return\n  }\n  var id = output.metadata[EXEC_MIME_TYPE][\"id\"];\n  var toinsert = output_area.element.find(\".\" + CLASS_NAME.split(' ')[0]);\n  if (id !== undefined) {\n    var nchildren = toinsert.length;\n    var html_node = toinsert[nchildren-1].children[0];\n    html_node.innerHTML = output.data[HTML_MIME_TYPE];\n    var scripts = [];\n    var nodelist = html_node.querySelectorAll(\"script\");\n    for (var i in nodelist) {\n      if (nodelist.hasOwnProperty(i)) {\n        scripts.push(nodelist[i])\n      }\n    }\n\n    scripts.forEach( function (oldScript) {\n      var newScript = document.createElement(\"script\");\n      var attrs = [];\n      var nodemap = oldScript.attributes;\n      for (var j in nodemap) {\n        if (nodemap.hasOwnProperty(j)) {\n          attrs.push(nodemap[j])\n        }\n      }\n      attrs.forEach(function(attr) { newScript.setAttribute(attr.name, attr.value) });\n      newScript.appendChild(document.createTextNode(oldScript.innerHTML));\n      oldScript.parentNode.replaceChild(newScript, oldScript);\n    });\n    if (JS_MIME_TYPE in output.data) {\n      toinsert[nchildren-1].children[1].textContent = output.data[JS_MIME_TYPE];\n    }\n    output_area._hv_plot_id = id;\n    if ((window.Bokeh !== undefined) && (id in Bokeh.index)) {\n      window.PyViz.plot_index[id] = Bokeh.index[id];\n    } else {\n      window.PyViz.plot_index[id] = null;\n    }\n  } else if (output.metadata[EXEC_MIME_TYPE][\"server_id\"] !== undefined) {\n    var bk_div = document.createElement(\"div\");\n    bk_div.innerHTML = output.data[HTML_MIME_TYPE];\n    var script_attrs = bk_div.children[0].attributes;\n    for (var i = 0; i < script_attrs.length; i++) {\n      toinsert[toinsert.length - 1].childNodes[1].setAttribute(script_attrs[i].name, script_attrs[i].value);\n    }\n    // store reference to server id on output_area\n    output_area._bokeh_server_id = output.metadata[EXEC_MIME_TYPE][\"server_id\"];\n  }\n}\n\n/**\n * Handle when an output is cleared or removed\n */\nfunction handle_clear_output(event, handle) {\n  var id = handle.cell.output_area._hv_plot_id;\n  var server_id = handle.cell.output_area._bokeh_server_id;\n  if (((id === undefined) || !(id in PyViz.plot_index)) && (server_id !== undefined)) { return; }\n  var comm = window.PyViz.comm_manager.get_client_comm(\"hv-extension-comm\", \"hv-extension-comm\", function () {});\n  if (server_id !== null) {\n    comm.send({event_type: 'server_delete', 'id': server_id});\n    return;\n  } else if (comm !== null) {\n    comm.send({event_type: 'delete', 'id': id});\n  }\n  delete PyViz.plot_index[id];\n  if ((window.Bokeh !== undefined) & (id in window.Bokeh.index)) {\n    var doc = window.Bokeh.index[id].model.document\n    doc.clear();\n    const i = window.Bokeh.documents.indexOf(doc);\n    if (i > -1) {\n      window.Bokeh.documents.splice(i, 1);\n    }\n  }\n}\n\n/**\n * Handle kernel restart event\n */\nfunction handle_kernel_cleanup(event, handle) {\n  delete PyViz.comms[\"hv-extension-comm\"];\n  window.PyViz.plot_index = {}\n}\n\n/**\n * Handle update_display_data messages\n */\nfunction handle_update_output(event, handle) {\n  handle_clear_output(event, {cell: {output_area: handle.output_area}})\n  handle_add_output(event, handle)\n}\n\nfunction register_renderer(events, OutputArea) {\n  function append_mime(data, metadata, element) {\n    // create a DOM node to render to\n    var toinsert = this.create_output_subarea(\n    metadata,\n    CLASS_NAME,\n    EXEC_MIME_TYPE\n    );\n    this.keyboard_manager.register_events(toinsert);\n    // Render to node\n    var props = {data: data, metadata: metadata[EXEC_MIME_TYPE]};\n    render(props, toinsert[0]);\n    element.append(toinsert);\n    return toinsert\n  }\n\n  events.on('output_added.OutputArea', handle_add_output);\n  events.on('output_updated.OutputArea', handle_update_output);\n  events.on('clear_output.CodeCell', handle_clear_output);\n  events.on('delete.Cell', handle_clear_output);\n  events.on('kernel_ready.Kernel', handle_kernel_cleanup);\n\n  OutputArea.prototype.register_mime_type(EXEC_MIME_TYPE, append_mime, {\n    safe: true,\n    index: 0\n  });\n}\n\nif (window.Jupyter !== undefined) {\n  try {\n    var events = require('base/js/events');\n    var OutputArea = require('notebook/js/outputarea').OutputArea;\n    if (OutputArea.prototype.mime_types().indexOf(EXEC_MIME_TYPE) == -1) {\n      register_renderer(events, OutputArea);\n    }\n  } catch(err) {\n  }\n}\n",
      "application/javascript": "\nif ((window.PyViz === undefined) || (window.PyViz instanceof HTMLElement)) {\n  window.PyViz = {comms: {}, comm_status:{}, kernels:{}, receivers: {}, plot_index: []}\n}\n\n\n    function JupyterCommManager() {\n    }\n\n    JupyterCommManager.prototype.register_target = function(plot_id, comm_id, msg_handler) {\n      if (window.comm_manager || ((window.Jupyter !== undefined) && (Jupyter.notebook.kernel != null))) {\n        var comm_manager = window.comm_manager || Jupyter.notebook.kernel.comm_manager;\n        comm_manager.register_target(comm_id, function(comm) {\n          comm.on_msg(msg_handler);\n        });\n      } else if ((plot_id in window.PyViz.kernels) && (window.PyViz.kernels[plot_id])) {\n        window.PyViz.kernels[plot_id].registerCommTarget(comm_id, function(comm) {\n          comm.onMsg = msg_handler;\n        });\n      } else if (typeof google != 'undefined' && google.colab.kernel != null) {\n        google.colab.kernel.comms.registerTarget(comm_id, (comm) => {\n          var messages = comm.messages[Symbol.asyncIterator]();\n          function processIteratorResult(result) {\n            var message = result.value;\n            console.log(message)\n            var content = {data: message.data, comm_id};\n            var buffers = []\n            for (var buffer of message.buffers || []) {\n              buffers.push(new DataView(buffer))\n            }\n            var metadata = message.metadata || {};\n            var msg = {content, buffers, metadata}\n            msg_handler(msg);\n            return messages.next().then(processIteratorResult);\n          }\n          return messages.next().then(processIteratorResult);\n        })\n      }\n    }\n\n    JupyterCommManager.prototype.get_client_comm = function(plot_id, comm_id, msg_handler) {\n      if (comm_id in window.PyViz.comms) {\n        return window.PyViz.comms[comm_id];\n      } else if (window.comm_manager || ((window.Jupyter !== undefined) && (Jupyter.notebook.kernel != null))) {\n        var comm_manager = window.comm_manager || Jupyter.notebook.kernel.comm_manager;\n        var comm = comm_manager.new_comm(comm_id, {}, {}, {}, comm_id);\n        if (msg_handler) {\n          comm.on_msg(msg_handler);\n        }\n      } else if ((plot_id in window.PyViz.kernels) && (window.PyViz.kernels[plot_id])) {\n        var comm = window.PyViz.kernels[plot_id].connectToComm(comm_id);\n        comm.open();\n        if (msg_handler) {\n          comm.onMsg = msg_handler;\n        }\n      } else if (typeof google != 'undefined' && google.colab.kernel != null) {\n        var comm_promise = google.colab.kernel.comms.open(comm_id)\n        comm_promise.then((comm) => {\n          window.PyViz.comms[comm_id] = comm;\n          if (msg_handler) {\n            var messages = comm.messages[Symbol.asyncIterator]();\n            function processIteratorResult(result) {\n              var message = result.value;\n              var content = {data: message.data};\n              var metadata = message.metadata || {comm_id};\n              var msg = {content, metadata}\n              msg_handler(msg);\n              return messages.next().then(processIteratorResult);\n            }\n            return messages.next().then(processIteratorResult);\n          }\n        }) \n        var sendClosure = (data, metadata, buffers, disposeOnDone) => {\n          return comm_promise.then((comm) => {\n            comm.send(data, metadata, buffers, disposeOnDone);\n          });\n        };\n        var comm = {\n          send: sendClosure\n        };\n      }\n      window.PyViz.comms[comm_id] = comm;\n      return comm;\n    }\n    window.PyViz.comm_manager = new JupyterCommManager();\n    \n\n\nvar JS_MIME_TYPE = 'application/javascript';\nvar HTML_MIME_TYPE = 'text/html';\nvar EXEC_MIME_TYPE = 'application/vnd.holoviews_exec.v0+json';\nvar CLASS_NAME = 'output';\n\n/**\n * Render data to the DOM node\n */\nfunction render(props, node) {\n  var div = document.createElement(\"div\");\n  var script = document.createElement(\"script\");\n  node.appendChild(div);\n  node.appendChild(script);\n}\n\n/**\n * Handle when a new output is added\n */\nfunction handle_add_output(event, handle) {\n  var output_area = handle.output_area;\n  var output = handle.output;\n  if ((output.data == undefined) || (!output.data.hasOwnProperty(EXEC_MIME_TYPE))) {\n    return\n  }\n  var id = output.metadata[EXEC_MIME_TYPE][\"id\"];\n  var toinsert = output_area.element.find(\".\" + CLASS_NAME.split(' ')[0]);\n  if (id !== undefined) {\n    var nchildren = toinsert.length;\n    var html_node = toinsert[nchildren-1].children[0];\n    html_node.innerHTML = output.data[HTML_MIME_TYPE];\n    var scripts = [];\n    var nodelist = html_node.querySelectorAll(\"script\");\n    for (var i in nodelist) {\n      if (nodelist.hasOwnProperty(i)) {\n        scripts.push(nodelist[i])\n      }\n    }\n\n    scripts.forEach( function (oldScript) {\n      var newScript = document.createElement(\"script\");\n      var attrs = [];\n      var nodemap = oldScript.attributes;\n      for (var j in nodemap) {\n        if (nodemap.hasOwnProperty(j)) {\n          attrs.push(nodemap[j])\n        }\n      }\n      attrs.forEach(function(attr) { newScript.setAttribute(attr.name, attr.value) });\n      newScript.appendChild(document.createTextNode(oldScript.innerHTML));\n      oldScript.parentNode.replaceChild(newScript, oldScript);\n    });\n    if (JS_MIME_TYPE in output.data) {\n      toinsert[nchildren-1].children[1].textContent = output.data[JS_MIME_TYPE];\n    }\n    output_area._hv_plot_id = id;\n    if ((window.Bokeh !== undefined) && (id in Bokeh.index)) {\n      window.PyViz.plot_index[id] = Bokeh.index[id];\n    } else {\n      window.PyViz.plot_index[id] = null;\n    }\n  } else if (output.metadata[EXEC_MIME_TYPE][\"server_id\"] !== undefined) {\n    var bk_div = document.createElement(\"div\");\n    bk_div.innerHTML = output.data[HTML_MIME_TYPE];\n    var script_attrs = bk_div.children[0].attributes;\n    for (var i = 0; i < script_attrs.length; i++) {\n      toinsert[toinsert.length - 1].childNodes[1].setAttribute(script_attrs[i].name, script_attrs[i].value);\n    }\n    // store reference to server id on output_area\n    output_area._bokeh_server_id = output.metadata[EXEC_MIME_TYPE][\"server_id\"];\n  }\n}\n\n/**\n * Handle when an output is cleared or removed\n */\nfunction handle_clear_output(event, handle) {\n  var id = handle.cell.output_area._hv_plot_id;\n  var server_id = handle.cell.output_area._bokeh_server_id;\n  if (((id === undefined) || !(id in PyViz.plot_index)) && (server_id !== undefined)) { return; }\n  var comm = window.PyViz.comm_manager.get_client_comm(\"hv-extension-comm\", \"hv-extension-comm\", function () {});\n  if (server_id !== null) {\n    comm.send({event_type: 'server_delete', 'id': server_id});\n    return;\n  } else if (comm !== null) {\n    comm.send({event_type: 'delete', 'id': id});\n  }\n  delete PyViz.plot_index[id];\n  if ((window.Bokeh !== undefined) & (id in window.Bokeh.index)) {\n    var doc = window.Bokeh.index[id].model.document\n    doc.clear();\n    const i = window.Bokeh.documents.indexOf(doc);\n    if (i > -1) {\n      window.Bokeh.documents.splice(i, 1);\n    }\n  }\n}\n\n/**\n * Handle kernel restart event\n */\nfunction handle_kernel_cleanup(event, handle) {\n  delete PyViz.comms[\"hv-extension-comm\"];\n  window.PyViz.plot_index = {}\n}\n\n/**\n * Handle update_display_data messages\n */\nfunction handle_update_output(event, handle) {\n  handle_clear_output(event, {cell: {output_area: handle.output_area}})\n  handle_add_output(event, handle)\n}\n\nfunction register_renderer(events, OutputArea) {\n  function append_mime(data, metadata, element) {\n    // create a DOM node to render to\n    var toinsert = this.create_output_subarea(\n    metadata,\n    CLASS_NAME,\n    EXEC_MIME_TYPE\n    );\n    this.keyboard_manager.register_events(toinsert);\n    // Render to node\n    var props = {data: data, metadata: metadata[EXEC_MIME_TYPE]};\n    render(props, toinsert[0]);\n    element.append(toinsert);\n    return toinsert\n  }\n\n  events.on('output_added.OutputArea', handle_add_output);\n  events.on('output_updated.OutputArea', handle_update_output);\n  events.on('clear_output.CodeCell', handle_clear_output);\n  events.on('delete.Cell', handle_clear_output);\n  events.on('kernel_ready.Kernel', handle_kernel_cleanup);\n\n  OutputArea.prototype.register_mime_type(EXEC_MIME_TYPE, append_mime, {\n    safe: true,\n    index: 0\n  });\n}\n\nif (window.Jupyter !== undefined) {\n  try {\n    var events = require('base/js/events');\n    var OutputArea = require('notebook/js/outputarea').OutputArea;\n    if (OutputArea.prototype.mime_types().indexOf(EXEC_MIME_TYPE) == -1) {\n      register_renderer(events, OutputArea);\n    }\n  } catch(err) {\n  }\n}\n"
     },
     "metadata": {},
     "output_type": "display_data",
     "jetTransient": {
      "display_id": null
     }
    },
    {
     "ename": "ImportError",
     "evalue": "cannot import name 'asfarray' from 'numpy' (C:\\Users\\Amine Selmani\\miniconda3\\envs\\rf-analysis-env\\lib\\site-packages\\numpy\\__init__.py)",
     "output_type": "error",
     "traceback": [
      "\u001B[1;31m---------------------------------------------------------------------------\u001B[0m",
      "\u001B[1;31mImportError\u001B[0m                               Traceback (most recent call last)",
      "Cell \u001B[1;32mIn[2], line 13\u001B[0m\n\u001B[0;32m     11\u001B[0m \u001B[38;5;66;03m#from fitting_tools import complex_fit\u001B[39;00m\n\u001B[0;32m     12\u001B[0m hv\u001B[38;5;241m.\u001B[39mextension(\u001B[38;5;124m\"\u001B[39m\u001B[38;5;124mbokeh\u001B[39m\u001B[38;5;124m\"\u001B[39m)\n\u001B[1;32m---> 13\u001B[0m \u001B[38;5;28;01mimport\u001B[39;00m \u001B[38;5;21;01mskg\u001B[39;00m \u001B[38;5;66;03m#pip install scikit-guess to install this package\u001B[39;00m\n\u001B[0;32m     14\u001B[0m \u001B[38;5;66;03m#import skgstat as skg\u001B[39;00m\n\u001B[0;32m     17\u001B[0m \u001B[38;5;28;01mimport\u001B[39;00m \u001B[38;5;21;01mpandas\u001B[39;00m \u001B[38;5;28;01mas\u001B[39;00m \u001B[38;5;21;01mpd\u001B[39;00m\n",
      "File \u001B[1;32m~\\miniconda3\\envs\\rf-analysis-env\\lib\\site-packages\\skg\\__init__.py:44\u001B[0m\n\u001B[0;32m      1\u001B[0m \u001B[38;5;124;03m\"\"\"\u001B[39;00m\n\u001B[0;32m      2\u001B[0m \u001B[38;5;124;03mThe namespace of scikit-guess is called :mod:`skg`. It exports all of\u001B[39;00m\n\u001B[0;32m      3\u001B[0m \u001B[38;5;124;03mthe parameter estimation functions provided by the scikit.\u001B[39;00m\n\u001B[1;32m   (...)\u001B[0m\n\u001B[0;32m     41\u001B[0m \u001B[38;5;124;03m   nsphere_fit\u001B[39;00m\n\u001B[0;32m     42\u001B[0m \u001B[38;5;124;03m\"\"\"\u001B[39;00m\n\u001B[1;32m---> 44\u001B[0m \u001B[38;5;28;01mfrom\u001B[39;00m \u001B[38;5;21;01m.\u001B[39;00m\u001B[38;5;21;01mexp\u001B[39;00m \u001B[38;5;28;01mimport\u001B[39;00m exp_fit\n\u001B[0;32m     45\u001B[0m \u001B[38;5;28;01mfrom\u001B[39;00m \u001B[38;5;21;01m.\u001B[39;00m\u001B[38;5;21;01mgauss_cdf\u001B[39;00m \u001B[38;5;28;01mimport\u001B[39;00m gauss_cdf_fit\n\u001B[0;32m     46\u001B[0m \u001B[38;5;28;01mfrom\u001B[39;00m \u001B[38;5;21;01m.\u001B[39;00m\u001B[38;5;21;01mgauss_pdf\u001B[39;00m \u001B[38;5;28;01mimport\u001B[39;00m gauss_pdf_fit\n",
      "File \u001B[1;32m~\\miniconda3\\envs\\rf-analysis-env\\lib\\site-packages\\skg\\exp.py:30\u001B[0m\n\u001B[0;32m     27\u001B[0m \u001B[38;5;28;01mfrom\u001B[39;00m \u001B[38;5;21;01mnumpy\u001B[39;00m \u001B[38;5;28;01mimport\u001B[39;00m array, cumsum, diff, empty, exp, subtract\n\u001B[0;32m     28\u001B[0m \u001B[38;5;28;01mfrom\u001B[39;00m \u001B[38;5;21;01mscipy\u001B[39;00m\u001B[38;5;21;01m.\u001B[39;00m\u001B[38;5;21;01mlinalg\u001B[39;00m \u001B[38;5;28;01mimport\u001B[39;00m lstsq\n\u001B[1;32m---> 30\u001B[0m \u001B[38;5;28;01mfrom\u001B[39;00m \u001B[38;5;21;01m.\u001B[39;00m\u001B[38;5;21;01m_util\u001B[39;00m \u001B[38;5;28;01mimport\u001B[39;00m preprocess\n\u001B[0;32m     33\u001B[0m __all__ \u001B[38;5;241m=\u001B[39m [\u001B[38;5;124m'\u001B[39m\u001B[38;5;124mexp_fit\u001B[39m\u001B[38;5;124m'\u001B[39m]\n\u001B[0;32m     36\u001B[0m \u001B[38;5;28;01mdef\u001B[39;00m \u001B[38;5;21mexp_fit\u001B[39m(x, y, \u001B[38;5;28msorted\u001B[39m\u001B[38;5;241m=\u001B[39m\u001B[38;5;28;01mTrue\u001B[39;00m):\n",
      "File \u001B[1;32m~\\miniconda3\\envs\\rf-analysis-env\\lib\\site-packages\\skg\\_util.py:5\u001B[0m\n\u001B[0;32m      1\u001B[0m \u001B[38;5;124;03m\"\"\"\u001B[39;00m\n\u001B[0;32m      2\u001B[0m \u001B[38;5;124;03mShared utility functions used by the fitting routines.\u001B[39;00m\n\u001B[0;32m      3\u001B[0m \u001B[38;5;124;03m\"\"\"\u001B[39;00m\n\u001B[1;32m----> 5\u001B[0m \u001B[38;5;28;01mfrom\u001B[39;00m \u001B[38;5;21;01mnumpy\u001B[39;00m \u001B[38;5;28;01mimport\u001B[39;00m argsort, asfarray\n\u001B[0;32m      8\u001B[0m \u001B[38;5;28;01mdef\u001B[39;00m \u001B[38;5;21mpreprocess\u001B[39m(x, y, \u001B[38;5;28msorted\u001B[39m\u001B[38;5;241m=\u001B[39m\u001B[38;5;28;01mTrue\u001B[39;00m):\n\u001B[0;32m      9\u001B[0m \u001B[38;5;250m    \u001B[39m\u001B[38;5;124;03m\"\"\"\u001B[39;00m\n\u001B[0;32m     10\u001B[0m \u001B[38;5;124;03m    Ensures that `x` and `y` are floating point arrays of the same size,\u001B[39;00m\n\u001B[0;32m     11\u001B[0m \u001B[38;5;124;03m    ranked in increasing order by `x`.\u001B[39;00m\n\u001B[1;32m   (...)\u001B[0m\n\u001B[0;32m     30\u001B[0m \u001B[38;5;124;03m        Normalized versions of the inputs.\u001B[39;00m\n\u001B[0;32m     31\u001B[0m \u001B[38;5;124;03m    \"\"\"\u001B[39;00m\n",
      "\u001B[1;31mImportError\u001B[0m: cannot import name 'asfarray' from 'numpy' (C:\\Users\\Amine Selmani\\miniconda3\\envs\\rf-analysis-env\\lib\\site-packages\\numpy\\__init__.py)"
     ]
    }
   ],
   "execution_count": 2
  },
  {
   "metadata": {
    "ExecuteTime": {
     "end_time": "2025-09-24T15:46:32.979069700Z",
     "start_time": "2025-09-01T15:43:11.895531Z"
    }
   },
   "cell_type": "code",
   "source": "from qcodes import initialise_or_create_database_at, load_by_run_spec",
   "id": "f8b94b73ac791880",
   "outputs": [],
   "execution_count": 43
  },
  {
   "cell_type": "code",
   "id": "e057e13c",
   "metadata": {
    "ExecuteTime": {
     "end_time": "2025-09-24T15:46:32.987709100Z",
     "start_time": "2025-09-01T15:43:13.360932Z"
    }
   },
   "source": [
    "from scipy.optimize import least_squares\n",
    "\n",
    "\n",
    "def phase_Q(freqs, Qtot, theta0, f0):\n",
    "    return theta0 + 2*np.arctan(2*Qtot*(1-freqs/f0))\n",
    "    \n",
    "def fit_renorm(S_renorm, freqs):\n",
    "    x = np.real(S_renorm)\n",
    "    y = np.imag(S_renorm)\n",
    "    z= np.column_stack((x,y))\n",
    "\n",
    "    r, c = skg.nsphere_fit(z)\n",
    "    \n",
    "    S_center = x-c[0] + 1j*(y-c[1])\n",
    "    \n",
    "    phi_0 = -np.arcsin(c[1]/r)\n",
    "    \n",
    "    def func_to_be_fitted_two(freqs, Qtot, f0):\n",
    "        return phi_0+np.pi + 2*np.arctan(2*Qtot*(1-freqs/f0))\n",
    "    \n",
    "    phase = np.remainder(np.angle(S_center), 2*np.pi)\n",
    "    amplitude = np.sqrt(x**2 +y**2).to_numpy()\n",
    "#     f_init = freqs[np.argmin(phase)]\n",
    "    f_init = freqs[np.argmin(amplitude)]\n",
    "    f1 = freqs[np.argmax(np.abs(np.abs(0.5-amplitude/np.max(amplitude))-0.5))]\n",
    "    #Q_init = f_init/(3*(np.abs(f_init-f1)))\n",
    "    Q_init = 10000\n",
    "    #print('Q_init = ', Q_init)\n",
    "#     Q_init = 25000\n",
    "    p0 = [Q_init, f_init]\n",
    "    \n",
    "    \n",
    "    \n",
    "    popt, pcov = curve_fit(func_to_be_fitted_two, freqs, phase, p0 = p0,ftol=1e-10, xtol=1e-10, gtol=1e-10)\n",
    "    Ql = popt[0]\n",
    "    fr = popt[1] \n",
    "    phase_plot = (\n",
    "        \n",
    "    hv.Scatter((freqs, phase), label = 'data')\n",
    "    *hv.Curve((freqs, func_to_be_fitted_two(freqs, *popt)), label = 'fit').opts(color = 'black')\n",
    "    *hv.Scatter((freqs, func_to_be_fitted_two(freqs, *p0)), label = 'guess').opts(color = 'green')\n",
    "    ).opts(title = 'Phase fit after renormalisation')\n",
    "    \n",
    "    Qc = Ql/(2*r*np.exp(-1j*phi_0))\n",
    "    Qi = 1/(1/Ql-np.real(1/Qc))\n",
    "    \n",
    "    return  phase_plot, Ql, fr, popt, pcov, Qc, Qi, phi_0, S_center, r,c \n",
    "\n",
    "def cable_delay_fitting(S, freqs):\n",
    "    \n",
    "    def func(tau):\n",
    "        return S*np.exp(2*np.pi*1j*tau*freqs)\n",
    "\n",
    "    \n",
    "    def func_to_minimize(tau):\n",
    "        S_tau = func(tau)\n",
    "        x = np.real(S_tau).to_numpy()\n",
    "        y = np.imag(S_tau).to_numpy()\n",
    "        z= np.column_stack((x,y))\n",
    "\n",
    "        r, c = skg.nsphere_fit(z)\n",
    "        \n",
    "        S_shift = S_tau-(c[0]+1j*c[1])\n",
    "        return r-np.abs(S_shift)\n",
    "    \n",
    "    tau = least_squares(func_to_minimize, 30e-9 , method = 'trf', xtol = 1e-15, ftol = 1e-15 )\n",
    "    \n",
    "    return tau\n",
    "\n",
    "def correct_S_by_delay(S, freqs, tau):\n",
    "    return S*np.exp(2*np.pi*1j*tau*freqs)\n",
    "\n"
   ],
   "outputs": [],
   "execution_count": 44
  },
  {
   "cell_type": "code",
   "id": "a085a201",
   "metadata": {
    "ExecuteTime": {
     "end_time": "2025-09-24T15:46:32.988632900Z",
     "start_time": "2025-09-01T15:43:16.080877Z"
    }
   },
   "source": [
    "def gen_circle(r, c, num=1001):\n",
    "    angles = np.linspace(0, 2 * np.pi, num=num)\n",
    "    xc = c[0] + r * np.cos(angles)\n",
    "    yc = c[1] + r * np.sin(angles)\n",
    "    return xc, yc"
   ],
   "outputs": [],
   "execution_count": 45
  },
  {
   "cell_type": "code",
   "id": "7166e7a0",
   "metadata": {
    "ExecuteTime": {
     "end_time": "2025-09-24T15:46:32.989992600Z",
     "start_time": "2025-09-01T15:43:17.168787Z"
    }
   },
   "source": [
    "def normalize_transmission(S):\n",
    "    I = np.real(S[\"S21\"])\n",
    "    Q = np.imag(S[\"S21\"])\n",
    "    S_numpy = S[\"S21\"].to_numpy()\n",
    "    freqs = S[\"pna_frequency_axis\"]\n",
    "    S = S[\"S21\"]\n",
    "    tau = cable_delay_fitting(S, freqs)\n",
    "    # print(\"cable delay =\", tau.x[0])\n",
    "    # correction of S by cable delay to get a nice circular shape:\n",
    "    St = correct_S_by_delay(S, freqs, tau.x[0])\n",
    "\n",
    "    # fit to get radius and center of the circle:\n",
    "    xt = np.real(St).to_numpy()\n",
    "    yt = np.imag(St).to_numpy()\n",
    "    zt = np.column_stack((xt, yt))\n",
    "    rt, ct = skg.nsphere_fit(zt)\n",
    "\n",
    "    x_circ, y_circ = gen_circle(c=ct, r=rt)\n",
    "\n",
    "    #     plot_corrected_S = (\n",
    "    #         hv.Scatter((np.real(St), np.imag(St)), label = f'corrected data by {np.round(tau.x[0]*1e9,3)} ns')\n",
    "    #         *hv.Curve((x_circ,y_circ), label = 'circle fit')\n",
    "    #         *hv.Scatter((np.real(P_tilde), np.imag(P_tilde)), label = 'off res. point').opts(line_width=2, line_color = 'black')\n",
    "    #     ).opts(title = 'Transmission corrected by cable delay')\n",
    "\n",
    "    # center the data to perform the phase fit:\n",
    "    xx = xt - ct[0]\n",
    "    yy = yt - ct[1]\n",
    "    St_center = xx + 1j * yy\n",
    "    # define the phase:\n",
    "    phase = np.unwrap(np.angle(St_center))\n",
    "\n",
    "    # initial params of the fit (to be added as optionnal arguments)\n",
    "    f_init = freqs[np.argmin(phase)]\n",
    "    #     print(f_init)\n",
    "    Q_init = 10000  # TODO: change the initial value of Q\n",
    "    theta_init = phase[0] - np.pi\n",
    "    #     print('theta_ini)\n",
    "    p0 = [Q_init, theta_init, f_init]\n",
    "\n",
    "    # perform the fit:\n",
    "    popt, pcov = curve_fit(phase_Q, freqs, phase, p0=p0)\n",
    "    init_phase_curve = (\n",
    "        hv.Scatter((freqs, phase), label=\"data\")\n",
    "        * hv.Curve((freqs, phase_Q(freqs, *popt)), label=\"fit\").opts(line_color=\"black\")\n",
    "    ).opts(\n",
    "        title=\"Initial phase fit (after delay removal)\",\n",
    "        ylabel=\"Phase (rad)\",\n",
    "        xlabel=\"Freq (Hz)\",\n",
    "    )\n",
    "    #     Ql = popt[0]\n",
    "    #     print(\"Ql=\", Ql)\n",
    "    #     Ql_err = pcov[0][0]\n",
    "    #     fr = popt[2]\n",
    "    #     fr_err = pcov[2][2]\n",
    "    theta0 = popt[1]\n",
    "    theta0_err = pcov[1][1]\n",
    "\n",
    "    # definition of the P point that should be at (1,0)\n",
    "    P_tilde = (\n",
    "        ct[0] + rt * np.cos(theta0 + np.pi) + 1j * (ct[1] + rt * np.sin(theta0 + np.pi))\n",
    "    )\n",
    "\n",
    "    plot_corrected_S = (\n",
    "        hv.Scatter(\n",
    "            (np.real(St), np.imag(St)),\n",
    "            label=f\"corrected data by {np.round(tau.x[0]*1e9,3)} ns\",\n",
    "        )\n",
    "        * hv.Curve((x_circ, y_circ), label=\"circle fit\")\n",
    "        * hv.Scatter((np.real(P_tilde), np.imag(P_tilde)), label=\"off res. point\").opts(\n",
    "            line_width=2, line_color=\"black\"\n",
    "        )\n",
    "    ).opts(title=\"Transmission corrected by cable delay\")\n",
    "    # definition of attenuation amplitude and phase:\n",
    "    alpha = np.angle(P_tilde)\n",
    "    a = np.abs(P_tilde)\n",
    "\n",
    "    S_renorm = 1 / a * np.exp(-1j * alpha) * St\n",
    "\n",
    "    plot_S_renorm = hv.Scatter(\n",
    "        (np.real(S_renorm), np.imag(S_renorm)), label=\"data\"\n",
    "    ).opts(title=\"renormalized transmission\")\n",
    "\n",
    "    # fit of the renormalized data:\n",
    "    phase_plot, Ql, fr, popt, pcov, Qc, Qi, phi_0, S_center, r, c = fit_renorm(\n",
    "        S_renorm, freqs\n",
    "    )\n",
    "\n",
    "    return (\n",
    "        St,\n",
    "        tau,\n",
    "        rt,\n",
    "        ct,\n",
    "        plot_corrected_S,\n",
    "        init_phase_curve,\n",
    "        a,\n",
    "        alpha,\n",
    "        S_renorm,\n",
    "        plot_S_renorm,\n",
    "        phase_plot,\n",
    "        Ql,\n",
    "        fr,\n",
    "        popt,\n",
    "        pcov,\n",
    "        Qc,\n",
    "        Qi,\n",
    "        phi_0,\n",
    "        S_center,\n",
    "        r,\n",
    "        c,\n",
    "        freqs,\n",
    "    )\n",
    "\n",
    "\n",
    "def ideal_transmissision(freqs, Ql, Qc, phi0, fr, a, alpha, tau):\n",
    "\n",
    "    environment = a * np.exp(1j * alpha) * np.exp(-2 * np.pi * 1j * freqs * tau)\n",
    "    cavity = 1 - (\n",
    "        Ql / np.abs(Qc) * np.exp(1j * phi0) / (1 + 2 * 1j * Ql * (freqs / fr - 1))\n",
    "    )\n",
    "\n",
    "    return environment * cavity\n",
    "\n",
    "\n",
    "def ideal_transmission_for_fit(freqs, Ql, Qc, phi0, fr, a, alpha, tau):\n",
    "    N = len(freqs)\n",
    "    freqs_real = freqs[: N // 2]\n",
    "    freqs_imag = freqs[N // 2 :]\n",
    "\n",
    "    transmission_real = np.real(\n",
    "        ideal_transmissision(freqs_real, Ql, Qc, phi0, fr, a, alpha, tau)\n",
    "    )\n",
    "    transmission_imag = np.imag(\n",
    "        ideal_transmissision(freqs_imag, Ql, Qc, phi0, fr, a, alpha, tau)\n",
    "    )\n",
    "\n",
    "    return np.hstack([transmission_real, transmission_imag])\n",
    "\n",
    "\n",
    "def unwrap_complex_data(complex_data):\n",
    "    return np.hstack([np.real(complex_data), np.imag(complex_data)])\n",
    "\n",
    "\n",
    "def analyse_transmission(S, show_plots=False):\n",
    "    (\n",
    "        St,\n",
    "        tau,\n",
    "        rt,\n",
    "        ct,\n",
    "        plot_corrected_S,\n",
    "        init_phase_curve,\n",
    "        a,\n",
    "        alpha,\n",
    "        S_renorm,\n",
    "        plot_S_renorm,\n",
    "        phase_plot,\n",
    "        Ql,\n",
    "        fr,\n",
    "        popt,\n",
    "        pcov,\n",
    "        Qc,\n",
    "        Qi,\n",
    "        phi_0,\n",
    "        S_center,\n",
    "        r,\n",
    "        c,\n",
    "        freqs,\n",
    "    ) = normalize_transmission(S)\n",
    "\n",
    "    reconstructed_S = ideal_transmissision(freqs, Ql, Qc, phi_0, fr, a, alpha, tau.x[0])\n",
    "\n",
    "    result_dict = {\n",
    "        \"initial_data\": S,\n",
    "        \"cable_delay_correction\": {\n",
    "            \"corrected_data\": St,\n",
    "            \"cable_delay\": tau,\n",
    "            \"circle_fit\": {\n",
    "                \"center\": c,\n",
    "                \"radius\": r,\n",
    "            },\n",
    "        },\n",
    "        \"attenuation\": {\n",
    "            \"amplitude\": a,\n",
    "            \"phase\": alpha,\n",
    "        },\n",
    "        \"renormalized_transmission\": S_renorm,\n",
    "        \"Ql\": Ql,\n",
    "        \"fr\": fr,\n",
    "        \"phase_fit_results\": {\n",
    "            \"popt\": popt,\n",
    "            \"pcov\": pcov,\n",
    "        },\n",
    "        \"Qc\": Qc,\n",
    "        \"Qi\": Qi,\n",
    "        \"phi0\": phi_0,\n",
    "        \"centered_normalized\": {\n",
    "            \"centered_data\": S_center,\n",
    "            \"circle_fit\": {\n",
    "                \"center\": c,\n",
    "                \"radius\": r,\n",
    "            },\n",
    "        },\n",
    "        \"reconstructed_S\": reconstructed_S,\n",
    "    }\n",
    "\n",
    "    if show_plots:\n",
    "        plots = (\n",
    "            (\n",
    "                plot_corrected_S\n",
    "                + init_phase_curve\n",
    "                + plot_S_renorm\n",
    "                + phase_plot\n",
    "                + (\n",
    "                    hv.Curve(\n",
    "                        (np.real(reconstructed_S), np.imag(reconstructed_S)),\n",
    "                        label=\"Reconstructed from fit\",\n",
    "                    ).opts(line_color=\"black\")\n",
    "                    * hv.Scatter((np.real(S[\"S21\"]), np.imag(S[\"S21\"])), label=\"data\")\n",
    "                )\n",
    "            )\n",
    "            .opts(title=\"Analysis summary\", shared_axes=False)\n",
    "            .cols(1)\n",
    "        )\n",
    "\n",
    "        return result_dict, plots\n",
    "    return result_dict\n",
    "\n",
    "\n",
    "def refined_fit(S, show_plots=False):\n",
    "    result_dict = analyse_transmission(S)\n",
    "    Ql_i = result_dict[\"Ql\"]\n",
    "    Qc_i = result_dict[\"Qc\"]\n",
    "    phi0_i = result_dict[\"phi0\"]\n",
    "    fr_i = result_dict[\"fr\"]\n",
    "    a_i = result_dict[\"attenuation\"][\"amplitude\"]\n",
    "    alpha_i = result_dict[\"attenuation\"][\"phase\"]\n",
    "    tau_i = result_dict[\"cable_delay_correction\"][\"cable_delay\"].x[0]\n",
    "\n",
    "    freqs = result_dict[\"initial_data\"][\"pna_frequency_axis\"]\n",
    "    #     freqs, Ql, Qc,phi_0, fr, a, alpha, tau.x[0])\n",
    "    p0 = [\n",
    "        Ql_i,\n",
    "        np.abs(Qc_i),\n",
    "        phi0_i,\n",
    "        fr_i,\n",
    "        a_i,\n",
    "        alpha_i,\n",
    "        tau_i,\n",
    "    ]  # use fit results as initial parameters\n",
    "\n",
    "    popt, pcov = curve_fit(\n",
    "        ideal_transmission_for_fit,\n",
    "        np.hstack([freqs, freqs]),\n",
    "        unwrap_complex_data(S[\"S21\"]),\n",
    "        p0=p0,\n",
    "    )\n",
    "\n",
    "    #     reconstructed_S_init_fit = result_dict['reconstructed_S']\n",
    "    reconstructed_S_init_fit = ideal_transmissision(freqs, *p0)\n",
    "    reconstructed_S_refined_fit = ideal_transmissision(freqs, *popt)\n",
    "\n",
    "    if show_plots:\n",
    "        plots = (\n",
    "            (\n",
    "                hv.Curve(\n",
    "                    (\n",
    "                        np.real(reconstructed_S_init_fit),\n",
    "                        np.imag(reconstructed_S_init_fit),\n",
    "                    ),\n",
    "                    label=\"initial fit\",\n",
    "                ).opts(line_color=\"black\")\n",
    "                * hv.Curve(\n",
    "                    (\n",
    "                        np.real(reconstructed_S_refined_fit),\n",
    "                        np.imag(reconstructed_S_refined_fit),\n",
    "                    ),\n",
    "                    label=\"refined fit\",\n",
    "                ).opts(xlabel=\"Re(S21)\", ylabel=\"Im(S21)\", line_color=\"red\")\n",
    "                * hv.Scatter((np.real(S[\"S21\"]), np.imag(S[\"S21\"])), label=\"data\")\n",
    "                + (\n",
    "                    hv.Curve(\n",
    "                        (freqs / 1e9, np.abs(reconstructed_S_init_fit)),\n",
    "                        label=\"init fit\",\n",
    "                    ).opts(line_color=\"black\")\n",
    "                    * hv.Curve(\n",
    "                        (freqs / 1e9, np.abs(reconstructed_S_refined_fit)),\n",
    "                        label=\"refined fit\",\n",
    "                    ).opts(\n",
    "                        xlabel=\"Frequency (GHz)\",\n",
    "                        ylabel=\"Magnitude (ratio)\",\n",
    "                        line_color=\"red\",\n",
    "                    )\n",
    "                    * hv.Scatter((freqs / 1e9, np.abs(S[\"S21\"])), label=\"data\")\n",
    "                )\n",
    "                + (\n",
    "                    hv.Curve(\n",
    "                        (freqs / 1e9, np.angle(reconstructed_S_init_fit)),\n",
    "                        label=\"init fit\",\n",
    "                    ).opts(line_color=\"black\")\n",
    "                    * hv.Curve(\n",
    "                        (freqs / 1e9, np.angle(reconstructed_S_refined_fit)),\n",
    "                        label=\"refined fit\",\n",
    "                    ).opts(\n",
    "                        xlabel=\"Frequency (GHz)\", ylabel=\"Phase (deg)\", line_color=\"red\"\n",
    "                    )\n",
    "                    * hv.Scatter((freqs / 1e9, np.angle(S[\"S21\"])), label=\"data\")\n",
    "                )\n",
    "            )\n",
    "            .opts(title=\"Analysis summary\", shared_axes=False)\n",
    "            .cols(3)\n",
    "        )\n",
    "\n",
    "        return popt, pcov, p0, plots\n",
    "\n",
    "    return popt, pcov, p0"
   ],
   "outputs": [],
   "execution_count": 46
  },
  {
   "cell_type": "code",
   "id": "a53099be",
   "metadata": {
    "ExecuteTime": {
     "end_time": "2025-09-24T15:46:41.900448Z",
     "start_time": "2025-09-24T15:46:41.878587Z"
    }
   },
   "source": [
    "def S21(f,fc,Qi,Qc,phi,S0):\n",
    "    delta_x = (f-fc)/fc\n",
    "    a = 1+ Qi/Qc*np.exp(1j*phi)*1/(1+1j*2*Qi*delta_x)\n",
    "    b=1/a\n",
    "    T=20*np.log10(abs(b/S0))\n",
    "    return T\n",
    "\n",
    "def S21_env(f,a,alpha,tau,phi,fc,Ql,Qc):\n",
    "    env=a*np.exp(1j*alpha)*np.exp(-2*np.pi*1j*f*tau)\n",
    "    ideal_res=1-((Ql/np.abs(Qc)*np.exp(1j*phi))/(1+2*1j*Ql*(f/fc-1)))\n",
    "    b=env*ideal_res\n",
    "    T=20*np.log10(abs(b))\n",
    "    return T\n",
    "def _get_cov_fast_notch(\n",
    "        self, xdata, ydata, fitparams\n",
    "    ):    # enhanced by analytical derivatives\n",
    "        # derivatives of notch_ideal model with respect to parameters\n",
    "        def dS21_dQl(p, f):\n",
    "            fr, absQc, Ql, phi0 = p\n",
    "            return -(np.exp(1j * phi0) * fr**2) / (\n",
    "                absQc * (fr + 2j * Ql * f - 2j * Ql * fr) ** 2\n",
    "            )\n",
    "\n",
    "        def dS21_dQc(p, f):\n",
    "            fr, absQc, Ql, phi0 = p\n",
    "            return (np.exp(1j * phi0) * Ql * fr) / (\n",
    "                2j * (f - fr) * absQc**2 * Ql + absQc**2 * fr\n",
    "            )\n",
    "\n",
    "        def dS21_dphi0(p, f):\n",
    "            fr, absQc, Ql, phi0 = p\n",
    "            return -(1j * Ql * fr * np.exp(1j * phi0)) / (\n",
    "                2j * (f - fr) * absQc * Ql + absQc * fr\n",
    "            )\n",
    "\n",
    "        def dS21_dfr(p, f):\n",
    "            fr, absQc, Ql, phi0 = p\n",
    "            return -(2j * Ql**2 * f * np.exp(1j * phi0)) / (\n",
    "                absQc * (fr + 2j * Ql * f - 2j * Ql * fr) ** 2\n",
    "            )\n",
    "\n",
    "        u = self._residuals_notch_ideal_complex(fitparams, xdata, ydata)\n",
    "        chi = np.absolute(u)\n",
    "        u = u / chi  # unit vector pointing in the correct direction for the derivative\n",
    "\n",
    "        aa = dS21_dfr(fitparams, xdata)\n",
    "        bb = dS21_dQc(fitparams, xdata)\n",
    "        cc = dS21_dQl(fitparams, xdata)\n",
    "        dd = dS21_dphi0(fitparams, xdata)\n",
    "\n",
    "        Jt = np.array(\n",
    "            [\n",
    "                aa.real * u.real + aa.imag * u.imag,\n",
    "                bb.real * u.real + bb.imag * u.imag,\n",
    "                cc.real * u.real + cc.imag * u.imag,\n",
    "                dd.real * u.real + dd.imag * u.imag,\n",
    "            ]\n",
    "        )\n",
    "        A = np.dot(Jt, np.transpose(Jt))\n",
    "        chisqr = 1.0 / float(len(xdata) - len(fitparams)) * (chi**2).sum()\n",
    "        try:\n",
    "            cov = np.linalg.inv(A) * chisqr\n",
    "        except:\n",
    "            cov = None\n",
    "        return chisqr, cov"
   ],
   "outputs": [],
   "execution_count": 4
  },
  {
   "cell_type": "code",
   "id": "cf947665",
   "metadata": {},
   "source": [
    "initialise_or_create_database_at(\n",
    "    r\"D:\\Github\\Qinu\\qumin\\data\\2025-07-02_C12-036-J&C12-036-M.db\"\n",
    ")"
   ],
   "outputs": [],
   "execution_count": null
  },
  {
   "cell_type": "code",
   "id": "04268896",
   "metadata": {},
   "source": [
    "peak1 = load_by_run_spec(captured_run_id=7).to_xarray_dataset()\n",
    "peak1[\"S21\"] = peak1[\"pna_tr1_linear_magnitude\"]*np.exp(1j*np.pi*peak1[\"pna_tr1_unwrapped_phase\"]/180)\n",
    "hv.Curve((peak1['pna_frequency_axis'],peak1['pna_tr1_magnitude']))\n"
   ],
   "outputs": [],
   "execution_count": null
  },
  {
   "cell_type": "code",
   "id": "ae38ed05",
   "metadata": {},
   "source": [
    "peak1.to_dataframe().to_csv(r\"D:\\Github\\Qinu\\qumin\\data\\C12_30_H.csv\",)\n"
   ],
   "outputs": [],
   "execution_count": null
  },
  {
   "cell_type": "code",
   "id": "d63bc690",
   "metadata": {},
   "source": [
    "%cd  D:\\Github\\Qinu\\qumin\\data\n",
    "df = pd.read_csv(\"C12_30_H.csv\")\n",
    "\n",
    "a=df.index[df['pna_frequency_axis'] == 2e9][0]\n",
    "a"
   ],
   "outputs": [],
   "execution_count": null
  },
  {
   "cell_type": "code",
   "id": "509b80c4",
   "metadata": {},
   "source": [
    "from scipy import signal\n",
    "df = pd.read_csv(r\"D:\\Github\\Qinu\\qumin\\data\\C12_30_H.csv\")\n",
    "\n",
    "# Use np.isclose to find the nearest indices\n",
    "idx_start = df.index[np.isclose(df['pna_frequency_axis'], 6e9)].min()\n",
    "idx_end = df.index[np.isclose(df['pna_frequency_axis'], 7e9)].min()\n",
    "\n",
    "if np.isnan(idx_start) or np.isnan(idx_end):\n",
    "    raise ValueError(\"Could not find frequency values  in the data.\")\n",
    "\n",
    "peak2 = xr.Dataset.from_dataframe(df.iloc[idx_start:idx_end])\n",
    "\n",
    "peak2[\"S21\"] = peak2[\"pna_tr1_linear_magnitude\"] * np.exp(\n",
    "    1j * peak2[\"pna_tr1_unwrapped_phase\"]\n",
    ")\n",
    "\n",
    "data = -1 * peak2[\"pna_tr1_magnitude\"].to_numpy()\n",
    "peakind = signal.find_peaks_cwt(data, 0.4e2)\n",
    "hv.Curve((peak2[\"pna_frequency_axis\"].values, peak2[\"pna_tr1_magnitude\"].values))"
   ],
   "outputs": [],
   "execution_count": null
  },
  {
   "cell_type": "code",
   "id": "e4ed23d5",
   "metadata": {},
   "source": [
    "peak2\n",
    "peakind\n",
    "data\n",
    "peak2[\"pna_frequency_axis\"].values[peakind]"
   ],
   "outputs": [],
   "execution_count": null
  },
  {
   "cell_type": "code",
   "id": "c7991d73",
   "metadata": {},
   "source": [
    "# Use np.isclose to find the nearest indices\n",
    "span =10e6\n",
    "center_freq = peak2[\"pna_frequency_axis\"].values[peakind[0]]\n",
    "idx_start = df.index[np.isclose(df[\"pna_frequency_axis\"], center_freq - span / 2)].min()\n",
    "idx_end = df.index[np.isclose(df[\"pna_frequency_axis\"], center_freq + span / 2)].min()\n",
    "\n",
    "\n",
    "if np.isnan(idx_start) or np.isnan(idx_end):\n",
    "    raise ValueError(\"Could not find frequency values close to 2e9 or 3e9 in the data.\")\n",
    "\n",
    "peak3 = xr.Dataset.from_dataframe(df.iloc[idx_start:idx_end])\n",
    "\n",
    "hv.Curve((peak3[\"pna_frequency_axis\"].values, peak2[\"pna_tr1_magnitude\"].values)).opts(\n",
    "    height=300,\n",
    "    width=600,)"
   ],
   "outputs": [],
   "execution_count": null
  },
  {
   "cell_type": "code",
   "id": "bd19e8d8",
   "metadata": {
    "ExecuteTime": {
     "end_time": "2025-09-23T13:39:34.076274Z",
     "start_time": "2025-09-23T13:39:32.159581Z"
    }
   },
   "source": [
    "import matplotlib.pyplot as plt\n",
    "list_of_curves =[]\n",
    "print(list_of_curves)\n",
    "for i in range(len(peakind)):\n",
    "    span = 1e4\n",
    "    center_freq = peak2[\"pna_frequency_axis\"].values[peakind[i]]\n",
    "    idx_start = df.index[\n",
    "        np.isclose(df[\"pna_frequency_axis\"], center_freq - span / 2)\n",
    "    ].min()\n",
    "    idx_end = df.index[\n",
    "        np.isclose(df[\"pna_frequency_axis\"], center_freq + span / 2)\n",
    "    ].min()\n",
    "\n",
    "    # Use a new variable for the sliced dataset\n",
    "    peak2_slice = xr.Dataset.from_dataframe(df.iloc[idx_start:idx_end])\n",
    "\n",
    "    list_of_curves.append(\n",
    "        hv.Curve(\n",
    "            (\n",
    "                peak2_slice[\"pna_frequency_axis\"].values,\n",
    "                peak2_slice[\"pna_tr1_magnitude\"].values,\n",
    "            )\n",
    "        )\n",
    "    )\n",
    "    print(f\"Peak {i+1} at {center_freq/1e9:.2f} GHz, index: {peakind[i]}\")\n",
    "\n",
    "# frequencies = [0.5, 0.75, 1.0, 1.25]\n",
    "\n",
    "\n",
    "# def sine_curve(phase, freq):\n",
    "#     xvals = [0.1 * i for i in range(100)]\n",
    "#     return hv.Curve((xvals, [np.sin(phase + freq * x) for x in xvals]))\n",
    "\n",
    "\n",
    "# curve_dict = {f: sine_curve(0, f) for f in frequencies}\n",
    "# Create a dictionary mapping peak index to curve\n",
    "# curve_dict = {f\"Peak {i+1}\": curve for i, curve in enumerate(list_of_curves)}\n",
    "# hv.NdOverlay(curve_dict, kdims=\"peak\")\n",
    "# list_of_curves\n",
    "from operator import mul\n",
    "overlay = reduce(mul, list_of_curves)"
   ],
   "outputs": [
    {
     "name": "stdout",
     "output_type": "stream",
     "text": [
      "[]\n"
     ]
    },
    {
     "ename": "NameError",
     "evalue": "name 'peakind' is not defined",
     "output_type": "error",
     "traceback": [
      "\u001B[1;31m---------------------------------------------------------------------------\u001B[0m",
      "\u001B[1;31mNameError\u001B[0m                                 Traceback (most recent call last)",
      "Cell \u001B[1;32mIn[3], line 4\u001B[0m\n\u001B[0;32m      2\u001B[0m list_of_curves \u001B[38;5;241m=\u001B[39m[]\n\u001B[0;32m      3\u001B[0m \u001B[38;5;28mprint\u001B[39m(list_of_curves)\n\u001B[1;32m----> 4\u001B[0m \u001B[38;5;28;01mfor\u001B[39;00m i \u001B[38;5;129;01min\u001B[39;00m \u001B[38;5;28mrange\u001B[39m(\u001B[38;5;28mlen\u001B[39m(\u001B[43mpeakind\u001B[49m)):\n\u001B[0;32m      5\u001B[0m     span \u001B[38;5;241m=\u001B[39m \u001B[38;5;241m1e4\u001B[39m\n\u001B[0;32m      6\u001B[0m     center_freq \u001B[38;5;241m=\u001B[39m peak2[\u001B[38;5;124m\"\u001B[39m\u001B[38;5;124mpna_frequency_axis\u001B[39m\u001B[38;5;124m\"\u001B[39m]\u001B[38;5;241m.\u001B[39mvalues[peakind[i]]\n",
      "\u001B[1;31mNameError\u001B[0m: name 'peakind' is not defined"
     ]
    }
   ],
   "execution_count": 3
  },
  {
   "cell_type": "code",
   "id": "114b5921",
   "metadata": {},
   "source": [
    "%cd  D:\\Github\\Qinu\\qumin\\data\n",
    "df = pd.read_csv(\"C12_30_H.csv\")\n",
    "int1 = xr.Dataset.from_dataframe(df.iloc[(df.index[df['pna_frequency_axis'] == 2e9][0]): (df.index[df['pna_frequency_axis'] == 3e9][0])])\n",
    "\n",
    "for var in int1.data_vars:\n",
    "    data = int1[var]\n",
    "\n",
    "    # If you want to create S21 for each variable, make sure the variable exists\n",
    "    if \"pna_tr1_linear_magnitude\" in int1 and \"pna_tr1_unwrapped_phase\" in int1:\n",
    "        S21 = int1[\"pna_tr1_linear_magnitude\"] * np.exp(1j * int1[\"pna_tr1_unwrapped_phase\"])\n",
    "        # You can assign S21 to the dataset if needed:\n",
    "        int1[\"S21\"] = S21\n",
    "        break  # Only need to do this once\n",
    "    for var in int1.data_vars ['pna_tr1_linear_magnitude']:\n",
    "        if var in int1.data_vars:\n",
    "            int1[var] = int1[var].astype(float)\n",
    "        \n",
    "\n",
    "\n",
    "hv.Curve((int1['pna_frequency_axis'], int1['pna_tr1_magnitude']))\n",
    "          \n"
   ],
   "outputs": [],
   "execution_count": null
  },
  {
   "cell_type": "code",
   "id": "db81b051",
   "metadata": {},
   "source": [
    "def generate_start_stop_lists(start, stop, step):\n",
    "    values = np.arange(start, stop + step, step)\n",
    "    start_list = list(values[:-1])\n",
    "    stop_list = [min(v + step, stop) for v in values[:-1]]\n",
    "    return start_list, stop_list \n",
    "\n",
    "start_list, stop_list = generate_start_stop_lists(2, 9, 1)\n",
    "start_list, stop_list\n"
   ],
   "outputs": [],
   "execution_count": null
  },
  {
   "cell_type": "code",
   "id": "9b47f5f6",
   "metadata": {},
   "source": [
    "freq=peak2['pna_frequency_axis']\n",
    "fc_i=float((freq[0]+freq[-1])/2)\n",
    "p0 = [3.24e9, 1e4, 1e3, -100, -8]  # f,fc,Qi,Qc,phi,S0 p0 = [fc_i, 1e4, 1e3, -100, -9]\n",
    "popt, pcov = curve_fit(S21,freq,peak2['pna_tr1_magnitude'],p0)\n",
    "\n",
    "Qi = np.format_float_scientific(np.abs(popt[1]),3)\n",
    "Qc = np.format_float_scientific(np.abs(popt[2]),3)\n",
    "Ql = np.format_float_scientific(1/(1/np.abs(popt[2])+1/np.abs(popt[1])),3)\n",
    "\n",
    "\n",
    "(\n",
    "    hv.Curve((freq,peak2['pna_tr1_magnitude']),label='data')*\n",
    "    hv.Curve((freq,S21(freq, *popt)),label='fit')\n",
    ").opts(legend_position='bottom_right',xlabel='Frequency (Hz)',ylabel='Magnitude (dB)',width=500,height=300,title='Qi = '+str(Qi)+' , Qc = '+str(Qc)+' & Ql = '+str(Ql))"
   ],
   "outputs": [],
   "execution_count": null
  },
  {
   "cell_type": "code",
   "id": "93159f7b",
   "metadata": {
    "ExecuteTime": {
     "end_time": "2025-09-24T15:46:56.232425Z",
     "start_time": "2025-09-24T15:46:56.209631Z"
    }
   },
   "source": [
    "initialise_or_create_database_at(\n",
    "    r\"D:\\Github\\Qinu\\qumin\\data\\2025-08-05_C12-036-J_C12-037-C.db\"\n",
    ")"
   ],
   "outputs": [],
   "execution_count": 5
  },
  {
   "cell_type": "code",
   "id": "faccb193",
   "metadata": {
    "ExecuteTime": {
     "end_time": "2025-09-24T15:58:27.395088Z",
     "start_time": "2025-09-24T15:58:27.198981Z"
    }
   },
   "source": [
    "import matplotlib.pyplot as plt\n",
    "peak1 = load_by_run_spec(captured_run_id=36).to_xarray_dataset().sel({'pna_power':-30})\n",
    "peak1[\"S21\"] = peak1[\"pna_tr1_linear_magnitude\"] * np.exp(\n",
    "    1j * np.pi * peak1[\"pna_tr1_unwrapped_phase\"] / 180\n",
    ")\n",
    "hv.Curve((peak1[\"pna_frequency_axis\"], peak1[\"pna_tr1_magnitude\"]))"
   ],
   "outputs": [
    {
     "data": {},
     "metadata": {},
     "output_type": "display_data",
     "jetTransient": {
      "display_id": "23c1353c571148c58c88931afa9270a7"
     }
    },
    {
     "data": {
      "text/html": [
       "<div id='b9a069f8-7c43-40eb-8a9a-bce70b55b470'>\n",
       "  <div id=\"b97cdc3c-6c6a-4f72-acab-d447dbde5ad0\" data-root-id=\"b9a069f8-7c43-40eb-8a9a-bce70b55b470\" style=\"display: contents;\"></div>\n",
       "</div>\n",
       "<script type=\"application/javascript\">(function(root) {\n",
       "  var docs_json = {\"828e9f92-08c6-4b06-a2d9-9d4a5b10b005\":{\"version\":\"3.6.2\",\"title\":\"Bokeh Application\",\"roots\":[{\"type\":\"object\",\"name\":\"Row\",\"id\":\"b9a069f8-7c43-40eb-8a9a-bce70b55b470\",\"attributes\":{\"name\":\"Row01698\",\"tags\":[\"embedded\"],\"stylesheets\":[\"\\n:host(.pn-loading):before, .pn-loading:before {\\n  background-color: #c3c3c3;\\n  mask-size: auto calc(min(50%, 400px));\\n  -webkit-mask-size: auto calc(min(50%, 400px));\\n}\",{\"type\":\"object\",\"name\":\"ImportedStyleSheet\",\"id\":\"55d22423-d576-4e35-9b40-dc0ecba8f5fe\",\"attributes\":{\"url\":\"https://cdn.holoviz.org/panel/1.7.0/dist/css/loading.css\"}},{\"type\":\"object\",\"name\":\"ImportedStyleSheet\",\"id\":\"b9c630ed-782c-4367-bec7-b8b6c534dfd2\",\"attributes\":{\"url\":\"https://cdn.holoviz.org/panel/1.7.0/dist/css/listpanel.css\"}},{\"type\":\"object\",\"name\":\"ImportedStyleSheet\",\"id\":\"42498823-7da9-46b5-ba5e-4905dccdabd8\",\"attributes\":{\"url\":\"https://cdn.holoviz.org/panel/1.7.0/dist/bundled/theme/default.css\"}},{\"type\":\"object\",\"name\":\"ImportedStyleSheet\",\"id\":\"a6f9ca15-0ae3-4c0d-b821-4783948f3454\",\"attributes\":{\"url\":\"https://cdn.holoviz.org/panel/1.7.0/dist/bundled/theme/native.css\"}}],\"min_width\":300,\"margin\":0,\"sizing_mode\":\"stretch_width\",\"align\":\"start\",\"children\":[{\"type\":\"object\",\"name\":\"Spacer\",\"id\":\"284be5ca-60c1-48e5-89f4-ba6eb20dd1a8\",\"attributes\":{\"name\":\"HSpacer01702\",\"stylesheets\":[\"\\n:host(.pn-loading):before, .pn-loading:before {\\n  background-color: #c3c3c3;\\n  mask-size: auto calc(min(50%, 400px));\\n  -webkit-mask-size: auto calc(min(50%, 400px));\\n}\",{\"id\":\"55d22423-d576-4e35-9b40-dc0ecba8f5fe\"},{\"id\":\"42498823-7da9-46b5-ba5e-4905dccdabd8\"},{\"id\":\"a6f9ca15-0ae3-4c0d-b821-4783948f3454\"}],\"min_width\":0,\"margin\":0,\"sizing_mode\":\"stretch_width\",\"align\":\"start\"}},{\"type\":\"object\",\"name\":\"Figure\",\"id\":\"10384c56-00bd-482c-88fb-613641baaa31\",\"attributes\":{\"width\":300,\"height\":300,\"margin\":[5,10],\"sizing_mode\":\"fixed\",\"align\":\"start\",\"x_range\":{\"type\":\"object\",\"name\":\"Range1d\",\"id\":\"bdbf578f-87f2-4fae-8f6b-7dcf2996190d\",\"attributes\":{\"name\":\"x\",\"tags\":[[[\"x\",null]],[]],\"start\":7416000000.0,\"end\":7420000000.0,\"reset_start\":7416000000.0,\"reset_end\":7420000000.0}},\"y_range\":{\"type\":\"object\",\"name\":\"Range1d\",\"id\":\"9a48f03f-35d7-4968-a363-56fd36ad0d3d\",\"attributes\":{\"name\":\"y\",\"tags\":[[[\"y\",null]],{\"type\":\"map\",\"entries\":[[\"invert_yaxis\",false],[\"autorange\",false]]}],\"start\":-2.234940695762634,\"end\":-0.7952061414718627,\"reset_start\":-2.234940695762634,\"reset_end\":-0.7952061414718627}},\"x_scale\":{\"type\":\"object\",\"name\":\"LinearScale\",\"id\":\"7662f5ff-a6a2-41d7-b3c7-db82cf604f2a\"},\"y_scale\":{\"type\":\"object\",\"name\":\"LinearScale\",\"id\":\"b683cb20-4362-4ccf-954b-0b13414e592e\"},\"title\":{\"type\":\"object\",\"name\":\"Title\",\"id\":\"ae77b2ef-bcd2-4e69-9025-244472ec203d\",\"attributes\":{\"text_color\":\"black\",\"text_font_size\":\"12pt\"}},\"renderers\":[{\"type\":\"object\",\"name\":\"GlyphRenderer\",\"id\":\"fcc99700-5f6a-400f-bb55-7d6edeb883ea\",\"attributes\":{\"data_source\":{\"type\":\"object\",\"name\":\"ColumnDataSource\",\"id\":\"19e34258-47db-4d19-91f5-7aee520324d6\",\"attributes\":{\"selected\":{\"type\":\"object\",\"name\":\"Selection\",\"id\":\"9a9aff1c-8f1a-4d44-949b-6020a89d2499\",\"attributes\":{\"indices\":[],\"line_indices\":[]}},\"selection_policy\":{\"type\":\"object\",\"name\":\"UnionRenderers\",\"id\":\"27be1367-62f5-486b-a573-a867aaad787d\"},\"data\":{\"type\":\"map\",\"entries\":[[\"x\",{\"type\":\"ndarray\",\"array\":{\"type\":\"bytes\",\"data\":\"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\"},\"shape\":[501],\"dtype\":\"float64\",\"order\":\"little\"}],[\"y\",{\"type\":\"ndarray\",\"array\":{\"type\":\"bytes\",\"data\":\"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\"},\"shape\":[501],\"dtype\":\"float64\",\"order\":\"little\"}]]}}},\"view\":{\"type\":\"object\",\"name\":\"CDSView\",\"id\":\"0ced6e3c-5b77-4a11-bd07-39cf99c459bb\",\"attributes\":{\"filter\":{\"type\":\"object\",\"name\":\"AllIndices\",\"id\":\"d939ee52-6f8b-432a-a69b-e9c60d89f666\"}}},\"glyph\":{\"type\":\"object\",\"name\":\"Line\",\"id\":\"c3c2ce8c-fb00-4753-a4e0-c56a259de1ff\",\"attributes\":{\"tags\":[\"apply_ranges\"],\"x\":{\"type\":\"field\",\"field\":\"x\"},\"y\":{\"type\":\"field\",\"field\":\"y\"},\"line_color\":\"#30a2da\",\"line_width\":2}},\"selection_glyph\":{\"type\":\"object\",\"name\":\"Line\",\"id\":\"ad7ded73-b0cb-4b95-a31d-36aaa6d593e0\",\"attributes\":{\"tags\":[\"apply_ranges\"],\"x\":{\"type\":\"field\",\"field\":\"x\"},\"y\":{\"type\":\"field\",\"field\":\"y\"},\"line_color\":\"#30a2da\",\"line_width\":2}},\"nonselection_glyph\":{\"type\":\"object\",\"name\":\"Line\",\"id\":\"77e3a93c-d01f-4e60-8382-af3b9b6403d4\",\"attributes\":{\"tags\":[\"apply_ranges\"],\"x\":{\"type\":\"field\",\"field\":\"x\"},\"y\":{\"type\":\"field\",\"field\":\"y\"},\"line_color\":\"#30a2da\",\"line_alpha\":0.1,\"line_width\":2}},\"muted_glyph\":{\"type\":\"object\",\"name\":\"Line\",\"id\":\"56400c1d-f48d-4087-b2c0-f447d554bd02\",\"attributes\":{\"tags\":[\"apply_ranges\"],\"x\":{\"type\":\"field\",\"field\":\"x\"},\"y\":{\"type\":\"field\",\"field\":\"y\"},\"line_color\":\"#30a2da\",\"line_alpha\":0.2,\"line_width\":2}}}}],\"toolbar\":{\"type\":\"object\",\"name\":\"Toolbar\",\"id\":\"8ab8fb0a-12aa-4ccb-89ba-f20dfd14f398\",\"attributes\":{\"tools\":[{\"type\":\"object\",\"name\":\"WheelZoomTool\",\"id\":\"73a509b6-c6c7-4f32-a34a-9a65399e919f\",\"attributes\":{\"tags\":[\"hv_created\"],\"renderers\":\"auto\",\"zoom_together\":\"none\"}},{\"type\":\"object\",\"name\":\"SaveTool\",\"id\":\"2d3758ac-d3f7-4ebb-85ca-6fb5037b7e21\"},{\"type\":\"object\",\"name\":\"PanTool\",\"id\":\"36ea0b8f-e2f8-441b-88f3-bf8d6b1d8bc9\"},{\"type\":\"object\",\"name\":\"BoxZoomTool\",\"id\":\"bc4a845d-e77b-404c-956f-c6f7769b841f\",\"attributes\":{\"overlay\":{\"type\":\"object\",\"name\":\"BoxAnnotation\",\"id\":\"caf2f525-b0cb-44aa-b20a-121987cdbe87\",\"attributes\":{\"syncable\":false,\"line_color\":\"black\",\"line_alpha\":1.0,\"line_width\":2,\"line_dash\":[4,4],\"fill_color\":\"lightgrey\",\"fill_alpha\":0.5,\"level\":\"overlay\",\"visible\":false,\"left\":{\"type\":\"number\",\"value\":\"nan\"},\"right\":{\"type\":\"number\",\"value\":\"nan\"},\"top\":{\"type\":\"number\",\"value\":\"nan\"},\"bottom\":{\"type\":\"number\",\"value\":\"nan\"},\"left_units\":\"canvas\",\"right_units\":\"canvas\",\"top_units\":\"canvas\",\"bottom_units\":\"canvas\",\"handles\":{\"type\":\"object\",\"name\":\"BoxInteractionHandles\",\"id\":\"d4173ebd-0425-40a9-b593-f9d84d5d65f1\",\"attributes\":{\"all\":{\"type\":\"object\",\"name\":\"AreaVisuals\",\"id\":\"4b1eae57-def0-4817-9bfc-2f54e53fad03\",\"attributes\":{\"fill_color\":\"white\",\"hover_fill_color\":\"lightgray\"}}}}}}}},{\"type\":\"object\",\"name\":\"ResetTool\",\"id\":\"9249ddeb-77bc-4b9b-883c-1d0cb3fce4c9\"}],\"active_drag\":{\"id\":\"36ea0b8f-e2f8-441b-88f3-bf8d6b1d8bc9\"},\"active_scroll\":{\"id\":\"73a509b6-c6c7-4f32-a34a-9a65399e919f\"}}},\"left\":[{\"type\":\"object\",\"name\":\"LinearAxis\",\"id\":\"f2c6062b-b83f-4515-8e22-c8bbe9d7cd68\",\"attributes\":{\"ticker\":{\"type\":\"object\",\"name\":\"BasicTicker\",\"id\":\"5ffa6843-76c6-4cca-9307-84637d300338\",\"attributes\":{\"mantissas\":[1,2,5]}},\"formatter\":{\"type\":\"object\",\"name\":\"BasicTickFormatter\",\"id\":\"9b8a21f3-5ffb-4ce6-b1e8-5f9555cdf080\"},\"axis_label\":\"y\",\"major_label_policy\":{\"type\":\"object\",\"name\":\"AllLabels\",\"id\":\"4d049b2c-28b4-49fe-b35d-699bc2f598b0\"}}}],\"below\":[{\"type\":\"object\",\"name\":\"LinearAxis\",\"id\":\"19c8bbda-22a1-4dfb-9c0e-68914a248dec\",\"attributes\":{\"ticker\":{\"type\":\"object\",\"name\":\"BasicTicker\",\"id\":\"5bcc806d-c737-409c-8e7f-a7d6d5071e42\",\"attributes\":{\"mantissas\":[1,2,5]}},\"formatter\":{\"type\":\"object\",\"name\":\"BasicTickFormatter\",\"id\":\"9591c973-9157-4bd5-903d-584e606459d0\"},\"axis_label\":\"x\",\"major_label_policy\":{\"type\":\"object\",\"name\":\"AllLabels\",\"id\":\"f0f6c263-fc76-425e-aea3-cb83eb319f5b\"}}}],\"center\":[{\"type\":\"object\",\"name\":\"Grid\",\"id\":\"9b008159-e6eb-4ae7-bdae-f4c768b5a90d\",\"attributes\":{\"axis\":{\"id\":\"19c8bbda-22a1-4dfb-9c0e-68914a248dec\"},\"grid_line_color\":null}},{\"type\":\"object\",\"name\":\"Grid\",\"id\":\"5171a6e7-bc28-4aa4-a94c-a800b7ff3023\",\"attributes\":{\"dimension\":1,\"axis\":{\"id\":\"f2c6062b-b83f-4515-8e22-c8bbe9d7cd68\"},\"grid_line_color\":null}}],\"min_border_top\":10,\"min_border_bottom\":10,\"min_border_left\":10,\"min_border_right\":10,\"output_backend\":\"webgl\"}},{\"type\":\"object\",\"name\":\"Spacer\",\"id\":\"7b7533f6-52d0-4ead-ac66-485d50efc764\",\"attributes\":{\"name\":\"HSpacer01703\",\"stylesheets\":[\"\\n:host(.pn-loading):before, .pn-loading:before {\\n  background-color: #c3c3c3;\\n  mask-size: auto calc(min(50%, 400px));\\n  -webkit-mask-size: auto calc(min(50%, 400px));\\n}\",{\"id\":\"55d22423-d576-4e35-9b40-dc0ecba8f5fe\"},{\"id\":\"42498823-7da9-46b5-ba5e-4905dccdabd8\"},{\"id\":\"a6f9ca15-0ae3-4c0d-b821-4783948f3454\"}],\"min_width\":0,\"margin\":0,\"sizing_mode\":\"stretch_width\",\"align\":\"start\"}}]}}],\"defs\":[{\"type\":\"model\",\"name\":\"ReactiveHTML1\"},{\"type\":\"model\",\"name\":\"FlexBox1\",\"properties\":[{\"name\":\"align_content\",\"kind\":\"Any\",\"default\":\"flex-start\"},{\"name\":\"align_items\",\"kind\":\"Any\",\"default\":\"flex-start\"},{\"name\":\"flex_direction\",\"kind\":\"Any\",\"default\":\"row\"},{\"name\":\"flex_wrap\",\"kind\":\"Any\",\"default\":\"wrap\"},{\"name\":\"gap\",\"kind\":\"Any\",\"default\":\"\"},{\"name\":\"justify_content\",\"kind\":\"Any\",\"default\":\"flex-start\"}]},{\"type\":\"model\",\"name\":\"FloatPanel1\",\"properties\":[{\"name\":\"config\",\"kind\":\"Any\",\"default\":{\"type\":\"map\"}},{\"name\":\"contained\",\"kind\":\"Any\",\"default\":true},{\"name\":\"position\",\"kind\":\"Any\",\"default\":\"right-top\"},{\"name\":\"offsetx\",\"kind\":\"Any\",\"default\":null},{\"name\":\"offsety\",\"kind\":\"Any\",\"default\":null},{\"name\":\"theme\",\"kind\":\"Any\",\"default\":\"primary\"},{\"name\":\"status\",\"kind\":\"Any\",\"default\":\"normalized\"}]},{\"type\":\"model\",\"name\":\"GridStack1\",\"properties\":[{\"name\":\"ncols\",\"kind\":\"Any\",\"default\":null},{\"name\":\"nrows\",\"kind\":\"Any\",\"default\":null},{\"name\":\"allow_resize\",\"kind\":\"Any\",\"default\":true},{\"name\":\"allow_drag\",\"kind\":\"Any\",\"default\":true},{\"name\":\"state\",\"kind\":\"Any\",\"default\":[]}]},{\"type\":\"model\",\"name\":\"drag1\",\"properties\":[{\"name\":\"slider_width\",\"kind\":\"Any\",\"default\":5},{\"name\":\"slider_color\",\"kind\":\"Any\",\"default\":\"black\"},{\"name\":\"value\",\"kind\":\"Any\",\"default\":50}]},{\"type\":\"model\",\"name\":\"click1\",\"properties\":[{\"name\":\"terminal_output\",\"kind\":\"Any\",\"default\":\"\"},{\"name\":\"debug_name\",\"kind\":\"Any\",\"default\":\"\"},{\"name\":\"clears\",\"kind\":\"Any\",\"default\":0}]},{\"type\":\"model\",\"name\":\"FastWrapper1\",\"properties\":[{\"name\":\"object\",\"kind\":\"Any\",\"default\":null},{\"name\":\"style\",\"kind\":\"Any\",\"default\":null}]},{\"type\":\"model\",\"name\":\"NotificationArea1\",\"properties\":[{\"name\":\"js_events\",\"kind\":\"Any\",\"default\":{\"type\":\"map\"}},{\"name\":\"max_notifications\",\"kind\":\"Any\",\"default\":5},{\"name\":\"notifications\",\"kind\":\"Any\",\"default\":[]},{\"name\":\"position\",\"kind\":\"Any\",\"default\":\"bottom-right\"},{\"name\":\"_clear\",\"kind\":\"Any\",\"default\":0},{\"name\":\"types\",\"kind\":\"Any\",\"default\":[{\"type\":\"map\",\"entries\":[[\"type\",\"warning\"],[\"background\",\"#ffc107\"],[\"icon\",{\"type\":\"map\",\"entries\":[[\"className\",\"fas fa-exclamation-triangle\"],[\"tagName\",\"i\"],[\"color\",\"white\"]]}]]},{\"type\":\"map\",\"entries\":[[\"type\",\"info\"],[\"background\",\"#007bff\"],[\"icon\",{\"type\":\"map\",\"entries\":[[\"className\",\"fas fa-info-circle\"],[\"tagName\",\"i\"],[\"color\",\"white\"]]}]]}]}]},{\"type\":\"model\",\"name\":\"Notification\",\"properties\":[{\"name\":\"background\",\"kind\":\"Any\",\"default\":null},{\"name\":\"duration\",\"kind\":\"Any\",\"default\":3000},{\"name\":\"icon\",\"kind\":\"Any\",\"default\":null},{\"name\":\"message\",\"kind\":\"Any\",\"default\":\"\"},{\"name\":\"notification_type\",\"kind\":\"Any\",\"default\":null},{\"name\":\"_rendered\",\"kind\":\"Any\",\"default\":false},{\"name\":\"_destroyed\",\"kind\":\"Any\",\"default\":false}]},{\"type\":\"model\",\"name\":\"TemplateActions1\",\"properties\":[{\"name\":\"open_modal\",\"kind\":\"Any\",\"default\":0},{\"name\":\"close_modal\",\"kind\":\"Any\",\"default\":0}]},{\"type\":\"model\",\"name\":\"BootstrapTemplateActions1\",\"properties\":[{\"name\":\"open_modal\",\"kind\":\"Any\",\"default\":0},{\"name\":\"close_modal\",\"kind\":\"Any\",\"default\":0}]},{\"type\":\"model\",\"name\":\"TemplateEditor1\",\"properties\":[{\"name\":\"layout\",\"kind\":\"Any\",\"default\":[]}]},{\"type\":\"model\",\"name\":\"MaterialTemplateActions1\",\"properties\":[{\"name\":\"open_modal\",\"kind\":\"Any\",\"default\":0},{\"name\":\"close_modal\",\"kind\":\"Any\",\"default\":0}]},{\"type\":\"model\",\"name\":\"ReactiveESM1\",\"properties\":[{\"name\":\"esm_constants\",\"kind\":\"Any\",\"default\":{\"type\":\"map\"}}]},{\"type\":\"model\",\"name\":\"JSComponent1\",\"properties\":[{\"name\":\"esm_constants\",\"kind\":\"Any\",\"default\":{\"type\":\"map\"}}]},{\"type\":\"model\",\"name\":\"ReactComponent1\",\"properties\":[{\"name\":\"esm_constants\",\"kind\":\"Any\",\"default\":{\"type\":\"map\"}}]},{\"type\":\"model\",\"name\":\"AnyWidgetComponent1\",\"properties\":[{\"name\":\"esm_constants\",\"kind\":\"Any\",\"default\":{\"type\":\"map\"}}]},{\"type\":\"model\",\"name\":\"request_value1\",\"properties\":[{\"name\":\"fill\",\"kind\":\"Any\",\"default\":\"none\"},{\"name\":\"_synced\",\"kind\":\"Any\",\"default\":null},{\"name\":\"_request_sync\",\"kind\":\"Any\",\"default\":0}]},{\"type\":\"model\",\"name\":\"holoviews.plotting.bokeh.raster.HoverModel\",\"properties\":[{\"name\":\"xy\",\"kind\":\"Any\",\"default\":null},{\"name\":\"data\",\"kind\":\"Any\",\"default\":null}]}]}};\n",
       "  var render_items = [{\"docid\":\"828e9f92-08c6-4b06-a2d9-9d4a5b10b005\",\"roots\":{\"b9a069f8-7c43-40eb-8a9a-bce70b55b470\":\"b97cdc3c-6c6a-4f72-acab-d447dbde5ad0\"},\"root_ids\":[\"b9a069f8-7c43-40eb-8a9a-bce70b55b470\"]}];\n",
       "  var docs = Object.values(docs_json)\n",
       "  if (!docs) {\n",
       "    return\n",
       "  }\n",
       "  const py_version = docs[0].version.replace('rc', '-rc.').replace('.dev', '-dev.')\n",
       "  async function embed_document(root) {\n",
       "    var Bokeh = get_bokeh(root)\n",
       "    await Bokeh.embed.embed_items_notebook(docs_json, render_items);\n",
       "    for (const render_item of render_items) {\n",
       "      for (const root_id of render_item.root_ids) {\n",
       "\tconst id_el = document.getElementById(root_id)\n",
       "\tif (id_el.children.length && id_el.children[0].hasAttribute('data-root-id')) {\n",
       "\t  const root_el = id_el.children[0]\n",
       "\t  root_el.id = root_el.id + '-rendered'\n",
       "\t  for (const child of root_el.children) {\n",
       "            // Ensure JupyterLab does not capture keyboard shortcuts\n",
       "            // see: https://jupyterlab.readthedocs.io/en/4.1.x/extension/notebook.html#keyboard-interaction-model\n",
       "\t    child.setAttribute('data-lm-suppress-shortcuts', 'true')\n",
       "\t  }\n",
       "\t}\n",
       "      }\n",
       "    }\n",
       "  }\n",
       "  function get_bokeh(root) {\n",
       "    if (root.Bokeh === undefined) {\n",
       "      return null\n",
       "    } else if (root.Bokeh.version !== py_version) {\n",
       "      if (root.Bokeh.versions === undefined || !root.Bokeh.versions.has(py_version)) {\n",
       "\treturn null\n",
       "      }\n",
       "      return root.Bokeh.versions.get(py_version);\n",
       "    } else if (root.Bokeh.version === py_version) {\n",
       "      return root.Bokeh\n",
       "    }\n",
       "    return null\n",
       "  }\n",
       "  function is_loaded(root) {\n",
       "    var Bokeh = get_bokeh(root)\n",
       "    return (Bokeh != null && Bokeh.Panel !== undefined)\n",
       "  }\n",
       "  if (is_loaded(root)) {\n",
       "    embed_document(root);\n",
       "  } else {\n",
       "    var attempts = 0;\n",
       "    var timer = setInterval(function(root) {\n",
       "      if (is_loaded(root)) {\n",
       "        clearInterval(timer);\n",
       "        embed_document(root);\n",
       "      } else if (document.readyState == \"complete\") {\n",
       "        attempts++;\n",
       "        if (attempts > 200) {\n",
       "          clearInterval(timer);\n",
       "\t  var Bokeh = get_bokeh(root)\n",
       "\t  if (Bokeh == null || Bokeh.Panel == null) {\n",
       "            console.warn(\"Panel: ERROR: Unable to run Panel code because Bokeh or Panel library is missing\");\n",
       "\t  } else {\n",
       "\t    console.warn(\"Panel: WARNING: Attempting to render but not all required libraries could be resolved.\")\n",
       "\t    embed_document(root)\n",
       "\t  }\n",
       "        }\n",
       "      }\n",
       "    }, 25, root)\n",
       "  }\n",
       "})(window);</script>"
      ],
      "application/vnd.holoviews_exec.v0+json": "",
      "text/plain": [
       ":Curve   [x]   (y)"
      ]
     },
     "execution_count": 57,
     "metadata": {
      "application/vnd.holoviews_exec.v0+json": {
       "id": "b9a069f8-7c43-40eb-8a9a-bce70b55b470"
      }
     },
     "output_type": "execute_result"
    }
   ],
   "execution_count": 57
  },
  {
   "cell_type": "code",
   "id": "d908dd49",
   "metadata": {
    "ExecuteTime": {
     "end_time": "2025-09-24T15:58:31.279977Z",
     "start_time": "2025-09-24T15:58:31.008797Z"
    }
   },
   "source": [
    "freq = peak1[\"pna_frequency_axis\"]\n",
    "fc_i = float((freq[0] + freq[-1]) / 2)\n",
    "p0 = [fc_i, 1e5, 1e2, -100, -9]  # f,fc,Qi,Qc,phi,S0 p0 = [fc_i, 1e4, 1e3, -100, -9]\n",
    "popt, pcov = curve_fit(S21, freq, peak1[\"pna_tr1_magnitude\"], p0)\n",
    "\n",
    "Qi = np.format_float_scientific(np.abs(popt[1]), 3)\n",
    "Qc = np.format_float_scientific(np.abs(popt[2]), 3)\n",
    "Ql = np.format_float_scientific(1 / (1 / np.abs(popt[2] ) + 1 / np.abs(popt[1])), 3)\n",
    "\n",
    "curve=(\n",
    "(\n",
    "    hv.Curve((freq, peak1[\"pna_tr1_magnitude\"]), label=\"data\")\n",
    "    * hv.Curve((freq, S21(freq, *popt)), label=\"fit\")\n",
    ").opts(\n",
    "    legend_position=\"bottom_right\",\n",
    "    xlabel=\"Frequency (Hz)\",\n",
    "    ylabel=\"Magnitude (dB)\",\n",
    "    width=500,\n",
    "    height=300,\n",
    "    title=\"Qi = \" + str(Qi) + \" , Qc = \" + str(Qc) + \" & Ql = \" + str(Ql),\n",
    "))\n",
    "curve"
   ],
   "outputs": [
    {
     "data": {},
     "metadata": {},
     "output_type": "display_data",
     "jetTransient": {
      "display_id": "488b88462af9456eaec2cc98344587d6"
     }
    },
    {
     "data": {
      "text/html": [
       "<div id='c38b11bd-d1f0-453c-9191-0f4b97f32a2b'>\n",
       "  <div id=\"e3b8fa9c-4e74-48b2-8564-b85112b8ee63\" data-root-id=\"c38b11bd-d1f0-453c-9191-0f4b97f32a2b\" style=\"display: contents;\"></div>\n",
       "</div>\n",
       "<script type=\"application/javascript\">(function(root) {\n",
       "  var docs_json = {\"7cc42efa-5856-4fb9-b83c-846158400652\":{\"version\":\"3.6.2\",\"title\":\"Bokeh Application\",\"roots\":[{\"type\":\"object\",\"name\":\"Row\",\"id\":\"c38b11bd-d1f0-453c-9191-0f4b97f32a2b\",\"attributes\":{\"name\":\"Row01733\",\"tags\":[\"embedded\"],\"stylesheets\":[\"\\n:host(.pn-loading):before, .pn-loading:before {\\n  background-color: #c3c3c3;\\n  mask-size: auto calc(min(50%, 400px));\\n  -webkit-mask-size: auto calc(min(50%, 400px));\\n}\",{\"type\":\"object\",\"name\":\"ImportedStyleSheet\",\"id\":\"c6138dfe-5368-4ece-b4ed-e3bfc9ad0b41\",\"attributes\":{\"url\":\"https://cdn.holoviz.org/panel/1.7.0/dist/css/loading.css\"}},{\"type\":\"object\",\"name\":\"ImportedStyleSheet\",\"id\":\"8864d427-addd-43c9-9dff-6c0e5233221a\",\"attributes\":{\"url\":\"https://cdn.holoviz.org/panel/1.7.0/dist/css/listpanel.css\"}},{\"type\":\"object\",\"name\":\"ImportedStyleSheet\",\"id\":\"6b87fc5b-a1de-449a-bfb7-fd5f2299d1d7\",\"attributes\":{\"url\":\"https://cdn.holoviz.org/panel/1.7.0/dist/bundled/theme/default.css\"}},{\"type\":\"object\",\"name\":\"ImportedStyleSheet\",\"id\":\"b1b675d4-e936-4dc3-83da-609c6d3d11eb\",\"attributes\":{\"url\":\"https://cdn.holoviz.org/panel/1.7.0/dist/bundled/theme/native.css\"}}],\"min_width\":500,\"margin\":0,\"sizing_mode\":\"stretch_width\",\"align\":\"start\",\"children\":[{\"type\":\"object\",\"name\":\"Spacer\",\"id\":\"5f7db14a-d85f-4e0e-aaf1-b062b8576dfe\",\"attributes\":{\"name\":\"HSpacer01737\",\"stylesheets\":[\"\\n:host(.pn-loading):before, .pn-loading:before {\\n  background-color: #c3c3c3;\\n  mask-size: auto calc(min(50%, 400px));\\n  -webkit-mask-size: auto calc(min(50%, 400px));\\n}\",{\"id\":\"c6138dfe-5368-4ece-b4ed-e3bfc9ad0b41\"},{\"id\":\"6b87fc5b-a1de-449a-bfb7-fd5f2299d1d7\"},{\"id\":\"b1b675d4-e936-4dc3-83da-609c6d3d11eb\"}],\"min_width\":0,\"margin\":0,\"sizing_mode\":\"stretch_width\",\"align\":\"start\"}},{\"type\":\"object\",\"name\":\"Figure\",\"id\":\"38577fc7-42c3-4141-9801-3fbccb9b8667\",\"attributes\":{\"width\":500,\"height\":300,\"margin\":[5,10],\"sizing_mode\":\"fixed\",\"align\":\"start\",\"x_range\":{\"type\":\"object\",\"name\":\"Range1d\",\"id\":\"95d2b8a8-c98b-4ae1-bb7a-a96b27819009\",\"attributes\":{\"name\":\"x\",\"tags\":[[[\"x\",null]],[]],\"start\":7416000000.0,\"end\":7420000000.0,\"reset_start\":7416000000.0,\"reset_end\":7420000000.0}},\"y_range\":{\"type\":\"object\",\"name\":\"Range1d\",\"id\":\"49be2513-c121-422d-87fd-93d082691294\",\"attributes\":{\"name\":\"y\",\"tags\":[[[\"y\",null]],{\"type\":\"map\",\"entries\":[[\"invert_yaxis\",false],[\"autorange\",false]]}],\"start\":-2.234940695762634,\"end\":-0.7952061414718627,\"reset_start\":-2.234940695762634,\"reset_end\":-0.7952061414718627}},\"x_scale\":{\"type\":\"object\",\"name\":\"LinearScale\",\"id\":\"a61990d6-6f73-4300-8d56-baf28d3cfe91\"},\"y_scale\":{\"type\":\"object\",\"name\":\"LinearScale\",\"id\":\"fc959ac8-cb5c-4fd9-87e4-e1d9c5d90e66\"},\"title\":{\"type\":\"object\",\"name\":\"Title\",\"id\":\"eab19428-0af6-4b05-a8b5-6be850161702\",\"attributes\":{\"text\":\"Qi = 6.513e+03 , Qc = 3.064e+03 & Ql = 2.084e+03\",\"text_color\":\"black\",\"text_font_size\":\"12pt\"}},\"renderers\":[{\"type\":\"object\",\"name\":\"GlyphRenderer\",\"id\":\"0cbd7c62-d475-465b-85a0-338148a24e0d\",\"attributes\":{\"name\":\"data\",\"data_source\":{\"type\":\"object\",\"name\":\"ColumnDataSource\",\"id\":\"7dbcc6c4-2058-4a0f-9d59-542707867ee7\",\"attributes\":{\"selected\":{\"type\":\"object\",\"name\":\"Selection\",\"id\":\"eff69e15-f9b3-476c-bfb5-107b9c0e5021\",\"attributes\":{\"indices\":[],\"line_indices\":[]}},\"selection_policy\":{\"type\":\"object\",\"name\":\"UnionRenderers\",\"id\":\"16bc8e92-583d-4b55-91dd-234bfee84b48\"},\"data\":{\"type\":\"map\",\"entries\":[[\"x\",{\"type\":\"ndarray\",\"array\":{\"type\":\"bytes\",\"data\":\"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\"},\"shape\":[501],\"dtype\":\"float64\",\"order\":\"little\"}],[\"y\",{\"type\":\"ndarray\",\"array\":{\"type\":\"bytes\",\"data\":\"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\"},\"shape\":[501],\"dtype\":\"float64\",\"order\":\"little\"}]]}}},\"view\":{\"type\":\"object\",\"name\":\"CDSView\",\"id\":\"b68b3fdd-e9ca-46f5-a404-bc1f404d6401\",\"attributes\":{\"filter\":{\"type\":\"object\",\"name\":\"AllIndices\",\"id\":\"a789d852-4342-4814-ac40-5609a13513f9\"}}},\"glyph\":{\"type\":\"object\",\"name\":\"Line\",\"id\":\"8b6b5b4b-336f-448a-ba2b-11c5098c5f9c\",\"attributes\":{\"tags\":[\"apply_ranges\"],\"x\":{\"type\":\"field\",\"field\":\"x\"},\"y\":{\"type\":\"field\",\"field\":\"y\"},\"line_color\":\"#30a2da\",\"line_width\":2}},\"selection_glyph\":{\"type\":\"object\",\"name\":\"Line\",\"id\":\"c5c37d2f-630a-47fe-9bf3-58023dea7007\",\"attributes\":{\"tags\":[\"apply_ranges\"],\"x\":{\"type\":\"field\",\"field\":\"x\"},\"y\":{\"type\":\"field\",\"field\":\"y\"},\"line_color\":\"#30a2da\",\"line_width\":2}},\"nonselection_glyph\":{\"type\":\"object\",\"name\":\"Line\",\"id\":\"7de9d202-aa25-4833-8a04-9d6ec9bbb651\",\"attributes\":{\"tags\":[\"apply_ranges\"],\"x\":{\"type\":\"field\",\"field\":\"x\"},\"y\":{\"type\":\"field\",\"field\":\"y\"},\"line_color\":\"#30a2da\",\"line_alpha\":0.1,\"line_width\":2}},\"muted_glyph\":{\"type\":\"object\",\"name\":\"Line\",\"id\":\"c73bd9d6-e6f3-4bfa-9037-f256bdc9ae7e\",\"attributes\":{\"tags\":[\"apply_ranges\"],\"x\":{\"type\":\"field\",\"field\":\"x\"},\"y\":{\"type\":\"field\",\"field\":\"y\"},\"line_color\":\"#30a2da\",\"line_alpha\":0.2,\"line_width\":2}}}},{\"type\":\"object\",\"name\":\"GlyphRenderer\",\"id\":\"64886857-dbbc-4e98-8045-d8bd826fe4f4\",\"attributes\":{\"name\":\"fit\",\"data_source\":{\"type\":\"object\",\"name\":\"ColumnDataSource\",\"id\":\"d9393705-2cf5-4bb2-83f6-a7ac5c1db4e5\",\"attributes\":{\"selected\":{\"type\":\"object\",\"name\":\"Selection\",\"id\":\"09c449f8-2054-4313-a19c-1a03f7f6b958\",\"attributes\":{\"indices\":[],\"line_indices\":[]}},\"selection_policy\":{\"type\":\"object\",\"name\":\"UnionRenderers\",\"id\":\"85b85cb8-62de-4921-9ef1-0c6cf0cffbfa\"},\"data\":{\"type\":\"map\",\"entries\":[[\"x\",{\"type\":\"ndarray\",\"array\":{\"type\":\"bytes\",\"data\":\"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\"},\"shape\":[501],\"dtype\":\"float64\",\"order\":\"little\"}],[\"y\",{\"type\":\"ndarray\",\"array\":{\"type\":\"bytes\",\"data\":\"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\"},\"shape\":[501],\"dtype\":\"float64\",\"order\":\"little\"}]]}}},\"view\":{\"type\":\"object\",\"name\":\"CDSView\",\"id\":\"1a7ebc79-b862-46bb-9708-60248e8b3fe9\",\"attributes\":{\"filter\":{\"type\":\"object\",\"name\":\"AllIndices\",\"id\":\"bc5439a8-91ac-4e14-8439-65f4d141b6e4\"}}},\"glyph\":{\"type\":\"object\",\"name\":\"Line\",\"id\":\"8267b17e-2edc-409f-bf1a-e1a8a2cff345\",\"attributes\":{\"tags\":[\"apply_ranges\"],\"x\":{\"type\":\"field\",\"field\":\"x\"},\"y\":{\"type\":\"field\",\"field\":\"y\"},\"line_color\":\"#fc4f30\",\"line_width\":2}},\"selection_glyph\":{\"type\":\"object\",\"name\":\"Line\",\"id\":\"5eb2da8d-d818-4d78-9f94-2891d873c965\",\"attributes\":{\"tags\":[\"apply_ranges\"],\"x\":{\"type\":\"field\",\"field\":\"x\"},\"y\":{\"type\":\"field\",\"field\":\"y\"},\"line_color\":\"#fc4f30\",\"line_width\":2}},\"nonselection_glyph\":{\"type\":\"object\",\"name\":\"Line\",\"id\":\"284a6b4f-4fba-4c1f-94cc-10755788332f\",\"attributes\":{\"tags\":[\"apply_ranges\"],\"x\":{\"type\":\"field\",\"field\":\"x\"},\"y\":{\"type\":\"field\",\"field\":\"y\"},\"line_color\":\"#fc4f30\",\"line_alpha\":0.1,\"line_width\":2}},\"muted_glyph\":{\"type\":\"object\",\"name\":\"Line\",\"id\":\"fea8344e-509f-4470-bb10-acd2979cf54c\",\"attributes\":{\"tags\":[\"apply_ranges\"],\"x\":{\"type\":\"field\",\"field\":\"x\"},\"y\":{\"type\":\"field\",\"field\":\"y\"},\"line_color\":\"#fc4f30\",\"line_alpha\":0.2,\"line_width\":2}}}}],\"toolbar\":{\"type\":\"object\",\"name\":\"Toolbar\",\"id\":\"8ffa4932-cc7a-4e7d-a3c3-d54b6e8f445b\",\"attributes\":{\"tools\":[{\"type\":\"object\",\"name\":\"WheelZoomTool\",\"id\":\"62740c8d-2d67-4f19-adfb-abb6f36e3afa\",\"attributes\":{\"tags\":[\"hv_created\"],\"renderers\":\"auto\",\"zoom_together\":\"none\"}},{\"type\":\"object\",\"name\":\"SaveTool\",\"id\":\"fb29ef9a-3194-48ae-8f28-850fb4771b92\"},{\"type\":\"object\",\"name\":\"PanTool\",\"id\":\"6c9a08c7-59a1-4470-8f84-cb3bd45058b7\"},{\"type\":\"object\",\"name\":\"BoxZoomTool\",\"id\":\"16365142-7282-409b-b9e0-70058ed2abfe\",\"attributes\":{\"overlay\":{\"type\":\"object\",\"name\":\"BoxAnnotation\",\"id\":\"9691d300-aad0-403a-b82e-5886844630b9\",\"attributes\":{\"syncable\":false,\"line_color\":\"black\",\"line_alpha\":1.0,\"line_width\":2,\"line_dash\":[4,4],\"fill_color\":\"lightgrey\",\"fill_alpha\":0.5,\"level\":\"overlay\",\"visible\":false,\"left\":{\"type\":\"number\",\"value\":\"nan\"},\"right\":{\"type\":\"number\",\"value\":\"nan\"},\"top\":{\"type\":\"number\",\"value\":\"nan\"},\"bottom\":{\"type\":\"number\",\"value\":\"nan\"},\"left_units\":\"canvas\",\"right_units\":\"canvas\",\"top_units\":\"canvas\",\"bottom_units\":\"canvas\",\"handles\":{\"type\":\"object\",\"name\":\"BoxInteractionHandles\",\"id\":\"64faf7dd-f0aa-4a42-b14e-9dbc91640107\",\"attributes\":{\"all\":{\"type\":\"object\",\"name\":\"AreaVisuals\",\"id\":\"24d3cb55-87ee-48cc-8e8c-94a5af78c6a2\",\"attributes\":{\"fill_color\":\"white\",\"hover_fill_color\":\"lightgray\"}}}}}}}},{\"type\":\"object\",\"name\":\"ResetTool\",\"id\":\"12405669-3045-477e-9fa0-23084f938c98\"}],\"active_drag\":{\"id\":\"6c9a08c7-59a1-4470-8f84-cb3bd45058b7\"},\"active_scroll\":{\"id\":\"62740c8d-2d67-4f19-adfb-abb6f36e3afa\"}}},\"left\":[{\"type\":\"object\",\"name\":\"LinearAxis\",\"id\":\"4fea9278-33f7-4a85-a68d-f93638c20e65\",\"attributes\":{\"ticker\":{\"type\":\"object\",\"name\":\"BasicTicker\",\"id\":\"adc49ab9-3266-4349-835d-98effd508a70\",\"attributes\":{\"mantissas\":[1,2,5]}},\"formatter\":{\"type\":\"object\",\"name\":\"BasicTickFormatter\",\"id\":\"2d36d416-bfe0-4784-b03e-da202d9041fb\"},\"axis_label\":\"Magnitude (dB)\",\"major_label_policy\":{\"type\":\"object\",\"name\":\"AllLabels\",\"id\":\"eb38a17f-c951-4831-ad23-7a71352f7a22\"}}}],\"below\":[{\"type\":\"object\",\"name\":\"LinearAxis\",\"id\":\"dc36030e-f2d0-4a5b-8327-62da9206b35e\",\"attributes\":{\"ticker\":{\"type\":\"object\",\"name\":\"BasicTicker\",\"id\":\"064c5cf8-8c07-46c9-990e-3b9d62bef21c\",\"attributes\":{\"mantissas\":[1,2,5]}},\"formatter\":{\"type\":\"object\",\"name\":\"BasicTickFormatter\",\"id\":\"fcc85070-114e-457d-9e34-342a5acec03c\"},\"axis_label\":\"Frequency (Hz)\",\"major_label_policy\":{\"type\":\"object\",\"name\":\"AllLabels\",\"id\":\"1b921199-41f3-41e6-adf2-87a1b9d37cdf\"}}}],\"center\":[{\"type\":\"object\",\"name\":\"Grid\",\"id\":\"e3705bf0-98bb-4ee9-bb64-8a9a99bfdb38\",\"attributes\":{\"axis\":{\"id\":\"dc36030e-f2d0-4a5b-8327-62da9206b35e\"},\"grid_line_color\":null}},{\"type\":\"object\",\"name\":\"Grid\",\"id\":\"f336d5ff-73da-4d43-b18f-74fe40010c8b\",\"attributes\":{\"dimension\":1,\"axis\":{\"id\":\"4fea9278-33f7-4a85-a68d-f93638c20e65\"},\"grid_line_color\":null}},{\"type\":\"object\",\"name\":\"Legend\",\"id\":\"e477768d-d770-4641-977b-86ae5d7712d9\",\"attributes\":{\"location\":\"bottom_right\",\"click_policy\":\"mute\",\"items\":[{\"type\":\"object\",\"name\":\"LegendItem\",\"id\":\"0c30d73f-373f-4b8a-a6c8-398b82a09fe2\",\"attributes\":{\"label\":{\"type\":\"value\",\"value\":\"data\"},\"renderers\":[{\"id\":\"0cbd7c62-d475-465b-85a0-338148a24e0d\"}]}},{\"type\":\"object\",\"name\":\"LegendItem\",\"id\":\"5e27eea7-03bd-487a-bb72-762ccc139864\",\"attributes\":{\"label\":{\"type\":\"value\",\"value\":\"fit\"},\"renderers\":[{\"id\":\"64886857-dbbc-4e98-8045-d8bd826fe4f4\"}]}}]}}],\"min_border_top\":10,\"min_border_bottom\":10,\"min_border_left\":10,\"min_border_right\":10,\"output_backend\":\"webgl\"}},{\"type\":\"object\",\"name\":\"Spacer\",\"id\":\"8a0fc908-faf2-478e-a68a-dbb8dfd9784e\",\"attributes\":{\"name\":\"HSpacer01738\",\"stylesheets\":[\"\\n:host(.pn-loading):before, .pn-loading:before {\\n  background-color: #c3c3c3;\\n  mask-size: auto calc(min(50%, 400px));\\n  -webkit-mask-size: auto calc(min(50%, 400px));\\n}\",{\"id\":\"c6138dfe-5368-4ece-b4ed-e3bfc9ad0b41\"},{\"id\":\"6b87fc5b-a1de-449a-bfb7-fd5f2299d1d7\"},{\"id\":\"b1b675d4-e936-4dc3-83da-609c6d3d11eb\"}],\"min_width\":0,\"margin\":0,\"sizing_mode\":\"stretch_width\",\"align\":\"start\"}}]}}],\"defs\":[{\"type\":\"model\",\"name\":\"ReactiveHTML1\"},{\"type\":\"model\",\"name\":\"FlexBox1\",\"properties\":[{\"name\":\"align_content\",\"kind\":\"Any\",\"default\":\"flex-start\"},{\"name\":\"align_items\",\"kind\":\"Any\",\"default\":\"flex-start\"},{\"name\":\"flex_direction\",\"kind\":\"Any\",\"default\":\"row\"},{\"name\":\"flex_wrap\",\"kind\":\"Any\",\"default\":\"wrap\"},{\"name\":\"gap\",\"kind\":\"Any\",\"default\":\"\"},{\"name\":\"justify_content\",\"kind\":\"Any\",\"default\":\"flex-start\"}]},{\"type\":\"model\",\"name\":\"FloatPanel1\",\"properties\":[{\"name\":\"config\",\"kind\":\"Any\",\"default\":{\"type\":\"map\"}},{\"name\":\"contained\",\"kind\":\"Any\",\"default\":true},{\"name\":\"position\",\"kind\":\"Any\",\"default\":\"right-top\"},{\"name\":\"offsetx\",\"kind\":\"Any\",\"default\":null},{\"name\":\"offsety\",\"kind\":\"Any\",\"default\":null},{\"name\":\"theme\",\"kind\":\"Any\",\"default\":\"primary\"},{\"name\":\"status\",\"kind\":\"Any\",\"default\":\"normalized\"}]},{\"type\":\"model\",\"name\":\"GridStack1\",\"properties\":[{\"name\":\"ncols\",\"kind\":\"Any\",\"default\":null},{\"name\":\"nrows\",\"kind\":\"Any\",\"default\":null},{\"name\":\"allow_resize\",\"kind\":\"Any\",\"default\":true},{\"name\":\"allow_drag\",\"kind\":\"Any\",\"default\":true},{\"name\":\"state\",\"kind\":\"Any\",\"default\":[]}]},{\"type\":\"model\",\"name\":\"drag1\",\"properties\":[{\"name\":\"slider_width\",\"kind\":\"Any\",\"default\":5},{\"name\":\"slider_color\",\"kind\":\"Any\",\"default\":\"black\"},{\"name\":\"value\",\"kind\":\"Any\",\"default\":50}]},{\"type\":\"model\",\"name\":\"click1\",\"properties\":[{\"name\":\"terminal_output\",\"kind\":\"Any\",\"default\":\"\"},{\"name\":\"debug_name\",\"kind\":\"Any\",\"default\":\"\"},{\"name\":\"clears\",\"kind\":\"Any\",\"default\":0}]},{\"type\":\"model\",\"name\":\"FastWrapper1\",\"properties\":[{\"name\":\"object\",\"kind\":\"Any\",\"default\":null},{\"name\":\"style\",\"kind\":\"Any\",\"default\":null}]},{\"type\":\"model\",\"name\":\"NotificationArea1\",\"properties\":[{\"name\":\"js_events\",\"kind\":\"Any\",\"default\":{\"type\":\"map\"}},{\"name\":\"max_notifications\",\"kind\":\"Any\",\"default\":5},{\"name\":\"notifications\",\"kind\":\"Any\",\"default\":[]},{\"name\":\"position\",\"kind\":\"Any\",\"default\":\"bottom-right\"},{\"name\":\"_clear\",\"kind\":\"Any\",\"default\":0},{\"name\":\"types\",\"kind\":\"Any\",\"default\":[{\"type\":\"map\",\"entries\":[[\"type\",\"warning\"],[\"background\",\"#ffc107\"],[\"icon\",{\"type\":\"map\",\"entries\":[[\"className\",\"fas fa-exclamation-triangle\"],[\"tagName\",\"i\"],[\"color\",\"white\"]]}]]},{\"type\":\"map\",\"entries\":[[\"type\",\"info\"],[\"background\",\"#007bff\"],[\"icon\",{\"type\":\"map\",\"entries\":[[\"className\",\"fas fa-info-circle\"],[\"tagName\",\"i\"],[\"color\",\"white\"]]}]]}]}]},{\"type\":\"model\",\"name\":\"Notification\",\"properties\":[{\"name\":\"background\",\"kind\":\"Any\",\"default\":null},{\"name\":\"duration\",\"kind\":\"Any\",\"default\":3000},{\"name\":\"icon\",\"kind\":\"Any\",\"default\":null},{\"name\":\"message\",\"kind\":\"Any\",\"default\":\"\"},{\"name\":\"notification_type\",\"kind\":\"Any\",\"default\":null},{\"name\":\"_rendered\",\"kind\":\"Any\",\"default\":false},{\"name\":\"_destroyed\",\"kind\":\"Any\",\"default\":false}]},{\"type\":\"model\",\"name\":\"TemplateActions1\",\"properties\":[{\"name\":\"open_modal\",\"kind\":\"Any\",\"default\":0},{\"name\":\"close_modal\",\"kind\":\"Any\",\"default\":0}]},{\"type\":\"model\",\"name\":\"BootstrapTemplateActions1\",\"properties\":[{\"name\":\"open_modal\",\"kind\":\"Any\",\"default\":0},{\"name\":\"close_modal\",\"kind\":\"Any\",\"default\":0}]},{\"type\":\"model\",\"name\":\"TemplateEditor1\",\"properties\":[{\"name\":\"layout\",\"kind\":\"Any\",\"default\":[]}]},{\"type\":\"model\",\"name\":\"MaterialTemplateActions1\",\"properties\":[{\"name\":\"open_modal\",\"kind\":\"Any\",\"default\":0},{\"name\":\"close_modal\",\"kind\":\"Any\",\"default\":0}]},{\"type\":\"model\",\"name\":\"ReactiveESM1\",\"properties\":[{\"name\":\"esm_constants\",\"kind\":\"Any\",\"default\":{\"type\":\"map\"}}]},{\"type\":\"model\",\"name\":\"JSComponent1\",\"properties\":[{\"name\":\"esm_constants\",\"kind\":\"Any\",\"default\":{\"type\":\"map\"}}]},{\"type\":\"model\",\"name\":\"ReactComponent1\",\"properties\":[{\"name\":\"esm_constants\",\"kind\":\"Any\",\"default\":{\"type\":\"map\"}}]},{\"type\":\"model\",\"name\":\"AnyWidgetComponent1\",\"properties\":[{\"name\":\"esm_constants\",\"kind\":\"Any\",\"default\":{\"type\":\"map\"}}]},{\"type\":\"model\",\"name\":\"request_value1\",\"properties\":[{\"name\":\"fill\",\"kind\":\"Any\",\"default\":\"none\"},{\"name\":\"_synced\",\"kind\":\"Any\",\"default\":null},{\"name\":\"_request_sync\",\"kind\":\"Any\",\"default\":0}]},{\"type\":\"model\",\"name\":\"holoviews.plotting.bokeh.raster.HoverModel\",\"properties\":[{\"name\":\"xy\",\"kind\":\"Any\",\"default\":null},{\"name\":\"data\",\"kind\":\"Any\",\"default\":null}]}]}};\n",
       "  var render_items = [{\"docid\":\"7cc42efa-5856-4fb9-b83c-846158400652\",\"roots\":{\"c38b11bd-d1f0-453c-9191-0f4b97f32a2b\":\"e3b8fa9c-4e74-48b2-8564-b85112b8ee63\"},\"root_ids\":[\"c38b11bd-d1f0-453c-9191-0f4b97f32a2b\"]}];\n",
       "  var docs = Object.values(docs_json)\n",
       "  if (!docs) {\n",
       "    return\n",
       "  }\n",
       "  const py_version = docs[0].version.replace('rc', '-rc.').replace('.dev', '-dev.')\n",
       "  async function embed_document(root) {\n",
       "    var Bokeh = get_bokeh(root)\n",
       "    await Bokeh.embed.embed_items_notebook(docs_json, render_items);\n",
       "    for (const render_item of render_items) {\n",
       "      for (const root_id of render_item.root_ids) {\n",
       "\tconst id_el = document.getElementById(root_id)\n",
       "\tif (id_el.children.length && id_el.children[0].hasAttribute('data-root-id')) {\n",
       "\t  const root_el = id_el.children[0]\n",
       "\t  root_el.id = root_el.id + '-rendered'\n",
       "\t  for (const child of root_el.children) {\n",
       "            // Ensure JupyterLab does not capture keyboard shortcuts\n",
       "            // see: https://jupyterlab.readthedocs.io/en/4.1.x/extension/notebook.html#keyboard-interaction-model\n",
       "\t    child.setAttribute('data-lm-suppress-shortcuts', 'true')\n",
       "\t  }\n",
       "\t}\n",
       "      }\n",
       "    }\n",
       "  }\n",
       "  function get_bokeh(root) {\n",
       "    if (root.Bokeh === undefined) {\n",
       "      return null\n",
       "    } else if (root.Bokeh.version !== py_version) {\n",
       "      if (root.Bokeh.versions === undefined || !root.Bokeh.versions.has(py_version)) {\n",
       "\treturn null\n",
       "      }\n",
       "      return root.Bokeh.versions.get(py_version);\n",
       "    } else if (root.Bokeh.version === py_version) {\n",
       "      return root.Bokeh\n",
       "    }\n",
       "    return null\n",
       "  }\n",
       "  function is_loaded(root) {\n",
       "    var Bokeh = get_bokeh(root)\n",
       "    return (Bokeh != null && Bokeh.Panel !== undefined)\n",
       "  }\n",
       "  if (is_loaded(root)) {\n",
       "    embed_document(root);\n",
       "  } else {\n",
       "    var attempts = 0;\n",
       "    var timer = setInterval(function(root) {\n",
       "      if (is_loaded(root)) {\n",
       "        clearInterval(timer);\n",
       "        embed_document(root);\n",
       "      } else if (document.readyState == \"complete\") {\n",
       "        attempts++;\n",
       "        if (attempts > 200) {\n",
       "          clearInterval(timer);\n",
       "\t  var Bokeh = get_bokeh(root)\n",
       "\t  if (Bokeh == null || Bokeh.Panel == null) {\n",
       "            console.warn(\"Panel: ERROR: Unable to run Panel code because Bokeh or Panel library is missing\");\n",
       "\t  } else {\n",
       "\t    console.warn(\"Panel: WARNING: Attempting to render but not all required libraries could be resolved.\")\n",
       "\t    embed_document(root)\n",
       "\t  }\n",
       "        }\n",
       "      }\n",
       "    }, 25, root)\n",
       "  }\n",
       "})(window);</script>"
      ],
      "application/vnd.holoviews_exec.v0+json": "",
      "text/plain": [
       ":Overlay\n",
       "   .Curve.Data :Curve   [x]   (y)\n",
       "   .Curve.Fit  :Curve   [x]   (y)"
      ]
     },
     "execution_count": 58,
     "metadata": {
      "application/vnd.holoviews_exec.v0+json": {
       "id": "c38b11bd-d1f0-453c-9191-0f4b97f32a2b"
      }
     },
     "output_type": "execute_result"
    }
   ],
   "execution_count": 58
  },
  {
   "metadata": {
    "ExecuteTime": {
     "end_time": "2025-09-24T15:47:25.133390Z",
     "start_time": "2025-09-24T15:47:23.308133Z"
    }
   },
   "cell_type": "code",
   "source": "hv.save(curve, r\"D:\\Github\\rf-analysis-tools\\notebook\\fitting\\C12fit.png\")",
   "id": "2851c54b787f2d3e",
   "outputs": [],
   "execution_count": 10
  },
  {
   "cell_type": "code",
   "id": "a0f9207e",
   "metadata": {
    "ExecuteTime": {
     "end_time": "2025-09-24T15:55:15.598346Z",
     "start_time": "2025-09-24T15:55:15.284871Z"
    }
   },
   "source": [
    "freq = peak1[\"pna_frequency_axis\"]\n",
    "fc_i = float((freq[0] + freq[-1]) / 2)\n",
    "p0 = [fc_i, 1e5, 1e3, -100, -9]  # f,fc,Qi,Qc,phi,S0 p0 = [fc_i, 1e4, 1e3, -100, -9]\n",
    "popt, pcov = curve_fit(S21, freq, peak1[\"pna_tr1_magnitude\"], p0)\n",
    "\n",
    "Qi = np.format_float_scientific(np.abs(popt[1]) , 3)\n",
    "Qc = np.format_float_scientific(np.abs(popt[2]), 3)\n",
    "Ql = np.format_float_scientific(\n",
    "    1 / (1 / np.abs(popt[2] ) + 1 / np.abs(popt[1] )), 3\n",
    ")\n",
    "\n",
    "# curve=\n",
    "(\n",
    "    hv.Curve((freq, peak1[\"pna_tr1_magnitude\"]), label=\"data\")\n",
    "    * hv.Curve((freq, S21(freq, *popt)), label=\"fit\")\n",
    ").opts(\n",
    "    legend_position=\"bottom_right\",\n",
    "    xlabel=\"Frequency (Hz)\",\n",
    "    ylabel=\"Magnitude (dB)\",\n",
    "    width=500,\n",
    "    height=300,\n",
    "    title=\"Qi = \" + str(Qi) + \" , Qc = \" + str(Qc) + \" & Ql = \" + str(Ql),\n",
    ")\n",
    "# hv.save(curve, r\"D:\\Github\\Qinu\\qumin\\data\\C12_I02_P_fit.png\")"
   ],
   "outputs": [
    {
     "data": {},
     "metadata": {},
     "output_type": "display_data",
     "jetTransient": {
      "display_id": "4b48afa9636e46508b4ce8ba9ed2fb1a"
     }
    },
    {
     "data": {
      "text/html": [
       "<div id='4570ab4f-c69d-4a77-a2a2-40e7fd6e4163'>\n",
       "  <div id=\"bd5ab8a9-41f8-4edd-a3e0-2194fd12bedf\" data-root-id=\"4570ab4f-c69d-4a77-a2a2-40e7fd6e4163\" style=\"display: contents;\"></div>\n",
       "</div>\n",
       "<script type=\"application/javascript\">(function(root) {\n",
       "  var docs_json = {\"7ba8a5f9-b821-4c00-a228-b4d19defc916\":{\"version\":\"3.6.2\",\"title\":\"Bokeh Application\",\"roots\":[{\"type\":\"object\",\"name\":\"Row\",\"id\":\"4570ab4f-c69d-4a77-a2a2-40e7fd6e4163\",\"attributes\":{\"name\":\"Row01279\",\"tags\":[\"embedded\"],\"stylesheets\":[\"\\n:host(.pn-loading):before, .pn-loading:before {\\n  background-color: #c3c3c3;\\n  mask-size: auto calc(min(50%, 400px));\\n  -webkit-mask-size: auto calc(min(50%, 400px));\\n}\",{\"type\":\"object\",\"name\":\"ImportedStyleSheet\",\"id\":\"6fadb124-d332-40b9-9227-e0899dce26ee\",\"attributes\":{\"url\":\"https://cdn.holoviz.org/panel/1.7.0/dist/css/loading.css\"}},{\"type\":\"object\",\"name\":\"ImportedStyleSheet\",\"id\":\"80fedd6f-69a0-40aa-ac42-ee91dd603db8\",\"attributes\":{\"url\":\"https://cdn.holoviz.org/panel/1.7.0/dist/css/listpanel.css\"}},{\"type\":\"object\",\"name\":\"ImportedStyleSheet\",\"id\":\"221df49c-2f33-4eff-a3a9-c47306c1e788\",\"attributes\":{\"url\":\"https://cdn.holoviz.org/panel/1.7.0/dist/bundled/theme/default.css\"}},{\"type\":\"object\",\"name\":\"ImportedStyleSheet\",\"id\":\"bc7ff4fc-6b26-4d47-bffc-eff75900aa5d\",\"attributes\":{\"url\":\"https://cdn.holoviz.org/panel/1.7.0/dist/bundled/theme/native.css\"}}],\"min_width\":500,\"margin\":0,\"sizing_mode\":\"stretch_width\",\"align\":\"start\",\"children\":[{\"type\":\"object\",\"name\":\"Spacer\",\"id\":\"30f69a61-427e-4665-872c-86dbf14a942d\",\"attributes\":{\"name\":\"HSpacer01283\",\"stylesheets\":[\"\\n:host(.pn-loading):before, .pn-loading:before {\\n  background-color: #c3c3c3;\\n  mask-size: auto calc(min(50%, 400px));\\n  -webkit-mask-size: auto calc(min(50%, 400px));\\n}\",{\"id\":\"6fadb124-d332-40b9-9227-e0899dce26ee\"},{\"id\":\"221df49c-2f33-4eff-a3a9-c47306c1e788\"},{\"id\":\"bc7ff4fc-6b26-4d47-bffc-eff75900aa5d\"}],\"min_width\":0,\"margin\":0,\"sizing_mode\":\"stretch_width\",\"align\":\"start\"}},{\"type\":\"object\",\"name\":\"Figure\",\"id\":\"195e94f3-66d9-40a1-b302-bf2264698152\",\"attributes\":{\"width\":500,\"height\":300,\"margin\":[5,10],\"sizing_mode\":\"fixed\",\"align\":\"start\",\"x_range\":{\"type\":\"object\",\"name\":\"Range1d\",\"id\":\"86c72355-dc34-45e1-8877-536dcd96c990\",\"attributes\":{\"name\":\"x\",\"tags\":[[[\"x\",null]],[]],\"start\":6265500000.0,\"end\":6266500000.0,\"reset_start\":6265500000.0,\"reset_end\":6266500000.0}},\"y_range\":{\"type\":\"object\",\"name\":\"Range1d\",\"id\":\"b28c4b61-2ec7-4972-b027-986f10f23baf\",\"attributes\":{\"name\":\"y\",\"tags\":[[[\"y\",null]],{\"type\":\"map\",\"entries\":[[\"invert_yaxis\",false],[\"autorange\",false]]}],\"start\":0.8434615194797516,\"end\":1.4143091976642608,\"reset_start\":0.8434615194797516,\"reset_end\":1.4143091976642608}},\"x_scale\":{\"type\":\"object\",\"name\":\"LinearScale\",\"id\":\"34e6664b-b177-40f5-bebd-22e7f6c93674\"},\"y_scale\":{\"type\":\"object\",\"name\":\"LinearScale\",\"id\":\"eb550f7e-884b-4854-a4fb-948db6246c99\"},\"title\":{\"type\":\"object\",\"name\":\"Title\",\"id\":\"8a41ceff-c9b0-4d42-832c-eb6a013facfe\",\"attributes\":{\"text\":\"Qi = 3.841e+04 , Qc = 1.881e+04 & Ql = 1.263e+04\",\"text_color\":\"black\",\"text_font_size\":\"12pt\"}},\"renderers\":[{\"type\":\"object\",\"name\":\"GlyphRenderer\",\"id\":\"1db21150-cf3b-4320-87c1-6e566ba51050\",\"attributes\":{\"name\":\"data\",\"data_source\":{\"type\":\"object\",\"name\":\"ColumnDataSource\",\"id\":\"91b68bbb-bac7-44b9-993e-1c4c4e926a8d\",\"attributes\":{\"selected\":{\"type\":\"object\",\"name\":\"Selection\",\"id\":\"455f6a61-3afb-42cf-8874-d6052a465222\",\"attributes\":{\"indices\":[],\"line_indices\":[]}},\"selection_policy\":{\"type\":\"object\",\"name\":\"UnionRenderers\",\"id\":\"d1037e38-ef64-4fa5-b02e-47fb14f4b964\"},\"data\":{\"type\":\"map\",\"entries\":[[\"x\",{\"type\":\"ndarray\",\"array\":{\"type\":\"bytes\",\"data\":\"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\"},\"shape\":[501],\"dtype\":\"float64\",\"order\":\"little\"}],[\"y\",{\"type\":\"ndarray\",\"array\":{\"type\":\"bytes\",\"data\":\"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\"},\"shape\":[501],\"dtype\":\"float64\",\"order\":\"little\"}]]}}},\"view\":{\"type\":\"object\",\"name\":\"CDSView\",\"id\":\"381bb7e3-d63d-4203-884e-e7a12d9809c5\",\"attributes\":{\"filter\":{\"type\":\"object\",\"name\":\"AllIndices\",\"id\":\"ddf88733-91f3-4454-877d-b8e76498a371\"}}},\"glyph\":{\"type\":\"object\",\"name\":\"Line\",\"id\":\"b1a11f45-8737-414f-b254-2425016b4b31\",\"attributes\":{\"tags\":[\"apply_ranges\"],\"x\":{\"type\":\"field\",\"field\":\"x\"},\"y\":{\"type\":\"field\",\"field\":\"y\"},\"line_color\":\"#30a2da\",\"line_width\":2}},\"selection_glyph\":{\"type\":\"object\",\"name\":\"Line\",\"id\":\"34d597d1-f261-413b-8f77-b96f85cbf098\",\"attributes\":{\"tags\":[\"apply_ranges\"],\"x\":{\"type\":\"field\",\"field\":\"x\"},\"y\":{\"type\":\"field\",\"field\":\"y\"},\"line_color\":\"#30a2da\",\"line_width\":2}},\"nonselection_glyph\":{\"type\":\"object\",\"name\":\"Line\",\"id\":\"449787a3-4e58-4d1b-b091-593ba8302580\",\"attributes\":{\"tags\":[\"apply_ranges\"],\"x\":{\"type\":\"field\",\"field\":\"x\"},\"y\":{\"type\":\"field\",\"field\":\"y\"},\"line_color\":\"#30a2da\",\"line_alpha\":0.1,\"line_width\":2}},\"muted_glyph\":{\"type\":\"object\",\"name\":\"Line\",\"id\":\"8aaea1ce-0c64-40b6-a45c-64589b09049c\",\"attributes\":{\"tags\":[\"apply_ranges\"],\"x\":{\"type\":\"field\",\"field\":\"x\"},\"y\":{\"type\":\"field\",\"field\":\"y\"},\"line_color\":\"#30a2da\",\"line_alpha\":0.2,\"line_width\":2}}}},{\"type\":\"object\",\"name\":\"GlyphRenderer\",\"id\":\"f2370700-c56b-4353-872a-34599140c4a5\",\"attributes\":{\"name\":\"fit\",\"data_source\":{\"type\":\"object\",\"name\":\"ColumnDataSource\",\"id\":\"b1395136-6969-45fd-9614-517c9fe8d17c\",\"attributes\":{\"selected\":{\"type\":\"object\",\"name\":\"Selection\",\"id\":\"f5e862b4-4683-4103-b193-046eb28c1830\",\"attributes\":{\"indices\":[],\"line_indices\":[]}},\"selection_policy\":{\"type\":\"object\",\"name\":\"UnionRenderers\",\"id\":\"a4610257-38f1-40ae-9877-ce80f11963e3\"},\"data\":{\"type\":\"map\",\"entries\":[[\"x\",{\"type\":\"ndarray\",\"array\":{\"type\":\"bytes\",\"data\":\"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\"},\"shape\":[501],\"dtype\":\"float64\",\"order\":\"little\"}],[\"y\",{\"type\":\"ndarray\",\"array\":{\"type\":\"bytes\",\"data\":\"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\"},\"shape\":[501],\"dtype\":\"float64\",\"order\":\"little\"}]]}}},\"view\":{\"type\":\"object\",\"name\":\"CDSView\",\"id\":\"31c7349c-5a16-468a-9f32-95dc89902689\",\"attributes\":{\"filter\":{\"type\":\"object\",\"name\":\"AllIndices\",\"id\":\"8fba99fc-5c11-4983-a660-df4da6d771c0\"}}},\"glyph\":{\"type\":\"object\",\"name\":\"Line\",\"id\":\"b708d20f-b4ae-4eba-90b1-80ca0d0d60d3\",\"attributes\":{\"tags\":[\"apply_ranges\"],\"x\":{\"type\":\"field\",\"field\":\"x\"},\"y\":{\"type\":\"field\",\"field\":\"y\"},\"line_color\":\"#fc4f30\",\"line_width\":2}},\"selection_glyph\":{\"type\":\"object\",\"name\":\"Line\",\"id\":\"292a2c2b-9bcc-404f-9c7d-e4beb37bdfcc\",\"attributes\":{\"tags\":[\"apply_ranges\"],\"x\":{\"type\":\"field\",\"field\":\"x\"},\"y\":{\"type\":\"field\",\"field\":\"y\"},\"line_color\":\"#fc4f30\",\"line_width\":2}},\"nonselection_glyph\":{\"type\":\"object\",\"name\":\"Line\",\"id\":\"a4db9483-65b2-4592-b63a-5385688469d0\",\"attributes\":{\"tags\":[\"apply_ranges\"],\"x\":{\"type\":\"field\",\"field\":\"x\"},\"y\":{\"type\":\"field\",\"field\":\"y\"},\"line_color\":\"#fc4f30\",\"line_alpha\":0.1,\"line_width\":2}},\"muted_glyph\":{\"type\":\"object\",\"name\":\"Line\",\"id\":\"cb803762-677c-474c-b140-38ef9b9aa272\",\"attributes\":{\"tags\":[\"apply_ranges\"],\"x\":{\"type\":\"field\",\"field\":\"x\"},\"y\":{\"type\":\"field\",\"field\":\"y\"},\"line_color\":\"#fc4f30\",\"line_alpha\":0.2,\"line_width\":2}}}}],\"toolbar\":{\"type\":\"object\",\"name\":\"Toolbar\",\"id\":\"2436d54b-2d52-4c07-afaa-0396fb0efa7e\",\"attributes\":{\"tools\":[{\"type\":\"object\",\"name\":\"WheelZoomTool\",\"id\":\"f82723b2-71ce-41f0-a21e-496c9affdc7f\",\"attributes\":{\"tags\":[\"hv_created\"],\"renderers\":\"auto\",\"zoom_together\":\"none\"}},{\"type\":\"object\",\"name\":\"SaveTool\",\"id\":\"4c1a1eff-0b1d-4636-b099-3391fda04c24\"},{\"type\":\"object\",\"name\":\"PanTool\",\"id\":\"179f7ecc-cfe7-42a6-b35d-a27b5cfa2ac0\"},{\"type\":\"object\",\"name\":\"BoxZoomTool\",\"id\":\"4f4a84ba-3af7-460d-983d-b42cfac83ec5\",\"attributes\":{\"overlay\":{\"type\":\"object\",\"name\":\"BoxAnnotation\",\"id\":\"03d89b3c-2911-495f-b22a-134b8cbf3e62\",\"attributes\":{\"syncable\":false,\"line_color\":\"black\",\"line_alpha\":1.0,\"line_width\":2,\"line_dash\":[4,4],\"fill_color\":\"lightgrey\",\"fill_alpha\":0.5,\"level\":\"overlay\",\"visible\":false,\"left\":{\"type\":\"number\",\"value\":\"nan\"},\"right\":{\"type\":\"number\",\"value\":\"nan\"},\"top\":{\"type\":\"number\",\"value\":\"nan\"},\"bottom\":{\"type\":\"number\",\"value\":\"nan\"},\"left_units\":\"canvas\",\"right_units\":\"canvas\",\"top_units\":\"canvas\",\"bottom_units\":\"canvas\",\"handles\":{\"type\":\"object\",\"name\":\"BoxInteractionHandles\",\"id\":\"b57c2784-b1ce-4d6a-963d-602c45d34d5a\",\"attributes\":{\"all\":{\"type\":\"object\",\"name\":\"AreaVisuals\",\"id\":\"654eccf8-61a8-4efe-b210-4f16faa5fbbc\",\"attributes\":{\"fill_color\":\"white\",\"hover_fill_color\":\"lightgray\"}}}}}}}},{\"type\":\"object\",\"name\":\"ResetTool\",\"id\":\"653ab0aa-0624-46cc-ba46-c9bae3649f3f\"}],\"active_drag\":{\"id\":\"179f7ecc-cfe7-42a6-b35d-a27b5cfa2ac0\"},\"active_scroll\":{\"id\":\"f82723b2-71ce-41f0-a21e-496c9affdc7f\"}}},\"left\":[{\"type\":\"object\",\"name\":\"LinearAxis\",\"id\":\"5e15d82f-5e15-43e9-b28c-967c39f0a1ce\",\"attributes\":{\"ticker\":{\"type\":\"object\",\"name\":\"BasicTicker\",\"id\":\"e27ae00c-9d4e-49c3-b1e7-2a367a85cb50\",\"attributes\":{\"mantissas\":[1,2,5]}},\"formatter\":{\"type\":\"object\",\"name\":\"BasicTickFormatter\",\"id\":\"3bf456c3-c4c6-4f81-8f10-ba2ac403f341\"},\"axis_label\":\"Magnitude (dB)\",\"major_label_policy\":{\"type\":\"object\",\"name\":\"AllLabels\",\"id\":\"0e12a3e4-4df4-4928-9158-729bb69b70ab\"}}}],\"below\":[{\"type\":\"object\",\"name\":\"LinearAxis\",\"id\":\"90e42255-941b-4e34-aeec-b83c8ae47f6a\",\"attributes\":{\"ticker\":{\"type\":\"object\",\"name\":\"BasicTicker\",\"id\":\"c0cca855-ea8c-45d9-be8c-3b8261ed88e0\",\"attributes\":{\"mantissas\":[1,2,5]}},\"formatter\":{\"type\":\"object\",\"name\":\"BasicTickFormatter\",\"id\":\"8d480de6-d598-43c6-b69d-799146b573a7\"},\"axis_label\":\"Frequency (Hz)\",\"major_label_policy\":{\"type\":\"object\",\"name\":\"AllLabels\",\"id\":\"b9a9a75c-28cd-4cd3-8aae-6741502760cf\"}}}],\"center\":[{\"type\":\"object\",\"name\":\"Grid\",\"id\":\"c1860d76-7c80-43a6-afe6-dd6668257beb\",\"attributes\":{\"axis\":{\"id\":\"90e42255-941b-4e34-aeec-b83c8ae47f6a\"},\"grid_line_color\":null}},{\"type\":\"object\",\"name\":\"Grid\",\"id\":\"f7fe6966-fdec-4651-9579-c399aee7240f\",\"attributes\":{\"dimension\":1,\"axis\":{\"id\":\"5e15d82f-5e15-43e9-b28c-967c39f0a1ce\"},\"grid_line_color\":null}},{\"type\":\"object\",\"name\":\"Legend\",\"id\":\"a849f1cf-ddf0-4786-a2f1-bd8297bce218\",\"attributes\":{\"location\":\"bottom_right\",\"click_policy\":\"mute\",\"items\":[{\"type\":\"object\",\"name\":\"LegendItem\",\"id\":\"d7844e68-8e56-4ab4-9260-5a38b4909ac1\",\"attributes\":{\"label\":{\"type\":\"value\",\"value\":\"data\"},\"renderers\":[{\"id\":\"1db21150-cf3b-4320-87c1-6e566ba51050\"}]}},{\"type\":\"object\",\"name\":\"LegendItem\",\"id\":\"d14b6fc0-1985-4e45-8c31-304c6337c124\",\"attributes\":{\"label\":{\"type\":\"value\",\"value\":\"fit\"},\"renderers\":[{\"id\":\"f2370700-c56b-4353-872a-34599140c4a5\"}]}}]}}],\"min_border_top\":10,\"min_border_bottom\":10,\"min_border_left\":10,\"min_border_right\":10,\"output_backend\":\"webgl\"}},{\"type\":\"object\",\"name\":\"Spacer\",\"id\":\"6d5675f9-96a2-4aaa-be9d-0d361894f905\",\"attributes\":{\"name\":\"HSpacer01284\",\"stylesheets\":[\"\\n:host(.pn-loading):before, .pn-loading:before {\\n  background-color: #c3c3c3;\\n  mask-size: auto calc(min(50%, 400px));\\n  -webkit-mask-size: auto calc(min(50%, 400px));\\n}\",{\"id\":\"6fadb124-d332-40b9-9227-e0899dce26ee\"},{\"id\":\"221df49c-2f33-4eff-a3a9-c47306c1e788\"},{\"id\":\"bc7ff4fc-6b26-4d47-bffc-eff75900aa5d\"}],\"min_width\":0,\"margin\":0,\"sizing_mode\":\"stretch_width\",\"align\":\"start\"}}]}}],\"defs\":[{\"type\":\"model\",\"name\":\"ReactiveHTML1\"},{\"type\":\"model\",\"name\":\"FlexBox1\",\"properties\":[{\"name\":\"align_content\",\"kind\":\"Any\",\"default\":\"flex-start\"},{\"name\":\"align_items\",\"kind\":\"Any\",\"default\":\"flex-start\"},{\"name\":\"flex_direction\",\"kind\":\"Any\",\"default\":\"row\"},{\"name\":\"flex_wrap\",\"kind\":\"Any\",\"default\":\"wrap\"},{\"name\":\"gap\",\"kind\":\"Any\",\"default\":\"\"},{\"name\":\"justify_content\",\"kind\":\"Any\",\"default\":\"flex-start\"}]},{\"type\":\"model\",\"name\":\"FloatPanel1\",\"properties\":[{\"name\":\"config\",\"kind\":\"Any\",\"default\":{\"type\":\"map\"}},{\"name\":\"contained\",\"kind\":\"Any\",\"default\":true},{\"name\":\"position\",\"kind\":\"Any\",\"default\":\"right-top\"},{\"name\":\"offsetx\",\"kind\":\"Any\",\"default\":null},{\"name\":\"offsety\",\"kind\":\"Any\",\"default\":null},{\"name\":\"theme\",\"kind\":\"Any\",\"default\":\"primary\"},{\"name\":\"status\",\"kind\":\"Any\",\"default\":\"normalized\"}]},{\"type\":\"model\",\"name\":\"GridStack1\",\"properties\":[{\"name\":\"ncols\",\"kind\":\"Any\",\"default\":null},{\"name\":\"nrows\",\"kind\":\"Any\",\"default\":null},{\"name\":\"allow_resize\",\"kind\":\"Any\",\"default\":true},{\"name\":\"allow_drag\",\"kind\":\"Any\",\"default\":true},{\"name\":\"state\",\"kind\":\"Any\",\"default\":[]}]},{\"type\":\"model\",\"name\":\"drag1\",\"properties\":[{\"name\":\"slider_width\",\"kind\":\"Any\",\"default\":5},{\"name\":\"slider_color\",\"kind\":\"Any\",\"default\":\"black\"},{\"name\":\"value\",\"kind\":\"Any\",\"default\":50}]},{\"type\":\"model\",\"name\":\"click1\",\"properties\":[{\"name\":\"terminal_output\",\"kind\":\"Any\",\"default\":\"\"},{\"name\":\"debug_name\",\"kind\":\"Any\",\"default\":\"\"},{\"name\":\"clears\",\"kind\":\"Any\",\"default\":0}]},{\"type\":\"model\",\"name\":\"FastWrapper1\",\"properties\":[{\"name\":\"object\",\"kind\":\"Any\",\"default\":null},{\"name\":\"style\",\"kind\":\"Any\",\"default\":null}]},{\"type\":\"model\",\"name\":\"NotificationArea1\",\"properties\":[{\"name\":\"js_events\",\"kind\":\"Any\",\"default\":{\"type\":\"map\"}},{\"name\":\"max_notifications\",\"kind\":\"Any\",\"default\":5},{\"name\":\"notifications\",\"kind\":\"Any\",\"default\":[]},{\"name\":\"position\",\"kind\":\"Any\",\"default\":\"bottom-right\"},{\"name\":\"_clear\",\"kind\":\"Any\",\"default\":0},{\"name\":\"types\",\"kind\":\"Any\",\"default\":[{\"type\":\"map\",\"entries\":[[\"type\",\"warning\"],[\"background\",\"#ffc107\"],[\"icon\",{\"type\":\"map\",\"entries\":[[\"className\",\"fas fa-exclamation-triangle\"],[\"tagName\",\"i\"],[\"color\",\"white\"]]}]]},{\"type\":\"map\",\"entries\":[[\"type\",\"info\"],[\"background\",\"#007bff\"],[\"icon\",{\"type\":\"map\",\"entries\":[[\"className\",\"fas fa-info-circle\"],[\"tagName\",\"i\"],[\"color\",\"white\"]]}]]}]}]},{\"type\":\"model\",\"name\":\"Notification\",\"properties\":[{\"name\":\"background\",\"kind\":\"Any\",\"default\":null},{\"name\":\"duration\",\"kind\":\"Any\",\"default\":3000},{\"name\":\"icon\",\"kind\":\"Any\",\"default\":null},{\"name\":\"message\",\"kind\":\"Any\",\"default\":\"\"},{\"name\":\"notification_type\",\"kind\":\"Any\",\"default\":null},{\"name\":\"_rendered\",\"kind\":\"Any\",\"default\":false},{\"name\":\"_destroyed\",\"kind\":\"Any\",\"default\":false}]},{\"type\":\"model\",\"name\":\"TemplateActions1\",\"properties\":[{\"name\":\"open_modal\",\"kind\":\"Any\",\"default\":0},{\"name\":\"close_modal\",\"kind\":\"Any\",\"default\":0}]},{\"type\":\"model\",\"name\":\"BootstrapTemplateActions1\",\"properties\":[{\"name\":\"open_modal\",\"kind\":\"Any\",\"default\":0},{\"name\":\"close_modal\",\"kind\":\"Any\",\"default\":0}]},{\"type\":\"model\",\"name\":\"TemplateEditor1\",\"properties\":[{\"name\":\"layout\",\"kind\":\"Any\",\"default\":[]}]},{\"type\":\"model\",\"name\":\"MaterialTemplateActions1\",\"properties\":[{\"name\":\"open_modal\",\"kind\":\"Any\",\"default\":0},{\"name\":\"close_modal\",\"kind\":\"Any\",\"default\":0}]},{\"type\":\"model\",\"name\":\"ReactiveESM1\",\"properties\":[{\"name\":\"esm_constants\",\"kind\":\"Any\",\"default\":{\"type\":\"map\"}}]},{\"type\":\"model\",\"name\":\"JSComponent1\",\"properties\":[{\"name\":\"esm_constants\",\"kind\":\"Any\",\"default\":{\"type\":\"map\"}}]},{\"type\":\"model\",\"name\":\"ReactComponent1\",\"properties\":[{\"name\":\"esm_constants\",\"kind\":\"Any\",\"default\":{\"type\":\"map\"}}]},{\"type\":\"model\",\"name\":\"AnyWidgetComponent1\",\"properties\":[{\"name\":\"esm_constants\",\"kind\":\"Any\",\"default\":{\"type\":\"map\"}}]},{\"type\":\"model\",\"name\":\"request_value1\",\"properties\":[{\"name\":\"fill\",\"kind\":\"Any\",\"default\":\"none\"},{\"name\":\"_synced\",\"kind\":\"Any\",\"default\":null},{\"name\":\"_request_sync\",\"kind\":\"Any\",\"default\":0}]},{\"type\":\"model\",\"name\":\"holoviews.plotting.bokeh.raster.HoverModel\",\"properties\":[{\"name\":\"xy\",\"kind\":\"Any\",\"default\":null},{\"name\":\"data\",\"kind\":\"Any\",\"default\":null}]}]}};\n",
       "  var render_items = [{\"docid\":\"7ba8a5f9-b821-4c00-a228-b4d19defc916\",\"roots\":{\"4570ab4f-c69d-4a77-a2a2-40e7fd6e4163\":\"bd5ab8a9-41f8-4edd-a3e0-2194fd12bedf\"},\"root_ids\":[\"4570ab4f-c69d-4a77-a2a2-40e7fd6e4163\"]}];\n",
       "  var docs = Object.values(docs_json)\n",
       "  if (!docs) {\n",
       "    return\n",
       "  }\n",
       "  const py_version = docs[0].version.replace('rc', '-rc.').replace('.dev', '-dev.')\n",
       "  async function embed_document(root) {\n",
       "    var Bokeh = get_bokeh(root)\n",
       "    await Bokeh.embed.embed_items_notebook(docs_json, render_items);\n",
       "    for (const render_item of render_items) {\n",
       "      for (const root_id of render_item.root_ids) {\n",
       "\tconst id_el = document.getElementById(root_id)\n",
       "\tif (id_el.children.length && id_el.children[0].hasAttribute('data-root-id')) {\n",
       "\t  const root_el = id_el.children[0]\n",
       "\t  root_el.id = root_el.id + '-rendered'\n",
       "\t  for (const child of root_el.children) {\n",
       "            // Ensure JupyterLab does not capture keyboard shortcuts\n",
       "            // see: https://jupyterlab.readthedocs.io/en/4.1.x/extension/notebook.html#keyboard-interaction-model\n",
       "\t    child.setAttribute('data-lm-suppress-shortcuts', 'true')\n",
       "\t  }\n",
       "\t}\n",
       "      }\n",
       "    }\n",
       "  }\n",
       "  function get_bokeh(root) {\n",
       "    if (root.Bokeh === undefined) {\n",
       "      return null\n",
       "    } else if (root.Bokeh.version !== py_version) {\n",
       "      if (root.Bokeh.versions === undefined || !root.Bokeh.versions.has(py_version)) {\n",
       "\treturn null\n",
       "      }\n",
       "      return root.Bokeh.versions.get(py_version);\n",
       "    } else if (root.Bokeh.version === py_version) {\n",
       "      return root.Bokeh\n",
       "    }\n",
       "    return null\n",
       "  }\n",
       "  function is_loaded(root) {\n",
       "    var Bokeh = get_bokeh(root)\n",
       "    return (Bokeh != null && Bokeh.Panel !== undefined)\n",
       "  }\n",
       "  if (is_loaded(root)) {\n",
       "    embed_document(root);\n",
       "  } else {\n",
       "    var attempts = 0;\n",
       "    var timer = setInterval(function(root) {\n",
       "      if (is_loaded(root)) {\n",
       "        clearInterval(timer);\n",
       "        embed_document(root);\n",
       "      } else if (document.readyState == \"complete\") {\n",
       "        attempts++;\n",
       "        if (attempts > 200) {\n",
       "          clearInterval(timer);\n",
       "\t  var Bokeh = get_bokeh(root)\n",
       "\t  if (Bokeh == null || Bokeh.Panel == null) {\n",
       "            console.warn(\"Panel: ERROR: Unable to run Panel code because Bokeh or Panel library is missing\");\n",
       "\t  } else {\n",
       "\t    console.warn(\"Panel: WARNING: Attempting to render but not all required libraries could be resolved.\")\n",
       "\t    embed_document(root)\n",
       "\t  }\n",
       "        }\n",
       "      }\n",
       "    }, 25, root)\n",
       "  }\n",
       "})(window);</script>"
      ],
      "application/vnd.holoviews_exec.v0+json": "",
      "text/plain": [
       ":Overlay\n",
       "   .Curve.Data :Curve   [x]   (y)\n",
       "   .Curve.Fit  :Curve   [x]   (y)"
      ]
     },
     "execution_count": 45,
     "metadata": {
      "application/vnd.holoviews_exec.v0+json": {
       "id": "4570ab4f-c69d-4a77-a2a2-40e7fd6e4163"
      }
     },
     "output_type": "execute_result"
    }
   ],
   "execution_count": 45
  },
  {
   "cell_type": "code",
   "id": "cc531e9c",
   "metadata": {
    "ExecuteTime": {
     "end_time": "2025-09-24T15:47:32.005227Z",
     "start_time": "2025-09-24T15:47:29.825773Z"
    }
   },
   "source": [
    "I = np.real(peak1[\"S21\"])\n",
    "Q = np.imag(peak1[\"S21\"])\n",
    "hv.Scatter((I, Q)).opts(title=\"raw data\")\n",
    "hv.save(hv.Scatter((I, Q)).opts(title=\"raw data\"), r\"D:\\Github\\rf-analysis-tools\\notebook\\fitting\\C12IQ.png\")\n"
   ],
   "outputs": [],
   "execution_count": 12
  },
  {
   "cell_type": "code",
   "id": "420f6fbc",
   "metadata": {
    "ExecuteTime": {
     "end_time": "2025-09-24T15:48:37.279536Z",
     "start_time": "2025-09-24T15:48:37.199952Z"
    }
   },
   "source": [
    "popt1, pcov1, initial_fit1, plots1 = refined_fit(peak1, show_plots=True)\n",
    "\n",
    "fc = np.round(popt1[3] / 1e9, 3)\n",
    "Qc = np.abs(np.real(popt1[1] * np.exp(-1j * popt1[2])))\n",
    "Qi = np.abs(1 / (1 / popt1[0] - 1 / Qc))\n",
    "Qc_str = np.format_float_scientific(Qc, 3)\n",
    "Qi_str = np.format_float_scientific(Qi, 3)\n",
    "Ql_str = np.format_float_scientific(popt1[0], 3)\n",
    "Ql_str2 = 1 / (1 / float(Qc_str) + (1 / float(Qi_str)))\n",
    "\n",
    "plots1.opts(\n",
    "    title=\"Fitting parameters : fc = \"\n",
    "    + str(fc)\n",
    "    + \" GHz / Qc = \"\n",
    "    + str(Qc_str)\n",
    "    + \" / Qi = \"\n",
    "    + str(Qi_str)\n",
    "    + \" / Ql1 = \"\n",
    "    + str(Ql_str)\n",
    "    + \" / Ql2 = \"\n",
    "    + str(Ql_str2)\n",
    ")\n",
    "plots1"
   ],
   "outputs": [
    {
     "ename": "NameError",
     "evalue": "name 'refined_fit' is not defined",
     "output_type": "error",
     "traceback": [
      "\u001B[1;31m---------------------------------------------------------------------------\u001B[0m",
      "\u001B[1;31mNameError\u001B[0m                                 Traceback (most recent call last)",
      "Cell \u001B[1;32mIn[13], line 1\u001B[0m\n\u001B[1;32m----> 1\u001B[0m popt1, pcov1, initial_fit1, plots1 \u001B[38;5;241m=\u001B[39m \u001B[43mrefined_fit\u001B[49m(peak1, show_plots\u001B[38;5;241m=\u001B[39m\u001B[38;5;28;01mTrue\u001B[39;00m)\n\u001B[0;32m      3\u001B[0m fc \u001B[38;5;241m=\u001B[39m np\u001B[38;5;241m.\u001B[39mround(popt1[\u001B[38;5;241m3\u001B[39m] \u001B[38;5;241m/\u001B[39m \u001B[38;5;241m1e9\u001B[39m, \u001B[38;5;241m3\u001B[39m)\n\u001B[0;32m      4\u001B[0m Qc \u001B[38;5;241m=\u001B[39m np\u001B[38;5;241m.\u001B[39mabs(np\u001B[38;5;241m.\u001B[39mreal(popt1[\u001B[38;5;241m1\u001B[39m] \u001B[38;5;241m*\u001B[39m np\u001B[38;5;241m.\u001B[39mexp(\u001B[38;5;241m-\u001B[39m\u001B[38;5;241m1\u001B[39mj \u001B[38;5;241m*\u001B[39m popt1[\u001B[38;5;241m2\u001B[39m])))\n",
      "\u001B[1;31mNameError\u001B[0m: name 'refined_fit' is not defined"
     ]
    }
   ],
   "execution_count": 13
  },
  {
   "cell_type": "code",
   "id": "7e84bce0",
   "metadata": {
    "ExecuteTime": {
     "end_time": "2025-09-24T15:48:45.474209Z",
     "start_time": "2025-09-24T15:48:43.382990Z"
    }
   },
   "source": [
    "freq=peak1['pna_frequency_axis']\n",
    "fc_i=float((freq[0]+freq[-1])/2)\n",
    "p0_env=[1,0.1,200e-9,0.1,fc_i,1e4,1e4] #a,alpha,tau,phi,fc,Ql,Qc\n",
    "popt_env, pcov_env = curve_fit(S21_env,freq,peak1['pna_tr1_magnitude'],p0_env)\n",
    "\n",
    "# Qi = np.format_float_scientific(popt_env[1],3)\n",
    "Qc = np.format_float_scientific(-popt_env[-1],3)\n",
    "Ql = np.format_float_scientific(-popt_env[-2],3)\n",
    "Qi = np.format_float_scientific(-1/(1/popt_env[-2]-1/popt_env[-1]),3)\n",
    "\n",
    "\n",
    "(\n",
    "    hv.Curve((freq,peak1['pna_tr1_magnitude']),label='data')*\n",
    "    hv.Curve((freq,S21_env(freq, *popt_env)),label='fit')\n",
    ").opts(legend_position='bottom_right',xlabel='Frequency (Hz)',ylabel='Magnitude (dB)',width=500,height=300, title='Qi = '+str(Qi)+' , Qc = '+str(Qc)+' & Ql = '+str(Ql))"
   ],
   "outputs": [
    {
     "ename": "RuntimeError",
     "evalue": "Optimal parameters not found: Number of calls to function has reached maxfev = 1600.",
     "output_type": "error",
     "traceback": [
      "\u001B[1;31m---------------------------------------------------------------------------\u001B[0m",
      "\u001B[1;31mRuntimeError\u001B[0m                              Traceback (most recent call last)",
      "Cell \u001B[1;32mIn[14], line 4\u001B[0m\n\u001B[0;32m      2\u001B[0m fc_i\u001B[38;5;241m=\u001B[39m\u001B[38;5;28mfloat\u001B[39m((freq[\u001B[38;5;241m0\u001B[39m]\u001B[38;5;241m+\u001B[39mfreq[\u001B[38;5;241m-\u001B[39m\u001B[38;5;241m1\u001B[39m])\u001B[38;5;241m/\u001B[39m\u001B[38;5;241m2\u001B[39m)\n\u001B[0;32m      3\u001B[0m p0_env\u001B[38;5;241m=\u001B[39m[\u001B[38;5;241m1\u001B[39m,\u001B[38;5;241m0.1\u001B[39m,\u001B[38;5;241m200e-9\u001B[39m,\u001B[38;5;241m0.1\u001B[39m,fc_i,\u001B[38;5;241m1e4\u001B[39m,\u001B[38;5;241m1e4\u001B[39m] \u001B[38;5;66;03m#a,alpha,tau,phi,fc,Ql,Qc\u001B[39;00m\n\u001B[1;32m----> 4\u001B[0m popt_env, pcov_env \u001B[38;5;241m=\u001B[39m \u001B[43mcurve_fit\u001B[49m\u001B[43m(\u001B[49m\u001B[43mS21_env\u001B[49m\u001B[43m,\u001B[49m\u001B[43mfreq\u001B[49m\u001B[43m,\u001B[49m\u001B[43mpeak1\u001B[49m\u001B[43m[\u001B[49m\u001B[38;5;124;43m'\u001B[39;49m\u001B[38;5;124;43mpna_tr1_magnitude\u001B[39;49m\u001B[38;5;124;43m'\u001B[39;49m\u001B[43m]\u001B[49m\u001B[43m,\u001B[49m\u001B[43mp0_env\u001B[49m\u001B[43m)\u001B[49m\n\u001B[0;32m      6\u001B[0m \u001B[38;5;66;03m# Qi = np.format_float_scientific(popt_env[1],3)\u001B[39;00m\n\u001B[0;32m      7\u001B[0m Qc \u001B[38;5;241m=\u001B[39m np\u001B[38;5;241m.\u001B[39mformat_float_scientific(\u001B[38;5;241m-\u001B[39mpopt_env[\u001B[38;5;241m-\u001B[39m\u001B[38;5;241m1\u001B[39m],\u001B[38;5;241m3\u001B[39m)\n",
      "File \u001B[1;32m~\\AppData\\Roaming\\Python\\Python310\\site-packages\\scipy\\optimize\\_minpack_py.py:1019\u001B[0m, in \u001B[0;36mcurve_fit\u001B[1;34m(f, xdata, ydata, p0, sigma, absolute_sigma, check_finite, bounds, method, jac, full_output, nan_policy, **kwargs)\u001B[0m\n\u001B[0;32m   1017\u001B[0m     cost \u001B[38;5;241m=\u001B[39m np\u001B[38;5;241m.\u001B[39msum(infodict[\u001B[38;5;124m'\u001B[39m\u001B[38;5;124mfvec\u001B[39m\u001B[38;5;124m'\u001B[39m] \u001B[38;5;241m*\u001B[39m\u001B[38;5;241m*\u001B[39m \u001B[38;5;241m2\u001B[39m)\n\u001B[0;32m   1018\u001B[0m     \u001B[38;5;28;01mif\u001B[39;00m ier \u001B[38;5;129;01mnot\u001B[39;00m \u001B[38;5;129;01min\u001B[39;00m [\u001B[38;5;241m1\u001B[39m, \u001B[38;5;241m2\u001B[39m, \u001B[38;5;241m3\u001B[39m, \u001B[38;5;241m4\u001B[39m]:\n\u001B[1;32m-> 1019\u001B[0m         \u001B[38;5;28;01mraise\u001B[39;00m \u001B[38;5;167;01mRuntimeError\u001B[39;00m(\u001B[38;5;124m\"\u001B[39m\u001B[38;5;124mOptimal parameters not found: \u001B[39m\u001B[38;5;124m\"\u001B[39m \u001B[38;5;241m+\u001B[39m errmsg)\n\u001B[0;32m   1020\u001B[0m \u001B[38;5;28;01melse\u001B[39;00m:\n\u001B[0;32m   1021\u001B[0m     \u001B[38;5;66;03m# Rename maxfev (leastsq) to max_nfev (least_squares), if specified.\u001B[39;00m\n\u001B[0;32m   1022\u001B[0m     \u001B[38;5;28;01mif\u001B[39;00m \u001B[38;5;124m'\u001B[39m\u001B[38;5;124mmax_nfev\u001B[39m\u001B[38;5;124m'\u001B[39m \u001B[38;5;129;01mnot\u001B[39;00m \u001B[38;5;129;01min\u001B[39;00m kwargs:\n",
      "\u001B[1;31mRuntimeError\u001B[0m: Optimal parameters not found: Number of calls to function has reached maxfev = 1600."
     ]
    }
   ],
   "execution_count": 14
  },
  {
   "metadata": {
    "ExecuteTime": {
     "end_time": "2025-09-23T13:38:30.264595Z",
     "start_time": "2025-09-23T13:38:26.084372Z"
    }
   },
   "cell_type": "code",
   "source": [
    "from qcodes import initialise_or_create_database_at, load_by_run_spec\n",
    "initialise_or_create_database_at(\n",
    "    r\"D:\\Github\\Qinu\\qumin\\data\\2025-08-29-C12-036-J-C12-037-AA.db\"\n",
    ")"
   ],
   "id": "de76d369dbb02838",
   "outputs": [],
   "execution_count": 1
  },
  {
   "cell_type": "code",
   "id": "26ffbff5",
   "metadata": {
    "ExecuteTime": {
     "end_time": "2025-09-01T15:43:38.374148Z",
     "start_time": "2025-09-01T15:43:37.779720Z"
    }
   },
   "source": [
    "Power = -20\n",
    "peak = (load_by_run_spec(captured_run_id=28).to_xarray_dataset()).sel({'pna_power':Power})\n",
    "peak[\"S21\"] = peak[\"pna_tr1_linear_magnitude\"]*np.exp(1j*np.pi*peak[\"pna_tr1_unwrapped_phase\"]/180)\n",
    "hv.Curve((peak['pna_frequency_axis'],peak['pna_tr1_magnitude']))\n",
    "peak.to_dataframe().to_csv(r\"D:\\Github\\Qinu\\qumin\\data\\I.csv\")"
   ],
   "outputs": [],
   "execution_count": 49
  },
  {
   "cell_type": "code",
   "id": "74b22455",
   "metadata": {
    "ExecuteTime": {
     "end_time": "2025-09-24T15:48:53.213080Z",
     "start_time": "2025-09-24T15:48:53.114868Z"
    }
   },
   "source": [
    "Power = -30\n",
    "peak = (load_by_run_spec(captured_run_id=88).to_xarray_dataset()).sel({'pna_power':Power})\n",
    "freq=peak['pna_frequency_axis']\n",
    "fc_i=float((freq[0]+freq[-1])/2)\n",
    "p0=[fc_i,1e4,1e3,-80,-3]\n",
    "popt, pcov = curve_fit(S21,freq,peak['pna_tr1_magnitude'],p0)\n",
    "\n",
    "Qi = np.format_float_scientific(np.abs(popt[1]),3)\n",
    "Qc = np.format_float_scientific(np.abs(popt[2]),3)\n",
    "Ql = np.format_float_scientific(1/(1/np.abs(popt[2])+1/np.abs(popt[1])),3)\n",
    "\n",
    "\n",
    "(\n",
    "    hv.Curve((freq,peak['pna_tr1_magnitude']),label='data @P='+str(Power)+'dBm')*\n",
    "    hv.Curve((freq,S21(freq, *popt)),label='fit')\n",
    ").opts(legend_position='bottom_right',xlabel='Frequency (Hz)',ylabel='Magnitude (dB)',width=500,height=300,title='Qi = '+str(Qi)+' , Qc = '+str(Qc)+' & Ql = '+str(Ql))"
   ],
   "outputs": [
    {
     "ename": "NameError",
     "evalue": "No run matching the supplied information found.",
     "output_type": "error",
     "traceback": [
      "\u001B[1;31m---------------------------------------------------------------------------\u001B[0m",
      "\u001B[1;31mNameError\u001B[0m                                 Traceback (most recent call last)",
      "Cell \u001B[1;32mIn[15], line 2\u001B[0m\n\u001B[0;32m      1\u001B[0m Power \u001B[38;5;241m=\u001B[39m \u001B[38;5;241m-\u001B[39m\u001B[38;5;241m30\u001B[39m\n\u001B[1;32m----> 2\u001B[0m peak \u001B[38;5;241m=\u001B[39m (\u001B[43mload_by_run_spec\u001B[49m\u001B[43m(\u001B[49m\u001B[43mcaptured_run_id\u001B[49m\u001B[38;5;241;43m=\u001B[39;49m\u001B[38;5;241;43m88\u001B[39;49m\u001B[43m)\u001B[49m\u001B[38;5;241m.\u001B[39mto_xarray_dataset())\u001B[38;5;241m.\u001B[39msel({\u001B[38;5;124m'\u001B[39m\u001B[38;5;124mpna_power\u001B[39m\u001B[38;5;124m'\u001B[39m:Power})\n\u001B[0;32m      3\u001B[0m freq\u001B[38;5;241m=\u001B[39mpeak[\u001B[38;5;124m'\u001B[39m\u001B[38;5;124mpna_frequency_axis\u001B[39m\u001B[38;5;124m'\u001B[39m]\n\u001B[0;32m      4\u001B[0m fc_i\u001B[38;5;241m=\u001B[39m\u001B[38;5;28mfloat\u001B[39m((freq[\u001B[38;5;241m0\u001B[39m]\u001B[38;5;241m+\u001B[39mfreq[\u001B[38;5;241m-\u001B[39m\u001B[38;5;241m1\u001B[39m])\u001B[38;5;241m/\u001B[39m\u001B[38;5;241m2\u001B[39m)\n",
      "File \u001B[1;32m~\\miniconda3\\envs\\rf-analysis-env\\lib\\site-packages\\qcodes\\dataset\\data_set.py:1622\u001B[0m, in \u001B[0;36mload_by_run_spec\u001B[1;34m(captured_run_id, captured_counter, experiment_name, sample_name, sample_id, location, work_station, conn)\u001B[0m\n\u001B[0;32m   1616\u001B[0m         \u001B[38;5;28;01mraise\u001B[39;00m \u001B[38;5;167;01mNameError\u001B[39;00m(\n\u001B[0;32m   1617\u001B[0m             \u001B[38;5;124m\"\u001B[39m\u001B[38;5;124mMore than one matching dataset found. \u001B[39m\u001B[38;5;124m\"\u001B[39m\n\u001B[0;32m   1618\u001B[0m             \u001B[38;5;124m\"\u001B[39m\u001B[38;5;124mPlease supply more information to uniquely\u001B[39m\u001B[38;5;124m\"\u001B[39m\n\u001B[0;32m   1619\u001B[0m             \u001B[38;5;124m\"\u001B[39m\u001B[38;5;124midentify a dataset\u001B[39m\u001B[38;5;124m\"\u001B[39m\n\u001B[0;32m   1620\u001B[0m         )\n\u001B[0;32m   1621\u001B[0m     \u001B[38;5;28;01melse\u001B[39;00m:\n\u001B[1;32m-> 1622\u001B[0m         \u001B[38;5;28;01mraise\u001B[39;00m \u001B[38;5;167;01mNameError\u001B[39;00m(\u001B[38;5;124m\"\u001B[39m\u001B[38;5;124mNo run matching the supplied information found.\u001B[39m\u001B[38;5;124m\"\u001B[39m)\n\u001B[0;32m   1623\u001B[0m \u001B[38;5;28;01mfinally\u001B[39;00m:\n\u001B[0;32m   1624\u001B[0m     \u001B[38;5;28;01mif\u001B[39;00m \u001B[38;5;129;01mnot\u001B[39;00m conn \u001B[38;5;129;01mand\u001B[39;00m \u001B[38;5;129;01mnot\u001B[39;00m \u001B[38;5;28misinstance\u001B[39m(d, DataSet):\n",
      "\u001B[1;31mNameError\u001B[0m: No run matching the supplied information found."
     ]
    }
   ],
   "execution_count": 15
  },
  {
   "cell_type": "code",
   "id": "0b461c39",
   "metadata": {
    "ExecuteTime": {
     "end_time": "2025-09-24T15:52:23.008677Z",
     "start_time": "2025-09-24T15:52:21.534929Z"
    }
   },
   "source": [
    "power_min = -30\n",
    "power_max = -10\n",
    "power = []\n",
    "fc = []\n",
    "Ql = []\n",
    "Qc = []\n",
    "Qi = []\n",
    "peak1 = (load_by_run_spec(captured_run_id=32).to_xarray_dataset()).sel({'pna_power':power_min})\n",
    "curve=hv.Curve((peak1['pna_frequency_axis'],peak1['pna_tr1_magnitude']),label='data')\n",
    "for p in range (power_min,power_max+1,2):\n",
    "    peak1 = (load_by_run_spec(captured_run_id=32).to_xarray_dataset()).sel({'pna_power':p})\n",
    "    freq=peak1['pna_frequency_axis']\n",
    "    fc_i=float((freq[0]+freq[-1])/2)\n",
    "    p0=[fc_i,1e4,1e3,-80,-3]\n",
    "    curve=curve * hv.Curve((freq,peak1['pna_tr1_magnitude']),label='data')\n",
    "\n"
   ],
   "outputs": [
    {
     "ename": "KeyError",
     "evalue": "\"not all values found in index 'pna_power'. Try setting the `method` keyword argument (example: method='nearest').\"",
     "output_type": "error",
     "traceback": [
      "\u001B[1;31m---------------------------------------------------------------------------\u001B[0m",
      "\u001B[1;31mKeyError\u001B[0m                                  Traceback (most recent call last)",
      "File \u001B[1;32m~\\miniconda3\\envs\\rf-analysis-env\\lib\\site-packages\\pandas\\core\\indexes\\base.py:3812\u001B[0m, in \u001B[0;36mIndex.get_loc\u001B[1;34m(self, key)\u001B[0m\n\u001B[0;32m   3811\u001B[0m \u001B[38;5;28;01mtry\u001B[39;00m:\n\u001B[1;32m-> 3812\u001B[0m     \u001B[38;5;28;01mreturn\u001B[39;00m \u001B[38;5;28;43mself\u001B[39;49m\u001B[38;5;241;43m.\u001B[39;49m\u001B[43m_engine\u001B[49m\u001B[38;5;241;43m.\u001B[39;49m\u001B[43mget_loc\u001B[49m\u001B[43m(\u001B[49m\u001B[43mcasted_key\u001B[49m\u001B[43m)\u001B[49m\n\u001B[0;32m   3813\u001B[0m \u001B[38;5;28;01mexcept\u001B[39;00m \u001B[38;5;167;01mKeyError\u001B[39;00m \u001B[38;5;28;01mas\u001B[39;00m err:\n",
      "File \u001B[1;32mindex.pyx:167\u001B[0m, in \u001B[0;36mpandas._libs.index.IndexEngine.get_loc\u001B[1;34m()\u001B[0m\n",
      "File \u001B[1;32mindex.pyx:196\u001B[0m, in \u001B[0;36mpandas._libs.index.IndexEngine.get_loc\u001B[1;34m()\u001B[0m\n",
      "File \u001B[1;32mpandas\\\\_libs\\\\hashtable_class_helper.pxi:1698\u001B[0m, in \u001B[0;36mpandas._libs.hashtable.Float64HashTable.get_item\u001B[1;34m()\u001B[0m\n",
      "File \u001B[1;32mpandas\\\\_libs\\\\hashtable_class_helper.pxi:1722\u001B[0m, in \u001B[0;36mpandas._libs.hashtable.Float64HashTable.get_item\u001B[1;34m()\u001B[0m\n",
      "\u001B[1;31mKeyError\u001B[0m: -28.0",
      "\nThe above exception was the direct cause of the following exception:\n",
      "\u001B[1;31mKeyError\u001B[0m                                  Traceback (most recent call last)",
      "File \u001B[1;32m~\\miniconda3\\envs\\rf-analysis-env\\lib\\site-packages\\xarray\\core\\indexes.py:792\u001B[0m, in \u001B[0;36mPandasIndex.sel\u001B[1;34m(self, labels, method, tolerance)\u001B[0m\n\u001B[0;32m    791\u001B[0m \u001B[38;5;28;01mtry\u001B[39;00m:\n\u001B[1;32m--> 792\u001B[0m     indexer \u001B[38;5;241m=\u001B[39m \u001B[38;5;28;43mself\u001B[39;49m\u001B[38;5;241;43m.\u001B[39;49m\u001B[43mindex\u001B[49m\u001B[38;5;241;43m.\u001B[39;49m\u001B[43mget_loc\u001B[49m\u001B[43m(\u001B[49m\u001B[43mlabel_value\u001B[49m\u001B[43m)\u001B[49m\n\u001B[0;32m    793\u001B[0m \u001B[38;5;28;01mexcept\u001B[39;00m \u001B[38;5;167;01mKeyError\u001B[39;00m \u001B[38;5;28;01mas\u001B[39;00m e:\n",
      "File \u001B[1;32m~\\miniconda3\\envs\\rf-analysis-env\\lib\\site-packages\\pandas\\core\\indexes\\base.py:3819\u001B[0m, in \u001B[0;36mIndex.get_loc\u001B[1;34m(self, key)\u001B[0m\n\u001B[0;32m   3818\u001B[0m         \u001B[38;5;28;01mraise\u001B[39;00m InvalidIndexError(key)\n\u001B[1;32m-> 3819\u001B[0m     \u001B[38;5;28;01mraise\u001B[39;00m \u001B[38;5;167;01mKeyError\u001B[39;00m(key) \u001B[38;5;28;01mfrom\u001B[39;00m \u001B[38;5;21;01merr\u001B[39;00m\n\u001B[0;32m   3820\u001B[0m \u001B[38;5;28;01mexcept\u001B[39;00m \u001B[38;5;167;01mTypeError\u001B[39;00m:\n\u001B[0;32m   3821\u001B[0m     \u001B[38;5;66;03m# If we have a listlike key, _check_indexing_error will raise\u001B[39;00m\n\u001B[0;32m   3822\u001B[0m     \u001B[38;5;66;03m#  InvalidIndexError. Otherwise we fall through and re-raise\u001B[39;00m\n\u001B[0;32m   3823\u001B[0m     \u001B[38;5;66;03m#  the TypeError.\u001B[39;00m\n",
      "\u001B[1;31mKeyError\u001B[0m: -28.0",
      "\nThe above exception was the direct cause of the following exception:\n",
      "\u001B[1;31mKeyError\u001B[0m                                  Traceback (most recent call last)",
      "Cell \u001B[1;32mIn[32], line 11\u001B[0m\n\u001B[0;32m      9\u001B[0m curve\u001B[38;5;241m=\u001B[39mhv\u001B[38;5;241m.\u001B[39mCurve((peak1[\u001B[38;5;124m'\u001B[39m\u001B[38;5;124mpna_frequency_axis\u001B[39m\u001B[38;5;124m'\u001B[39m],peak1[\u001B[38;5;124m'\u001B[39m\u001B[38;5;124mpna_tr1_magnitude\u001B[39m\u001B[38;5;124m'\u001B[39m]),label\u001B[38;5;241m=\u001B[39m\u001B[38;5;124m'\u001B[39m\u001B[38;5;124mdata\u001B[39m\u001B[38;5;124m'\u001B[39m)\n\u001B[0;32m     10\u001B[0m \u001B[38;5;28;01mfor\u001B[39;00m p \u001B[38;5;129;01min\u001B[39;00m \u001B[38;5;28mrange\u001B[39m (power_min,power_max\u001B[38;5;241m+\u001B[39m\u001B[38;5;241m1\u001B[39m,\u001B[38;5;241m2\u001B[39m):\n\u001B[1;32m---> 11\u001B[0m     peak1 \u001B[38;5;241m=\u001B[39m \u001B[43m(\u001B[49m\u001B[43mload_by_run_spec\u001B[49m\u001B[43m(\u001B[49m\u001B[43mcaptured_run_id\u001B[49m\u001B[38;5;241;43m=\u001B[39;49m\u001B[38;5;241;43m32\u001B[39;49m\u001B[43m)\u001B[49m\u001B[38;5;241;43m.\u001B[39;49m\u001B[43mto_xarray_dataset\u001B[49m\u001B[43m(\u001B[49m\u001B[43m)\u001B[49m\u001B[43m)\u001B[49m\u001B[38;5;241;43m.\u001B[39;49m\u001B[43msel\u001B[49m\u001B[43m(\u001B[49m\u001B[43m{\u001B[49m\u001B[38;5;124;43m'\u001B[39;49m\u001B[38;5;124;43mpna_power\u001B[39;49m\u001B[38;5;124;43m'\u001B[39;49m\u001B[43m:\u001B[49m\u001B[43mp\u001B[49m\u001B[43m}\u001B[49m\u001B[43m)\u001B[49m\n\u001B[0;32m     12\u001B[0m     freq\u001B[38;5;241m=\u001B[39mpeak1[\u001B[38;5;124m'\u001B[39m\u001B[38;5;124mpna_frequency_axis\u001B[39m\u001B[38;5;124m'\u001B[39m]\n\u001B[0;32m     13\u001B[0m     fc_i\u001B[38;5;241m=\u001B[39m\u001B[38;5;28mfloat\u001B[39m((freq[\u001B[38;5;241m0\u001B[39m]\u001B[38;5;241m+\u001B[39mfreq[\u001B[38;5;241m-\u001B[39m\u001B[38;5;241m1\u001B[39m])\u001B[38;5;241m/\u001B[39m\u001B[38;5;241m2\u001B[39m)\n",
      "File \u001B[1;32m~\\miniconda3\\envs\\rf-analysis-env\\lib\\site-packages\\xarray\\core\\dataset.py:2890\u001B[0m, in \u001B[0;36mDataset.sel\u001B[1;34m(self, indexers, method, tolerance, drop, **indexers_kwargs)\u001B[0m\n\u001B[0;32m   2822\u001B[0m \u001B[38;5;250m\u001B[39m\u001B[38;5;124;03m\"\"\"Returns a new dataset with each array indexed by tick labels\u001B[39;00m\n\u001B[0;32m   2823\u001B[0m \u001B[38;5;124;03malong the specified dimension(s).\u001B[39;00m\n\u001B[0;32m   2824\u001B[0m \n\u001B[1;32m   (...)\u001B[0m\n\u001B[0;32m   2887\u001B[0m \n\u001B[0;32m   2888\u001B[0m \u001B[38;5;124;03m\"\"\"\u001B[39;00m\n\u001B[0;32m   2889\u001B[0m indexers \u001B[38;5;241m=\u001B[39m either_dict_or_kwargs(indexers, indexers_kwargs, \u001B[38;5;124m\"\u001B[39m\u001B[38;5;124msel\u001B[39m\u001B[38;5;124m\"\u001B[39m)\n\u001B[1;32m-> 2890\u001B[0m query_results \u001B[38;5;241m=\u001B[39m \u001B[43mmap_index_queries\u001B[49m\u001B[43m(\u001B[49m\n\u001B[0;32m   2891\u001B[0m \u001B[43m    \u001B[49m\u001B[38;5;28;43mself\u001B[39;49m\u001B[43m,\u001B[49m\u001B[43m \u001B[49m\u001B[43mindexers\u001B[49m\u001B[38;5;241;43m=\u001B[39;49m\u001B[43mindexers\u001B[49m\u001B[43m,\u001B[49m\u001B[43m \u001B[49m\u001B[43mmethod\u001B[49m\u001B[38;5;241;43m=\u001B[39;49m\u001B[43mmethod\u001B[49m\u001B[43m,\u001B[49m\u001B[43m \u001B[49m\u001B[43mtolerance\u001B[49m\u001B[38;5;241;43m=\u001B[39;49m\u001B[43mtolerance\u001B[49m\n\u001B[0;32m   2892\u001B[0m \u001B[43m\u001B[49m\u001B[43m)\u001B[49m\n\u001B[0;32m   2894\u001B[0m \u001B[38;5;28;01mif\u001B[39;00m drop:\n\u001B[0;32m   2895\u001B[0m     no_scalar_variables \u001B[38;5;241m=\u001B[39m {}\n",
      "File \u001B[1;32m~\\miniconda3\\envs\\rf-analysis-env\\lib\\site-packages\\xarray\\core\\indexing.py:196\u001B[0m, in \u001B[0;36mmap_index_queries\u001B[1;34m(obj, indexers, method, tolerance, **indexers_kwargs)\u001B[0m\n\u001B[0;32m    194\u001B[0m         results\u001B[38;5;241m.\u001B[39mappend(IndexSelResult(labels))\n\u001B[0;32m    195\u001B[0m     \u001B[38;5;28;01melse\u001B[39;00m:\n\u001B[1;32m--> 196\u001B[0m         results\u001B[38;5;241m.\u001B[39mappend(index\u001B[38;5;241m.\u001B[39msel(labels, \u001B[38;5;241m*\u001B[39m\u001B[38;5;241m*\u001B[39moptions))\n\u001B[0;32m    198\u001B[0m merged \u001B[38;5;241m=\u001B[39m merge_sel_results(results)\n\u001B[0;32m    200\u001B[0m \u001B[38;5;66;03m# drop dimension coordinates found in dimension indexers\u001B[39;00m\n\u001B[0;32m    201\u001B[0m \u001B[38;5;66;03m# (also drop multi-index if any)\u001B[39;00m\n\u001B[0;32m    202\u001B[0m \u001B[38;5;66;03m# (.sel() already ensures alignment)\u001B[39;00m\n",
      "File \u001B[1;32m~\\miniconda3\\envs\\rf-analysis-env\\lib\\site-packages\\xarray\\core\\indexes.py:794\u001B[0m, in \u001B[0;36mPandasIndex.sel\u001B[1;34m(self, labels, method, tolerance)\u001B[0m\n\u001B[0;32m    792\u001B[0m                 indexer \u001B[38;5;241m=\u001B[39m \u001B[38;5;28mself\u001B[39m\u001B[38;5;241m.\u001B[39mindex\u001B[38;5;241m.\u001B[39mget_loc(label_value)\n\u001B[0;32m    793\u001B[0m             \u001B[38;5;28;01mexcept\u001B[39;00m \u001B[38;5;167;01mKeyError\u001B[39;00m \u001B[38;5;28;01mas\u001B[39;00m e:\n\u001B[1;32m--> 794\u001B[0m                 \u001B[38;5;28;01mraise\u001B[39;00m \u001B[38;5;167;01mKeyError\u001B[39;00m(\n\u001B[0;32m    795\u001B[0m                     \u001B[38;5;124mf\u001B[39m\u001B[38;5;124m\"\u001B[39m\u001B[38;5;124mnot all values found in index \u001B[39m\u001B[38;5;132;01m{\u001B[39;00mcoord_name\u001B[38;5;132;01m!r}\u001B[39;00m\u001B[38;5;124m. \u001B[39m\u001B[38;5;124m\"\u001B[39m\n\u001B[0;32m    796\u001B[0m                     \u001B[38;5;124m\"\u001B[39m\u001B[38;5;124mTry setting the `method` keyword argument (example: method=\u001B[39m\u001B[38;5;124m'\u001B[39m\u001B[38;5;124mnearest\u001B[39m\u001B[38;5;124m'\u001B[39m\u001B[38;5;124m).\u001B[39m\u001B[38;5;124m\"\u001B[39m\n\u001B[0;32m    797\u001B[0m                 ) \u001B[38;5;28;01mfrom\u001B[39;00m \u001B[38;5;21;01me\u001B[39;00m\n\u001B[0;32m    799\u001B[0m \u001B[38;5;28;01melif\u001B[39;00m label_array\u001B[38;5;241m.\u001B[39mdtype\u001B[38;5;241m.\u001B[39mkind \u001B[38;5;241m==\u001B[39m \u001B[38;5;124m\"\u001B[39m\u001B[38;5;124mb\u001B[39m\u001B[38;5;124m\"\u001B[39m:\n\u001B[0;32m    800\u001B[0m     indexer \u001B[38;5;241m=\u001B[39m label_array\n",
      "\u001B[1;31mKeyError\u001B[0m: \"not all values found in index 'pna_power'. Try setting the `method` keyword argument (example: method='nearest').\""
     ]
    }
   ],
   "execution_count": 32
  },
  {
   "metadata": {
    "ExecuteTime": {
     "end_time": "2025-09-24T15:52:28.018872Z",
     "start_time": "2025-09-24T15:52:27.887238Z"
    }
   },
   "cell_type": "code",
   "source": "curve",
   "id": "4fa3cdbc81f264f1",
   "outputs": [
    {
     "data": {},
     "metadata": {},
     "output_type": "display_data",
     "jetTransient": {
      "display_id": "70168eef1cc64c38b0658058d66346bd"
     }
    },
    {
     "data": {
      "text/html": [
       "<div id='7cdf89ee-7fc4-469c-a417-0cc7dcfc7cce'>\n",
       "  <div id=\"c93ac964-d837-4de0-a3c7-3b370832b21e\" data-root-id=\"7cdf89ee-7fc4-469c-a417-0cc7dcfc7cce\" style=\"display: contents;\"></div>\n",
       "</div>\n",
       "<script type=\"application/javascript\">(function(root) {\n",
       "  var docs_json = {\"e740f55c-d3c2-4624-8ed4-97cdcacac6bc\":{\"version\":\"3.6.2\",\"title\":\"Bokeh Application\",\"roots\":[{\"type\":\"object\",\"name\":\"Row\",\"id\":\"7cdf89ee-7fc4-469c-a417-0cc7dcfc7cce\",\"attributes\":{\"name\":\"Row00858\",\"tags\":[\"embedded\"],\"stylesheets\":[\"\\n:host(.pn-loading):before, .pn-loading:before {\\n  background-color: #c3c3c3;\\n  mask-size: auto calc(min(50%, 400px));\\n  -webkit-mask-size: auto calc(min(50%, 400px));\\n}\",{\"type\":\"object\",\"name\":\"ImportedStyleSheet\",\"id\":\"b46444fe-dc9b-47a6-a8a7-3135a8e80772\",\"attributes\":{\"url\":\"https://cdn.holoviz.org/panel/1.7.0/dist/css/loading.css\"}},{\"type\":\"object\",\"name\":\"ImportedStyleSheet\",\"id\":\"419c388c-e69f-48f9-a4c9-ea2a57ec8cad\",\"attributes\":{\"url\":\"https://cdn.holoviz.org/panel/1.7.0/dist/css/listpanel.css\"}},{\"type\":\"object\",\"name\":\"ImportedStyleSheet\",\"id\":\"bae95192-eb8f-42c4-8d2d-48047f59f2a8\",\"attributes\":{\"url\":\"https://cdn.holoviz.org/panel/1.7.0/dist/bundled/theme/default.css\"}},{\"type\":\"object\",\"name\":\"ImportedStyleSheet\",\"id\":\"cee3d09c-e78a-4f26-ac2a-b4bdc0fe90be\",\"attributes\":{\"url\":\"https://cdn.holoviz.org/panel/1.7.0/dist/bundled/theme/native.css\"}}],\"min_width\":300,\"margin\":0,\"sizing_mode\":\"stretch_width\",\"align\":\"start\",\"children\":[{\"type\":\"object\",\"name\":\"Spacer\",\"id\":\"979c86cc-d350-49b6-8716-98bc7224df48\",\"attributes\":{\"name\":\"HSpacer00862\",\"stylesheets\":[\"\\n:host(.pn-loading):before, .pn-loading:before {\\n  background-color: #c3c3c3;\\n  mask-size: auto calc(min(50%, 400px));\\n  -webkit-mask-size: auto calc(min(50%, 400px));\\n}\",{\"id\":\"b46444fe-dc9b-47a6-a8a7-3135a8e80772\"},{\"id\":\"bae95192-eb8f-42c4-8d2d-48047f59f2a8\"},{\"id\":\"cee3d09c-e78a-4f26-ac2a-b4bdc0fe90be\"}],\"min_width\":0,\"margin\":0,\"sizing_mode\":\"stretch_width\",\"align\":\"start\"}},{\"type\":\"object\",\"name\":\"Figure\",\"id\":\"d7d8530e-07db-46dd-af04-2932ce0cc6ab\",\"attributes\":{\"width\":300,\"height\":300,\"margin\":[5,10],\"sizing_mode\":\"fixed\",\"align\":\"start\",\"x_range\":{\"type\":\"object\",\"name\":\"Range1d\",\"id\":\"32e7e982-c1fd-435b-bf0e-c62bb7b29587\",\"attributes\":{\"name\":\"x\",\"tags\":[[[\"x\",null]],[]],\"start\":4742000000.0,\"end\":4802000000.0,\"reset_start\":4742000000.0,\"reset_end\":4802000000.0}},\"y_range\":{\"type\":\"object\",\"name\":\"Range1d\",\"id\":\"4a87d9da-da4f-4d70-ba35-d8a5d7729998\",\"attributes\":{\"name\":\"y\",\"tags\":[[[\"y\",null]],{\"type\":\"map\",\"entries\":[[\"invert_yaxis\",false],[\"autorange\",false]]}],\"start\":-18.6172438621521,\"end\":11.135324573516845,\"reset_start\":-18.6172438621521,\"reset_end\":11.135324573516845}},\"x_scale\":{\"type\":\"object\",\"name\":\"LinearScale\",\"id\":\"001277d4-0bec-483b-a8d8-04ff60b259aa\"},\"y_scale\":{\"type\":\"object\",\"name\":\"LinearScale\",\"id\":\"2079bd75-3990-4abe-90b1-b2cb3ee05f79\"},\"title\":{\"type\":\"object\",\"name\":\"Title\",\"id\":\"4f68b08b-b999-445f-8acd-79261b1567e6\",\"attributes\":{\"text\":\"data\",\"text_color\":\"black\",\"text_font_size\":\"12pt\"}},\"renderers\":[{\"type\":\"object\",\"name\":\"GlyphRenderer\",\"id\":\"f0d9d3eb-7022-4178-8042-1552d90932c4\",\"attributes\":{\"name\":\"data\",\"data_source\":{\"type\":\"object\",\"name\":\"ColumnDataSource\",\"id\":\"fdc54441-e9b2-421d-9792-bbc79b433f87\",\"attributes\":{\"selected\":{\"type\":\"object\",\"name\":\"Selection\",\"id\":\"f92a694e-7ee6-4e13-bbfc-f35ddbd9ed66\",\"attributes\":{\"indices\":[],\"line_indices\":[]}},\"selection_policy\":{\"type\":\"object\",\"name\":\"UnionRenderers\",\"id\":\"900b3166-1c7b-4cb3-a1c0-465e948612bc\"},\"data\":{\"type\":\"map\",\"entries\":[[\"x\",{\"type\":\"ndarray\",\"array\":{\"type\":\"bytes\",\"data\":\"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\"},\"shape\":[501],\"dtype\":\"float64\",\"order\":\"little\"}],[\"y\",{\"type\":\"ndarray\",\"array\":{\"type\":\"bytes\",\"data\":\"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\"},\"shape\":[501],\"dtype\":\"float64\",\"order\":\"little\"}]]}}},\"view\":{\"type\":\"object\",\"name\":\"CDSView\",\"id\":\"fe12a6f0-2e49-4596-927f-b541821c677d\",\"attributes\":{\"filter\":{\"type\":\"object\",\"name\":\"AllIndices\",\"id\":\"6a441fc6-fb3e-4d32-9b59-0f2d3f53c38e\"}}},\"glyph\":{\"type\":\"object\",\"name\":\"Line\",\"id\":\"f884b3ea-7732-4522-b22c-f439137e1751\",\"attributes\":{\"tags\":[\"apply_ranges\"],\"x\":{\"type\":\"field\",\"field\":\"x\"},\"y\":{\"type\":\"field\",\"field\":\"y\"},\"line_color\":\"#30a2da\",\"line_width\":2}},\"selection_glyph\":{\"type\":\"object\",\"name\":\"Line\",\"id\":\"63bd2219-9859-4b31-9c92-a4b3a4b0ca6a\",\"attributes\":{\"tags\":[\"apply_ranges\"],\"x\":{\"type\":\"field\",\"field\":\"x\"},\"y\":{\"type\":\"field\",\"field\":\"y\"},\"line_color\":\"#30a2da\",\"line_width\":2}},\"nonselection_glyph\":{\"type\":\"object\",\"name\":\"Line\",\"id\":\"a3edc03f-7720-4425-b254-769404dc8347\",\"attributes\":{\"tags\":[\"apply_ranges\"],\"x\":{\"type\":\"field\",\"field\":\"x\"},\"y\":{\"type\":\"field\",\"field\":\"y\"},\"line_color\":\"#30a2da\",\"line_alpha\":0.1,\"line_width\":2}},\"muted_glyph\":{\"type\":\"object\",\"name\":\"Line\",\"id\":\"8cd078a5-2084-4ecd-9a60-82f7628402dd\",\"attributes\":{\"tags\":[\"apply_ranges\"],\"x\":{\"type\":\"field\",\"field\":\"x\"},\"y\":{\"type\":\"field\",\"field\":\"y\"},\"line_color\":\"#30a2da\",\"line_alpha\":0.2,\"line_width\":2}}}},{\"type\":\"object\",\"name\":\"GlyphRenderer\",\"id\":\"1c9961f2-8468-48b9-841d-ac7d661c8ed6\",\"attributes\":{\"name\":\"data\",\"data_source\":{\"type\":\"object\",\"name\":\"ColumnDataSource\",\"id\":\"947cc9e4-beea-4a3f-b5cc-64bfa834ddd5\",\"attributes\":{\"selected\":{\"type\":\"object\",\"name\":\"Selection\",\"id\":\"984a40fa-e3c4-4e31-8752-41590a0b27d8\",\"attributes\":{\"indices\":[],\"line_indices\":[]}},\"selection_policy\":{\"type\":\"object\",\"name\":\"UnionRenderers\",\"id\":\"8caf366c-8288-47a1-83dc-ddbdc51b3b4e\"},\"data\":{\"type\":\"map\",\"entries\":[[\"x\",{\"type\":\"ndarray\",\"array\":{\"type\":\"bytes\",\"data\":\"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\"},\"shape\":[501],\"dtype\":\"float64\",\"order\":\"little\"}],[\"y\",{\"type\":\"ndarray\",\"array\":{\"type\":\"bytes\",\"data\":\"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\"},\"shape\":[501],\"dtype\":\"float64\",\"order\":\"little\"}]]}}},\"view\":{\"type\":\"object\",\"name\":\"CDSView\",\"id\":\"570cbcdf-c671-44b4-a11c-d52c62852cae\",\"attributes\":{\"filter\":{\"type\":\"object\",\"name\":\"AllIndices\",\"id\":\"7e7fe319-1435-46fc-88c2-92641817c0c0\"}}},\"glyph\":{\"type\":\"object\",\"name\":\"Line\",\"id\":\"54de8b71-f577-4824-910b-dff3fc9bbedd\",\"attributes\":{\"tags\":[\"apply_ranges\"],\"x\":{\"type\":\"field\",\"field\":\"x\"},\"y\":{\"type\":\"field\",\"field\":\"y\"},\"line_color\":\"#fc4f30\",\"line_width\":2}},\"selection_glyph\":{\"type\":\"object\",\"name\":\"Line\",\"id\":\"43ed44ca-7d1e-49ef-afe6-951dc6a7b934\",\"attributes\":{\"tags\":[\"apply_ranges\"],\"x\":{\"type\":\"field\",\"field\":\"x\"},\"y\":{\"type\":\"field\",\"field\":\"y\"},\"line_color\":\"#fc4f30\",\"line_width\":2}},\"nonselection_glyph\":{\"type\":\"object\",\"name\":\"Line\",\"id\":\"ef1af62a-d9e0-4add-bef5-88a887bf80cb\",\"attributes\":{\"tags\":[\"apply_ranges\"],\"x\":{\"type\":\"field\",\"field\":\"x\"},\"y\":{\"type\":\"field\",\"field\":\"y\"},\"line_color\":\"#fc4f30\",\"line_alpha\":0.1,\"line_width\":2}},\"muted_glyph\":{\"type\":\"object\",\"name\":\"Line\",\"id\":\"195fa8bd-a276-4d6d-9e27-07f16b2f2ed1\",\"attributes\":{\"tags\":[\"apply_ranges\"],\"x\":{\"type\":\"field\",\"field\":\"x\"},\"y\":{\"type\":\"field\",\"field\":\"y\"},\"line_color\":\"#fc4f30\",\"line_alpha\":0.2,\"line_width\":2}}}}],\"toolbar\":{\"type\":\"object\",\"name\":\"Toolbar\",\"id\":\"c7501889-8f52-48bb-8ad0-02cb8a98d9e0\",\"attributes\":{\"tools\":[{\"type\":\"object\",\"name\":\"WheelZoomTool\",\"id\":\"b20aaf4e-b30a-4aef-a5e8-5e7d173ed940\",\"attributes\":{\"tags\":[\"hv_created\"],\"renderers\":\"auto\",\"zoom_together\":\"none\"}},{\"type\":\"object\",\"name\":\"SaveTool\",\"id\":\"f0b4e948-1c9c-4385-9d49-35fd7dbfcb9a\"},{\"type\":\"object\",\"name\":\"PanTool\",\"id\":\"944e6b98-5df5-4729-8af0-be93698a8c4d\"},{\"type\":\"object\",\"name\":\"BoxZoomTool\",\"id\":\"263419b9-986b-4b34-89c9-66ab7196df80\",\"attributes\":{\"overlay\":{\"type\":\"object\",\"name\":\"BoxAnnotation\",\"id\":\"5a757901-f2cf-437b-a0b5-0aeeaa78082b\",\"attributes\":{\"syncable\":false,\"line_color\":\"black\",\"line_alpha\":1.0,\"line_width\":2,\"line_dash\":[4,4],\"fill_color\":\"lightgrey\",\"fill_alpha\":0.5,\"level\":\"overlay\",\"visible\":false,\"left\":{\"type\":\"number\",\"value\":\"nan\"},\"right\":{\"type\":\"number\",\"value\":\"nan\"},\"top\":{\"type\":\"number\",\"value\":\"nan\"},\"bottom\":{\"type\":\"number\",\"value\":\"nan\"},\"left_units\":\"canvas\",\"right_units\":\"canvas\",\"top_units\":\"canvas\",\"bottom_units\":\"canvas\",\"handles\":{\"type\":\"object\",\"name\":\"BoxInteractionHandles\",\"id\":\"36a0e598-cd5e-4f4e-a622-1fcb70862df2\",\"attributes\":{\"all\":{\"type\":\"object\",\"name\":\"AreaVisuals\",\"id\":\"2162c474-471d-4e86-917e-5d6a931d4af5\",\"attributes\":{\"fill_color\":\"white\",\"hover_fill_color\":\"lightgray\"}}}}}}}},{\"type\":\"object\",\"name\":\"ResetTool\",\"id\":\"d260ed58-d3e4-493e-90f9-49c84e85793c\"}],\"active_drag\":{\"id\":\"944e6b98-5df5-4729-8af0-be93698a8c4d\"},\"active_scroll\":{\"id\":\"b20aaf4e-b30a-4aef-a5e8-5e7d173ed940\"}}},\"left\":[{\"type\":\"object\",\"name\":\"LinearAxis\",\"id\":\"e977a45e-0ee0-4010-9b6a-2c1cdbf139b3\",\"attributes\":{\"ticker\":{\"type\":\"object\",\"name\":\"BasicTicker\",\"id\":\"c99ba6ea-7fc9-4c38-aae1-b0df4abe726c\",\"attributes\":{\"mantissas\":[1,2,5]}},\"formatter\":{\"type\":\"object\",\"name\":\"BasicTickFormatter\",\"id\":\"e270f8bc-a2a2-4694-bbea-b269009146ea\"},\"axis_label\":\"y\",\"major_label_policy\":{\"type\":\"object\",\"name\":\"AllLabels\",\"id\":\"111e9874-980f-4a99-9d20-4b5e6275d071\"}}}],\"below\":[{\"type\":\"object\",\"name\":\"LinearAxis\",\"id\":\"ddef323c-7d49-4caf-9fe6-64e59b11fa4a\",\"attributes\":{\"ticker\":{\"type\":\"object\",\"name\":\"BasicTicker\",\"id\":\"041a2852-5d5b-4ad7-b67e-c71d0c5ae19b\",\"attributes\":{\"mantissas\":[1,2,5]}},\"formatter\":{\"type\":\"object\",\"name\":\"BasicTickFormatter\",\"id\":\"ea0bdf9f-0b98-49ff-b575-f7d8ff0c18e2\"},\"axis_label\":\"x\",\"major_label_policy\":{\"type\":\"object\",\"name\":\"AllLabels\",\"id\":\"1659dd1d-8c5d-423a-8d32-0aa14f685acf\"}}}],\"center\":[{\"type\":\"object\",\"name\":\"Grid\",\"id\":\"c07433ec-a7d3-49e0-8d30-ad86401d1592\",\"attributes\":{\"axis\":{\"id\":\"ddef323c-7d49-4caf-9fe6-64e59b11fa4a\"},\"grid_line_color\":null}},{\"type\":\"object\",\"name\":\"Grid\",\"id\":\"69f8cb68-7b9d-497b-865a-c879db8b06bc\",\"attributes\":{\"dimension\":1,\"axis\":{\"id\":\"e977a45e-0ee0-4010-9b6a-2c1cdbf139b3\"},\"grid_line_color\":null}},{\"type\":\"object\",\"name\":\"Legend\",\"id\":\"d7ecf1bf-99a6-4fb7-887b-1e111a18a6a9\",\"attributes\":{\"click_policy\":\"mute\",\"items\":[{\"type\":\"object\",\"name\":\"LegendItem\",\"id\":\"9a45771a-61c8-4e0c-92d8-5322879a8993\",\"attributes\":{\"label\":{\"type\":\"value\",\"value\":\"data\"},\"renderers\":[{\"id\":\"f0d9d3eb-7022-4178-8042-1552d90932c4\"},{\"id\":\"1c9961f2-8468-48b9-841d-ac7d661c8ed6\"}]}}]}}],\"min_border_top\":10,\"min_border_bottom\":10,\"min_border_left\":10,\"min_border_right\":10,\"output_backend\":\"webgl\"}},{\"type\":\"object\",\"name\":\"Spacer\",\"id\":\"70c3aaea-7ab2-4206-9160-32b633aa5884\",\"attributes\":{\"name\":\"HSpacer00863\",\"stylesheets\":[\"\\n:host(.pn-loading):before, .pn-loading:before {\\n  background-color: #c3c3c3;\\n  mask-size: auto calc(min(50%, 400px));\\n  -webkit-mask-size: auto calc(min(50%, 400px));\\n}\",{\"id\":\"b46444fe-dc9b-47a6-a8a7-3135a8e80772\"},{\"id\":\"bae95192-eb8f-42c4-8d2d-48047f59f2a8\"},{\"id\":\"cee3d09c-e78a-4f26-ac2a-b4bdc0fe90be\"}],\"min_width\":0,\"margin\":0,\"sizing_mode\":\"stretch_width\",\"align\":\"start\"}}]}}],\"defs\":[{\"type\":\"model\",\"name\":\"ReactiveHTML1\"},{\"type\":\"model\",\"name\":\"FlexBox1\",\"properties\":[{\"name\":\"align_content\",\"kind\":\"Any\",\"default\":\"flex-start\"},{\"name\":\"align_items\",\"kind\":\"Any\",\"default\":\"flex-start\"},{\"name\":\"flex_direction\",\"kind\":\"Any\",\"default\":\"row\"},{\"name\":\"flex_wrap\",\"kind\":\"Any\",\"default\":\"wrap\"},{\"name\":\"gap\",\"kind\":\"Any\",\"default\":\"\"},{\"name\":\"justify_content\",\"kind\":\"Any\",\"default\":\"flex-start\"}]},{\"type\":\"model\",\"name\":\"FloatPanel1\",\"properties\":[{\"name\":\"config\",\"kind\":\"Any\",\"default\":{\"type\":\"map\"}},{\"name\":\"contained\",\"kind\":\"Any\",\"default\":true},{\"name\":\"position\",\"kind\":\"Any\",\"default\":\"right-top\"},{\"name\":\"offsetx\",\"kind\":\"Any\",\"default\":null},{\"name\":\"offsety\",\"kind\":\"Any\",\"default\":null},{\"name\":\"theme\",\"kind\":\"Any\",\"default\":\"primary\"},{\"name\":\"status\",\"kind\":\"Any\",\"default\":\"normalized\"}]},{\"type\":\"model\",\"name\":\"GridStack1\",\"properties\":[{\"name\":\"ncols\",\"kind\":\"Any\",\"default\":null},{\"name\":\"nrows\",\"kind\":\"Any\",\"default\":null},{\"name\":\"allow_resize\",\"kind\":\"Any\",\"default\":true},{\"name\":\"allow_drag\",\"kind\":\"Any\",\"default\":true},{\"name\":\"state\",\"kind\":\"Any\",\"default\":[]}]},{\"type\":\"model\",\"name\":\"drag1\",\"properties\":[{\"name\":\"slider_width\",\"kind\":\"Any\",\"default\":5},{\"name\":\"slider_color\",\"kind\":\"Any\",\"default\":\"black\"},{\"name\":\"value\",\"kind\":\"Any\",\"default\":50}]},{\"type\":\"model\",\"name\":\"click1\",\"properties\":[{\"name\":\"terminal_output\",\"kind\":\"Any\",\"default\":\"\"},{\"name\":\"debug_name\",\"kind\":\"Any\",\"default\":\"\"},{\"name\":\"clears\",\"kind\":\"Any\",\"default\":0}]},{\"type\":\"model\",\"name\":\"FastWrapper1\",\"properties\":[{\"name\":\"object\",\"kind\":\"Any\",\"default\":null},{\"name\":\"style\",\"kind\":\"Any\",\"default\":null}]},{\"type\":\"model\",\"name\":\"NotificationArea1\",\"properties\":[{\"name\":\"js_events\",\"kind\":\"Any\",\"default\":{\"type\":\"map\"}},{\"name\":\"max_notifications\",\"kind\":\"Any\",\"default\":5},{\"name\":\"notifications\",\"kind\":\"Any\",\"default\":[]},{\"name\":\"position\",\"kind\":\"Any\",\"default\":\"bottom-right\"},{\"name\":\"_clear\",\"kind\":\"Any\",\"default\":0},{\"name\":\"types\",\"kind\":\"Any\",\"default\":[{\"type\":\"map\",\"entries\":[[\"type\",\"warning\"],[\"background\",\"#ffc107\"],[\"icon\",{\"type\":\"map\",\"entries\":[[\"className\",\"fas fa-exclamation-triangle\"],[\"tagName\",\"i\"],[\"color\",\"white\"]]}]]},{\"type\":\"map\",\"entries\":[[\"type\",\"info\"],[\"background\",\"#007bff\"],[\"icon\",{\"type\":\"map\",\"entries\":[[\"className\",\"fas fa-info-circle\"],[\"tagName\",\"i\"],[\"color\",\"white\"]]}]]}]}]},{\"type\":\"model\",\"name\":\"Notification\",\"properties\":[{\"name\":\"background\",\"kind\":\"Any\",\"default\":null},{\"name\":\"duration\",\"kind\":\"Any\",\"default\":3000},{\"name\":\"icon\",\"kind\":\"Any\",\"default\":null},{\"name\":\"message\",\"kind\":\"Any\",\"default\":\"\"},{\"name\":\"notification_type\",\"kind\":\"Any\",\"default\":null},{\"name\":\"_rendered\",\"kind\":\"Any\",\"default\":false},{\"name\":\"_destroyed\",\"kind\":\"Any\",\"default\":false}]},{\"type\":\"model\",\"name\":\"TemplateActions1\",\"properties\":[{\"name\":\"open_modal\",\"kind\":\"Any\",\"default\":0},{\"name\":\"close_modal\",\"kind\":\"Any\",\"default\":0}]},{\"type\":\"model\",\"name\":\"BootstrapTemplateActions1\",\"properties\":[{\"name\":\"open_modal\",\"kind\":\"Any\",\"default\":0},{\"name\":\"close_modal\",\"kind\":\"Any\",\"default\":0}]},{\"type\":\"model\",\"name\":\"TemplateEditor1\",\"properties\":[{\"name\":\"layout\",\"kind\":\"Any\",\"default\":[]}]},{\"type\":\"model\",\"name\":\"MaterialTemplateActions1\",\"properties\":[{\"name\":\"open_modal\",\"kind\":\"Any\",\"default\":0},{\"name\":\"close_modal\",\"kind\":\"Any\",\"default\":0}]},{\"type\":\"model\",\"name\":\"ReactiveESM1\",\"properties\":[{\"name\":\"esm_constants\",\"kind\":\"Any\",\"default\":{\"type\":\"map\"}}]},{\"type\":\"model\",\"name\":\"JSComponent1\",\"properties\":[{\"name\":\"esm_constants\",\"kind\":\"Any\",\"default\":{\"type\":\"map\"}}]},{\"type\":\"model\",\"name\":\"ReactComponent1\",\"properties\":[{\"name\":\"esm_constants\",\"kind\":\"Any\",\"default\":{\"type\":\"map\"}}]},{\"type\":\"model\",\"name\":\"AnyWidgetComponent1\",\"properties\":[{\"name\":\"esm_constants\",\"kind\":\"Any\",\"default\":{\"type\":\"map\"}}]},{\"type\":\"model\",\"name\":\"request_value1\",\"properties\":[{\"name\":\"fill\",\"kind\":\"Any\",\"default\":\"none\"},{\"name\":\"_synced\",\"kind\":\"Any\",\"default\":null},{\"name\":\"_request_sync\",\"kind\":\"Any\",\"default\":0}]},{\"type\":\"model\",\"name\":\"holoviews.plotting.bokeh.raster.HoverModel\",\"properties\":[{\"name\":\"xy\",\"kind\":\"Any\",\"default\":null},{\"name\":\"data\",\"kind\":\"Any\",\"default\":null}]}]}};\n",
       "  var render_items = [{\"docid\":\"e740f55c-d3c2-4624-8ed4-97cdcacac6bc\",\"roots\":{\"7cdf89ee-7fc4-469c-a417-0cc7dcfc7cce\":\"c93ac964-d837-4de0-a3c7-3b370832b21e\"},\"root_ids\":[\"7cdf89ee-7fc4-469c-a417-0cc7dcfc7cce\"]}];\n",
       "  var docs = Object.values(docs_json)\n",
       "  if (!docs) {\n",
       "    return\n",
       "  }\n",
       "  const py_version = docs[0].version.replace('rc', '-rc.').replace('.dev', '-dev.')\n",
       "  async function embed_document(root) {\n",
       "    var Bokeh = get_bokeh(root)\n",
       "    await Bokeh.embed.embed_items_notebook(docs_json, render_items);\n",
       "    for (const render_item of render_items) {\n",
       "      for (const root_id of render_item.root_ids) {\n",
       "\tconst id_el = document.getElementById(root_id)\n",
       "\tif (id_el.children.length && id_el.children[0].hasAttribute('data-root-id')) {\n",
       "\t  const root_el = id_el.children[0]\n",
       "\t  root_el.id = root_el.id + '-rendered'\n",
       "\t  for (const child of root_el.children) {\n",
       "            // Ensure JupyterLab does not capture keyboard shortcuts\n",
       "            // see: https://jupyterlab.readthedocs.io/en/4.1.x/extension/notebook.html#keyboard-interaction-model\n",
       "\t    child.setAttribute('data-lm-suppress-shortcuts', 'true')\n",
       "\t  }\n",
       "\t}\n",
       "      }\n",
       "    }\n",
       "  }\n",
       "  function get_bokeh(root) {\n",
       "    if (root.Bokeh === undefined) {\n",
       "      return null\n",
       "    } else if (root.Bokeh.version !== py_version) {\n",
       "      if (root.Bokeh.versions === undefined || !root.Bokeh.versions.has(py_version)) {\n",
       "\treturn null\n",
       "      }\n",
       "      return root.Bokeh.versions.get(py_version);\n",
       "    } else if (root.Bokeh.version === py_version) {\n",
       "      return root.Bokeh\n",
       "    }\n",
       "    return null\n",
       "  }\n",
       "  function is_loaded(root) {\n",
       "    var Bokeh = get_bokeh(root)\n",
       "    return (Bokeh != null && Bokeh.Panel !== undefined)\n",
       "  }\n",
       "  if (is_loaded(root)) {\n",
       "    embed_document(root);\n",
       "  } else {\n",
       "    var attempts = 0;\n",
       "    var timer = setInterval(function(root) {\n",
       "      if (is_loaded(root)) {\n",
       "        clearInterval(timer);\n",
       "        embed_document(root);\n",
       "      } else if (document.readyState == \"complete\") {\n",
       "        attempts++;\n",
       "        if (attempts > 200) {\n",
       "          clearInterval(timer);\n",
       "\t  var Bokeh = get_bokeh(root)\n",
       "\t  if (Bokeh == null || Bokeh.Panel == null) {\n",
       "            console.warn(\"Panel: ERROR: Unable to run Panel code because Bokeh or Panel library is missing\");\n",
       "\t  } else {\n",
       "\t    console.warn(\"Panel: WARNING: Attempting to render but not all required libraries could be resolved.\")\n",
       "\t    embed_document(root)\n",
       "\t  }\n",
       "        }\n",
       "      }\n",
       "    }, 25, root)\n",
       "  }\n",
       "})(window);</script>"
      ],
      "application/vnd.holoviews_exec.v0+json": "",
      "text/plain": [
       ":Overlay\n",
       "   .Curve.Data.I  :Curve   [x]   (y)\n",
       "   .Curve.Data.II :Curve   [x]   (y)"
      ]
     },
     "execution_count": 33,
     "metadata": {
      "application/vnd.holoviews_exec.v0+json": {
       "id": "7cdf89ee-7fc4-469c-a417-0cc7dcfc7cce"
      }
     },
     "output_type": "execute_result"
    }
   ],
   "execution_count": 33
  },
  {
   "metadata": {},
   "cell_type": "code",
   "source": "hv.save(curve, r\"D:\\Github\\rf-analysis-tools\\notebook\\fitting\\C12_non_lin.png\")",
   "id": "7b4bf7172200ca6a",
   "outputs": [],
   "execution_count": null
  },
  {
   "cell_type": "code",
   "id": "dd3ce3e0",
   "metadata": {
    "ExecuteTime": {
     "end_time": "2025-09-24T15:51:06.875010Z",
     "start_time": "2025-09-24T15:51:06.187895Z"
    }
   },
   "source": [
    "power_min = -20\n",
    "power_max = -8\n",
    "power = []\n",
    "fc = []\n",
    "Ql = []\n",
    "Qc = []\n",
    "Qi = []\n",
    "for p in range(power_min, power_max + 1, 2):\n",
    "    peak1 = (\n",
    "        load_by_run_spec(captured_run_id=36)\n",
    "        .to_xarray_dataset()\n",
    "        .sel({'pna_power': p}, method='nearest')\n",
    "    )\n",
    "    freq = peak1['pna_frequency_axis']\n",
    "    fc_i = float((freq[0] + freq[-1]) / 2)\n",
    "    popt, pcov = curve_fit(S21, freq, peak1['pna_tr1_magnitude'], p0)\n",
    "    Qi_i = np.abs(popt[1])\n",
    "    Qc_i = np.abs(popt[2])\n",
    "    Ql_i = 1 / (1 / np.abs(popt[2]) + 1 / np.abs(popt[1]))\n",
    "    power.append(p)\n",
    "    Qc.append(Qc_i)\n",
    "    Qi.append(Qi_i)\n",
    "    Ql.append(Ql_i)"
   ],
   "outputs": [
    {
     "name": "stderr",
     "output_type": "stream",
     "text": [
      "C:\\Users\\Amine Selmani\\AppData\\Local\\Temp\\ipykernel_31376\\3052905144.py:16: OptimizeWarning: Covariance of the parameters could not be estimated\n",
      "  popt, pcov = curve_fit(S21, freq, peak1['pna_tr1_magnitude'], p0)\n",
      "C:\\Users\\Amine Selmani\\AppData\\Local\\Temp\\ipykernel_31376\\3052905144.py:16: OptimizeWarning: Covariance of the parameters could not be estimated\n",
      "  popt, pcov = curve_fit(S21, freq, peak1['pna_tr1_magnitude'], p0)\n",
      "C:\\Users\\Amine Selmani\\AppData\\Local\\Temp\\ipykernel_31376\\3052905144.py:16: OptimizeWarning: Covariance of the parameters could not be estimated\n",
      "  popt, pcov = curve_fit(S21, freq, peak1['pna_tr1_magnitude'], p0)\n",
      "C:\\Users\\Amine Selmani\\AppData\\Local\\Temp\\ipykernel_31376\\3052905144.py:16: OptimizeWarning: Covariance of the parameters could not be estimated\n",
      "  popt, pcov = curve_fit(S21, freq, peak1['pna_tr1_magnitude'], p0)\n",
      "C:\\Users\\Amine Selmani\\AppData\\Local\\Temp\\ipykernel_31376\\3052905144.py:16: OptimizeWarning: Covariance of the parameters could not be estimated\n",
      "  popt, pcov = curve_fit(S21, freq, peak1['pna_tr1_magnitude'], p0)\n",
      "C:\\Users\\Amine Selmani\\AppData\\Local\\Temp\\ipykernel_31376\\3052905144.py:16: OptimizeWarning: Covariance of the parameters could not be estimated\n",
      "  popt, pcov = curve_fit(S21, freq, peak1['pna_tr1_magnitude'], p0)\n",
      "C:\\Users\\Amine Selmani\\AppData\\Local\\Temp\\ipykernel_31376\\3052905144.py:16: OptimizeWarning: Covariance of the parameters could not be estimated\n",
      "  popt, pcov = curve_fit(S21, freq, peak1['pna_tr1_magnitude'], p0)\n"
     ]
    }
   ],
   "execution_count": 28
  },
  {
   "cell_type": "code",
   "id": "d721a559",
   "metadata": {
    "ExecuteTime": {
     "end_time": "2025-09-24T15:50:13.612822Z",
     "start_time": "2025-09-24T15:50:13.469512Z"
    }
   },
   "source": [
    "(\n",
    "        hv.Curve((power,Qi),label='Qi').opts(logy=True)*\n",
    "        hv.Curve((power,Qc),label='Qc').opts(logy=False)*\n",
    "        hv.Curve((power,Ql),label='Ql').opts(logy=False)\n",
    ").opts(xlabel='Power (dBm)',ylabel='Quality factor',legend_position='top_left',width=500,height=500)"
   ],
   "outputs": [
    {
     "data": {},
     "metadata": {},
     "output_type": "display_data",
     "jetTransient": {
      "display_id": "d578f6842b2145cf9424235ead3a1bab"
     }
    },
    {
     "data": {
      "text/html": [
       "<div id='6aeb7a3d-bbf0-4de0-94a2-5eba3ea95e75'>\n",
       "  <div id=\"d6b9a921-5f85-4a90-bb81-f15717b3ddb5\" data-root-id=\"6aeb7a3d-bbf0-4de0-94a2-5eba3ea95e75\" style=\"display: contents;\"></div>\n",
       "</div>\n",
       "<script type=\"application/javascript\">(function(root) {\n",
       "  var docs_json = {\"413d70ec-8f0a-47b9-9e88-ee8c4766308d\":{\"version\":\"3.6.2\",\"title\":\"Bokeh Application\",\"roots\":[{\"type\":\"object\",\"name\":\"Row\",\"id\":\"6aeb7a3d-bbf0-4de0-94a2-5eba3ea95e75\",\"attributes\":{\"name\":\"Row00777\",\"tags\":[\"embedded\"],\"stylesheets\":[\"\\n:host(.pn-loading):before, .pn-loading:before {\\n  background-color: #c3c3c3;\\n  mask-size: auto calc(min(50%, 400px));\\n  -webkit-mask-size: auto calc(min(50%, 400px));\\n}\",{\"type\":\"object\",\"name\":\"ImportedStyleSheet\",\"id\":\"d0f442c8-258b-4f5c-bdbb-dbfa21579a9d\",\"attributes\":{\"url\":\"https://cdn.holoviz.org/panel/1.7.0/dist/css/loading.css\"}},{\"type\":\"object\",\"name\":\"ImportedStyleSheet\",\"id\":\"fd414325-ce7f-4f08-90d6-9b004f6b06ed\",\"attributes\":{\"url\":\"https://cdn.holoviz.org/panel/1.7.0/dist/css/listpanel.css\"}},{\"type\":\"object\",\"name\":\"ImportedStyleSheet\",\"id\":\"249fcb45-f69e-451f-b716-fad68112acbe\",\"attributes\":{\"url\":\"https://cdn.holoviz.org/panel/1.7.0/dist/bundled/theme/default.css\"}},{\"type\":\"object\",\"name\":\"ImportedStyleSheet\",\"id\":\"d758952a-f5ea-4d86-aeee-5c84e7e007fa\",\"attributes\":{\"url\":\"https://cdn.holoviz.org/panel/1.7.0/dist/bundled/theme/native.css\"}}],\"min_width\":500,\"margin\":0,\"sizing_mode\":\"stretch_width\",\"align\":\"start\",\"children\":[{\"type\":\"object\",\"name\":\"Spacer\",\"id\":\"a04dec69-ea41-4147-8565-96d6d1f41dc7\",\"attributes\":{\"name\":\"HSpacer00781\",\"stylesheets\":[\"\\n:host(.pn-loading):before, .pn-loading:before {\\n  background-color: #c3c3c3;\\n  mask-size: auto calc(min(50%, 400px));\\n  -webkit-mask-size: auto calc(min(50%, 400px));\\n}\",{\"id\":\"d0f442c8-258b-4f5c-bdbb-dbfa21579a9d\"},{\"id\":\"249fcb45-f69e-451f-b716-fad68112acbe\"},{\"id\":\"d758952a-f5ea-4d86-aeee-5c84e7e007fa\"}],\"min_width\":0,\"margin\":0,\"sizing_mode\":\"stretch_width\",\"align\":\"start\"}},{\"type\":\"object\",\"name\":\"Figure\",\"id\":\"81422cc0-2a56-46de-983d-9478634d5641\",\"attributes\":{\"width\":500,\"height\":500,\"margin\":[5,10],\"sizing_mode\":\"fixed\",\"align\":\"start\",\"x_range\":{\"type\":\"object\",\"name\":\"Range1d\",\"id\":\"419fe8a1-d0c4-4bac-88cc-467f26d06fd0\",\"attributes\":{\"name\":\"x\",\"tags\":[[[\"x\",null]],[]],\"start\":-20.0,\"end\":-8.0,\"reset_start\":-20.0,\"reset_end\":-8.0}},\"y_range\":{\"type\":\"object\",\"name\":\"Range1d\",\"id\":\"3bf4f4d8-e4fb-4501-88aa-200f763c777b\",\"attributes\":{\"name\":\"y\",\"tags\":[[[\"y\",null]],{\"type\":\"map\",\"entries\":[[\"invert_yaxis\",false],[\"autorange\",false]]}],\"start\":248.56644650304347,\"end\":6877.504536947664,\"reset_start\":248.56644650304347,\"reset_end\":6877.504536947664}},\"x_scale\":{\"type\":\"object\",\"name\":\"LinearScale\",\"id\":\"14bee8ed-62fa-440b-8e4c-91c373506089\"},\"y_scale\":{\"type\":\"object\",\"name\":\"LogScale\",\"id\":\"dc59c370-1233-4803-92f6-a0b0773836d3\"},\"title\":{\"type\":\"object\",\"name\":\"Title\",\"id\":\"3d7bae5c-0baa-45e0-b70b-b3d5a7b4b579\",\"attributes\":{\"text_color\":\"black\",\"text_font_size\":\"12pt\"}},\"renderers\":[{\"type\":\"object\",\"name\":\"GlyphRenderer\",\"id\":\"dc887a32-a08c-47d1-a0b3-95f5469a3287\",\"attributes\":{\"name\":\"Qi\",\"data_source\":{\"type\":\"object\",\"name\":\"ColumnDataSource\",\"id\":\"8fce873b-01bd-45f0-8e0c-1f849c794c96\",\"attributes\":{\"selected\":{\"type\":\"object\",\"name\":\"Selection\",\"id\":\"5ee361f8-af50-42b9-90e0-ac13aaeaac05\",\"attributes\":{\"indices\":[],\"line_indices\":[]}},\"selection_policy\":{\"type\":\"object\",\"name\":\"UnionRenderers\",\"id\":\"c8c9495e-3266-4070-9f92-e504e524cbee\"},\"data\":{\"type\":\"map\",\"entries\":[[\"x\",{\"type\":\"ndarray\",\"array\":{\"type\":\"bytes\",\"data\":\"7P///+7////w////8v////T////2////+P///w==\"},\"shape\":[7],\"dtype\":\"int32\",\"order\":\"little\"}],[\"y\",{\"type\":\"ndarray\",\"array\":{\"type\":\"bytes\",\"data\":\"3AHlzBAHtEDcAeXMEAe0QPRi7lkQLLRA9GLuWRAstECGl7JtIV+0QIaXsm0hX7RAhpeybSFftEA=\"},\"shape\":[7],\"dtype\":\"float64\",\"order\":\"little\"}]]}}},\"view\":{\"type\":\"object\",\"name\":\"CDSView\",\"id\":\"a28219ee-025b-4f7b-8f90-9d2141eeb15d\",\"attributes\":{\"filter\":{\"type\":\"object\",\"name\":\"AllIndices\",\"id\":\"0e2eed0f-ecfe-4f81-97ad-8fca46ef973a\"}}},\"glyph\":{\"type\":\"object\",\"name\":\"Line\",\"id\":\"46d9679a-da96-49be-9cb4-91a257e5d1b9\",\"attributes\":{\"tags\":[\"apply_ranges\"],\"x\":{\"type\":\"field\",\"field\":\"x\"},\"y\":{\"type\":\"field\",\"field\":\"y\"},\"line_color\":\"#30a2da\",\"line_width\":2}},\"selection_glyph\":{\"type\":\"object\",\"name\":\"Line\",\"id\":\"07cc3454-df71-4fe7-a444-dae16453d8de\",\"attributes\":{\"tags\":[\"apply_ranges\"],\"x\":{\"type\":\"field\",\"field\":\"x\"},\"y\":{\"type\":\"field\",\"field\":\"y\"},\"line_color\":\"#30a2da\",\"line_width\":2}},\"nonselection_glyph\":{\"type\":\"object\",\"name\":\"Line\",\"id\":\"2be6a6fb-dc9d-4bd1-8da1-c410e279e99a\",\"attributes\":{\"tags\":[\"apply_ranges\"],\"x\":{\"type\":\"field\",\"field\":\"x\"},\"y\":{\"type\":\"field\",\"field\":\"y\"},\"line_color\":\"#30a2da\",\"line_alpha\":0.1,\"line_width\":2}},\"muted_glyph\":{\"type\":\"object\",\"name\":\"Line\",\"id\":\"3bd1679c-b57d-4ead-b5dc-b999bd72046a\",\"attributes\":{\"tags\":[\"apply_ranges\"],\"x\":{\"type\":\"field\",\"field\":\"x\"},\"y\":{\"type\":\"field\",\"field\":\"y\"},\"line_color\":\"#30a2da\",\"line_alpha\":0.2,\"line_width\":2}}}},{\"type\":\"object\",\"name\":\"GlyphRenderer\",\"id\":\"3e534564-cc2d-4f0c-93de-2ebd4b53db61\",\"attributes\":{\"name\":\"Qc\",\"data_source\":{\"type\":\"object\",\"name\":\"ColumnDataSource\",\"id\":\"1a75d0b0-c089-49ba-80ce-8e934a1be878\",\"attributes\":{\"selected\":{\"type\":\"object\",\"name\":\"Selection\",\"id\":\"c5fad05a-e1cf-4b8f-ba15-9cd48075103b\",\"attributes\":{\"indices\":[],\"line_indices\":[]}},\"selection_policy\":{\"type\":\"object\",\"name\":\"UnionRenderers\",\"id\":\"7a7552ee-e0cc-4be8-af35-4433fe536b70\"},\"data\":{\"type\":\"map\",\"entries\":[[\"x\",{\"type\":\"ndarray\",\"array\":{\"type\":\"bytes\",\"data\":\"7P///+7////w////8v////T////2////+P///w==\"},\"shape\":[7],\"dtype\":\"int32\",\"order\":\"little\"}],[\"y\",{\"type\":\"ndarray\",\"array\":{\"type\":\"bytes\",\"data\":\"Lrr/ixjudUAuuv+LGO51QHs1A4o843VAezUDijzjdUCSQFfRkNx1QJJAV9GQ3HVAkkBX0ZDcdUA=\"},\"shape\":[7],\"dtype\":\"float64\",\"order\":\"little\"}]]}}},\"view\":{\"type\":\"object\",\"name\":\"CDSView\",\"id\":\"4d187315-f815-451e-963a-1258683d684f\",\"attributes\":{\"filter\":{\"type\":\"object\",\"name\":\"AllIndices\",\"id\":\"59f2c8c1-5f65-431c-b890-320dc9f23295\"}}},\"glyph\":{\"type\":\"object\",\"name\":\"Line\",\"id\":\"f3ca2eeb-6e31-4886-9b18-46e5d919390b\",\"attributes\":{\"tags\":[\"apply_ranges\"],\"x\":{\"type\":\"field\",\"field\":\"x\"},\"y\":{\"type\":\"field\",\"field\":\"y\"},\"line_color\":\"#fc4f30\",\"line_width\":2}},\"selection_glyph\":{\"type\":\"object\",\"name\":\"Line\",\"id\":\"ee85d4bb-e5b4-4002-936b-8b07dbb3fb37\",\"attributes\":{\"tags\":[\"apply_ranges\"],\"x\":{\"type\":\"field\",\"field\":\"x\"},\"y\":{\"type\":\"field\",\"field\":\"y\"},\"line_color\":\"#fc4f30\",\"line_width\":2}},\"nonselection_glyph\":{\"type\":\"object\",\"name\":\"Line\",\"id\":\"223f85c5-d748-4784-a15b-8d2ebc58c98b\",\"attributes\":{\"tags\":[\"apply_ranges\"],\"x\":{\"type\":\"field\",\"field\":\"x\"},\"y\":{\"type\":\"field\",\"field\":\"y\"},\"line_color\":\"#fc4f30\",\"line_alpha\":0.1,\"line_width\":2}},\"muted_glyph\":{\"type\":\"object\",\"name\":\"Line\",\"id\":\"21652880-7abc-40b3-9530-c0bee05964de\",\"attributes\":{\"tags\":[\"apply_ranges\"],\"x\":{\"type\":\"field\",\"field\":\"x\"},\"y\":{\"type\":\"field\",\"field\":\"y\"},\"line_color\":\"#fc4f30\",\"line_alpha\":0.2,\"line_width\":2}}}},{\"type\":\"object\",\"name\":\"GlyphRenderer\",\"id\":\"f6cc169c-3b4b-413f-a5a7-39dfc64b8210\",\"attributes\":{\"name\":\"Ql\",\"data_source\":{\"type\":\"object\",\"name\":\"ColumnDataSource\",\"id\":\"710d30b1-6612-4435-9eea-d8052c3875a9\",\"attributes\":{\"selected\":{\"type\":\"object\",\"name\":\"Selection\",\"id\":\"5dff343c-10e4-492a-a295-53b88f8e6749\",\"attributes\":{\"indices\":[],\"line_indices\":[]}},\"selection_policy\":{\"type\":\"object\",\"name\":\"UnionRenderers\",\"id\":\"caef57fa-d159-45eb-afad-0f66a11aa509\"},\"data\":{\"type\":\"map\",\"entries\":[[\"x\",{\"type\":\"ndarray\",\"array\":{\"type\":\"bytes\",\"data\":\"7P///+7////w////8v////T////2////+P///w==\"},\"shape\":[7],\"dtype\":\"int32\",\"order\":\"little\"}],[\"y\",{\"type\":\"ndarray\",\"array\":{\"type\":\"bytes\",\"data\":\"timMe36GdEC2KYx7foZ0QMe2HkNif3RAx7YeQ2J/dEDv9Yx9ynx0QO/1jH3KfHRA7/WMfcp8dEA=\"},\"shape\":[7],\"dtype\":\"float64\",\"order\":\"little\"}]]}}},\"view\":{\"type\":\"object\",\"name\":\"CDSView\",\"id\":\"2758699f-fc9a-4baa-bf78-79e895da2bb0\",\"attributes\":{\"filter\":{\"type\":\"object\",\"name\":\"AllIndices\",\"id\":\"4488dca7-eca9-419b-9f33-a30fca2b2f74\"}}},\"glyph\":{\"type\":\"object\",\"name\":\"Line\",\"id\":\"94cd2088-9a52-4ad8-a921-80ffcf001d02\",\"attributes\":{\"tags\":[\"apply_ranges\"],\"x\":{\"type\":\"field\",\"field\":\"x\"},\"y\":{\"type\":\"field\",\"field\":\"y\"},\"line_color\":\"#e5ae38\",\"line_width\":2}},\"selection_glyph\":{\"type\":\"object\",\"name\":\"Line\",\"id\":\"1c1a212a-0214-4d29-b510-3b6e5bcb126a\",\"attributes\":{\"tags\":[\"apply_ranges\"],\"x\":{\"type\":\"field\",\"field\":\"x\"},\"y\":{\"type\":\"field\",\"field\":\"y\"},\"line_color\":\"#e5ae38\",\"line_width\":2}},\"nonselection_glyph\":{\"type\":\"object\",\"name\":\"Line\",\"id\":\"da54155c-7d5d-4972-abbf-37cacc5cc35b\",\"attributes\":{\"tags\":[\"apply_ranges\"],\"x\":{\"type\":\"field\",\"field\":\"x\"},\"y\":{\"type\":\"field\",\"field\":\"y\"},\"line_color\":\"#e5ae38\",\"line_alpha\":0.1,\"line_width\":2}},\"muted_glyph\":{\"type\":\"object\",\"name\":\"Line\",\"id\":\"38559d44-363d-4cf7-ae52-4f896ce16da8\",\"attributes\":{\"tags\":[\"apply_ranges\"],\"x\":{\"type\":\"field\",\"field\":\"x\"},\"y\":{\"type\":\"field\",\"field\":\"y\"},\"line_color\":\"#e5ae38\",\"line_alpha\":0.2,\"line_width\":2}}}}],\"toolbar\":{\"type\":\"object\",\"name\":\"Toolbar\",\"id\":\"b7d8dc43-b8e5-4539-96ef-7155e5afaa14\",\"attributes\":{\"tools\":[{\"type\":\"object\",\"name\":\"WheelZoomTool\",\"id\":\"e5326747-db20-4522-b500-ba9986873bb3\",\"attributes\":{\"tags\":[\"hv_created\"],\"renderers\":\"auto\",\"zoom_together\":\"none\"}},{\"type\":\"object\",\"name\":\"SaveTool\",\"id\":\"6c37ff49-269f-49db-8543-b72d360af0f6\"},{\"type\":\"object\",\"name\":\"PanTool\",\"id\":\"a5b6f3ee-5a3c-470c-9e4c-dd6953e07163\"},{\"type\":\"object\",\"name\":\"BoxZoomTool\",\"id\":\"e4c435f0-99b0-4893-9678-793b9aefba67\",\"attributes\":{\"overlay\":{\"type\":\"object\",\"name\":\"BoxAnnotation\",\"id\":\"e45e1420-baf8-4e9a-9a83-cdf7072a9df4\",\"attributes\":{\"syncable\":false,\"line_color\":\"black\",\"line_alpha\":1.0,\"line_width\":2,\"line_dash\":[4,4],\"fill_color\":\"lightgrey\",\"fill_alpha\":0.5,\"level\":\"overlay\",\"visible\":false,\"left\":{\"type\":\"number\",\"value\":\"nan\"},\"right\":{\"type\":\"number\",\"value\":\"nan\"},\"top\":{\"type\":\"number\",\"value\":\"nan\"},\"bottom\":{\"type\":\"number\",\"value\":\"nan\"},\"left_units\":\"canvas\",\"right_units\":\"canvas\",\"top_units\":\"canvas\",\"bottom_units\":\"canvas\",\"handles\":{\"type\":\"object\",\"name\":\"BoxInteractionHandles\",\"id\":\"2665aa33-09b8-41ad-bd5f-8de9e552ec53\",\"attributes\":{\"all\":{\"type\":\"object\",\"name\":\"AreaVisuals\",\"id\":\"d783c6ff-6c92-48de-aee4-243c3fb3b982\",\"attributes\":{\"fill_color\":\"white\",\"hover_fill_color\":\"lightgray\"}}}}}}}},{\"type\":\"object\",\"name\":\"ResetTool\",\"id\":\"941f2947-7583-437d-a643-49b54874935a\"}],\"active_drag\":{\"id\":\"a5b6f3ee-5a3c-470c-9e4c-dd6953e07163\"},\"active_scroll\":{\"id\":\"e5326747-db20-4522-b500-ba9986873bb3\"}}},\"left\":[{\"type\":\"object\",\"name\":\"LogAxis\",\"id\":\"dbbb09a0-dbb8-417a-b563-f3cd20d83d8d\",\"attributes\":{\"ticker\":{\"type\":\"object\",\"name\":\"LogTicker\",\"id\":\"04548ccc-26c4-4ad6-afb3-f6ff97c2d1bb\",\"attributes\":{\"num_minor_ticks\":10,\"mantissas\":[1,5]}},\"formatter\":{\"type\":\"object\",\"name\":\"LogTickFormatter\",\"id\":\"24edc7a0-a6f2-4f97-be93-177468257181\"},\"axis_label\":\"Quality factor\",\"major_label_policy\":{\"type\":\"object\",\"name\":\"AllLabels\",\"id\":\"85762939-5c30-4719-9465-1ba0f9ec4d27\"}}}],\"below\":[{\"type\":\"object\",\"name\":\"LinearAxis\",\"id\":\"86a4a0b3-3b9c-46bf-9a07-a0e51c8b86e8\",\"attributes\":{\"ticker\":{\"type\":\"object\",\"name\":\"BasicTicker\",\"id\":\"7babd8fe-e86f-42aa-8a40-9141a57bb1bb\",\"attributes\":{\"mantissas\":[1,2,5]}},\"formatter\":{\"type\":\"object\",\"name\":\"BasicTickFormatter\",\"id\":\"ee60c1a8-1f3f-4cfa-877c-9d69bd7bd3b2\"},\"axis_label\":\"Power (dBm)\",\"major_label_policy\":{\"type\":\"object\",\"name\":\"AllLabels\",\"id\":\"42ac3344-903e-4926-8566-6040dd10388e\"}}}],\"center\":[{\"type\":\"object\",\"name\":\"Grid\",\"id\":\"0411ba0d-641a-457d-ac7b-515b3ffb1e72\",\"attributes\":{\"axis\":{\"id\":\"86a4a0b3-3b9c-46bf-9a07-a0e51c8b86e8\"},\"grid_line_color\":null}},{\"type\":\"object\",\"name\":\"Grid\",\"id\":\"b38a60c8-fcfd-469f-b197-aee3ade451be\",\"attributes\":{\"dimension\":1,\"axis\":{\"id\":\"dbbb09a0-dbb8-417a-b563-f3cd20d83d8d\"},\"grid_line_color\":null}},{\"type\":\"object\",\"name\":\"Legend\",\"id\":\"377ee097-d722-4225-91d1-cd571b560845\",\"attributes\":{\"location\":\"top_left\",\"click_policy\":\"mute\",\"items\":[{\"type\":\"object\",\"name\":\"LegendItem\",\"id\":\"24961fe7-8b7e-4ca3-9866-919d065eea3a\",\"attributes\":{\"label\":{\"type\":\"value\",\"value\":\"Qi\"},\"renderers\":[{\"id\":\"dc887a32-a08c-47d1-a0b3-95f5469a3287\"}]}},{\"type\":\"object\",\"name\":\"LegendItem\",\"id\":\"0b10fd76-85c4-4e70-9bdf-ab79b5103e00\",\"attributes\":{\"label\":{\"type\":\"value\",\"value\":\"Qc\"},\"renderers\":[{\"id\":\"3e534564-cc2d-4f0c-93de-2ebd4b53db61\"}]}},{\"type\":\"object\",\"name\":\"LegendItem\",\"id\":\"00d21e6c-3321-4f8b-93ac-d648583a9dd3\",\"attributes\":{\"label\":{\"type\":\"value\",\"value\":\"Ql\"},\"renderers\":[{\"id\":\"f6cc169c-3b4b-413f-a5a7-39dfc64b8210\"}]}}]}}],\"min_border_top\":10,\"min_border_bottom\":10,\"min_border_left\":10,\"min_border_right\":10,\"output_backend\":\"webgl\"}},{\"type\":\"object\",\"name\":\"Spacer\",\"id\":\"3ccafc19-c453-48ae-8507-b2ebcdf4bf25\",\"attributes\":{\"name\":\"HSpacer00782\",\"stylesheets\":[\"\\n:host(.pn-loading):before, .pn-loading:before {\\n  background-color: #c3c3c3;\\n  mask-size: auto calc(min(50%, 400px));\\n  -webkit-mask-size: auto calc(min(50%, 400px));\\n}\",{\"id\":\"d0f442c8-258b-4f5c-bdbb-dbfa21579a9d\"},{\"id\":\"249fcb45-f69e-451f-b716-fad68112acbe\"},{\"id\":\"d758952a-f5ea-4d86-aeee-5c84e7e007fa\"}],\"min_width\":0,\"margin\":0,\"sizing_mode\":\"stretch_width\",\"align\":\"start\"}}]}}],\"defs\":[{\"type\":\"model\",\"name\":\"ReactiveHTML1\"},{\"type\":\"model\",\"name\":\"FlexBox1\",\"properties\":[{\"name\":\"align_content\",\"kind\":\"Any\",\"default\":\"flex-start\"},{\"name\":\"align_items\",\"kind\":\"Any\",\"default\":\"flex-start\"},{\"name\":\"flex_direction\",\"kind\":\"Any\",\"default\":\"row\"},{\"name\":\"flex_wrap\",\"kind\":\"Any\",\"default\":\"wrap\"},{\"name\":\"gap\",\"kind\":\"Any\",\"default\":\"\"},{\"name\":\"justify_content\",\"kind\":\"Any\",\"default\":\"flex-start\"}]},{\"type\":\"model\",\"name\":\"FloatPanel1\",\"properties\":[{\"name\":\"config\",\"kind\":\"Any\",\"default\":{\"type\":\"map\"}},{\"name\":\"contained\",\"kind\":\"Any\",\"default\":true},{\"name\":\"position\",\"kind\":\"Any\",\"default\":\"right-top\"},{\"name\":\"offsetx\",\"kind\":\"Any\",\"default\":null},{\"name\":\"offsety\",\"kind\":\"Any\",\"default\":null},{\"name\":\"theme\",\"kind\":\"Any\",\"default\":\"primary\"},{\"name\":\"status\",\"kind\":\"Any\",\"default\":\"normalized\"}]},{\"type\":\"model\",\"name\":\"GridStack1\",\"properties\":[{\"name\":\"ncols\",\"kind\":\"Any\",\"default\":null},{\"name\":\"nrows\",\"kind\":\"Any\",\"default\":null},{\"name\":\"allow_resize\",\"kind\":\"Any\",\"default\":true},{\"name\":\"allow_drag\",\"kind\":\"Any\",\"default\":true},{\"name\":\"state\",\"kind\":\"Any\",\"default\":[]}]},{\"type\":\"model\",\"name\":\"drag1\",\"properties\":[{\"name\":\"slider_width\",\"kind\":\"Any\",\"default\":5},{\"name\":\"slider_color\",\"kind\":\"Any\",\"default\":\"black\"},{\"name\":\"value\",\"kind\":\"Any\",\"default\":50}]},{\"type\":\"model\",\"name\":\"click1\",\"properties\":[{\"name\":\"terminal_output\",\"kind\":\"Any\",\"default\":\"\"},{\"name\":\"debug_name\",\"kind\":\"Any\",\"default\":\"\"},{\"name\":\"clears\",\"kind\":\"Any\",\"default\":0}]},{\"type\":\"model\",\"name\":\"FastWrapper1\",\"properties\":[{\"name\":\"object\",\"kind\":\"Any\",\"default\":null},{\"name\":\"style\",\"kind\":\"Any\",\"default\":null}]},{\"type\":\"model\",\"name\":\"NotificationArea1\",\"properties\":[{\"name\":\"js_events\",\"kind\":\"Any\",\"default\":{\"type\":\"map\"}},{\"name\":\"max_notifications\",\"kind\":\"Any\",\"default\":5},{\"name\":\"notifications\",\"kind\":\"Any\",\"default\":[]},{\"name\":\"position\",\"kind\":\"Any\",\"default\":\"bottom-right\"},{\"name\":\"_clear\",\"kind\":\"Any\",\"default\":0},{\"name\":\"types\",\"kind\":\"Any\",\"default\":[{\"type\":\"map\",\"entries\":[[\"type\",\"warning\"],[\"background\",\"#ffc107\"],[\"icon\",{\"type\":\"map\",\"entries\":[[\"className\",\"fas fa-exclamation-triangle\"],[\"tagName\",\"i\"],[\"color\",\"white\"]]}]]},{\"type\":\"map\",\"entries\":[[\"type\",\"info\"],[\"background\",\"#007bff\"],[\"icon\",{\"type\":\"map\",\"entries\":[[\"className\",\"fas fa-info-circle\"],[\"tagName\",\"i\"],[\"color\",\"white\"]]}]]}]}]},{\"type\":\"model\",\"name\":\"Notification\",\"properties\":[{\"name\":\"background\",\"kind\":\"Any\",\"default\":null},{\"name\":\"duration\",\"kind\":\"Any\",\"default\":3000},{\"name\":\"icon\",\"kind\":\"Any\",\"default\":null},{\"name\":\"message\",\"kind\":\"Any\",\"default\":\"\"},{\"name\":\"notification_type\",\"kind\":\"Any\",\"default\":null},{\"name\":\"_rendered\",\"kind\":\"Any\",\"default\":false},{\"name\":\"_destroyed\",\"kind\":\"Any\",\"default\":false}]},{\"type\":\"model\",\"name\":\"TemplateActions1\",\"properties\":[{\"name\":\"open_modal\",\"kind\":\"Any\",\"default\":0},{\"name\":\"close_modal\",\"kind\":\"Any\",\"default\":0}]},{\"type\":\"model\",\"name\":\"BootstrapTemplateActions1\",\"properties\":[{\"name\":\"open_modal\",\"kind\":\"Any\",\"default\":0},{\"name\":\"close_modal\",\"kind\":\"Any\",\"default\":0}]},{\"type\":\"model\",\"name\":\"TemplateEditor1\",\"properties\":[{\"name\":\"layout\",\"kind\":\"Any\",\"default\":[]}]},{\"type\":\"model\",\"name\":\"MaterialTemplateActions1\",\"properties\":[{\"name\":\"open_modal\",\"kind\":\"Any\",\"default\":0},{\"name\":\"close_modal\",\"kind\":\"Any\",\"default\":0}]},{\"type\":\"model\",\"name\":\"ReactiveESM1\",\"properties\":[{\"name\":\"esm_constants\",\"kind\":\"Any\",\"default\":{\"type\":\"map\"}}]},{\"type\":\"model\",\"name\":\"JSComponent1\",\"properties\":[{\"name\":\"esm_constants\",\"kind\":\"Any\",\"default\":{\"type\":\"map\"}}]},{\"type\":\"model\",\"name\":\"ReactComponent1\",\"properties\":[{\"name\":\"esm_constants\",\"kind\":\"Any\",\"default\":{\"type\":\"map\"}}]},{\"type\":\"model\",\"name\":\"AnyWidgetComponent1\",\"properties\":[{\"name\":\"esm_constants\",\"kind\":\"Any\",\"default\":{\"type\":\"map\"}}]},{\"type\":\"model\",\"name\":\"request_value1\",\"properties\":[{\"name\":\"fill\",\"kind\":\"Any\",\"default\":\"none\"},{\"name\":\"_synced\",\"kind\":\"Any\",\"default\":null},{\"name\":\"_request_sync\",\"kind\":\"Any\",\"default\":0}]},{\"type\":\"model\",\"name\":\"holoviews.plotting.bokeh.raster.HoverModel\",\"properties\":[{\"name\":\"xy\",\"kind\":\"Any\",\"default\":null},{\"name\":\"data\",\"kind\":\"Any\",\"default\":null}]}]}};\n",
       "  var render_items = [{\"docid\":\"413d70ec-8f0a-47b9-9e88-ee8c4766308d\",\"roots\":{\"6aeb7a3d-bbf0-4de0-94a2-5eba3ea95e75\":\"d6b9a921-5f85-4a90-bb81-f15717b3ddb5\"},\"root_ids\":[\"6aeb7a3d-bbf0-4de0-94a2-5eba3ea95e75\"]}];\n",
       "  var docs = Object.values(docs_json)\n",
       "  if (!docs) {\n",
       "    return\n",
       "  }\n",
       "  const py_version = docs[0].version.replace('rc', '-rc.').replace('.dev', '-dev.')\n",
       "  async function embed_document(root) {\n",
       "    var Bokeh = get_bokeh(root)\n",
       "    await Bokeh.embed.embed_items_notebook(docs_json, render_items);\n",
       "    for (const render_item of render_items) {\n",
       "      for (const root_id of render_item.root_ids) {\n",
       "\tconst id_el = document.getElementById(root_id)\n",
       "\tif (id_el.children.length && id_el.children[0].hasAttribute('data-root-id')) {\n",
       "\t  const root_el = id_el.children[0]\n",
       "\t  root_el.id = root_el.id + '-rendered'\n",
       "\t  for (const child of root_el.children) {\n",
       "            // Ensure JupyterLab does not capture keyboard shortcuts\n",
       "            // see: https://jupyterlab.readthedocs.io/en/4.1.x/extension/notebook.html#keyboard-interaction-model\n",
       "\t    child.setAttribute('data-lm-suppress-shortcuts', 'true')\n",
       "\t  }\n",
       "\t}\n",
       "      }\n",
       "    }\n",
       "  }\n",
       "  function get_bokeh(root) {\n",
       "    if (root.Bokeh === undefined) {\n",
       "      return null\n",
       "    } else if (root.Bokeh.version !== py_version) {\n",
       "      if (root.Bokeh.versions === undefined || !root.Bokeh.versions.has(py_version)) {\n",
       "\treturn null\n",
       "      }\n",
       "      return root.Bokeh.versions.get(py_version);\n",
       "    } else if (root.Bokeh.version === py_version) {\n",
       "      return root.Bokeh\n",
       "    }\n",
       "    return null\n",
       "  }\n",
       "  function is_loaded(root) {\n",
       "    var Bokeh = get_bokeh(root)\n",
       "    return (Bokeh != null && Bokeh.Panel !== undefined)\n",
       "  }\n",
       "  if (is_loaded(root)) {\n",
       "    embed_document(root);\n",
       "  } else {\n",
       "    var attempts = 0;\n",
       "    var timer = setInterval(function(root) {\n",
       "      if (is_loaded(root)) {\n",
       "        clearInterval(timer);\n",
       "        embed_document(root);\n",
       "      } else if (document.readyState == \"complete\") {\n",
       "        attempts++;\n",
       "        if (attempts > 200) {\n",
       "          clearInterval(timer);\n",
       "\t  var Bokeh = get_bokeh(root)\n",
       "\t  if (Bokeh == null || Bokeh.Panel == null) {\n",
       "            console.warn(\"Panel: ERROR: Unable to run Panel code because Bokeh or Panel library is missing\");\n",
       "\t  } else {\n",
       "\t    console.warn(\"Panel: WARNING: Attempting to render but not all required libraries could be resolved.\")\n",
       "\t    embed_document(root)\n",
       "\t  }\n",
       "        }\n",
       "      }\n",
       "    }, 25, root)\n",
       "  }\n",
       "})(window);</script>"
      ],
      "application/vnd.holoviews_exec.v0+json": "",
      "text/plain": [
       ":Overlay\n",
       "   .Curve.Qi :Curve   [x]   (y)\n",
       "   .Curve.Qc :Curve   [x]   (y)\n",
       "   .Curve.Ql :Curve   [x]   (y)"
      ]
     },
     "execution_count": 25,
     "metadata": {
      "application/vnd.holoviews_exec.v0+json": {
       "id": "6aeb7a3d-bbf0-4de0-94a2-5eba3ea95e75"
      }
     },
     "output_type": "execute_result"
    }
   ],
   "execution_count": 25
  },
  {
   "cell_type": "code",
   "id": "6d90061c",
   "metadata": {},
   "source": [
    "Ql_env=[3899.0,\n",
    " 3783.0,\n",
    " 3744.0,\n",
    " 3880.0,\n",
    " 3957.0,\n",
    " 4029.0,\n",
    " 4029.0,\n",
    " 4080.0,\n",
    " 4259.0,\n",
    " 4237.0,\n",
    " 4299.0,\n",
    " 4330.0,\n",
    " 4402.0,\n",
    " 4436.0,\n",
    " 4495.0,\n",
    " 4518.0,\n",
    " 4575.0,\n",
    " 4609.0,\n",
    " 4655.0,\n",
    " 4675.0,\n",
    " 4711.0,\n",
    " 4774.0,\n",
    " 4817.0,\n",
    " 4721.0,\n",
    " 4461.0,\n",
    " 4745.0]\n",
    "\n",
    "(\n",
    "    hv.Curve((power,Ql_env),label='Fit with env').opts(logy=True)*\n",
    "    hv.Curve((power,Ql),label='Fit without env').opts(logy=True)\n",
    ").opts(xlabel='Power (dBm)',ylabel='Ql',legend_position='top_left',width=500,height=500)"
   ],
   "outputs": [],
   "execution_count": null
  },
  {
   "cell_type": "code",
   "id": "82eadf1c",
   "metadata": {},
   "source": [
    "Delta=[]\n",
    "for i in range(np.size(Qc)):\n",
    "    Delta.append(100*np.abs(Ql[i]-Ql_env[i])/Ql_env[i])\n",
    "\n",
    "(\n",
    "    hv.Curve((power,Delta)).opts(xlabel='Power (dBm)',ylabel='Relative error (%)')\n",
    ").opts(width=500,height=500)"
   ],
   "outputs": [],
   "execution_count": null
  },
  {
   "cell_type": "code",
   "id": "09cb848f",
   "metadata": {},
   "source": [
    "mode_index=range(5,15)#the resonance frequency is roughly 703MHz\n",
    "resonance_frequency=[3.52462e9, 4.2275e9, 4.93084e9, 5.64036e9, 6.34555e9, 7.0475e9, 7.692e9, 8.488e9, 9.182e9, 9.875e9]\n",
    "hv.Curve((mode_index,resonance_frequency))"
   ],
   "outputs": [],
   "execution_count": null
  },
  {
   "cell_type": "code",
   "id": "51d48422",
   "metadata": {},
   "source": [
    "angular_frequency_index=[value *(np.pi)*2 for value in resonance_frequency]\n",
    "angular_wavenumber_index=[value *(np.pi)/0.0075 for value in mode_index]#resonator_length=7.5mm\n",
    "hv.Curve((angular_wavenumber_index,angular_frequency_index))"
   ],
   "outputs": [],
   "execution_count": null
  },
  {
   "cell_type": "code",
   "id": "e9f6ad00",
   "metadata": {},
   "source": [
    "def linear(x,a):\n",
    "    y=a*x\n",
    "    return y\n",
    "\n",
    "popt, pcov = curve_fit(linear,angular_wavenumber_index,angular_frequency_index)\n",
    "v_phi = popt[0]\n",
    "Cl = 1.108e-10\n",
    "Ll = 5.678e-07\n",
    "Lkinl=1/(Cl*v_phi**2)-Ll\n",
    "w=3e-6\n",
    "Lkin_sq=Lkinl * w\n",
    "print('Lkin_sq = ',Lkin_sq*1e12,' pH/sq')"
   ],
   "outputs": [],
   "execution_count": null
  },
  {
   "cell_type": "code",
   "id": "4367c83a",
   "metadata": {},
   "source": [
    "v_phi/1e7,np.sqrt(pcov[0][0])/1e7"
   ],
   "outputs": [],
   "execution_count": null
  },
  {
   "cell_type": "code",
   "id": "d74e732c",
   "metadata": {},
   "source": [
    "path=''\n",
    "ds = xr.Dataset.from_dataframe(pd.read_csv(os.path.join(path, 'Simulation_test.csv'), header=0, sep='\\t', index_col=['# Frequency (GHz)'] ,engine='python', skipfooter=1))\n"
   ],
   "outputs": [],
   "execution_count": null
  },
  {
   "cell_type": "code",
   "id": "8a7de228",
   "metadata": {},
   "source": [
    "hv.Curve((ds['# Frequency (GHz)'],ds['mag(S-parameters) (dB)']))"
   ],
   "outputs": [],
   "execution_count": null
  },
  {
   "cell_type": "code",
   "id": "4762bb32",
   "metadata": {},
   "source": [
    "freq=ds['# Frequency (GHz)']\n",
    "fc_i=float((freq[0]+freq[-1])/2)\n",
    "p0=[fc_i,1e4,1e3,-100,-9]\n",
    "popt, pcov = curve_fit(S21,freq,ds['mag(S-parameters) (dB)'],p0)\n",
    "\n",
    "Qi = np.format_float_scientific(np.abs(popt[1]),3)\n",
    "Qc = np.format_float_scientific(np.abs(popt[2]),3)\n",
    "Ql = np.format_float_scientific(1/(1/np.abs(popt[2])+1/np.abs(popt[1])),3)\n",
    "\n",
    "\n",
    "(\n",
    "    hv.Curve((freq,ds['mag(S-parameters) (dB)']),label='data')*\n",
    "    hv.Curve((freq,S21(freq, *popt)),label='fit')\n",
    ").opts(legend_position='bottom_right',xlabel='Frequency (Hz)',ylabel='Magnitude (dB)',width=500,height=300,title='Qi = '+str(Qi)+' , Qc = '+str(Qc)+' & Ql = '+str(Ql))"
   ],
   "outputs": [],
   "execution_count": null
  },
  {
   "cell_type": "code",
   "id": "29ebb616",
   "metadata": {},
   "source": [],
   "outputs": [],
   "execution_count": null
  }
 ],
 "metadata": {
  "kernelspec": {
   "display_name": "qumin_env",
   "language": "python",
   "name": "python3"
  },
  "language_info": {
   "codemirror_mode": {
    "name": "ipython",
    "version": 3
   },
   "file_extension": ".py",
   "mimetype": "text/x-python",
   "name": "python",
   "nbconvert_exporter": "python",
   "pygments_lexer": "ipython3",
   "version": "3.10.14"
  }
 },
 "nbformat": 4,
 "nbformat_minor": 5
}
