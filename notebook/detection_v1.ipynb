{
 "cells": [
  {
   "cell_type": "code",
   "execution_count": 1,
   "id": "357080a9",
   "metadata": {},
   "outputs": [
    {
     "data": {
      "application/javascript": "(function(root) {\n  function now() {\n    return new Date();\n  }\n\n  var force = true;\n  var py_version = '3.4.3'.replace('rc', '-rc.').replace('.dev', '-dev.');\n  var reloading = false;\n  var Bokeh = root.Bokeh;\n\n  if (typeof (root._bokeh_timeout) === \"undefined\" || force) {\n    root._bokeh_timeout = Date.now() + 5000;\n    root._bokeh_failed_load = false;\n  }\n\n  function run_callbacks() {\n    try {\n      root._bokeh_onload_callbacks.forEach(function(callback) {\n        if (callback != null)\n          callback();\n      });\n    } finally {\n      delete root._bokeh_onload_callbacks;\n    }\n    console.debug(\"Bokeh: all callbacks have finished\");\n  }\n\n  function load_libs(css_urls, js_urls, js_modules, js_exports, callback) {\n    if (css_urls == null) css_urls = [];\n    if (js_urls == null) js_urls = [];\n    if (js_modules == null) js_modules = [];\n    if (js_exports == null) js_exports = {};\n\n    root._bokeh_onload_callbacks.push(callback);\n\n    if (root._bokeh_is_loading > 0) {\n      console.debug(\"Bokeh: BokehJS is being loaded, scheduling callback at\", now());\n      return null;\n    }\n    if (js_urls.length === 0 && js_modules.length === 0 && Object.keys(js_exports).length === 0) {\n      run_callbacks();\n      return null;\n    }\n    if (!reloading) {\n      console.debug(\"Bokeh: BokehJS not loaded, scheduling load and callback at\", now());\n    }\n\n    function on_load() {\n      root._bokeh_is_loading--;\n      if (root._bokeh_is_loading === 0) {\n        console.debug(\"Bokeh: all BokehJS libraries/stylesheets loaded\");\n        run_callbacks()\n      }\n    }\n    window._bokeh_on_load = on_load\n\n    function on_error() {\n      console.error(\"failed to load \" + url);\n    }\n\n    var skip = [];\n    if (window.requirejs) {\n      window.requirejs.config({'packages': {}, 'paths': {}, 'shim': {}});\n      root._bokeh_is_loading = css_urls.length + 0;\n    } else {\n      root._bokeh_is_loading = css_urls.length + js_urls.length + js_modules.length + Object.keys(js_exports).length;\n    }\n\n    var existing_stylesheets = []\n    var links = document.getElementsByTagName('link')\n    for (var i = 0; i < links.length; i++) {\n      var link = links[i]\n      if (link.href != null) {\n\texisting_stylesheets.push(link.href)\n      }\n    }\n    for (var i = 0; i < css_urls.length; i++) {\n      var url = css_urls[i];\n      if (existing_stylesheets.indexOf(url) !== -1) {\n\ton_load()\n\tcontinue;\n      }\n      const element = document.createElement(\"link\");\n      element.onload = on_load;\n      element.onerror = on_error;\n      element.rel = \"stylesheet\";\n      element.type = \"text/css\";\n      element.href = url;\n      console.debug(\"Bokeh: injecting link tag for BokehJS stylesheet: \", url);\n      document.body.appendChild(element);\n    }    var existing_scripts = []\n    var scripts = document.getElementsByTagName('script')\n    for (var i = 0; i < scripts.length; i++) {\n      var script = scripts[i]\n      if (script.src != null) {\n\texisting_scripts.push(script.src)\n      }\n    }\n    for (var i = 0; i < js_urls.length; i++) {\n      var url = js_urls[i];\n      if (skip.indexOf(url) !== -1 || existing_scripts.indexOf(url) !== -1) {\n\tif (!window.requirejs) {\n\t  on_load();\n\t}\n\tcontinue;\n      }\n      var element = document.createElement('script');\n      element.onload = on_load;\n      element.onerror = on_error;\n      element.async = false;\n      element.src = url;\n      console.debug(\"Bokeh: injecting script tag for BokehJS library: \", url);\n      document.head.appendChild(element);\n    }\n    for (var i = 0; i < js_modules.length; i++) {\n      var url = js_modules[i];\n      if (skip.indexOf(url) !== -1 || existing_scripts.indexOf(url) !== -1) {\n\tif (!window.requirejs) {\n\t  on_load();\n\t}\n\tcontinue;\n      }\n      var element = document.createElement('script');\n      element.onload = on_load;\n      element.onerror = on_error;\n      element.async = false;\n      element.src = url;\n      element.type = \"module\";\n      console.debug(\"Bokeh: injecting script tag for BokehJS library: \", url);\n      document.head.appendChild(element);\n    }\n    for (const name in js_exports) {\n      var url = js_exports[name];\n      if (skip.indexOf(url) >= 0 || root[name] != null) {\n\tif (!window.requirejs) {\n\t  on_load();\n\t}\n\tcontinue;\n      }\n      var element = document.createElement('script');\n      element.onerror = on_error;\n      element.async = false;\n      element.type = \"module\";\n      console.debug(\"Bokeh: injecting script tag for BokehJS library: \", url);\n      element.textContent = `\n      import ${name} from \"${url}\"\n      window.${name} = ${name}\n      window._bokeh_on_load()\n      `\n      document.head.appendChild(element);\n    }\n    if (!js_urls.length && !js_modules.length) {\n      on_load()\n    }\n  };\n\n  function inject_raw_css(css) {\n    const element = document.createElement(\"style\");\n    element.appendChild(document.createTextNode(css));\n    document.body.appendChild(element);\n  }\n\n  var js_urls = [\"https://cdn.bokeh.org/bokeh/release/bokeh-3.4.3.min.js\", \"https://cdn.bokeh.org/bokeh/release/bokeh-gl-3.4.3.min.js\", \"https://cdn.bokeh.org/bokeh/release/bokeh-widgets-3.4.3.min.js\", \"https://cdn.bokeh.org/bokeh/release/bokeh-tables-3.4.3.min.js\", \"https://cdn.holoviz.org/panel/1.4.5/dist/panel.min.js\"];\n  var js_modules = [];\n  var js_exports = {};\n  var css_urls = [];\n  var inline_js = [    function(Bokeh) {\n      Bokeh.set_log_level(\"info\");\n    },\nfunction(Bokeh) {} // ensure no trailing comma for IE\n  ];\n\n  function run_inline_js() {\n    if ((root.Bokeh !== undefined) || (force === true)) {\n      for (var i = 0; i < inline_js.length; i++) {\n\ttry {\n          inline_js[i].call(root, root.Bokeh);\n\t} catch(e) {\n\t  if (!reloading) {\n\t    throw e;\n\t  }\n\t}\n      }\n      // Cache old bokeh versions\n      if (Bokeh != undefined && !reloading) {\n\tvar NewBokeh = root.Bokeh;\n\tif (Bokeh.versions === undefined) {\n\t  Bokeh.versions = new Map();\n\t}\n\tif (NewBokeh.version !== Bokeh.version) {\n\t  Bokeh.versions.set(NewBokeh.version, NewBokeh)\n\t}\n\troot.Bokeh = Bokeh;\n      }} else if (Date.now() < root._bokeh_timeout) {\n      setTimeout(run_inline_js, 100);\n    } else if (!root._bokeh_failed_load) {\n      console.log(\"Bokeh: BokehJS failed to load within specified timeout.\");\n      root._bokeh_failed_load = true;\n    }\n    root._bokeh_is_initializing = false\n  }\n\n  function load_or_wait() {\n    // Implement a backoff loop that tries to ensure we do not load multiple\n    // versions of Bokeh and its dependencies at the same time.\n    // In recent versions we use the root._bokeh_is_initializing flag\n    // to determine whether there is an ongoing attempt to initialize\n    // bokeh, however for backward compatibility we also try to ensure\n    // that we do not start loading a newer (Panel>=1.0 and Bokeh>3) version\n    // before older versions are fully initialized.\n    if (root._bokeh_is_initializing && Date.now() > root._bokeh_timeout) {\n      root._bokeh_is_initializing = false;\n      root._bokeh_onload_callbacks = undefined;\n      console.log(\"Bokeh: BokehJS was loaded multiple times but one version failed to initialize.\");\n      load_or_wait();\n    } else if (root._bokeh_is_initializing || (typeof root._bokeh_is_initializing === \"undefined\" && root._bokeh_onload_callbacks !== undefined)) {\n      setTimeout(load_or_wait, 100);\n    } else {\n      root._bokeh_is_initializing = true\n      root._bokeh_onload_callbacks = []\n      var bokeh_loaded = Bokeh != null && (Bokeh.version === py_version || (Bokeh.versions !== undefined && Bokeh.versions.has(py_version)));\n      if (!reloading && !bokeh_loaded) {\n\troot.Bokeh = undefined;\n      }\n      load_libs(css_urls, js_urls, js_modules, js_exports, function() {\n\tconsole.debug(\"Bokeh: BokehJS plotting callback run at\", now());\n\trun_inline_js();\n      });\n    }\n  }\n  // Give older versions of the autoload script a head-start to ensure\n  // they initialize before we start loading newer version.\n  setTimeout(load_or_wait, 100)\n}(window));",
      "application/vnd.holoviews_load.v0+json": ""
     },
     "metadata": {},
     "output_type": "display_data"
    },
    {
     "data": {
      "application/javascript": "\nif ((window.PyViz === undefined) || (window.PyViz instanceof HTMLElement)) {\n  window.PyViz = {comms: {}, comm_status:{}, kernels:{}, receivers: {}, plot_index: []}\n}\n\n\n    function JupyterCommManager() {\n    }\n\n    JupyterCommManager.prototype.register_target = function(plot_id, comm_id, msg_handler) {\n      if (window.comm_manager || ((window.Jupyter !== undefined) && (Jupyter.notebook.kernel != null))) {\n        var comm_manager = window.comm_manager || Jupyter.notebook.kernel.comm_manager;\n        comm_manager.register_target(comm_id, function(comm) {\n          comm.on_msg(msg_handler);\n        });\n      } else if ((plot_id in window.PyViz.kernels) && (window.PyViz.kernels[plot_id])) {\n        window.PyViz.kernels[plot_id].registerCommTarget(comm_id, function(comm) {\n          comm.onMsg = msg_handler;\n        });\n      } else if (typeof google != 'undefined' && google.colab.kernel != null) {\n        google.colab.kernel.comms.registerTarget(comm_id, (comm) => {\n          var messages = comm.messages[Symbol.asyncIterator]();\n          function processIteratorResult(result) {\n            var message = result.value;\n            console.log(message)\n            var content = {data: message.data, comm_id};\n            var buffers = []\n            for (var buffer of message.buffers || []) {\n              buffers.push(new DataView(buffer))\n            }\n            var metadata = message.metadata || {};\n            var msg = {content, buffers, metadata}\n            msg_handler(msg);\n            return messages.next().then(processIteratorResult);\n          }\n          return messages.next().then(processIteratorResult);\n        })\n      }\n    }\n\n    JupyterCommManager.prototype.get_client_comm = function(plot_id, comm_id, msg_handler) {\n      if (comm_id in window.PyViz.comms) {\n        return window.PyViz.comms[comm_id];\n      } else if (window.comm_manager || ((window.Jupyter !== undefined) && (Jupyter.notebook.kernel != null))) {\n        var comm_manager = window.comm_manager || Jupyter.notebook.kernel.comm_manager;\n        var comm = comm_manager.new_comm(comm_id, {}, {}, {}, comm_id);\n        if (msg_handler) {\n          comm.on_msg(msg_handler);\n        }\n      } else if ((plot_id in window.PyViz.kernels) && (window.PyViz.kernels[plot_id])) {\n        var comm = window.PyViz.kernels[plot_id].connectToComm(comm_id);\n        comm.open();\n        if (msg_handler) {\n          comm.onMsg = msg_handler;\n        }\n      } else if (typeof google != 'undefined' && google.colab.kernel != null) {\n        var comm_promise = google.colab.kernel.comms.open(comm_id)\n        comm_promise.then((comm) => {\n          window.PyViz.comms[comm_id] = comm;\n          if (msg_handler) {\n            var messages = comm.messages[Symbol.asyncIterator]();\n            function processIteratorResult(result) {\n              var message = result.value;\n              var content = {data: message.data};\n              var metadata = message.metadata || {comm_id};\n              var msg = {content, metadata}\n              msg_handler(msg);\n              return messages.next().then(processIteratorResult);\n            }\n            return messages.next().then(processIteratorResult);\n          }\n        }) \n        var sendClosure = (data, metadata, buffers, disposeOnDone) => {\n          return comm_promise.then((comm) => {\n            comm.send(data, metadata, buffers, disposeOnDone);\n          });\n        };\n        var comm = {\n          send: sendClosure\n        };\n      }\n      window.PyViz.comms[comm_id] = comm;\n      return comm;\n    }\n    window.PyViz.comm_manager = new JupyterCommManager();\n    \n\n\nvar JS_MIME_TYPE = 'application/javascript';\nvar HTML_MIME_TYPE = 'text/html';\nvar EXEC_MIME_TYPE = 'application/vnd.holoviews_exec.v0+json';\nvar CLASS_NAME = 'output';\n\n/**\n * Render data to the DOM node\n */\nfunction render(props, node) {\n  var div = document.createElement(\"div\");\n  var script = document.createElement(\"script\");\n  node.appendChild(div);\n  node.appendChild(script);\n}\n\n/**\n * Handle when a new output is added\n */\nfunction handle_add_output(event, handle) {\n  var output_area = handle.output_area;\n  var output = handle.output;\n  if ((output.data == undefined) || (!output.data.hasOwnProperty(EXEC_MIME_TYPE))) {\n    return\n  }\n  var id = output.metadata[EXEC_MIME_TYPE][\"id\"];\n  var toinsert = output_area.element.find(\".\" + CLASS_NAME.split(' ')[0]);\n  if (id !== undefined) {\n    var nchildren = toinsert.length;\n    var html_node = toinsert[nchildren-1].children[0];\n    html_node.innerHTML = output.data[HTML_MIME_TYPE];\n    var scripts = [];\n    var nodelist = html_node.querySelectorAll(\"script\");\n    for (var i in nodelist) {\n      if (nodelist.hasOwnProperty(i)) {\n        scripts.push(nodelist[i])\n      }\n    }\n\n    scripts.forEach( function (oldScript) {\n      var newScript = document.createElement(\"script\");\n      var attrs = [];\n      var nodemap = oldScript.attributes;\n      for (var j in nodemap) {\n        if (nodemap.hasOwnProperty(j)) {\n          attrs.push(nodemap[j])\n        }\n      }\n      attrs.forEach(function(attr) { newScript.setAttribute(attr.name, attr.value) });\n      newScript.appendChild(document.createTextNode(oldScript.innerHTML));\n      oldScript.parentNode.replaceChild(newScript, oldScript);\n    });\n    if (JS_MIME_TYPE in output.data) {\n      toinsert[nchildren-1].children[1].textContent = output.data[JS_MIME_TYPE];\n    }\n    output_area._hv_plot_id = id;\n    if ((window.Bokeh !== undefined) && (id in Bokeh.index)) {\n      window.PyViz.plot_index[id] = Bokeh.index[id];\n    } else {\n      window.PyViz.plot_index[id] = null;\n    }\n  } else if (output.metadata[EXEC_MIME_TYPE][\"server_id\"] !== undefined) {\n    var bk_div = document.createElement(\"div\");\n    bk_div.innerHTML = output.data[HTML_MIME_TYPE];\n    var script_attrs = bk_div.children[0].attributes;\n    for (var i = 0; i < script_attrs.length; i++) {\n      toinsert[toinsert.length - 1].childNodes[1].setAttribute(script_attrs[i].name, script_attrs[i].value);\n    }\n    // store reference to server id on output_area\n    output_area._bokeh_server_id = output.metadata[EXEC_MIME_TYPE][\"server_id\"];\n  }\n}\n\n/**\n * Handle when an output is cleared or removed\n */\nfunction handle_clear_output(event, handle) {\n  var id = handle.cell.output_area._hv_plot_id;\n  var server_id = handle.cell.output_area._bokeh_server_id;\n  if (((id === undefined) || !(id in PyViz.plot_index)) && (server_id !== undefined)) { return; }\n  var comm = window.PyViz.comm_manager.get_client_comm(\"hv-extension-comm\", \"hv-extension-comm\", function () {});\n  if (server_id !== null) {\n    comm.send({event_type: 'server_delete', 'id': server_id});\n    return;\n  } else if (comm !== null) {\n    comm.send({event_type: 'delete', 'id': id});\n  }\n  delete PyViz.plot_index[id];\n  if ((window.Bokeh !== undefined) & (id in window.Bokeh.index)) {\n    var doc = window.Bokeh.index[id].model.document\n    doc.clear();\n    const i = window.Bokeh.documents.indexOf(doc);\n    if (i > -1) {\n      window.Bokeh.documents.splice(i, 1);\n    }\n  }\n}\n\n/**\n * Handle kernel restart event\n */\nfunction handle_kernel_cleanup(event, handle) {\n  delete PyViz.comms[\"hv-extension-comm\"];\n  window.PyViz.plot_index = {}\n}\n\n/**\n * Handle update_display_data messages\n */\nfunction handle_update_output(event, handle) {\n  handle_clear_output(event, {cell: {output_area: handle.output_area}})\n  handle_add_output(event, handle)\n}\n\nfunction register_renderer(events, OutputArea) {\n  function append_mime(data, metadata, element) {\n    // create a DOM node to render to\n    var toinsert = this.create_output_subarea(\n    metadata,\n    CLASS_NAME,\n    EXEC_MIME_TYPE\n    );\n    this.keyboard_manager.register_events(toinsert);\n    // Render to node\n    var props = {data: data, metadata: metadata[EXEC_MIME_TYPE]};\n    render(props, toinsert[0]);\n    element.append(toinsert);\n    return toinsert\n  }\n\n  events.on('output_added.OutputArea', handle_add_output);\n  events.on('output_updated.OutputArea', handle_update_output);\n  events.on('clear_output.CodeCell', handle_clear_output);\n  events.on('delete.Cell', handle_clear_output);\n  events.on('kernel_ready.Kernel', handle_kernel_cleanup);\n\n  OutputArea.prototype.register_mime_type(EXEC_MIME_TYPE, append_mime, {\n    safe: true,\n    index: 0\n  });\n}\n\nif (window.Jupyter !== undefined) {\n  try {\n    var events = require('base/js/events');\n    var OutputArea = require('notebook/js/outputarea').OutputArea;\n    if (OutputArea.prototype.mime_types().indexOf(EXEC_MIME_TYPE) == -1) {\n      register_renderer(events, OutputArea);\n    }\n  } catch(err) {\n  }\n}\n",
      "application/vnd.holoviews_load.v0+json": ""
     },
     "metadata": {},
     "output_type": "display_data"
    },
    {
     "data": {
      "text/html": [
       "<style>*[data-root-id],\n",
       "*[data-root-id] > * {\n",
       "  box-sizing: border-box;\n",
       "  font-family: var(--jp-ui-font-family);\n",
       "  font-size: var(--jp-ui-font-size1);\n",
       "  color: var(--vscode-editor-foreground, var(--jp-ui-font-color1));\n",
       "}\n",
       "\n",
       "/* Override VSCode background color */\n",
       ".cell-output-ipywidget-background:has(\n",
       "    > .cell-output-ipywidget-background > .lm-Widget > *[data-root-id]\n",
       "  ),\n",
       ".cell-output-ipywidget-background:has(> .lm-Widget > *[data-root-id]) {\n",
       "  background-color: transparent !important;\n",
       "}\n",
       "</style>"
      ]
     },
     "metadata": {},
     "output_type": "display_data"
    },
    {
     "data": {
      "application/vnd.holoviews_exec.v0+json": "",
      "text/html": [
       "<div id='p1002'>\n",
       "  <div id=\"d731af76-5869-4a97-80d4-7162b728b6f6\" data-root-id=\"p1002\" style=\"display: contents;\"></div>\n",
       "</div>\n",
       "<script type=\"application/javascript\">(function(root) {\n",
       "  var docs_json = {\"f099e950-2ab3-436e-b68d-0b608f663177\":{\"version\":\"3.4.3\",\"title\":\"Bokeh Application\",\"roots\":[{\"type\":\"object\",\"name\":\"panel.models.browser.BrowserInfo\",\"id\":\"p1002\"},{\"type\":\"object\",\"name\":\"panel.models.comm_manager.CommManager\",\"id\":\"p1003\",\"attributes\":{\"plot_id\":\"p1002\",\"comm_id\":\"f9a044741ee3435280c51119b1f8355e\",\"client_comm_id\":\"86131c08e5014285a5b1b774c0e3a5ea\"}}],\"defs\":[{\"type\":\"model\",\"name\":\"ReactiveHTML1\"},{\"type\":\"model\",\"name\":\"FlexBox1\",\"properties\":[{\"name\":\"align_content\",\"kind\":\"Any\",\"default\":\"flex-start\"},{\"name\":\"align_items\",\"kind\":\"Any\",\"default\":\"flex-start\"},{\"name\":\"flex_direction\",\"kind\":\"Any\",\"default\":\"row\"},{\"name\":\"flex_wrap\",\"kind\":\"Any\",\"default\":\"wrap\"},{\"name\":\"gap\",\"kind\":\"Any\",\"default\":\"\"},{\"name\":\"justify_content\",\"kind\":\"Any\",\"default\":\"flex-start\"}]},{\"type\":\"model\",\"name\":\"FloatPanel1\",\"properties\":[{\"name\":\"config\",\"kind\":\"Any\",\"default\":{\"type\":\"map\"}},{\"name\":\"contained\",\"kind\":\"Any\",\"default\":true},{\"name\":\"position\",\"kind\":\"Any\",\"default\":\"right-top\"},{\"name\":\"offsetx\",\"kind\":\"Any\",\"default\":null},{\"name\":\"offsety\",\"kind\":\"Any\",\"default\":null},{\"name\":\"theme\",\"kind\":\"Any\",\"default\":\"primary\"},{\"name\":\"status\",\"kind\":\"Any\",\"default\":\"normalized\"}]},{\"type\":\"model\",\"name\":\"GridStack1\",\"properties\":[{\"name\":\"mode\",\"kind\":\"Any\",\"default\":\"warn\"},{\"name\":\"ncols\",\"kind\":\"Any\",\"default\":null},{\"name\":\"nrows\",\"kind\":\"Any\",\"default\":null},{\"name\":\"allow_resize\",\"kind\":\"Any\",\"default\":true},{\"name\":\"allow_drag\",\"kind\":\"Any\",\"default\":true},{\"name\":\"state\",\"kind\":\"Any\",\"default\":[]}]},{\"type\":\"model\",\"name\":\"drag1\",\"properties\":[{\"name\":\"slider_width\",\"kind\":\"Any\",\"default\":5},{\"name\":\"slider_color\",\"kind\":\"Any\",\"default\":\"black\"},{\"name\":\"value\",\"kind\":\"Any\",\"default\":50}]},{\"type\":\"model\",\"name\":\"click1\",\"properties\":[{\"name\":\"terminal_output\",\"kind\":\"Any\",\"default\":\"\"},{\"name\":\"debug_name\",\"kind\":\"Any\",\"default\":\"\"},{\"name\":\"clears\",\"kind\":\"Any\",\"default\":0}]},{\"type\":\"model\",\"name\":\"FastWrapper1\",\"properties\":[{\"name\":\"object\",\"kind\":\"Any\",\"default\":null},{\"name\":\"style\",\"kind\":\"Any\",\"default\":null}]},{\"type\":\"model\",\"name\":\"NotificationAreaBase1\",\"properties\":[{\"name\":\"js_events\",\"kind\":\"Any\",\"default\":{\"type\":\"map\"}},{\"name\":\"position\",\"kind\":\"Any\",\"default\":\"bottom-right\"},{\"name\":\"_clear\",\"kind\":\"Any\",\"default\":0}]},{\"type\":\"model\",\"name\":\"NotificationArea1\",\"properties\":[{\"name\":\"js_events\",\"kind\":\"Any\",\"default\":{\"type\":\"map\"}},{\"name\":\"notifications\",\"kind\":\"Any\",\"default\":[]},{\"name\":\"position\",\"kind\":\"Any\",\"default\":\"bottom-right\"},{\"name\":\"_clear\",\"kind\":\"Any\",\"default\":0},{\"name\":\"types\",\"kind\":\"Any\",\"default\":[{\"type\":\"map\",\"entries\":[[\"type\",\"warning\"],[\"background\",\"#ffc107\"],[\"icon\",{\"type\":\"map\",\"entries\":[[\"className\",\"fas fa-exclamation-triangle\"],[\"tagName\",\"i\"],[\"color\",\"white\"]]}]]},{\"type\":\"map\",\"entries\":[[\"type\",\"info\"],[\"background\",\"#007bff\"],[\"icon\",{\"type\":\"map\",\"entries\":[[\"className\",\"fas fa-info-circle\"],[\"tagName\",\"i\"],[\"color\",\"white\"]]}]]}]}]},{\"type\":\"model\",\"name\":\"Notification\",\"properties\":[{\"name\":\"background\",\"kind\":\"Any\",\"default\":null},{\"name\":\"duration\",\"kind\":\"Any\",\"default\":3000},{\"name\":\"icon\",\"kind\":\"Any\",\"default\":null},{\"name\":\"message\",\"kind\":\"Any\",\"default\":\"\"},{\"name\":\"notification_type\",\"kind\":\"Any\",\"default\":null},{\"name\":\"_destroyed\",\"kind\":\"Any\",\"default\":false}]},{\"type\":\"model\",\"name\":\"TemplateActions1\",\"properties\":[{\"name\":\"open_modal\",\"kind\":\"Any\",\"default\":0},{\"name\":\"close_modal\",\"kind\":\"Any\",\"default\":0}]},{\"type\":\"model\",\"name\":\"BootstrapTemplateActions1\",\"properties\":[{\"name\":\"open_modal\",\"kind\":\"Any\",\"default\":0},{\"name\":\"close_modal\",\"kind\":\"Any\",\"default\":0}]},{\"type\":\"model\",\"name\":\"TemplateEditor1\",\"properties\":[{\"name\":\"layout\",\"kind\":\"Any\",\"default\":[]}]},{\"type\":\"model\",\"name\":\"MaterialTemplateActions1\",\"properties\":[{\"name\":\"open_modal\",\"kind\":\"Any\",\"default\":0},{\"name\":\"close_modal\",\"kind\":\"Any\",\"default\":0}]},{\"type\":\"model\",\"name\":\"copy_to_clipboard1\",\"properties\":[{\"name\":\"fill\",\"kind\":\"Any\",\"default\":\"none\"},{\"name\":\"value\",\"kind\":\"Any\",\"default\":null}]}]}};\n",
       "  var render_items = [{\"docid\":\"f099e950-2ab3-436e-b68d-0b608f663177\",\"roots\":{\"p1002\":\"d731af76-5869-4a97-80d4-7162b728b6f6\"},\"root_ids\":[\"p1002\"]}];\n",
       "  var docs = Object.values(docs_json)\n",
       "  if (!docs) {\n",
       "    return\n",
       "  }\n",
       "  const py_version = docs[0].version.replace('rc', '-rc.').replace('.dev', '-dev.')\n",
       "  async function embed_document(root) {\n",
       "    var Bokeh = get_bokeh(root)\n",
       "    await Bokeh.embed.embed_items_notebook(docs_json, render_items);\n",
       "    for (const render_item of render_items) {\n",
       "      for (const root_id of render_item.root_ids) {\n",
       "\tconst id_el = document.getElementById(root_id)\n",
       "\tif (id_el.children.length && id_el.children[0].hasAttribute('data-root-id')) {\n",
       "\t  const root_el = id_el.children[0]\n",
       "\t  root_el.id = root_el.id + '-rendered'\n",
       "\t  for (const child of root_el.children) {\n",
       "            // Ensure JupyterLab does not capture keyboard shortcuts\n",
       "            // see: https://jupyterlab.readthedocs.io/en/4.1.x/extension/notebook.html#keyboard-interaction-model\n",
       "\t    child.setAttribute('data-lm-suppress-shortcuts', 'true')\n",
       "\t  }\n",
       "\t}\n",
       "      }\n",
       "    }\n",
       "  }\n",
       "  function get_bokeh(root) {\n",
       "    if (root.Bokeh === undefined) {\n",
       "      return null\n",
       "    } else if (root.Bokeh.version !== py_version) {\n",
       "      if (root.Bokeh.versions === undefined || !root.Bokeh.versions.has(py_version)) {\n",
       "\treturn null\n",
       "      }\n",
       "      return root.Bokeh.versions.get(py_version);\n",
       "    } else if (root.Bokeh.version === py_version) {\n",
       "      return root.Bokeh\n",
       "    }\n",
       "    return null\n",
       "  }\n",
       "  function is_loaded(root) {\n",
       "    var Bokeh = get_bokeh(root)\n",
       "    return (Bokeh != null && Bokeh.Panel !== undefined)\n",
       "  }\n",
       "  if (is_loaded(root)) {\n",
       "    embed_document(root);\n",
       "  } else {\n",
       "    var attempts = 0;\n",
       "    var timer = setInterval(function(root) {\n",
       "      if (is_loaded(root)) {\n",
       "        clearInterval(timer);\n",
       "        embed_document(root);\n",
       "      } else if (document.readyState == \"complete\") {\n",
       "        attempts++;\n",
       "        if (attempts > 200) {\n",
       "          clearInterval(timer);\n",
       "\t  var Bokeh = get_bokeh(root)\n",
       "\t  if (Bokeh == null || Bokeh.Panel == null) {\n",
       "            console.warn(\"Panel: ERROR: Unable to run Panel code because Bokeh or Panel library is missing\");\n",
       "\t  } else {\n",
       "\t    console.warn(\"Panel: WARNING: Attempting to render but not all required libraries could be resolved.\")\n",
       "\t    embed_document(root)\n",
       "\t  }\n",
       "        }\n",
       "      }\n",
       "    }, 25, root)\n",
       "  }\n",
       "})(window);</script>"
      ]
     },
     "metadata": {
      "application/vnd.holoviews_exec.v0+json": {
       "id": "p1002"
      }
     },
     "output_type": "display_data"
    },
    {
     "data": {
      "text/html": [
       "\n",
       "<div class=\"logo-block\">\n",
       "<img src='data:image/png;base64,iVBORw0KGgoAAAANSUhEUgAAAEAAAABACAYAAACqaXHeAAAABHNCSVQICAgIfAhkiAAAAAlwSFlz\n",
       "AAAB+wAAAfsBxc2miwAAABl0RVh0U29mdHdhcmUAd3d3Lmlua3NjYXBlLm9yZ5vuPBoAAA6zSURB\n",
       "VHic7ZtpeFRVmsf/5966taWqUlUJ2UioBBJiIBAwCZtog9IOgjqACsogKtqirT2ttt069nQ/zDzt\n",
       "tI4+CrJIREFaFgWhBXpUNhHZQoKBkIUASchWla1S+3ar7r1nPkDaCAnZKoQP/D7mnPOe9/xy76n3\n",
       "nFSAW9ziFoPFNED2LLK5wcyBDObkb8ZkxuaoSYlI6ZcOKq1eWFdedqNzGHQBk9RMEwFAASkk0Xw3\n",
       "ETacDNi2vtvc7L0ROdw0AjoSotQVkKSvHQz/wRO1lScGModBFbDMaNRN1A4tUBCS3lk7BWhQkgpD\n",
       "lG4852/+7DWr1R3uHAZVQDsbh6ZPN7CyxUrCzJMRouusj0ipRwD2uKm0Zn5d2dFwzX1TCGhnmdGo\n",
       "G62Nna+isiUqhkzuKrkQaJlPEv5mFl2fvGg2t/VnzkEV8F5ioioOEWkLG86fvbpthynjdhXYZziQ\n",
       "x1hC9J2NFyi8vCTt91Fh04KGip0AaG9zuCk2wQCVyoNU3Hjezee9bq92duzzTmxsRJoy+jEZZZYo\n",
       "GTKJ6SJngdJqAfRzpze0+jHreUtPc7gpBLQnIYK6BYp/uGhw9YK688eu7v95ysgshcg9qSLMo3JC\n",
       "4jqLKQFBgdKDPoQ+Pltb8dUyQLpeDjeVgI6EgLIQFT5tEl3rn2losHVsexbZ3EyT9wE1uGdkIPcy\n",
       "BGxn8QUq1QrA5nqW5i2tLqvrrM9NK6AdkVIvL9E9bZL/oyfMVd/jqvc8LylzRBKDJSzIExwhQzuL\n",
       "QYGQj4rHfFTc8mUdu3E7yoLtbTe9gI4EqVgVkug2i5+uXGo919ixbRog+3fTbQ8qJe4ZOYNfMoTI\n",
       "OoshUNosgO60AisX15aeI2PSIp5KiFLI9ubb1vV3Qb2ltwLakUCDAkWX7/nHKRmmGIl9VgYsUhJm\n",
       "2NXjKYADtM1ygne9QQDIXlk49FBstMKx66D1v4+XuQr7vqTe0VcBHQlRWiOCbmmSYe2SqtL6q5rJ\n",
       "zsTb7lKx3FKOYC4DoqyS/B5bvLPxvD9Qtf6saxYLQGJErmDOdOMr/zo96km1nElr8bmPOBwI9COv\n",
       "HnFPRIwmkSOv9kcAS4heRsidOkpeWBgZM+UBrTFAXNYL5Vf2ii9c1trNzpYdaoVil3WIc+wdk+gQ\n",
       "noie3ecCcxt9ITcLAPWt/laGEO/9U6PmzZkenTtsSMQ8uYywJVW+grCstAvCIaAdArAsIWkRDDs/\n",
       "KzLm2YcjY1Lv0UdW73HabE9n6V66cxSzfEmuJssTpKGVp+0vHq73FwL46eOjpMpbRAnNmJFrGJNu\n",
       "Ukf9Yrz+3rghiumCKNXXWPhLYcjxGsIpoCMsIRoFITkW8AuyM8jC1+/QLx4bozCEJIq38+1rtpR6\n",
       "V/yzb8eBlRb3fo5l783N0CWolAzJHaVNzkrTzlEp2bQ2q3TC5gn6wpnoQAmwSiGh2GitnTmVMc5O\n",
       "UyfKWUKCIsU7+fZDKwqdT6DDpvkzAX4/+AMFjk0tDp5GRXLpQ2MUmhgDp5gxQT8+Y7hyPsMi8uxF\n",
       "71H0oebujHALECjFKaW9Lm68n18wXp2kVzIcABytD5iXFzg+WVXkegpAsOOYziqo0OkK76GyquC3\n",
       "ltZAzMhhqlSNmmWTE5T6e3IN05ITFLM4GdN0vtZ3ob8Jh1NAKXFbm5PtLU/eqTSlGjkNAJjdgn/N\n",
       "aedXa0tdi7+t9G0FIF49rtMSEgAs1kDLkTPO7ebm4IUWeyh1bKomXqlgMG6kJmHcSM0clYLJ8XtR\n",
       "1GTnbV3F6I5wCGikAb402npp1h1s7LQUZZSMIfALFOuL3UUrfnS8+rez7v9qcold5tilgHbO1fjK\n",
       "9ubb17u9oshxzMiUBKXWqJNxd+fqb0tLVs4lILFnK71H0Ind7uiPgACVcFJlrb0tV6DzxqqTIhUM\n",
       "CwDf1/rrVhTa33/3pGPxJYdQ2l2cbgVcQSosdx8uqnDtbGjh9SlDVSMNWhlnilfqZk42Th2ZpLpf\n",
       "xrHec5e815zrr0dfBZSwzkZfqsv+1FS1KUknUwPARVvItfKUY+cn57yP7qv07UE3p8B2uhUwLk09\n",
       "e0SCOrK+hbdYHYLjRIl71wWzv9jpEoeOHhGRrJAzyEyNiJuUqX0g2sBN5kGK6y2Blp5M3lsB9Qh4\n",
       "y2Ja6x6+i0ucmKgwMATwhSjdUu49tKrQ/pvN5d53ml2CGwCmJipmKjgmyuaXzNeL2a0AkQ01Th5j\n",
       "2DktO3Jyk8f9vcOBQHV94OK+fPumJmvQHxJoWkaKWq9Vs+yUsbq0zGT1I4RgeH2b5wef7+c7bl8F\n",
       "eKgoHVVZa8ZPEORzR6sT1BzDUAD/d9F78e2Tzv99v8D+fLVTqAKAsbGamKey1Mt9Ann4eH3gTXTz\n",
       "idWtAJ8PQWOk7NzSeQn/OTHDuEikVF1R4z8BQCy+6D1aWRfY0tTGG2OM8rRoPaeIj5ZHzJxszElN\n",
       "VM8K8JS5WOfv8mzRnQAKoEhmt8gyPM4lU9SmBK1MCQBnW4KONT86v1hZ1PbwSXPw4JWussVjtH9Y\n",
       "NCoiL9UoH/6PSu8jFrfY2t36erQHXLIEakMi1SydmzB31h3GGXFDFNPaK8Rme9B79Ixrd0WN+1ij\n",
       "NRQ/doRmuFLBkHSTOm5GruG+pFjFdAmorG4IXH1Qua6ASniclfFtDYt+oUjKipPrCQB7QBQ2lrgP\n",
       "fFzm+9XWUtcqJ3/5vDLDpJ79XHZk3u8nGZ42qlj1+ydtbxysCezrydp6ugmipNJ7WBPB5tydY0jP\n",
       "HaVNzs3QzeE4ZpTbI+ZbnSFPbVOw9vsfnVvqWnirPyCNGD08IlqtYkh2hjZ5dErEQzoNm+6ykyOt\n",
       "Lt5/PQEuSRRKo22VkydK+vvS1XEKlhCJAnsqvcVvH7f/ZU2R67eXbMEGAMiIV5oWZWiWvz5Fv2xG\n",
       "sjqNJQRvn3Rs2lji/lNP19VjAQDgD7FHhujZB9OGqYxRkZxixgRDVlqS6uEOFaJUVu0rPFzctrnF\n",
       "JqijImVp8dEKVWyUXDk92zAuMZ6bFwpBU1HrOw6AdhQgUooChb0+ItMbWJitSo5Ws3IAOGEOtL53\n",
       "0vHZih9sC4vtofZ7Qu6523V/fmGcds1TY3V36pUsBwAbSlxnVh2xLfAD/IAIMDf7XYIkNmXfpp2l\n",
       "18rkAJAy9HKFaIr/qULkeQQKy9zf1JgDB2uaeFNGijo5QsUyacNUUTOnGO42xSnv4oOwpDi1zYkc\n",
       "efUc3I5Gk6PhyTuVKaOGyLUAYPGIoY9Pu/atL/L92+4q9wbflRJ2Trpm/jPjdBtfnqB/dIThcl8A\n",
       "KG7hbRuKnb8qsQsVvVlTrwQAQMUlf3kwJI24Z4JhPMtcfng5GcH49GsrxJpGvvHIaeem2ma+KSjQ\n",
       "lIwUdYyCY8j4dE1KzijNnIP2llF2wcXNnsoapw9XxsgYAl6k+KzUXbi2yP3KR2ecf6z3BFsBICdW\n",
       "nvnIaG3eHybqX7vbpEqUMT+9OL4Qpe8VON7dXuFd39v19FoAABRVePbGGuXTszO0P7tu6lghUonE\n",
       "llRdrhArLvmKdh9u29jcFiRRkfLUxBiFNiqSU9icoZQHo5mYBI1MBgBH6wMNb+U7Pnw337H4gi1Y\n",
       "ciWs+uks3Z9fztUvfzxTm9Ne8XXkvQLHNytOOZeiD4e0PgkAIAYCYknKUNUDSXEKzdWNpnil7r4p\n",
       "xqkjTarZMtk/K8TQ6Qve78qqvXurGwIJqcOUKfUWHsm8KGvxSP68YudXq4pcj39X49uOK2X142O0\n",
       "Tz5/u/7TVybqH0rSya6ZBwD21/gubbrgWdDgEOx9WUhfBaC2ibcEBYm7a7x+ukrBMNcEZggyR0TE\n",
       "T8zUPjikQ4VosQZbTpS4vqizBKvqmvjsqnpfzaZyx9JPiz1/bfGKdgD45XB1zoIMzYbfTdS/NClB\n",
       "Gct0USiY3YL/g0LHy/uq/Ef6uo5+n0R/vyhp17Klpge763f8rMu6YU/zrn2nml+2WtH+Z+5IAAFc\n",
       "2bUTdTDOSNa9+cQY7YLsOIXhevEkCvzph7a8laecz/Un/z4/Ae04XeL3UQb57IwU9ZDr9UuKVajv\n",
       "nxp1+1UVIo/LjztZkKH59fO3G/JemqCfmaCRqbqbd90ZZ8FfjtkfAyD0J/9+C2h1hDwsSxvGjNDc\n",
       "b4zk5NfrSwiQblLHzZhg+Jf4aPlUwpDqkQqa9nimbt1/TDH8OitGMaQnj+RJS6B1fbF7SY1TqO5v\n",
       "/v0WAADl1f7zokgS7s7VT2DZ7pegUjBM7mjtiDZbcN4j0YrHH0rXpCtY0qPX0cVL0rv5jv/ZXend\n",
       "0u/EESYBAFBU4T4Qa5TflZOhTe7pmKpaP8kCVUVw1+yhXfJWvn1P3hnXi33JsTN6PnP3hHZ8Z3/h\n",
       "aLHzmkNPuPj7Bc/F/Q38CwjTpSwQXgE4Vmwry9tpfq/ZFgqFMy4AVDtCvi8rvMvOmv0N4YwbVgEA\n",
       "sPM72/KVnzfspmH7HQGCRLG2yL1+z8XwvPcdCbsAANh+xPzstgMtxeGKt+6MK3/tacfvwhWvIwMi\n",
       "oKEBtm0H7W+UVfkc/Y1V0BhoPlDr/w1w/eu1vjIgAgDg22OtX6/eYfnEz/focrZTHAFR+PSs56/7\n",
       "q32nwpjazxgwAQCwcU/T62t3WL7r6/jVRa6/byp1rei+Z98ZUAEAhEPHPc8fKnTU9nbgtnOe8h0l\n",
       "9hcGIqmODLQAHCy2Xti6v/XNRivf43f4fFvIteu854+VHnR7q9tfBlwAAGz+pnndB9vM26UebAe8\n",
       "SLHujPOTPVW+rwY+sxskAAC2HrA8t2Vvc7ffP1r9o+vwR2dcr92InIAbKKC1FZ5tB1tf+/G8p8sv\n",
       "N/9Q5zd/XR34LYCwV5JdccMEAMDBk45DH243r/X4xGvqxFa/GNpS7n6rwOwNWwHVE26oAADYurf1\n",
       "zx/utOzt+DMKYM0p17YtZZ5VNzqfsB2HewG1WXE8PoZ7gOclbTIvynZf9JV+fqZtfgs/8F/Nu5rB\n",
       "EIBmJ+8QRMmpU7EzGRsf2FzuePqYRbzh/zE26EwdrT10f6r6o8HOYzCJB9Dpff8tbnGLG8L/A/WE\n",
       "roTBs2RqAAAAAElFTkSuQmCC'\n",
       "     style='height:25px; border-radius:12px; display: inline-block; float: left; vertical-align: middle'></img>\n",
       "\n",
       "\n",
       "  <img src='data:image/png;base64,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'\n",
       "       style='height:15px; border-radius:12px; display: inline-block; float: left'></img>\n",
       "  \n",
       "\n",
       "\n",
       "\n",
       "\n",
       "</div>\n"
      ]
     },
     "metadata": {},
     "output_type": "display_data"
    },
    {
     "data": {
      "application/javascript": "(function(root) {\n  function now() {\n    return new Date();\n  }\n\n  var force = true;\n  var py_version = '3.4.3'.replace('rc', '-rc.').replace('.dev', '-dev.');\n  var reloading = true;\n  var Bokeh = root.Bokeh;\n\n  if (typeof (root._bokeh_timeout) === \"undefined\" || force) {\n    root._bokeh_timeout = Date.now() + 5000;\n    root._bokeh_failed_load = false;\n  }\n\n  function run_callbacks() {\n    try {\n      root._bokeh_onload_callbacks.forEach(function(callback) {\n        if (callback != null)\n          callback();\n      });\n    } finally {\n      delete root._bokeh_onload_callbacks;\n    }\n    console.debug(\"Bokeh: all callbacks have finished\");\n  }\n\n  function load_libs(css_urls, js_urls, js_modules, js_exports, callback) {\n    if (css_urls == null) css_urls = [];\n    if (js_urls == null) js_urls = [];\n    if (js_modules == null) js_modules = [];\n    if (js_exports == null) js_exports = {};\n\n    root._bokeh_onload_callbacks.push(callback);\n\n    if (root._bokeh_is_loading > 0) {\n      console.debug(\"Bokeh: BokehJS is being loaded, scheduling callback at\", now());\n      return null;\n    }\n    if (js_urls.length === 0 && js_modules.length === 0 && Object.keys(js_exports).length === 0) {\n      run_callbacks();\n      return null;\n    }\n    if (!reloading) {\n      console.debug(\"Bokeh: BokehJS not loaded, scheduling load and callback at\", now());\n    }\n\n    function on_load() {\n      root._bokeh_is_loading--;\n      if (root._bokeh_is_loading === 0) {\n        console.debug(\"Bokeh: all BokehJS libraries/stylesheets loaded\");\n        run_callbacks()\n      }\n    }\n    window._bokeh_on_load = on_load\n\n    function on_error() {\n      console.error(\"failed to load \" + url);\n    }\n\n    var skip = [];\n    if (window.requirejs) {\n      window.requirejs.config({'packages': {}, 'paths': {}, 'shim': {}});\n      root._bokeh_is_loading = css_urls.length + 0;\n    } else {\n      root._bokeh_is_loading = css_urls.length + js_urls.length + js_modules.length + Object.keys(js_exports).length;\n    }\n\n    var existing_stylesheets = []\n    var links = document.getElementsByTagName('link')\n    for (var i = 0; i < links.length; i++) {\n      var link = links[i]\n      if (link.href != null) {\n\texisting_stylesheets.push(link.href)\n      }\n    }\n    for (var i = 0; i < css_urls.length; i++) {\n      var url = css_urls[i];\n      if (existing_stylesheets.indexOf(url) !== -1) {\n\ton_load()\n\tcontinue;\n      }\n      const element = document.createElement(\"link\");\n      element.onload = on_load;\n      element.onerror = on_error;\n      element.rel = \"stylesheet\";\n      element.type = \"text/css\";\n      element.href = url;\n      console.debug(\"Bokeh: injecting link tag for BokehJS stylesheet: \", url);\n      document.body.appendChild(element);\n    }    var existing_scripts = []\n    var scripts = document.getElementsByTagName('script')\n    for (var i = 0; i < scripts.length; i++) {\n      var script = scripts[i]\n      if (script.src != null) {\n\texisting_scripts.push(script.src)\n      }\n    }\n    for (var i = 0; i < js_urls.length; i++) {\n      var url = js_urls[i];\n      if (skip.indexOf(url) !== -1 || existing_scripts.indexOf(url) !== -1) {\n\tif (!window.requirejs) {\n\t  on_load();\n\t}\n\tcontinue;\n      }\n      var element = document.createElement('script');\n      element.onload = on_load;\n      element.onerror = on_error;\n      element.async = false;\n      element.src = url;\n      console.debug(\"Bokeh: injecting script tag for BokehJS library: \", url);\n      document.head.appendChild(element);\n    }\n    for (var i = 0; i < js_modules.length; i++) {\n      var url = js_modules[i];\n      if (skip.indexOf(url) !== -1 || existing_scripts.indexOf(url) !== -1) {\n\tif (!window.requirejs) {\n\t  on_load();\n\t}\n\tcontinue;\n      }\n      var element = document.createElement('script');\n      element.onload = on_load;\n      element.onerror = on_error;\n      element.async = false;\n      element.src = url;\n      element.type = \"module\";\n      console.debug(\"Bokeh: injecting script tag for BokehJS library: \", url);\n      document.head.appendChild(element);\n    }\n    for (const name in js_exports) {\n      var url = js_exports[name];\n      if (skip.indexOf(url) >= 0 || root[name] != null) {\n\tif (!window.requirejs) {\n\t  on_load();\n\t}\n\tcontinue;\n      }\n      var element = document.createElement('script');\n      element.onerror = on_error;\n      element.async = false;\n      element.type = \"module\";\n      console.debug(\"Bokeh: injecting script tag for BokehJS library: \", url);\n      element.textContent = `\n      import ${name} from \"${url}\"\n      window.${name} = ${name}\n      window._bokeh_on_load()\n      `\n      document.head.appendChild(element);\n    }\n    if (!js_urls.length && !js_modules.length) {\n      on_load()\n    }\n  };\n\n  function inject_raw_css(css) {\n    const element = document.createElement(\"style\");\n    element.appendChild(document.createTextNode(css));\n    document.body.appendChild(element);\n  }\n\n  var js_urls = [];\n  var js_modules = [];\n  var js_exports = {};\n  var css_urls = [];\n  var inline_js = [    function(Bokeh) {\n      Bokeh.set_log_level(\"info\");\n    },\nfunction(Bokeh) {} // ensure no trailing comma for IE\n  ];\n\n  function run_inline_js() {\n    if ((root.Bokeh !== undefined) || (force === true)) {\n      for (var i = 0; i < inline_js.length; i++) {\n\ttry {\n          inline_js[i].call(root, root.Bokeh);\n\t} catch(e) {\n\t  if (!reloading) {\n\t    throw e;\n\t  }\n\t}\n      }\n      // Cache old bokeh versions\n      if (Bokeh != undefined && !reloading) {\n\tvar NewBokeh = root.Bokeh;\n\tif (Bokeh.versions === undefined) {\n\t  Bokeh.versions = new Map();\n\t}\n\tif (NewBokeh.version !== Bokeh.version) {\n\t  Bokeh.versions.set(NewBokeh.version, NewBokeh)\n\t}\n\troot.Bokeh = Bokeh;\n      }} else if (Date.now() < root._bokeh_timeout) {\n      setTimeout(run_inline_js, 100);\n    } else if (!root._bokeh_failed_load) {\n      console.log(\"Bokeh: BokehJS failed to load within specified timeout.\");\n      root._bokeh_failed_load = true;\n    }\n    root._bokeh_is_initializing = false\n  }\n\n  function load_or_wait() {\n    // Implement a backoff loop that tries to ensure we do not load multiple\n    // versions of Bokeh and its dependencies at the same time.\n    // In recent versions we use the root._bokeh_is_initializing flag\n    // to determine whether there is an ongoing attempt to initialize\n    // bokeh, however for backward compatibility we also try to ensure\n    // that we do not start loading a newer (Panel>=1.0 and Bokeh>3) version\n    // before older versions are fully initialized.\n    if (root._bokeh_is_initializing && Date.now() > root._bokeh_timeout) {\n      root._bokeh_is_initializing = false;\n      root._bokeh_onload_callbacks = undefined;\n      console.log(\"Bokeh: BokehJS was loaded multiple times but one version failed to initialize.\");\n      load_or_wait();\n    } else if (root._bokeh_is_initializing || (typeof root._bokeh_is_initializing === \"undefined\" && root._bokeh_onload_callbacks !== undefined)) {\n      setTimeout(load_or_wait, 100);\n    } else {\n      root._bokeh_is_initializing = true\n      root._bokeh_onload_callbacks = []\n      var bokeh_loaded = Bokeh != null && (Bokeh.version === py_version || (Bokeh.versions !== undefined && Bokeh.versions.has(py_version)));\n      if (!reloading && !bokeh_loaded) {\n\troot.Bokeh = undefined;\n      }\n      load_libs(css_urls, js_urls, js_modules, js_exports, function() {\n\tconsole.debug(\"Bokeh: BokehJS plotting callback run at\", now());\n\trun_inline_js();\n      });\n    }\n  }\n  // Give older versions of the autoload script a head-start to ensure\n  // they initialize before we start loading newer version.\n  setTimeout(load_or_wait, 100)\n}(window));",
      "application/vnd.holoviews_load.v0+json": ""
     },
     "metadata": {},
     "output_type": "display_data"
    },
    {
     "data": {
      "application/javascript": "\nif ((window.PyViz === undefined) || (window.PyViz instanceof HTMLElement)) {\n  window.PyViz = {comms: {}, comm_status:{}, kernels:{}, receivers: {}, plot_index: []}\n}\n\n\n    function JupyterCommManager() {\n    }\n\n    JupyterCommManager.prototype.register_target = function(plot_id, comm_id, msg_handler) {\n      if (window.comm_manager || ((window.Jupyter !== undefined) && (Jupyter.notebook.kernel != null))) {\n        var comm_manager = window.comm_manager || Jupyter.notebook.kernel.comm_manager;\n        comm_manager.register_target(comm_id, function(comm) {\n          comm.on_msg(msg_handler);\n        });\n      } else if ((plot_id in window.PyViz.kernels) && (window.PyViz.kernels[plot_id])) {\n        window.PyViz.kernels[plot_id].registerCommTarget(comm_id, function(comm) {\n          comm.onMsg = msg_handler;\n        });\n      } else if (typeof google != 'undefined' && google.colab.kernel != null) {\n        google.colab.kernel.comms.registerTarget(comm_id, (comm) => {\n          var messages = comm.messages[Symbol.asyncIterator]();\n          function processIteratorResult(result) {\n            var message = result.value;\n            console.log(message)\n            var content = {data: message.data, comm_id};\n            var buffers = []\n            for (var buffer of message.buffers || []) {\n              buffers.push(new DataView(buffer))\n            }\n            var metadata = message.metadata || {};\n            var msg = {content, buffers, metadata}\n            msg_handler(msg);\n            return messages.next().then(processIteratorResult);\n          }\n          return messages.next().then(processIteratorResult);\n        })\n      }\n    }\n\n    JupyterCommManager.prototype.get_client_comm = function(plot_id, comm_id, msg_handler) {\n      if (comm_id in window.PyViz.comms) {\n        return window.PyViz.comms[comm_id];\n      } else if (window.comm_manager || ((window.Jupyter !== undefined) && (Jupyter.notebook.kernel != null))) {\n        var comm_manager = window.comm_manager || Jupyter.notebook.kernel.comm_manager;\n        var comm = comm_manager.new_comm(comm_id, {}, {}, {}, comm_id);\n        if (msg_handler) {\n          comm.on_msg(msg_handler);\n        }\n      } else if ((plot_id in window.PyViz.kernels) && (window.PyViz.kernels[plot_id])) {\n        var comm = window.PyViz.kernels[plot_id].connectToComm(comm_id);\n        comm.open();\n        if (msg_handler) {\n          comm.onMsg = msg_handler;\n        }\n      } else if (typeof google != 'undefined' && google.colab.kernel != null) {\n        var comm_promise = google.colab.kernel.comms.open(comm_id)\n        comm_promise.then((comm) => {\n          window.PyViz.comms[comm_id] = comm;\n          if (msg_handler) {\n            var messages = comm.messages[Symbol.asyncIterator]();\n            function processIteratorResult(result) {\n              var message = result.value;\n              var content = {data: message.data};\n              var metadata = message.metadata || {comm_id};\n              var msg = {content, metadata}\n              msg_handler(msg);\n              return messages.next().then(processIteratorResult);\n            }\n            return messages.next().then(processIteratorResult);\n          }\n        }) \n        var sendClosure = (data, metadata, buffers, disposeOnDone) => {\n          return comm_promise.then((comm) => {\n            comm.send(data, metadata, buffers, disposeOnDone);\n          });\n        };\n        var comm = {\n          send: sendClosure\n        };\n      }\n      window.PyViz.comms[comm_id] = comm;\n      return comm;\n    }\n    window.PyViz.comm_manager = new JupyterCommManager();\n    \n\n\nvar JS_MIME_TYPE = 'application/javascript';\nvar HTML_MIME_TYPE = 'text/html';\nvar EXEC_MIME_TYPE = 'application/vnd.holoviews_exec.v0+json';\nvar CLASS_NAME = 'output';\n\n/**\n * Render data to the DOM node\n */\nfunction render(props, node) {\n  var div = document.createElement(\"div\");\n  var script = document.createElement(\"script\");\n  node.appendChild(div);\n  node.appendChild(script);\n}\n\n/**\n * Handle when a new output is added\n */\nfunction handle_add_output(event, handle) {\n  var output_area = handle.output_area;\n  var output = handle.output;\n  if ((output.data == undefined) || (!output.data.hasOwnProperty(EXEC_MIME_TYPE))) {\n    return\n  }\n  var id = output.metadata[EXEC_MIME_TYPE][\"id\"];\n  var toinsert = output_area.element.find(\".\" + CLASS_NAME.split(' ')[0]);\n  if (id !== undefined) {\n    var nchildren = toinsert.length;\n    var html_node = toinsert[nchildren-1].children[0];\n    html_node.innerHTML = output.data[HTML_MIME_TYPE];\n    var scripts = [];\n    var nodelist = html_node.querySelectorAll(\"script\");\n    for (var i in nodelist) {\n      if (nodelist.hasOwnProperty(i)) {\n        scripts.push(nodelist[i])\n      }\n    }\n\n    scripts.forEach( function (oldScript) {\n      var newScript = document.createElement(\"script\");\n      var attrs = [];\n      var nodemap = oldScript.attributes;\n      for (var j in nodemap) {\n        if (nodemap.hasOwnProperty(j)) {\n          attrs.push(nodemap[j])\n        }\n      }\n      attrs.forEach(function(attr) { newScript.setAttribute(attr.name, attr.value) });\n      newScript.appendChild(document.createTextNode(oldScript.innerHTML));\n      oldScript.parentNode.replaceChild(newScript, oldScript);\n    });\n    if (JS_MIME_TYPE in output.data) {\n      toinsert[nchildren-1].children[1].textContent = output.data[JS_MIME_TYPE];\n    }\n    output_area._hv_plot_id = id;\n    if ((window.Bokeh !== undefined) && (id in Bokeh.index)) {\n      window.PyViz.plot_index[id] = Bokeh.index[id];\n    } else {\n      window.PyViz.plot_index[id] = null;\n    }\n  } else if (output.metadata[EXEC_MIME_TYPE][\"server_id\"] !== undefined) {\n    var bk_div = document.createElement(\"div\");\n    bk_div.innerHTML = output.data[HTML_MIME_TYPE];\n    var script_attrs = bk_div.children[0].attributes;\n    for (var i = 0; i < script_attrs.length; i++) {\n      toinsert[toinsert.length - 1].childNodes[1].setAttribute(script_attrs[i].name, script_attrs[i].value);\n    }\n    // store reference to server id on output_area\n    output_area._bokeh_server_id = output.metadata[EXEC_MIME_TYPE][\"server_id\"];\n  }\n}\n\n/**\n * Handle when an output is cleared or removed\n */\nfunction handle_clear_output(event, handle) {\n  var id = handle.cell.output_area._hv_plot_id;\n  var server_id = handle.cell.output_area._bokeh_server_id;\n  if (((id === undefined) || !(id in PyViz.plot_index)) && (server_id !== undefined)) { return; }\n  var comm = window.PyViz.comm_manager.get_client_comm(\"hv-extension-comm\", \"hv-extension-comm\", function () {});\n  if (server_id !== null) {\n    comm.send({event_type: 'server_delete', 'id': server_id});\n    return;\n  } else if (comm !== null) {\n    comm.send({event_type: 'delete', 'id': id});\n  }\n  delete PyViz.plot_index[id];\n  if ((window.Bokeh !== undefined) & (id in window.Bokeh.index)) {\n    var doc = window.Bokeh.index[id].model.document\n    doc.clear();\n    const i = window.Bokeh.documents.indexOf(doc);\n    if (i > -1) {\n      window.Bokeh.documents.splice(i, 1);\n    }\n  }\n}\n\n/**\n * Handle kernel restart event\n */\nfunction handle_kernel_cleanup(event, handle) {\n  delete PyViz.comms[\"hv-extension-comm\"];\n  window.PyViz.plot_index = {}\n}\n\n/**\n * Handle update_display_data messages\n */\nfunction handle_update_output(event, handle) {\n  handle_clear_output(event, {cell: {output_area: handle.output_area}})\n  handle_add_output(event, handle)\n}\n\nfunction register_renderer(events, OutputArea) {\n  function append_mime(data, metadata, element) {\n    // create a DOM node to render to\n    var toinsert = this.create_output_subarea(\n    metadata,\n    CLASS_NAME,\n    EXEC_MIME_TYPE\n    );\n    this.keyboard_manager.register_events(toinsert);\n    // Render to node\n    var props = {data: data, metadata: metadata[EXEC_MIME_TYPE]};\n    render(props, toinsert[0]);\n    element.append(toinsert);\n    return toinsert\n  }\n\n  events.on('output_added.OutputArea', handle_add_output);\n  events.on('output_updated.OutputArea', handle_update_output);\n  events.on('clear_output.CodeCell', handle_clear_output);\n  events.on('delete.Cell', handle_clear_output);\n  events.on('kernel_ready.Kernel', handle_kernel_cleanup);\n\n  OutputArea.prototype.register_mime_type(EXEC_MIME_TYPE, append_mime, {\n    safe: true,\n    index: 0\n  });\n}\n\nif (window.Jupyter !== undefined) {\n  try {\n    var events = require('base/js/events');\n    var OutputArea = require('notebook/js/outputarea').OutputArea;\n    if (OutputArea.prototype.mime_types().indexOf(EXEC_MIME_TYPE) == -1) {\n      register_renderer(events, OutputArea);\n    }\n  } catch(err) {\n  }\n}\n",
      "application/vnd.holoviews_load.v0+json": ""
     },
     "metadata": {},
     "output_type": "display_data"
    },
    {
     "data": {
      "text/html": [
       "<style>*[data-root-id],\n",
       "*[data-root-id] > * {\n",
       "  box-sizing: border-box;\n",
       "  font-family: var(--jp-ui-font-family);\n",
       "  font-size: var(--jp-ui-font-size1);\n",
       "  color: var(--vscode-editor-foreground, var(--jp-ui-font-color1));\n",
       "}\n",
       "\n",
       "/* Override VSCode background color */\n",
       ".cell-output-ipywidget-background:has(\n",
       "    > .cell-output-ipywidget-background > .lm-Widget > *[data-root-id]\n",
       "  ),\n",
       ".cell-output-ipywidget-background:has(> .lm-Widget > *[data-root-id]) {\n",
       "  background-color: transparent !important;\n",
       "}\n",
       "</style>"
      ]
     },
     "metadata": {},
     "output_type": "display_data"
    }
   ],
   "source": [
    "import numpy as np\n",
    "import xarray as xr\n",
    "import holoviews as hv\n",
    "from scipy.optimize import curve_fit\n",
    "from scipy.constants import hbar, Boltzmann, k\n",
    "\n",
    "hv.extension(\"bokeh\")\n",
    "# import setup\n",
    "import os\n",
    "\n",
    "# from transmission import Transmission_qcodes as tr\n",
    "from qcodes import initialise_or_create_database_at, load_by_run_spec\n",
    "\n",
    "# from fitting_tools import complex_fit\n",
    "hv.extension(\"bokeh\")\n",
    "import skg  # pip install scikit-guess to install this package\n",
    "\n",
    "# import skgstat as skg\n",
    "\n",
    "\n",
    "import pandas as pd"
   ]
  },
  {
   "cell_type": "code",
   "execution_count": 8,
   "id": "fa0cc728",
   "metadata": {},
   "outputs": [],
   "source": [
    "initialise_or_create_database_at(\n",
    "    r\"\\\\DESKTOP-4KVVP10\\Users\\Qinu\\qumin\\data\\2025-07-07_C12-036-L&C12-036-I.db\"\n",
    ")"
   ]
  },
  {
   "cell_type": "code",
   "execution_count": 3,
   "id": "bb0cc39b",
   "metadata": {},
   "outputs": [
    {
     "data": {},
     "metadata": {},
     "output_type": "display_data"
    },
    {
     "data": {
      "application/vnd.holoviews_exec.v0+json": "",
      "text/html": [
       "<div id='p1004'>\n",
       "  <div id=\"f89c10d3-b019-4c71-af82-39ead1a2f9cf\" data-root-id=\"p1004\" style=\"display: contents;\"></div>\n",
       "</div>\n",
       "<script type=\"application/javascript\">(function(root) {\n",
       "  var docs_json = {\"aa780e2b-f8be-4fa8-a1b7-3a50d0279e14\":{\"version\":\"3.4.3\",\"title\":\"Bokeh Application\",\"roots\":[{\"type\":\"object\",\"name\":\"Row\",\"id\":\"p1004\",\"attributes\":{\"name\":\"Row00864\",\"tags\":[\"embedded\"],\"stylesheets\":[\"\\n:host(.pn-loading):before, .pn-loading:before {\\n  background-color: #c3c3c3;\\n  mask-size: auto calc(min(50%, 400px));\\n  -webkit-mask-size: auto calc(min(50%, 400px));\\n}\",{\"type\":\"object\",\"name\":\"ImportedStyleSheet\",\"id\":\"p1007\",\"attributes\":{\"url\":\"https://cdn.holoviz.org/panel/1.4.5/dist/css/loading.css\"}},{\"type\":\"object\",\"name\":\"ImportedStyleSheet\",\"id\":\"p1062\",\"attributes\":{\"url\":\"https://cdn.holoviz.org/panel/1.4.5/dist/css/listpanel.css\"}},{\"type\":\"object\",\"name\":\"ImportedStyleSheet\",\"id\":\"p1005\",\"attributes\":{\"url\":\"https://cdn.holoviz.org/panel/1.4.5/dist/bundled/theme/default.css\"}},{\"type\":\"object\",\"name\":\"ImportedStyleSheet\",\"id\":\"p1006\",\"attributes\":{\"url\":\"https://cdn.holoviz.org/panel/1.4.5/dist/bundled/theme/native.css\"}}],\"min_width\":300,\"margin\":0,\"sizing_mode\":\"stretch_width\",\"align\":\"start\",\"children\":[{\"type\":\"object\",\"name\":\"Spacer\",\"id\":\"p1008\",\"attributes\":{\"name\":\"HSpacer00870\",\"stylesheets\":[\"\\n:host(.pn-loading):before, .pn-loading:before {\\n  background-color: #c3c3c3;\\n  mask-size: auto calc(min(50%, 400px));\\n  -webkit-mask-size: auto calc(min(50%, 400px));\\n}\",{\"id\":\"p1007\"},{\"id\":\"p1005\"},{\"id\":\"p1006\"}],\"margin\":0,\"sizing_mode\":\"stretch_width\",\"align\":\"start\"}},{\"type\":\"object\",\"name\":\"Figure\",\"id\":\"p1015\",\"attributes\":{\"width\":300,\"height\":300,\"margin\":[5,10],\"sizing_mode\":\"fixed\",\"align\":\"start\",\"x_range\":{\"type\":\"object\",\"name\":\"Range1d\",\"id\":\"p1009\",\"attributes\":{\"tags\":[[[\"x\",null]],[]],\"start\":7375000000.0,\"end\":7380000000.0,\"reset_start\":7375000000.0,\"reset_end\":7380000000.0}},\"y_range\":{\"type\":\"object\",\"name\":\"Range1d\",\"id\":\"p1010\",\"attributes\":{\"tags\":[[[\"y\",null]],{\"type\":\"map\",\"entries\":[[\"invert_yaxis\",false],[\"autorange\",false]]}],\"start\":3.6602855682373048,\"end\":4.886152648925782,\"reset_start\":3.6602855682373048,\"reset_end\":4.886152648925782}},\"x_scale\":{\"type\":\"object\",\"name\":\"LinearScale\",\"id\":\"p1025\"},\"y_scale\":{\"type\":\"object\",\"name\":\"LinearScale\",\"id\":\"p1026\"},\"title\":{\"type\":\"object\",\"name\":\"Title\",\"id\":\"p1018\",\"attributes\":{\"text_color\":\"black\",\"text_font_size\":\"12pt\"}},\"renderers\":[{\"type\":\"object\",\"name\":\"GlyphRenderer\",\"id\":\"p1055\",\"attributes\":{\"data_source\":{\"type\":\"object\",\"name\":\"ColumnDataSource\",\"id\":\"p1046\",\"attributes\":{\"selected\":{\"type\":\"object\",\"name\":\"Selection\",\"id\":\"p1047\",\"attributes\":{\"indices\":[],\"line_indices\":[]}},\"selection_policy\":{\"type\":\"object\",\"name\":\"UnionRenderers\",\"id\":\"p1048\"},\"data\":{\"type\":\"map\",\"entries\":[[\"x\",{\"type\":\"ndarray\",\"array\":{\"type\":\"bytes\",\"data\":\"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\"},\"shape\":[2001],\"dtype\":\"float64\",\"order\":\"little\"}],[\"y\",{\"type\":\"ndarray\",\"array\":{\"type\":\"bytes\",\"data\":\"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\"},\"shape\":[2001],\"dtype\":\"float64\",\"order\":\"little\"}]]}}},\"view\":{\"type\":\"object\",\"name\":\"CDSView\",\"id\":\"p1056\",\"attributes\":{\"filter\":{\"type\":\"object\",\"name\":\"AllIndices\",\"id\":\"p1057\"}}},\"glyph\":{\"type\":\"object\",\"name\":\"Line\",\"id\":\"p1052\",\"attributes\":{\"tags\":[\"apply_ranges\"],\"x\":{\"type\":\"field\",\"field\":\"x\"},\"y\":{\"type\":\"field\",\"field\":\"y\"},\"line_color\":\"#30a2da\",\"line_width\":2}},\"selection_glyph\":{\"type\":\"object\",\"name\":\"Line\",\"id\":\"p1058\",\"attributes\":{\"tags\":[\"apply_ranges\"],\"x\":{\"type\":\"field\",\"field\":\"x\"},\"y\":{\"type\":\"field\",\"field\":\"y\"},\"line_color\":\"#30a2da\",\"line_width\":2}},\"nonselection_glyph\":{\"type\":\"object\",\"name\":\"Line\",\"id\":\"p1053\",\"attributes\":{\"tags\":[\"apply_ranges\"],\"x\":{\"type\":\"field\",\"field\":\"x\"},\"y\":{\"type\":\"field\",\"field\":\"y\"},\"line_color\":\"#30a2da\",\"line_alpha\":0.1,\"line_width\":2}},\"muted_glyph\":{\"type\":\"object\",\"name\":\"Line\",\"id\":\"p1054\",\"attributes\":{\"tags\":[\"apply_ranges\"],\"x\":{\"type\":\"field\",\"field\":\"x\"},\"y\":{\"type\":\"field\",\"field\":\"y\"},\"line_color\":\"#30a2da\",\"line_alpha\":0.2,\"line_width\":2}}}}],\"toolbar\":{\"type\":\"object\",\"name\":\"Toolbar\",\"id\":\"p1024\",\"attributes\":{\"tools\":[{\"type\":\"object\",\"name\":\"WheelZoomTool\",\"id\":\"p1014\",\"attributes\":{\"tags\":[\"hv_created\"],\"renderers\":\"auto\",\"zoom_together\":\"none\"}},{\"type\":\"object\",\"name\":\"SaveTool\",\"id\":\"p1037\"},{\"type\":\"object\",\"name\":\"PanTool\",\"id\":\"p1038\"},{\"type\":\"object\",\"name\":\"BoxZoomTool\",\"id\":\"p1039\",\"attributes\":{\"overlay\":{\"type\":\"object\",\"name\":\"BoxAnnotation\",\"id\":\"p1040\",\"attributes\":{\"syncable\":false,\"level\":\"overlay\",\"visible\":false,\"left\":{\"type\":\"number\",\"value\":\"nan\"},\"right\":{\"type\":\"number\",\"value\":\"nan\"},\"top\":{\"type\":\"number\",\"value\":\"nan\"},\"bottom\":{\"type\":\"number\",\"value\":\"nan\"},\"left_units\":\"canvas\",\"right_units\":\"canvas\",\"top_units\":\"canvas\",\"bottom_units\":\"canvas\",\"line_color\":\"black\",\"line_alpha\":1.0,\"line_width\":2,\"line_dash\":[4,4],\"fill_color\":\"lightgrey\",\"fill_alpha\":0.5}}}},{\"type\":\"object\",\"name\":\"ResetTool\",\"id\":\"p1045\"}],\"active_drag\":{\"id\":\"p1038\"},\"active_scroll\":{\"id\":\"p1014\"}}},\"left\":[{\"type\":\"object\",\"name\":\"LinearAxis\",\"id\":\"p1032\",\"attributes\":{\"ticker\":{\"type\":\"object\",\"name\":\"BasicTicker\",\"id\":\"p1033\",\"attributes\":{\"mantissas\":[1,2,5]}},\"formatter\":{\"type\":\"object\",\"name\":\"BasicTickFormatter\",\"id\":\"p1034\"},\"axis_label\":\"y\",\"major_label_policy\":{\"type\":\"object\",\"name\":\"AllLabels\",\"id\":\"p1035\"}}}],\"below\":[{\"type\":\"object\",\"name\":\"LinearAxis\",\"id\":\"p1027\",\"attributes\":{\"ticker\":{\"type\":\"object\",\"name\":\"BasicTicker\",\"id\":\"p1028\",\"attributes\":{\"mantissas\":[1,2,5]}},\"formatter\":{\"type\":\"object\",\"name\":\"BasicTickFormatter\",\"id\":\"p1029\"},\"axis_label\":\"x\",\"major_label_policy\":{\"type\":\"object\",\"name\":\"AllLabels\",\"id\":\"p1030\"}}}],\"center\":[{\"type\":\"object\",\"name\":\"Grid\",\"id\":\"p1031\",\"attributes\":{\"axis\":{\"id\":\"p1027\"},\"grid_line_color\":null}},{\"type\":\"object\",\"name\":\"Grid\",\"id\":\"p1036\",\"attributes\":{\"dimension\":1,\"axis\":{\"id\":\"p1032\"},\"grid_line_color\":null}}],\"min_border_top\":10,\"min_border_bottom\":10,\"min_border_left\":10,\"min_border_right\":10,\"output_backend\":\"webgl\"}},{\"type\":\"object\",\"name\":\"Spacer\",\"id\":\"p1060\",\"attributes\":{\"name\":\"HSpacer00871\",\"stylesheets\":[\"\\n:host(.pn-loading):before, .pn-loading:before {\\n  background-color: #c3c3c3;\\n  mask-size: auto calc(min(50%, 400px));\\n  -webkit-mask-size: auto calc(min(50%, 400px));\\n}\",{\"id\":\"p1007\"},{\"id\":\"p1005\"},{\"id\":\"p1006\"}],\"margin\":0,\"sizing_mode\":\"stretch_width\",\"align\":\"start\"}}]}}],\"defs\":[{\"type\":\"model\",\"name\":\"ReactiveHTML1\"},{\"type\":\"model\",\"name\":\"FlexBox1\",\"properties\":[{\"name\":\"align_content\",\"kind\":\"Any\",\"default\":\"flex-start\"},{\"name\":\"align_items\",\"kind\":\"Any\",\"default\":\"flex-start\"},{\"name\":\"flex_direction\",\"kind\":\"Any\",\"default\":\"row\"},{\"name\":\"flex_wrap\",\"kind\":\"Any\",\"default\":\"wrap\"},{\"name\":\"gap\",\"kind\":\"Any\",\"default\":\"\"},{\"name\":\"justify_content\",\"kind\":\"Any\",\"default\":\"flex-start\"}]},{\"type\":\"model\",\"name\":\"FloatPanel1\",\"properties\":[{\"name\":\"config\",\"kind\":\"Any\",\"default\":{\"type\":\"map\"}},{\"name\":\"contained\",\"kind\":\"Any\",\"default\":true},{\"name\":\"position\",\"kind\":\"Any\",\"default\":\"right-top\"},{\"name\":\"offsetx\",\"kind\":\"Any\",\"default\":null},{\"name\":\"offsety\",\"kind\":\"Any\",\"default\":null},{\"name\":\"theme\",\"kind\":\"Any\",\"default\":\"primary\"},{\"name\":\"status\",\"kind\":\"Any\",\"default\":\"normalized\"}]},{\"type\":\"model\",\"name\":\"GridStack1\",\"properties\":[{\"name\":\"mode\",\"kind\":\"Any\",\"default\":\"warn\"},{\"name\":\"ncols\",\"kind\":\"Any\",\"default\":null},{\"name\":\"nrows\",\"kind\":\"Any\",\"default\":null},{\"name\":\"allow_resize\",\"kind\":\"Any\",\"default\":true},{\"name\":\"allow_drag\",\"kind\":\"Any\",\"default\":true},{\"name\":\"state\",\"kind\":\"Any\",\"default\":[]}]},{\"type\":\"model\",\"name\":\"drag1\",\"properties\":[{\"name\":\"slider_width\",\"kind\":\"Any\",\"default\":5},{\"name\":\"slider_color\",\"kind\":\"Any\",\"default\":\"black\"},{\"name\":\"value\",\"kind\":\"Any\",\"default\":50}]},{\"type\":\"model\",\"name\":\"click1\",\"properties\":[{\"name\":\"terminal_output\",\"kind\":\"Any\",\"default\":\"\"},{\"name\":\"debug_name\",\"kind\":\"Any\",\"default\":\"\"},{\"name\":\"clears\",\"kind\":\"Any\",\"default\":0}]},{\"type\":\"model\",\"name\":\"FastWrapper1\",\"properties\":[{\"name\":\"object\",\"kind\":\"Any\",\"default\":null},{\"name\":\"style\",\"kind\":\"Any\",\"default\":null}]},{\"type\":\"model\",\"name\":\"NotificationAreaBase1\",\"properties\":[{\"name\":\"js_events\",\"kind\":\"Any\",\"default\":{\"type\":\"map\"}},{\"name\":\"position\",\"kind\":\"Any\",\"default\":\"bottom-right\"},{\"name\":\"_clear\",\"kind\":\"Any\",\"default\":0}]},{\"type\":\"model\",\"name\":\"NotificationArea1\",\"properties\":[{\"name\":\"js_events\",\"kind\":\"Any\",\"default\":{\"type\":\"map\"}},{\"name\":\"notifications\",\"kind\":\"Any\",\"default\":[]},{\"name\":\"position\",\"kind\":\"Any\",\"default\":\"bottom-right\"},{\"name\":\"_clear\",\"kind\":\"Any\",\"default\":0},{\"name\":\"types\",\"kind\":\"Any\",\"default\":[{\"type\":\"map\",\"entries\":[[\"type\",\"warning\"],[\"background\",\"#ffc107\"],[\"icon\",{\"type\":\"map\",\"entries\":[[\"className\",\"fas fa-exclamation-triangle\"],[\"tagName\",\"i\"],[\"color\",\"white\"]]}]]},{\"type\":\"map\",\"entries\":[[\"type\",\"info\"],[\"background\",\"#007bff\"],[\"icon\",{\"type\":\"map\",\"entries\":[[\"className\",\"fas fa-info-circle\"],[\"tagName\",\"i\"],[\"color\",\"white\"]]}]]}]}]},{\"type\":\"model\",\"name\":\"Notification\",\"properties\":[{\"name\":\"background\",\"kind\":\"Any\",\"default\":null},{\"name\":\"duration\",\"kind\":\"Any\",\"default\":3000},{\"name\":\"icon\",\"kind\":\"Any\",\"default\":null},{\"name\":\"message\",\"kind\":\"Any\",\"default\":\"\"},{\"name\":\"notification_type\",\"kind\":\"Any\",\"default\":null},{\"name\":\"_destroyed\",\"kind\":\"Any\",\"default\":false}]},{\"type\":\"model\",\"name\":\"TemplateActions1\",\"properties\":[{\"name\":\"open_modal\",\"kind\":\"Any\",\"default\":0},{\"name\":\"close_modal\",\"kind\":\"Any\",\"default\":0}]},{\"type\":\"model\",\"name\":\"BootstrapTemplateActions1\",\"properties\":[{\"name\":\"open_modal\",\"kind\":\"Any\",\"default\":0},{\"name\":\"close_modal\",\"kind\":\"Any\",\"default\":0}]},{\"type\":\"model\",\"name\":\"TemplateEditor1\",\"properties\":[{\"name\":\"layout\",\"kind\":\"Any\",\"default\":[]}]},{\"type\":\"model\",\"name\":\"MaterialTemplateActions1\",\"properties\":[{\"name\":\"open_modal\",\"kind\":\"Any\",\"default\":0},{\"name\":\"close_modal\",\"kind\":\"Any\",\"default\":0}]},{\"type\":\"model\",\"name\":\"copy_to_clipboard1\",\"properties\":[{\"name\":\"fill\",\"kind\":\"Any\",\"default\":\"none\"},{\"name\":\"value\",\"kind\":\"Any\",\"default\":null}]}]}};\n",
       "  var render_items = [{\"docid\":\"aa780e2b-f8be-4fa8-a1b7-3a50d0279e14\",\"roots\":{\"p1004\":\"f89c10d3-b019-4c71-af82-39ead1a2f9cf\"},\"root_ids\":[\"p1004\"]}];\n",
       "  var docs = Object.values(docs_json)\n",
       "  if (!docs) {\n",
       "    return\n",
       "  }\n",
       "  const py_version = docs[0].version.replace('rc', '-rc.').replace('.dev', '-dev.')\n",
       "  async function embed_document(root) {\n",
       "    var Bokeh = get_bokeh(root)\n",
       "    await Bokeh.embed.embed_items_notebook(docs_json, render_items);\n",
       "    for (const render_item of render_items) {\n",
       "      for (const root_id of render_item.root_ids) {\n",
       "\tconst id_el = document.getElementById(root_id)\n",
       "\tif (id_el.children.length && id_el.children[0].hasAttribute('data-root-id')) {\n",
       "\t  const root_el = id_el.children[0]\n",
       "\t  root_el.id = root_el.id + '-rendered'\n",
       "\t  for (const child of root_el.children) {\n",
       "            // Ensure JupyterLab does not capture keyboard shortcuts\n",
       "            // see: https://jupyterlab.readthedocs.io/en/4.1.x/extension/notebook.html#keyboard-interaction-model\n",
       "\t    child.setAttribute('data-lm-suppress-shortcuts', 'true')\n",
       "\t  }\n",
       "\t}\n",
       "      }\n",
       "    }\n",
       "  }\n",
       "  function get_bokeh(root) {\n",
       "    if (root.Bokeh === undefined) {\n",
       "      return null\n",
       "    } else if (root.Bokeh.version !== py_version) {\n",
       "      if (root.Bokeh.versions === undefined || !root.Bokeh.versions.has(py_version)) {\n",
       "\treturn null\n",
       "      }\n",
       "      return root.Bokeh.versions.get(py_version);\n",
       "    } else if (root.Bokeh.version === py_version) {\n",
       "      return root.Bokeh\n",
       "    }\n",
       "    return null\n",
       "  }\n",
       "  function is_loaded(root) {\n",
       "    var Bokeh = get_bokeh(root)\n",
       "    return (Bokeh != null && Bokeh.Panel !== undefined)\n",
       "  }\n",
       "  if (is_loaded(root)) {\n",
       "    embed_document(root);\n",
       "  } else {\n",
       "    var attempts = 0;\n",
       "    var timer = setInterval(function(root) {\n",
       "      if (is_loaded(root)) {\n",
       "        clearInterval(timer);\n",
       "        embed_document(root);\n",
       "      } else if (document.readyState == \"complete\") {\n",
       "        attempts++;\n",
       "        if (attempts > 200) {\n",
       "          clearInterval(timer);\n",
       "\t  var Bokeh = get_bokeh(root)\n",
       "\t  if (Bokeh == null || Bokeh.Panel == null) {\n",
       "            console.warn(\"Panel: ERROR: Unable to run Panel code because Bokeh or Panel library is missing\");\n",
       "\t  } else {\n",
       "\t    console.warn(\"Panel: WARNING: Attempting to render but not all required libraries could be resolved.\")\n",
       "\t    embed_document(root)\n",
       "\t  }\n",
       "        }\n",
       "      }\n",
       "    }, 25, root)\n",
       "  }\n",
       "})(window);</script>"
      ],
      "text/plain": [
       ":Curve   [x]   (y)"
      ]
     },
     "execution_count": 3,
     "metadata": {
      "application/vnd.holoviews_exec.v0+json": {
       "id": "p1004"
      }
     },
     "output_type": "execute_result"
    }
   ],
   "source": [
    "peak1 = load_by_run_spec(captured_run_id=7).to_xarray_dataset()\n",
    "peak1[\"S21\"] = peak1[\"pna_tr1_linear_magnitude\"]*np.exp(1j*np.pi*peak1[\"pna_tr1_unwrapped_phase\"]/180)\n",
    "hv.Curve((peak1['pna_frequency_axis'],peak1['pna_tr1_magnitude']))"
   ]
  },
  {
   "cell_type": "code",
   "execution_count": 4,
   "id": "86ebe070",
   "metadata": {},
   "outputs": [],
   "source": [
    "peak1.to_dataframe().to_csv(\n",
    "    r\"D:\\Github\\Qinu\\qumin\\data\\C12_30_H.csv\",\n",
    ")"
   ]
  },
  {
   "cell_type": "code",
   "execution_count": 6,
   "id": "57108286",
   "metadata": {},
   "outputs": [
    {
     "name": "stdout",
     "output_type": "stream",
     "text": [
      "D:\\Github\\Qinu\\qumin\\data\n"
     ]
    },
    {
     "name": "stderr",
     "output_type": "stream",
     "text": [
      "C:\\Users\\Amine Selmani\\AppData\\Roaming\\Python\\Python310\\site-packages\\IPython\\core\\magics\\osm.py:417: UserWarning: This is now an optional IPython functionality, setting dhist requires you to install the `pickleshare` library.\n",
      "  self.shell.db['dhist'] = compress_dhist(dhist)[-100:]\n"
     ]
    },
    {
     "ename": "IndexError",
     "evalue": "index 0 is out of bounds for axis 0 with size 0",
     "output_type": "error",
     "traceback": [
      "\u001b[1;31m---------------------------------------------------------------------------\u001b[0m",
      "\u001b[1;31mIndexError\u001b[0m                                Traceback (most recent call last)",
      "Cell \u001b[1;32mIn[6], line 3\u001b[0m\n\u001b[0;32m      1\u001b[0m get_ipython()\u001b[38;5;241m.\u001b[39mrun_line_magic(\u001b[38;5;124m'\u001b[39m\u001b[38;5;124mcd\u001b[39m\u001b[38;5;124m'\u001b[39m, \u001b[38;5;124m'\u001b[39m\u001b[38;5;124m D:\u001b[39m\u001b[38;5;130;01m\\\\\u001b[39;00m\u001b[38;5;124mGithub\u001b[39m\u001b[38;5;130;01m\\\\\u001b[39;00m\u001b[38;5;124mQinu\u001b[39m\u001b[38;5;130;01m\\\\\u001b[39;00m\u001b[38;5;124mqumin\u001b[39m\u001b[38;5;130;01m\\\\\u001b[39;00m\u001b[38;5;124mdata\u001b[39m\u001b[38;5;124m'\u001b[39m)\n\u001b[0;32m      2\u001b[0m df \u001b[38;5;241m=\u001b[39m pd\u001b[38;5;241m.\u001b[39mread_csv(\u001b[38;5;124m\"\u001b[39m\u001b[38;5;124mC12_30_H.csv\u001b[39m\u001b[38;5;124m\"\u001b[39m)\n\u001b[1;32m----> 3\u001b[0m int1 \u001b[38;5;241m=\u001b[39m xr\u001b[38;5;241m.\u001b[39mDataset\u001b[38;5;241m.\u001b[39mfrom_dataframe(df\u001b[38;5;241m.\u001b[39miloc[(\u001b[43mdf\u001b[49m\u001b[38;5;241;43m.\u001b[39;49m\u001b[43mindex\u001b[49m\u001b[43m[\u001b[49m\u001b[43mdf\u001b[49m\u001b[43m[\u001b[49m\u001b[38;5;124;43m'\u001b[39;49m\u001b[38;5;124;43mpna_frequency_axis\u001b[39;49m\u001b[38;5;124;43m'\u001b[39;49m\u001b[43m]\u001b[49m\u001b[43m \u001b[49m\u001b[38;5;241;43m==\u001b[39;49m\u001b[43m \u001b[49m\u001b[38;5;241;43m2e9\u001b[39;49m\u001b[43m]\u001b[49m\u001b[43m[\u001b[49m\u001b[38;5;241;43m0\u001b[39;49m\u001b[43m]\u001b[49m): (df\u001b[38;5;241m.\u001b[39mindex[df[\u001b[38;5;124m'\u001b[39m\u001b[38;5;124mpna_frequency_axis\u001b[39m\u001b[38;5;124m'\u001b[39m] \u001b[38;5;241m==\u001b[39m \u001b[38;5;241m3e9\u001b[39m][\u001b[38;5;241m0\u001b[39m])])\n\u001b[0;32m      5\u001b[0m \u001b[38;5;28;01mfor\u001b[39;00m var \u001b[38;5;129;01min\u001b[39;00m int1\u001b[38;5;241m.\u001b[39mdata_vars:\n\u001b[0;32m      6\u001b[0m     data \u001b[38;5;241m=\u001b[39m int1[var]\n",
      "File \u001b[1;32mc:\\Users\\Amine Selmani\\miniconda3\\envs\\qumin_env\\lib\\site-packages\\pandas\\core\\indexes\\base.py:5389\u001b[0m, in \u001b[0;36mIndex.__getitem__\u001b[1;34m(self, key)\u001b[0m\n\u001b[0;32m   5386\u001b[0m \u001b[38;5;28;01mif\u001b[39;00m is_integer(key) \u001b[38;5;129;01mor\u001b[39;00m is_float(key):\n\u001b[0;32m   5387\u001b[0m     \u001b[38;5;66;03m# GH#44051 exclude bool, which would return a 2d ndarray\u001b[39;00m\n\u001b[0;32m   5388\u001b[0m     key \u001b[38;5;241m=\u001b[39m com\u001b[38;5;241m.\u001b[39mcast_scalar_indexer(key)\n\u001b[1;32m-> 5389\u001b[0m     \u001b[38;5;28;01mreturn\u001b[39;00m \u001b[43mgetitem\u001b[49m\u001b[43m(\u001b[49m\u001b[43mkey\u001b[49m\u001b[43m)\u001b[49m\n\u001b[0;32m   5391\u001b[0m \u001b[38;5;28;01mif\u001b[39;00m \u001b[38;5;28misinstance\u001b[39m(key, \u001b[38;5;28mslice\u001b[39m):\n\u001b[0;32m   5392\u001b[0m     \u001b[38;5;66;03m# This case is separated from the conditional above to avoid\u001b[39;00m\n\u001b[0;32m   5393\u001b[0m     \u001b[38;5;66;03m# pessimization com.is_bool_indexer and ndim checks.\u001b[39;00m\n\u001b[0;32m   5394\u001b[0m     \u001b[38;5;28;01mreturn\u001b[39;00m \u001b[38;5;28mself\u001b[39m\u001b[38;5;241m.\u001b[39m_getitem_slice(key)\n",
      "\u001b[1;31mIndexError\u001b[0m: index 0 is out of bounds for axis 0 with size 0"
     ]
    }
   ],
   "source": [
    "%cd  D:\\Github\\Qinu\\qumin\\data\n",
    "df = pd.read_csv(\"C12_30_H.csv\")\n",
    "int1 = xr.Dataset.from_dataframe(df.iloc[(df.index[df['pna_frequency_axis'] == 2e9][0]): (df.index[df['pna_frequency_axis'] == 3e9][0])])\n",
    "\n",
    "for var in int1.data_vars:\n",
    "    data = int1[var]\n",
    "\n",
    "    # If you want to create S21 for each variable, make sure the variable exists\n",
    "    if \"pna_tr1_linear_magnitude\" in int1 and \"pna_tr1_unwrapped_phase\" in int1:\n",
    "        S21 = int1[\"pna_tr1_linear_magnitude\"] * np.exp(1j * int1[\"pna_tr1_unwrapped_phase\"])\n",
    "        # You can assign S21 to the dataset if needed:\n",
    "        int1[\"S21\"] = S21\n",
    "        break  # Only need to do this once\n",
    "    for var in int1.data_vars ['pna_tr1_linear_magnitude']:\n",
    "        if var in int1.data_vars:\n",
    "            int1[var] = int1[var].astype(float)\n",
    "        \n",
    "\n",
    "\n",
    "hv.Curve((int1['pna_frequency_axis'], int1['pna_tr1_magnitude']))"
   ]
  },
  {
   "cell_type": "code",
   "execution_count": null,
   "id": "c1f44a00",
   "metadata": {},
   "outputs": [],
   "source": [
    "%cd  D:\\Github\\Qinu\\qumin\\data\n",
    "df = pd.read_csv(\"C12_30_H.csv\")\n",
    "\n",
    "a=df.index[df['pna_frequency_axis'] == 2e9][0]\n",
    "a"
   ]
  },
  {
   "cell_type": "code",
   "execution_count": null,
   "id": "adbfdf6a",
   "metadata": {},
   "outputs": [],
   "source": [
    "from scipy import signal\n",
    "\n",
    "df = pd.read_csv(r\"D:\\Github\\Qinu\\qumin\\data\\C12_30_H.csv\")\n",
    "\n",
    "# Use np.isclose to find the nearest indices\n",
    "idx_start = df.index[np.isclose(df[\"pna_frequency_axis\"], 6e9)].min()\n",
    "idx_end = df.index[np.isclose(df[\"pna_frequency_axis\"], 7e9)].min()\n",
    "\n",
    "if np.isnan(idx_start) or np.isnan(idx_end):\n",
    "    raise ValueError(\"Could not find frequency values  in the data.\")\n",
    "\n",
    "peak2 = xr.Dataset.from_dataframe(df.iloc[idx_start:idx_end])\n",
    "\n",
    "peak2[\"S21\"] = peak2[\"pna_tr1_linear_magnitude\"] * np.exp(\n",
    "    1j * peak2[\"pna_tr1_unwrapped_phase\"]\n",
    ")\n",
    "\n",
    "data = -1 * peak2[\"pna_tr1_magnitude\"].to_numpy()\n",
    "peakind = signal.find_peaks_cwt(data, 0.4e2)\n",
    "hv.Curve((peak2[\"pna_frequency_axis\"].values, peak2[\"pna_tr1_magnitude\"].values))"
   ]
  },
  {
   "cell_type": "code",
   "execution_count": null,
   "id": "599d26f5",
   "metadata": {},
   "outputs": [],
   "source": [
    "peak2\n",
    "peakind\n",
    "data\n",
    "peak2[\"pna_frequency_axis\"].values[peakind]"
   ]
  },
  {
   "cell_type": "code",
   "execution_count": null,
   "id": "b7284561",
   "metadata": {},
   "outputs": [],
   "source": [
    "# Use np.isclose to find the nearest indices\n",
    "span = 10e6\n",
    "center_freq = peak2[\"pna_frequency_axis\"].values[peakind[0]]\n",
    "idx_start = df.index[np.isclose(df[\"pna_frequency_axis\"], center_freq - span / 2)].min()\n",
    "idx_end = df.index[np.isclose(df[\"pna_frequency_axis\"], center_freq + span / 2)].min()\n",
    "\n",
    "\n",
    "if np.isnan(idx_start) or np.isnan(idx_end):\n",
    "    raise ValueError(\"Could not find frequency values close to 2e9 or 3e9 in the data.\")\n",
    "\n",
    "peak3 = xr.Dataset.from_dataframe(df.iloc[idx_start:idx_end])\n",
    "\n",
    "hv.Curve((peak3[\"pna_frequency_axis\"].values, peak2[\"pna_tr1_magnitude\"].values)).opts(\n",
    "    height=300,\n",
    "    width=600,\n",
    ")"
   ]
  },
  {
   "cell_type": "code",
   "execution_count": null,
   "id": "3dd84521",
   "metadata": {},
   "outputs": [],
   "source": [
    "import matplotlib.pyplot as plt\n",
    "\n",
    "list_of_curves = []\n",
    "print(list_of_curves)\n",
    "for i in range(len(peakind)):\n",
    "    span = 1e4\n",
    "    center_freq = peak2[\"pna_frequency_axis\"].values[peakind[i]]\n",
    "    idx_start = df.index[\n",
    "        np.isclose(df[\"pna_frequency_axis\"], center_freq - span / 2)\n",
    "    ].min()\n",
    "    idx_end = df.index[\n",
    "        np.isclose(df[\"pna_frequency_axis\"], center_freq + span / 2)\n",
    "    ].min()\n",
    "\n",
    "    # Use a new variable for the sliced dataset\n",
    "    peak2_slice = xr.Dataset.from_dataframe(df.iloc[idx_start:idx_end])\n",
    "\n",
    "    list_of_curves.append(\n",
    "        hv.Curve(\n",
    "            (\n",
    "                peak2_slice[\"pna_frequency_axis\"].values,\n",
    "                peak2_slice[\"pna_tr1_magnitude\"].values,\n",
    "            )\n",
    "        )\n",
    "    )\n",
    "    print(f\"Peak {i+1} at {center_freq/1e9:.2f} GHz, index: {peakind[i]}\")\n",
    "\n",
    "# frequencies = [0.5, 0.75, 1.0, 1.25]\n",
    "\n",
    "\n",
    "# def sine_curve(phase, freq):\n",
    "#     xvals = [0.1 * i for i in range(100)]\n",
    "#     return hv.Curve((xvals, [np.sin(phase + freq * x) for x in xvals]))\n",
    "\n",
    "\n",
    "# curve_dict = {f: sine_curve(0, f) for f in frequencies}\n",
    "# Create a dictionary mapping peak index to curve\n",
    "# curve_dict = {f\"Peak {i+1}\": curve for i, curve in enumerate(list_of_curves)}\n",
    "# hv.NdOverlay(curve_dict, kdims=\"peak\")\n",
    "# list_of_curves\n",
    "from operator import mul\n",
    "\n",
    "overlay = reduce(mul, list_of_curves)"
   ]
  }
 ],
 "metadata": {
  "kernelspec": {
   "display_name": "qumin_env",
   "language": "python",
   "name": "python3"
  },
  "language_info": {
   "codemirror_mode": {
    "name": "ipython",
    "version": 3
   },
   "file_extension": ".py",
   "mimetype": "text/x-python",
   "name": "python",
   "nbconvert_exporter": "python",
   "pygments_lexer": "ipython3",
   "version": "3.10.14"
  }
 },
 "nbformat": 4,
 "nbformat_minor": 5
}
